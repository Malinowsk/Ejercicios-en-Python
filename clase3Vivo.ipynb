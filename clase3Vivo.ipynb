{
  "nbformat": 4,
  "nbformat_minor": 0,
  "metadata": {
    "colab": {
      "provenance": [],
      "include_colab_link": true
    },
    "kernelspec": {
      "name": "python3",
      "display_name": "Python 3"
    },
    "language_info": {
      "name": "python"
    }
  },
  "cells": [
    {
      "cell_type": "markdown",
      "metadata": {
        "id": "view-in-github",
        "colab_type": "text"
      },
      "source": [
        "<a href=\"https://colab.research.google.com/github/Malinowsk/Ejercicios-en-Python/blob/main/clase3Vivo.ipynb\" target=\"_parent\"><img src=\"https://colab.research.google.com/assets/colab-badge.svg\" alt=\"Open In Colab\"/></a>"
      ]
    },
    {
      "cell_type": "markdown",
      "metadata": {
        "id": "lTsCQCKUOHDd"
      },
      "source": [
        "# Repaso importante de la clase anterior"
      ]
    },
    {
      "cell_type": "code",
      "metadata": {
        "id": "juNlJxbvGpBy"
      },
      "source": [
        "#Listas \n",
        "\n",
        "numeros = [34.5 , 28.6 , 55.1]"
      ],
      "execution_count": null,
      "outputs": []
    },
    {
      "cell_type": "code",
      "metadata": {
        "id": "Eh6m-OvgHC16"
      },
      "source": [
        "numeros[-1]"
      ],
      "execution_count": null,
      "outputs": []
    },
    {
      "cell_type": "code",
      "metadata": {
        "id": "ugkqT6-AHIeC"
      },
      "source": [
        "promedio_lista = sum(numeros) / len(numeros)"
      ],
      "execution_count": null,
      "outputs": []
    },
    {
      "cell_type": "code",
      "metadata": {
        "id": "lUB2wiFCHrmD"
      },
      "source": [
        "promedio_lista"
      ],
      "execution_count": null,
      "outputs": []
    },
    {
      "cell_type": "code",
      "metadata": {
        "id": "le3zPM9KIvwH"
      },
      "source": [
        "#Promedio ponderado\n",
        "promedio_ponderado = (34.5*50 + 28.6*30 + 55.1*20) / 100"
      ],
      "execution_count": null,
      "outputs": []
    },
    {
      "cell_type": "markdown",
      "metadata": {
        "id": "SUxlDU7EONRK"
      },
      "source": [
        "# Operaciones lógicas"
      ]
    },
    {
      "cell_type": "code",
      "metadata": {
        "colab": {
          "base_uri": "https://localhost:8080/"
        },
        "id": "VIDvAp9aJ8K4",
        "outputId": "8c9794df-3106-4238-f1cb-c4259b82f9ec"
      },
      "source": [
        "1 + 3 == 8 - 4"
      ],
      "execution_count": null,
      "outputs": [
        {
          "output_type": "execute_result",
          "data": {
            "text/plain": [
              "True"
            ]
          },
          "metadata": {},
          "execution_count": 4
        }
      ]
    },
    {
      "cell_type": "code",
      "metadata": {
        "colab": {
          "base_uri": "https://localhost:8080/"
        },
        "id": "92ZdrAnVMyBa",
        "outputId": "967ed1fe-73f9-4cab-ba07-37a229801ca1"
      },
      "source": [
        "5 != 3"
      ],
      "execution_count": null,
      "outputs": [
        {
          "output_type": "execute_result",
          "data": {
            "text/plain": [
              "True"
            ]
          },
          "metadata": {},
          "execution_count": 3
        }
      ]
    },
    {
      "cell_type": "code",
      "metadata": {
        "colab": {
          "base_uri": "https://localhost:8080/"
        },
        "id": "QX3PNLOkM39O",
        "outputId": "4dab21b5-2136-4623-9d1a-03085536ca8b"
      },
      "source": [
        "32 < 19   #Menor???"
      ],
      "execution_count": null,
      "outputs": [
        {
          "output_type": "execute_result",
          "data": {
            "text/plain": [
              "False"
            ]
          },
          "metadata": {},
          "execution_count": 1
        }
      ]
    },
    {
      "cell_type": "code",
      "metadata": {
        "colab": {
          "base_uri": "https://localhost:8080/"
        },
        "id": "-SEKoZPJNCQ1",
        "outputId": "63555a21-973a-498e-8e36-bc2e26b1d673"
      },
      "source": [
        "45 > 11   #Mayor???"
      ],
      "execution_count": null,
      "outputs": [
        {
          "output_type": "execute_result",
          "data": {
            "text/plain": [
              "True"
            ]
          },
          "metadata": {},
          "execution_count": 2
        }
      ]
    },
    {
      "cell_type": "code",
      "metadata": {
        "colab": {
          "base_uri": "https://localhost:8080/"
        },
        "id": "GrurZpLWNXHF",
        "outputId": "3bde2884-596d-4639-a2c6-d61adf631eed"
      },
      "source": [
        "-32.366 <= -90"
      ],
      "execution_count": null,
      "outputs": [
        {
          "output_type": "execute_result",
          "data": {
            "text/plain": [
              "False"
            ]
          },
          "metadata": {},
          "execution_count": 5
        }
      ]
    },
    {
      "cell_type": "code",
      "metadata": {
        "colab": {
          "base_uri": "https://localhost:8080/"
        },
        "id": "lhZ_fqHJNiIU",
        "outputId": "386814d9-a865-4e98-8f32-e8c666345af2"
      },
      "source": [
        "44 <= 44"
      ],
      "execution_count": null,
      "outputs": [
        {
          "output_type": "execute_result",
          "data": {
            "text/plain": [
              "True"
            ]
          },
          "metadata": {},
          "execution_count": 6
        }
      ]
    },
    {
      "cell_type": "code",
      "metadata": {
        "id": "mCJLAX6KN1p1"
      },
      "source": [
        "101 >= 200"
      ],
      "execution_count": null,
      "outputs": []
    },
    {
      "cell_type": "code",
      "metadata": {
        "colab": {
          "base_uri": "https://localhost:8080/"
        },
        "id": "fTMoHliMOYsJ",
        "outputId": "6daf86a2-af2f-4a02-8203-0467fe7e3c09"
      },
      "source": [
        "\"Nico\"  == \"Nico\""
      ],
      "execution_count": null,
      "outputs": [
        {
          "output_type": "execute_result",
          "data": {
            "text/plain": [
              "True"
            ]
          },
          "metadata": {},
          "execution_count": 7
        }
      ]
    },
    {
      "cell_type": "code",
      "source": [
        "\"A\" > \"B\""
      ],
      "metadata": {
        "colab": {
          "base_uri": "https://localhost:8080/"
        },
        "id": "LgakXznHJU2L",
        "outputId": "5b485615-5f99-4878-ee3f-2e701df7f670"
      },
      "execution_count": null,
      "outputs": [
        {
          "output_type": "execute_result",
          "data": {
            "text/plain": [
              "False"
            ]
          },
          "metadata": {},
          "execution_count": 8
        }
      ]
    },
    {
      "cell_type": "code",
      "source": [
        "\"A\" > \"a\""
      ],
      "metadata": {
        "colab": {
          "base_uri": "https://localhost:8080/"
        },
        "id": "MClYqcQdJdn4",
        "outputId": "b6af3db9-d961-4d58-c99f-f95c14c5fbfb"
      },
      "execution_count": null,
      "outputs": [
        {
          "output_type": "execute_result",
          "data": {
            "text/plain": [
              "False"
            ]
          },
          "metadata": {},
          "execution_count": 9
        }
      ]
    },
    {
      "cell_type": "code",
      "metadata": {
        "colab": {
          "base_uri": "https://localhost:8080/"
        },
        "id": "3RGPBh-AOizM",
        "outputId": "c2d3f912-be4b-4e16-fadd-d638448a169d"
      },
      "source": [
        "\"Nico\" >= \"Brenda\""
      ],
      "execution_count": null,
      "outputs": [
        {
          "output_type": "execute_result",
          "data": {
            "text/plain": [
              "True"
            ]
          },
          "metadata": {},
          "execution_count": 10
        }
      ]
    },
    {
      "cell_type": "code",
      "metadata": {
        "colab": {
          "base_uri": "https://localhost:8080/"
        },
        "id": "HdR2KNFhOxzc",
        "outputId": "69113833-1f08-447a-9000-8b19c0957bc8"
      },
      "source": [
        "\"Nico\" != \"Melanie\""
      ],
      "execution_count": null,
      "outputs": [
        {
          "output_type": "execute_result",
          "data": {
            "text/plain": [
              "True"
            ]
          },
          "metadata": {},
          "execution_count": 11
        }
      ]
    },
    {
      "cell_type": "code",
      "source": [
        "\"pedro\" > \"Pedro\""
      ],
      "metadata": {
        "colab": {
          "base_uri": "https://localhost:8080/"
        },
        "id": "F699F9glKAuv",
        "outputId": "4166a78d-5714-47c5-8abd-bc6340a1595e"
      },
      "execution_count": null,
      "outputs": [
        {
          "output_type": "execute_result",
          "data": {
            "text/plain": [
              "True"
            ]
          },
          "metadata": {},
          "execution_count": 12
        }
      ]
    },
    {
      "cell_type": "code",
      "metadata": {
        "id": "u_O0kM3NO8no"
      },
      "source": [
        "nombre = \"Pedro Rojas\"\n",
        "nombre2 = \"Brenda\"\n",
        "nombre3 = \"Pepito\""
      ],
      "execution_count": null,
      "outputs": []
    },
    {
      "cell_type": "code",
      "metadata": {
        "id": "AdnSxzOwPA6E"
      },
      "source": [
        "nombre[-2] != \"R\""
      ],
      "execution_count": null,
      "outputs": []
    },
    {
      "cell_type": "code",
      "metadata": {
        "id": "IFXN7WcdPqJD"
      },
      "source": [
        "nombre2 < nombre3"
      ],
      "execution_count": null,
      "outputs": []
    },
    {
      "cell_type": "code",
      "metadata": {
        "id": "hs_zUZ3vQNGr"
      },
      "source": [
        "#TRUE : 1    -------------- False : 0\n",
        "(len(nombre) < 15) == False"
      ],
      "execution_count": null,
      "outputs": []
    },
    {
      "cell_type": "code",
      "source": [
        "True > False"
      ],
      "metadata": {
        "colab": {
          "base_uri": "https://localhost:8080/"
        },
        "id": "OY-n2zwtKOyz",
        "outputId": "fffd728e-a709-4d2b-a870-0f66b1d1796c"
      },
      "execution_count": null,
      "outputs": [
        {
          "output_type": "execute_result",
          "data": {
            "text/plain": [
              "True"
            ]
          },
          "metadata": {},
          "execution_count": 13
        }
      ]
    },
    {
      "cell_type": "code",
      "source": [
        "True*25"
      ],
      "metadata": {
        "colab": {
          "base_uri": "https://localhost:8080/"
        },
        "id": "bFNhB32nKRQA",
        "outputId": "7a241d21-4a70-4e40-ff9f-809b38fceb60"
      },
      "execution_count": null,
      "outputs": [
        {
          "output_type": "execute_result",
          "data": {
            "text/plain": [
              "25"
            ]
          },
          "metadata": {},
          "execution_count": 14
        }
      ]
    },
    {
      "cell_type": "code",
      "source": [
        "25*True"
      ],
      "metadata": {
        "colab": {
          "base_uri": "https://localhost:8080/"
        },
        "id": "oSeSORdfKTzr",
        "outputId": "e6be7ba2-583e-41d5-f3b8-1311ad1dd1c1"
      },
      "execution_count": null,
      "outputs": [
        {
          "output_type": "execute_result",
          "data": {
            "text/plain": [
              "25"
            ]
          },
          "metadata": {},
          "execution_count": 15
        }
      ]
    },
    {
      "cell_type": "code",
      "source": [
        "False/20"
      ],
      "metadata": {
        "colab": {
          "base_uri": "https://localhost:8080/"
        },
        "id": "QnJjBJ88KWNl",
        "outputId": "dcb152e9-2769-41ec-8548-f7a90cc24464"
      },
      "execution_count": null,
      "outputs": [
        {
          "output_type": "execute_result",
          "data": {
            "text/plain": [
              "0.0"
            ]
          },
          "metadata": {},
          "execution_count": 16
        }
      ]
    },
    {
      "cell_type": "code",
      "source": [
        "20/0"
      ],
      "metadata": {
        "id": "BMnH9voBKZUW"
      },
      "execution_count": null,
      "outputs": []
    },
    {
      "cell_type": "markdown",
      "metadata": {
        "id": "TKOVsu-iOVgN"
      },
      "source": [
        "# Listas y operaciones lógicas "
      ]
    },
    {
      "cell_type": "code",
      "metadata": {
        "id": "IQ5xoRCbST9c"
      },
      "source": [
        "lista_nueva = [3+1-11 , 20/6  ,   11-8]"
      ],
      "execution_count": null,
      "outputs": []
    },
    {
      "cell_type": "code",
      "metadata": {
        "id": "4C3MUJ7USgfT"
      },
      "source": [
        "lista_nueva"
      ],
      "execution_count": null,
      "outputs": []
    },
    {
      "cell_type": "code",
      "metadata": {
        "id": "Q-_ygVZqSyoD"
      },
      "source": [
        "expresiones = [False == True, 10 >= 2*4, 33/3 == 11, True > False, True*5 == 2.5*2]\n",
        "#                  False          True       True         True          True\n"
      ],
      "execution_count": null,
      "outputs": []
    },
    {
      "cell_type": "code",
      "metadata": {
        "id": "lO8PVTGCTLhd"
      },
      "source": [
        "variable1 = expresiones[0]"
      ],
      "execution_count": null,
      "outputs": []
    },
    {
      "cell_type": "code",
      "metadata": {
        "id": "H0CTHqKCTbRk"
      },
      "source": [
        "variable1"
      ],
      "execution_count": null,
      "outputs": []
    },
    {
      "cell_type": "markdown",
      "metadata": {
        "id": "EhHrLkRrOhXt"
      },
      "source": [
        "# Ejercicios de tabla de verdad"
      ]
    },
    {
      "cell_type": "code",
      "metadata": {
        "id": "ESfiV_GwTgq8"
      },
      "source": [
        "edad_nadia = 27\n",
        "edad_nico = 32\n",
        "edad_luis = 17"
      ],
      "execution_count": null,
      "outputs": []
    },
    {
      "cell_type": "code",
      "metadata": {
        "id": "LSn7VVPYTsM6"
      },
      "source": [
        "variable = edad_nadia >= 18   and    edad_nico >= 18    and   edad_luis >= 18\n",
        "#   True        y        True        y          False"
      ],
      "execution_count": null,
      "outputs": []
    },
    {
      "cell_type": "code",
      "metadata": {
        "id": "YsBdfZwQUkqN"
      },
      "source": [
        "variable"
      ],
      "execution_count": null,
      "outputs": []
    },
    {
      "cell_type": "code",
      "metadata": {
        "id": "k8IfSC91Uy1k"
      },
      "source": [
        "edad_nadia >= 18  or   edad_luis >= 18"
      ],
      "execution_count": null,
      "outputs": []
    },
    {
      "cell_type": "code",
      "metadata": {
        "id": "qQY4syKWVKbR"
      },
      "source": [
        "not ( edad_nico >= 18)"
      ],
      "execution_count": null,
      "outputs": []
    },
    {
      "cell_type": "code",
      "metadata": {
        "id": "Nba3VNJOYXbN"
      },
      "source": [
        "a = 1\n",
        "b = 3\n",
        "\n",
        "a * b >= 15       and            not       (a%b ** 2) != 0\n",
        "#  False            y            (NOT           TRUE)\n",
        "# False             y                   False "
      ],
      "execution_count": null,
      "outputs": []
    },
    {
      "cell_type": "code",
      "metadata": {
        "id": "NFYSqVeJYy8J"
      },
      "source": [
        "a ** b /      3**a /      a * b >= 15            and         not (a%b**2) != 0"
      ],
      "execution_count": null,
      "outputs": []
    },
    {
      "cell_type": "code",
      "metadata": {
        "id": "cotB0AcVbx_N"
      },
      "source": [
        "edad_francisco  = 88   #Asignación"
      ],
      "execution_count": null,
      "outputs": []
    },
    {
      "cell_type": "code",
      "metadata": {
        "id": "gbEWsG_tb5Uw"
      },
      "source": [
        "edad_francisco += 9"
      ],
      "execution_count": null,
      "outputs": []
    },
    {
      "cell_type": "code",
      "metadata": {
        "id": "Gc93OZ7eb_64"
      },
      "source": [
        "edad_francisco"
      ],
      "execution_count": null,
      "outputs": []
    },
    {
      "cell_type": "code",
      "metadata": {
        "id": "A--DPRh1cHyf"
      },
      "source": [
        "edad_francisco -=5"
      ],
      "execution_count": null,
      "outputs": []
    },
    {
      "cell_type": "code",
      "metadata": {
        "id": "enl_hQ5dcN2C"
      },
      "source": [
        "edad_francisco"
      ],
      "execution_count": null,
      "outputs": []
    },
    {
      "cell_type": "code",
      "metadata": {
        "id": "rizAFeZtcW9J"
      },
      "source": [
        "edad_francisco -= 57"
      ],
      "execution_count": null,
      "outputs": []
    },
    {
      "cell_type": "code",
      "metadata": {
        "id": "dx0VzTeFcd77"
      },
      "source": [
        "edad_francisco"
      ],
      "execution_count": null,
      "outputs": []
    },
    {
      "cell_type": "code",
      "metadata": {
        "id": "RlqjSl5Gc5g_"
      },
      "source": [
        "edad_luis"
      ],
      "execution_count": null,
      "outputs": []
    },
    {
      "cell_type": "code",
      "metadata": {
        "id": "lHHplvZRc-hR"
      },
      "source": [
        "edad_luis = edad_luis + 3         # edad_luis += 3"
      ],
      "execution_count": null,
      "outputs": []
    },
    {
      "cell_type": "code",
      "metadata": {
        "id": "1yoQHZTRdJtP"
      },
      "source": [
        "edad_luis"
      ],
      "execution_count": null,
      "outputs": []
    },
    {
      "cell_type": "code",
      "metadata": {
        "id": "ztmt7Q8id2qF"
      },
      "source": [
        "x = 5\n",
        "y = 21\n",
        "z = -3\n",
        "\n",
        "exp_log = (y-x)%4 >  3    or     z**(x-3) == 12   and   (x != y-3)"
      ],
      "execution_count": null,
      "outputs": []
    },
    {
      "cell_type": "code",
      "metadata": {
        "id": "8-9X_uukedMu"
      },
      "source": [
        "exp_log"
      ],
      "execution_count": null,
      "outputs": []
    },
    {
      "cell_type": "code",
      "metadata": {
        "id": "uOnFW1-rgXfL"
      },
      "source": [
        "True or False and True"
      ],
      "execution_count": null,
      "outputs": []
    },
    {
      "cell_type": "code",
      "metadata": {
        "id": "KFzg83cagq1g"
      },
      "source": [
        "     \n",
        "True      or                         True         and      False\n",
        "# TRUE                 y    False    = FALSE "
      ],
      "execution_count": null,
      "outputs": []
    },
    {
      "cell_type": "code",
      "source": [],
      "metadata": {
        "id": "ObFbtkkxUe_T"
      },
      "execution_count": null,
      "outputs": []
    },
    {
      "cell_type": "code",
      "source": [
        "a = 15\n",
        "b = 12\n",
        "\n",
        "a ** b / 3**a / a * b >= 15 and not (a%b**2) != 0"
      ],
      "metadata": {
        "colab": {
          "base_uri": "https://localhost:8080/"
        },
        "id": "0XxIZ6QAUfGj",
        "outputId": "f91e90f1-d52d-4a22-e703-8fc6d82b1d61"
      },
      "execution_count": null,
      "outputs": [
        {
          "output_type": "execute_result",
          "data": {
            "text/plain": [
              "False"
            ]
          },
          "metadata": {},
          "execution_count": 28
        }
      ]
    },
    {
      "cell_type": "code",
      "source": [
        "# a ** b / 3**a / a * b >= 15 and not 15 != 0\n",
        "# 129746337890625 / 14348907 / a * b >= 15 and not 15 != 0\n",
        "# 9042245.370370371 / a * b >= 15 and not 15 != 0\n",
        "# 7233796.296296298 >= 15 and not 15 != 0\n",
        "# True and not True\n",
        "# True and False\n",
        "# False"
      ],
      "metadata": {
        "id": "i9pmMgXzU9mM"
      },
      "execution_count": null,
      "outputs": []
    },
    {
      "cell_type": "code",
      "source": [
        "b**2"
      ],
      "metadata": {
        "colab": {
          "base_uri": "https://localhost:8080/"
        },
        "id": "yLaSHWMiUl1n",
        "outputId": "8b3a015e-8528-4eb2-aba2-f0ef2010a308"
      },
      "execution_count": null,
      "outputs": [
        {
          "output_type": "execute_result",
          "data": {
            "text/plain": [
              "144"
            ]
          },
          "metadata": {},
          "execution_count": 20
        }
      ]
    },
    {
      "cell_type": "code",
      "source": [
        "a%144  # 15 % 144"
      ],
      "metadata": {
        "colab": {
          "base_uri": "https://localhost:8080/"
        },
        "id": "5L4d1sIkUw2A",
        "outputId": "26c7bd41-62d6-4457-e6c3-c4539165e700"
      },
      "execution_count": null,
      "outputs": [
        {
          "output_type": "execute_result",
          "data": {
            "text/plain": [
              "15"
            ]
          },
          "metadata": {},
          "execution_count": 21
        }
      ]
    },
    {
      "cell_type": "code",
      "source": [
        "a%b**2"
      ],
      "metadata": {
        "colab": {
          "base_uri": "https://localhost:8080/"
        },
        "id": "XNV6d8_OU4S2",
        "outputId": "795808c2-d807-4eb5-8618-e598e41f5895"
      },
      "execution_count": null,
      "outputs": [
        {
          "output_type": "execute_result",
          "data": {
            "text/plain": [
              "15"
            ]
          },
          "metadata": {},
          "execution_count": 22
        }
      ]
    },
    {
      "cell_type": "code",
      "source": [
        "a**b"
      ],
      "metadata": {
        "colab": {
          "base_uri": "https://localhost:8080/"
        },
        "id": "g8bEFKvIVLsc",
        "outputId": "dbc8d16b-7f57-4cf4-adad-923a1395812c"
      },
      "execution_count": null,
      "outputs": [
        {
          "output_type": "execute_result",
          "data": {
            "text/plain": [
              "129746337890625"
            ]
          },
          "metadata": {},
          "execution_count": 24
        }
      ]
    },
    {
      "cell_type": "code",
      "source": [
        "3**a"
      ],
      "metadata": {
        "colab": {
          "base_uri": "https://localhost:8080/"
        },
        "id": "YmCBniRPVQaz",
        "outputId": "c17588e5-7c56-490e-b824-ab6fbae4a9e0"
      },
      "execution_count": null,
      "outputs": [
        {
          "output_type": "execute_result",
          "data": {
            "text/plain": [
              "14348907"
            ]
          },
          "metadata": {},
          "execution_count": 25
        }
      ]
    },
    {
      "cell_type": "code",
      "source": [
        "129746337890625 / 14348907"
      ],
      "metadata": {
        "colab": {
          "base_uri": "https://localhost:8080/"
        },
        "id": "sZRh-BI7Vbsc",
        "outputId": "6815cbd9-29e3-444f-a4f3-c345f6e43b28"
      },
      "execution_count": null,
      "outputs": [
        {
          "output_type": "execute_result",
          "data": {
            "text/plain": [
              "9042245.370370371"
            ]
          },
          "metadata": {},
          "execution_count": 26
        }
      ]
    },
    {
      "cell_type": "code",
      "source": [
        "9042245.370370371 / a * b"
      ],
      "metadata": {
        "colab": {
          "base_uri": "https://localhost:8080/"
        },
        "id": "fwBGm2L-VlJ7",
        "outputId": "824e0f83-2422-41c4-fb3a-6051d6b467f8"
      },
      "execution_count": null,
      "outputs": [
        {
          "output_type": "execute_result",
          "data": {
            "text/plain": [
              "7233796.296296298"
            ]
          },
          "metadata": {},
          "execution_count": 27
        }
      ]
    },
    {
      "cell_type": "code",
      "source": [
        "# Operadores de asignacion"
      ],
      "metadata": {
        "id": "HfxzSOmdbSai"
      },
      "execution_count": null,
      "outputs": []
    },
    {
      "cell_type": "code",
      "source": [
        "a = 0"
      ],
      "metadata": {
        "id": "FqBC3eVJbVvj"
      },
      "execution_count": null,
      "outputs": []
    },
    {
      "cell_type": "code",
      "source": [
        "a = a + 1"
      ],
      "metadata": {
        "id": "CWZRCMSTbX7V"
      },
      "execution_count": null,
      "outputs": []
    },
    {
      "cell_type": "code",
      "source": [
        "a"
      ],
      "metadata": {
        "colab": {
          "base_uri": "https://localhost:8080/"
        },
        "id": "wAi1jKmPbg7M",
        "outputId": "c82b9873-5595-43fd-db11-03079e67dab3"
      },
      "execution_count": null,
      "outputs": [
        {
          "output_type": "execute_result",
          "data": {
            "text/plain": [
              "5"
            ]
          },
          "metadata": {},
          "execution_count": 40
        }
      ]
    },
    {
      "cell_type": "code",
      "source": [
        "contador = 0"
      ],
      "metadata": {
        "id": "9Vv4mAerbySq"
      },
      "execution_count": null,
      "outputs": []
    },
    {
      "cell_type": "code",
      "source": [
        "contador += 1"
      ],
      "metadata": {
        "id": "IEuyZCjKb09H"
      },
      "execution_count": null,
      "outputs": []
    },
    {
      "cell_type": "code",
      "source": [
        "contador"
      ],
      "metadata": {
        "colab": {
          "base_uri": "https://localhost:8080/"
        },
        "id": "icainXwzb2z-",
        "outputId": "b2b4c848-e2ed-457f-ecc6-e05306b66b35"
      },
      "execution_count": null,
      "outputs": [
        {
          "output_type": "execute_result",
          "data": {
            "text/plain": [
              "3"
            ]
          },
          "metadata": {},
          "execution_count": 48
        }
      ]
    },
    {
      "cell_type": "code",
      "source": [
        "# en la naturaleza las bacterias suelen multiplicarse bajo ciertas condiciones\n",
        "poblacion_bacterias = 100"
      ],
      "metadata": {
        "id": "XYoP_JgkcGrS"
      },
      "execution_count": null,
      "outputs": []
    },
    {
      "cell_type": "code",
      "source": [
        "poblacion_bacterias *= 2"
      ],
      "metadata": {
        "id": "CIy6WrQAcTN_"
      },
      "execution_count": null,
      "outputs": []
    },
    {
      "cell_type": "code",
      "source": [
        "poblacion_bacterias"
      ],
      "metadata": {
        "colab": {
          "base_uri": "https://localhost:8080/"
        },
        "id": "-QNZ2PfKcW4E",
        "outputId": "d3f832a9-011d-4cff-a9cf-073ed957a7cb"
      },
      "execution_count": null,
      "outputs": [
        {
          "output_type": "execute_result",
          "data": {
            "text/plain": [
              "800"
            ]
          },
          "metadata": {},
          "execution_count": 57
        }
      ]
    }
  ]
}