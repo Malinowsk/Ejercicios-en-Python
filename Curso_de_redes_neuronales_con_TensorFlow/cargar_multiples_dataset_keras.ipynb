{
  "nbformat": 4,
  "nbformat_minor": 0,
  "metadata": {
    "colab": {
      "provenance": [],
      "include_colab_link": true
    },
    "kernelspec": {
      "name": "python3",
      "display_name": "Python 3"
    },
    "language_info": {
      "name": "python"
    }
  },
  "cells": [
    {
      "cell_type": "markdown",
      "metadata": {
        "id": "view-in-github",
        "colab_type": "text"
      },
      "source": [
        "<a href=\"https://colab.research.google.com/github/Malinowsk/Ejercicios-en-Python/blob/main/Curso_de_redes_neuronales_con_TensorFlow/cargar_multiples_dataset_keras.ipynb\" target=\"_parent\"><img src=\"https://colab.research.google.com/assets/colab-badge.svg\" alt=\"Open In Colab\"/></a>"
      ]
    },
    {
      "cell_type": "markdown",
      "metadata": {
        "id": "LIn8GF8DPYTn"
      },
      "source": [
        "## Bases de datos en Keras\n",
        "\n",
        "Para mayor documentación de las bases de datos disponibles en Keras, visita [este link](https://keras.io/datasets/).\n"
      ]
    },
    {
      "cell_type": "code",
      "metadata": {
        "id": "xoIGNfNeRbVa"
      },
      "source": [
        "import tensorflow as tf\n",
        "import numpy as np\n",
        "\n",
        "%matplotlib inline\n",
        "import matplotlib.pyplot as plt"
      ],
      "execution_count": null,
      "outputs": []
    },
    {
      "cell_type": "markdown",
      "metadata": {
        "id": "TtEvkMWWPcbT"
      },
      "source": [
        "#### CIFAR-100 BASE DE DATOS\n",
        "La lista de etiquetas de las bases de datos CIFAR10 y CIFAR100 las puedes encontrar en el siguiente [link](https://www.cs.toronto.edu/~kriz/cifar.html)."
      ]
    },
    {
      "cell_type": "code",
      "metadata": {
        "id": "knG3j-OESCQu"
      },
      "source": [
        "from tensorflow.keras.datasets import cifar100"
      ],
      "execution_count": null,
      "outputs": []
    },
    {
      "cell_type": "code",
      "metadata": {
        "colab": {
          "base_uri": "https://localhost:8080/"
        },
        "id": "2XkV0x0NSGb-",
        "outputId": "33fc1249-3704-48fd-9ea1-b1a3d69e9c97"
      },
      "source": [
        "(x_train, y_train), (x_test,y_test) = cifar100.load_data(label_mode = \"fine\")"
      ],
      "execution_count": null,
      "outputs": [
        {
          "output_type": "stream",
          "name": "stdout",
          "text": [
            "Downloading data from https://www.cs.toronto.edu/~kriz/cifar-100-python.tar.gz\n",
            "169009152/169001437 [==============================] - 4s 0us/step\n",
            "169017344/169001437 [==============================] - 4s 0us/step\n"
          ]
        }
      ]
    },
    {
      "cell_type": "code",
      "metadata": {
        "colab": {
          "base_uri": "https://localhost:8080/"
        },
        "id": "biXmX7o-Smwv",
        "outputId": "0f1899f7-cd19-4dd8-f0be-ebc27af1a517"
      },
      "source": [
        "print(x_train.shape)\n",
        "print(y_train.shape)"
      ],
      "execution_count": null,
      "outputs": [
        {
          "output_type": "stream",
          "name": "stdout",
          "text": [
            "(50000, 32, 32, 3)\n",
            "(50000, 1)\n"
          ]
        }
      ]
    },
    {
      "cell_type": "code",
      "metadata": {
        "colab": {
          "base_uri": "https://localhost:8080/",
          "height": 284
        },
        "id": "dGeCvoUeSsPh",
        "outputId": "6ae0b1ea-10b6-47ea-922e-0e5e82b5c3e5"
      },
      "source": [
        "num_image = 40\n",
        "plt.imshow(x_train[num_image])\n",
        "print(y_train[num_image])"
      ],
      "execution_count": null,
      "outputs": [
        {
          "output_type": "stream",
          "name": "stdout",
          "text": [
            "[78]\n"
          ]
        },
        {
          "output_type": "display_data",
          "data": {
            "image/png": "[encoded data removed]",
            "text/plain": [
              "<Figure size 432x288 with 1 Axes>"
            ]
          },
          "metadata": {
            "needs_background": "light"
          }
        }
      ]
    },
    {
      "cell_type": "code",
      "metadata": {
        "colab": {
          "base_uri": "https://localhost:8080/"
        },
        "id": "Nd1EeOT0S63Z",
        "outputId": "a91dc9e3-a8d1-4109-e3c7-f7962f84ba16"
      },
      "source": [
        "!wget --no-check-certificate https://storage.googleapis.com/platzi-tf2/cifar100_labels.json \\\n",
        "    -O /tmp/cifar100_labels.json"
      ],
      "execution_count": null,
      "outputs": [
        {
          "output_type": "stream",
          "name": "stdout",
          "text": [
            "--2021-09-20 22:21:08--  https://storage.googleapis.com/platzi-tf2/cifar100_labels.json\n",
            "Resolving storage.googleapis.com (storage.googleapis.com)... 142.250.101.128, 142.250.141.128, 142.251.2.128, ...\n",
            "Connecting to storage.googleapis.com (storage.googleapis.com)|142.250.101.128|:443... connected.\n",
            "HTTP request sent, awaiting response... 200 OK\n",
            "Length: 1436 (1.4K) [application/json]\n",
            "Saving to: ‘/tmp/cifar100_labels.json’\n",
            "\n",
            "/tmp/cifar100_label 100%[===================>]   1.40K  --.-KB/s    in 0s      \n",
            "\n",
            "2021-09-20 22:21:08 (12.8 MB/s) - ‘/tmp/cifar100_labels.json’ saved [1436/1436]\n",
            "\n"
          ]
        }
      ]
    },
    {
      "cell_type": "code",
      "metadata": {
        "id": "KytZ8wJfTHBV"
      },
      "source": [
        "import json\n",
        "with open(\"/tmp/cifar100_labels.json\", \"r\") as fine_labels:\n",
        "  cifar100_labels = json.load(fine_labels)"
      ],
      "execution_count": null,
      "outputs": []
    },
    {
      "cell_type": "code",
      "metadata": {
        "colab": {
          "base_uri": "https://localhost:8080/",
          "height": 284
        },
        "id": "OOuQYQAoTbkO",
        "outputId": "1369512e-e25c-44f8-ce80-552caca36ee8"
      },
      "source": [
        "num_label = 78\n",
        "plt.imshow(x_train[num_image])\n",
        "print(cifar100_labels[num_label])"
      ],
      "execution_count": null,
      "outputs": [
        {
          "output_type": "stream",
          "name": "stdout",
          "text": [
            "snake\n"
          ]
        },
        {
          "output_type": "display_data",
          "data": {
            "image/png": "[encoded data removed]",
            "text/plain": [
              "<Figure size 432x288 with 1 Axes>"
            ]
          },
          "metadata": {
            "needs_background": "light"
          }
        }
      ]
    },
    {
      "cell_type": "markdown",
      "metadata": {
        "id": "N7on0mZ-PoA6"
      },
      "source": [
        "#### OTRAS BASES DE DATOS RETO\n"
      ]
    },
    {
      "cell_type": "code",
      "metadata": {
        "id": "5ZRb8zlpPuMa"
      },
      "source": [
        "from tensorflow.keras.datasets import mnist\n",
        "from tensorflow.keras.datasets import cifar10\n",
        "from tensorflow.keras.datasets import fashion_mnist\n",
        "\n",
        "(x_train_mnist, y_train_mnist), (x_test_mnist, y_test_mnist) = mnist.load_data()\n",
        "(x_train_cifar10, y_train_cifar10), (x_test_cifar10, y_test_cifar10) = cifar10.load_data()\n",
        "(x_train_fashion, y_train_fashion), (x_test_fashion, y_test_fashion) = fashion_mnist.load_data()"
      ],
      "execution_count": null,
      "outputs": []
    }
  ]
}