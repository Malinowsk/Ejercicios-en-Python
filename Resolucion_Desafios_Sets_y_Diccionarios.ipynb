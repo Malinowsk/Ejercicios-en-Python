{
  "cells": [
    {
      "cell_type": "markdown",
      "metadata": {
        "id": "view-in-github",
        "colab_type": "text"
      },
      "source": [
        "<a href=\"https://colab.research.google.com/github/Malinowsk/Ejercicios-en-Python/blob/main/Resolucion_Desafios_Sets_y_Diccionarios.ipynb\" target=\"_parent\"><img src=\"https://colab.research.google.com/assets/colab-badge.svg\" alt=\"Open In Colab\"/></a>"
      ]
    },
    {
      "cell_type": "markdown",
      "id": "58b593f6",
      "metadata": {
        "id": "58b593f6"
      },
      "source": [
        "# Sets"
      ]
    },
    {
      "cell_type": "markdown",
      "id": "18f2effe",
      "metadata": {
        "id": "18f2effe"
      },
      "source": [
        "Crear un conjunto en Python que posea los siguientes elementos:\n",
        "\n",
        "colores: Rojo, Blanco, Azul.\n",
        "\n",
        "Posteriormente agrega nuestro set de colores, los valores de: Violeta y Dorado\n",
        "\n",
        "Elimina a los colores: Celeste, Blanco y Dorado\n",
        "\n",
        "Pregunta:\n",
        "¿Que pasa si queremos eliminar el color Celeste utilizando el método discard?"
      ]
    },
    {
      "cell_type": "code",
      "execution_count": null,
      "id": "d32af1bd",
      "metadata": {
        "colab": {
          "base_uri": "https://localhost:8080/"
        },
        "id": "d32af1bd",
        "outputId": "19f46b60-4bbf-40c5-80ed-dde65275523b"
      },
      "outputs": [
        {
          "output_type": "stream",
          "name": "stdout",
          "text": [
            "{'Blanco', 'Rojo', 'Azul'}\n"
          ]
        }
      ],
      "source": [
        "colores = {\"Rojo\", \"Blanco\", \"Azul\"}\n",
        "print(colores)"
      ]
    },
    {
      "cell_type": "code",
      "execution_count": null,
      "id": "4b66036b",
      "metadata": {
        "colab": {
          "base_uri": "https://localhost:8080/"
        },
        "id": "4b66036b",
        "outputId": "fe0528cd-b383-4e17-e9ea-02f36b623ac0"
      },
      "outputs": [
        {
          "output_type": "stream",
          "name": "stdout",
          "text": [
            "{'Blanco', 'Rojo', 'Azul', 'Violeta', 'Dorado'}\n"
          ]
        }
      ],
      "source": [
        "# colores.update(['Violeta', 'Dorado']) # otra opcion\n",
        "colores.add(\"Violeta\")\n",
        "colores.add(\"Dorado\")\n",
        "print(colores)"
      ]
    },
    {
      "cell_type": "code",
      "execution_count": null,
      "id": "8ccad08d",
      "metadata": {
        "colab": {
          "base_uri": "https://localhost:8080/"
        },
        "id": "8ccad08d",
        "outputId": "3a9fe3a3-3239-4c3b-b673-c946fa528aa7"
      },
      "outputs": [
        {
          "output_type": "stream",
          "name": "stdout",
          "text": [
            "{'Rojo', 'Azul', 'Violeta'}\n"
          ]
        }
      ],
      "source": [
        "colores.discard(\"Celeste\")\n",
        "colores.discard(\"Blanco\")\n",
        "colores.discard(\"Dorado\")\n",
        "print(colores)\n",
        "\n",
        "#El elemento Celeste no existe pero al utilizar el metodo de discard no obtenemos ningun error asociado"
      ]
    },
    {
      "cell_type": "code",
      "source": [
        "colores.remove(\"Celeste\")"
      ],
      "metadata": {
        "id": "PRSRiciwlgMZ"
      },
      "id": "PRSRiciwlgMZ",
      "execution_count": null,
      "outputs": []
    },
    {
      "cell_type": "markdown",
      "id": "1d69848d",
      "metadata": {
        "id": "1d69848d"
      },
      "source": [
        "**Practica Complementaria - Sets**\n",
        "\n",
        "Crear un conjunto en Python que posea los siguientes elementos:\n",
        "\n",
        "Países: Inglaterra, USA, Mexico.\n",
        "\n",
        "Posteriormente agrega nuestro set de países, los elementos de: Islandia, Italia, Argentina y Portugal.\n",
        "\n",
        "Elimina a los países: Chile e Italia\n",
        "\n",
        "Pregunta:\n",
        "¿Que pasa si queremos eliminar al pais Chile utilizando el método remove?\n"
      ]
    },
    {
      "cell_type": "code",
      "execution_count": null,
      "id": "c2980b5e",
      "metadata": {
        "id": "c2980b5e"
      },
      "outputs": [],
      "source": [
        "Paises = {\"Inglaterra\", \"USA\", \"Mexico\"}\n",
        "print(Paises)"
      ]
    },
    {
      "cell_type": "code",
      "execution_count": null,
      "id": "558de342",
      "metadata": {
        "id": "558de342"
      },
      "outputs": [],
      "source": [
        "Paises.add(\"Islandia\")\n",
        "Paises.add(\"Italia\")\n",
        "Paises.add(\"Argentina\")\n",
        "Paises.add(\"Portugal\")\n",
        "Paises.add(\"USA\")\n",
        "print(Paises)"
      ]
    },
    {
      "cell_type": "code",
      "execution_count": null,
      "id": "83436200",
      "metadata": {
        "id": "83436200"
      },
      "outputs": [],
      "source": [
        "Paises.remove(\"Chile\")"
      ]
    },
    {
      "cell_type": "code",
      "execution_count": null,
      "id": "3b152bb9",
      "metadata": {
        "id": "3b152bb9"
      },
      "outputs": [],
      "source": [
        "Paises.remove(\"Argentina\")\n",
        "print(Paises)"
      ]
    },
    {
      "cell_type": "code",
      "execution_count": null,
      "id": "e63eaada",
      "metadata": {
        "id": "e63eaada"
      },
      "outputs": [],
      "source": [
        "#El elemento USA al ya existir no se volvio a eliminar. Finalmente la opcion de remove nos arroja error porque \n",
        "#el pais de Chile no existe"
      ]
    },
    {
      "cell_type": "markdown",
      "id": "7b9d5b58",
      "metadata": {
        "id": "7b9d5b58"
      },
      "source": [
        "# Diccionarios"
      ]
    },
    {
      "cell_type": "markdown",
      "id": "e095b6cd",
      "metadata": {
        "id": "e095b6cd"
      },
      "source": [
        "Consigna:\n",
        "    \n",
        "Crear un diccionario que almacene a los ganadores de la Copa Mundial de la FIFA desde el año 1990 al 2018."
      ]
    },
    {
      "cell_type": "code",
      "execution_count": null,
      "id": "386564a1",
      "metadata": {
        "colab": {
          "base_uri": "https://localhost:8080/"
        },
        "id": "386564a1",
        "outputId": "4c945151-d1d8-4f78-b6bb-59843156c390"
      },
      "outputs": [
        {
          "output_type": "stream",
          "name": "stdout",
          "text": [
            "{1990: 'Alemania', 1994: 'Brasil', 1998: 'Francia', 2002: 'Brasil', 2006: 'Itália', 2010: 'España', 2014: 'Alemania', 2018: 'Francia', 2022: 'Argentina'}\n"
          ]
        }
      ],
      "source": [
        "copa_fifa = {1990: 'Alemania', 1994: 'Brasil', 1998: 'Francia',\n",
        "             2002: 'Brasil', 2006: 'Itália', 2010: 'España',\n",
        "             2014: 'Alemania', 2018: 'Francia', 2022: 'Argentina'}\n",
        "print(copa_fifa)"
      ]
    },
    {
      "cell_type": "code",
      "execution_count": null,
      "id": "69024313",
      "metadata": {
        "colab": {
          "base_uri": "https://localhost:8080/",
          "height": 35
        },
        "id": "69024313",
        "outputId": "03f7f774-0cb2-446d-8d60-819c3d46d4db"
      },
      "outputs": [
        {
          "output_type": "execute_result",
          "data": {
            "text/plain": [
              "'Argentina'"
            ],
            "application/vnd.google.colaboratory.intrinsic+json": {
              "type": "string"
            }
          },
          "metadata": {},
          "execution_count": 6
        }
      ],
      "source": [
        "copa_fifa[2022]"
      ]
    },
    {
      "cell_type": "code",
      "source": [
        "ganadores_1930_1966 = {\n",
        "    1930: \"Uruguay\", 1934: \"Italia\", 1938: \"Italia\", 1950: \"Uruguay\",\n",
        "    1954: \"Alemania\", 1958: \"Brazil\", 1962: \"Brazil\", 1966: \"Inglaterra\"\n",
        "}"
      ],
      "metadata": {
        "id": "hJt7db_Sxvt4"
      },
      "id": "hJt7db_Sxvt4",
      "execution_count": null,
      "outputs": []
    },
    {
      "cell_type": "code",
      "source": [
        "copa_fifa.update(ganadores_1930_1966)"
      ],
      "metadata": {
        "id": "wiXvud8pycVQ"
      },
      "id": "wiXvud8pycVQ",
      "execution_count": null,
      "outputs": []
    },
    {
      "cell_type": "code",
      "source": [
        "copa_fifa"
      ],
      "metadata": {
        "colab": {
          "base_uri": "https://localhost:8080/"
        },
        "id": "ghJ6gJlQyhJD",
        "outputId": "5a434ee9-8340-4615-c394-b0d1567dbce9"
      },
      "id": "ghJ6gJlQyhJD",
      "execution_count": null,
      "outputs": [
        {
          "output_type": "execute_result",
          "data": {
            "text/plain": [
              "{1990: 'Alemania',\n",
              " 1994: 'Brasil',\n",
              " 1998: 'Francia',\n",
              " 2002: 'Brasil',\n",
              " 2006: 'Itália',\n",
              " 2010: 'España',\n",
              " 2014: 'Alemania',\n",
              " 2018: 'Francia',\n",
              " 2022: 'Argentina',\n",
              " 1930: 'Uruguay',\n",
              " 1934: 'Italia',\n",
              " 1938: 'Italia',\n",
              " 1950: 'Uruguay',\n",
              " 1954: 'Alemania',\n",
              " 1958: 'Brazil',\n",
              " 1962: 'Brazil',\n",
              " 1966: 'Inglaterra'}"
            ]
          },
          "metadata": {},
          "execution_count": 9
        }
      ]
    },
    {
      "cell_type": "markdown",
      "id": "58a047ed",
      "metadata": {
        "id": "58a047ed"
      },
      "source": [
        "**Practica complementaria Diccionarios **\n",
        "\n",
        "Escribir un programa que le solicite al usuario su nombre, edad, dirección y que posteriormente lo muestre por pantalla:\n",
        "\n",
        "Ejemplo del output solicitado: \n",
        "* Juan tiene 25 años, y vive en Carrera 7 - Bogotá"
      ]
    },
    {
      "cell_type": "code",
      "execution_count": null,
      "id": "1896834d",
      "metadata": {
        "id": "1896834d"
      },
      "outputs": [],
      "source": [
        "nombre = input('¿Cómo te llamas? ')\n",
        "edad = input('¿Cuántos años tienes? ')\n",
        "direccion = input('¿Cuál es tu dirección? ')\n",
        "usuario = {'nombre': nombre, 'edad': edad, 'direccion': direccion}\n",
        "print(usuario['nombre'], 'tiene', usuario['edad'], 'años, y vive en', usuario['direccion'])"
      ]
    },
    {
      "cell_type": "code",
      "source": [
        "# Actividad complementaria de conjuntos (sets)\n",
        "practican_futbol = {'Juan', 'Lucia', 'Ana', 'Paco'}\n",
        "practican_beisbol = {'Camila', 'Juan', 'Ana'}\n",
        "practican_tenis = {'Paco', 'Carlitos'}"
      ],
      "metadata": {
        "id": "9W3w2bafzAVy"
      },
      "id": "9W3w2bafzAVy",
      "execution_count": null,
      "outputs": []
    },
    {
      "cell_type": "code",
      "source": [
        "practican_futbol.intersection(practican_beisbol)"
      ],
      "metadata": {
        "colab": {
          "base_uri": "https://localhost:8080/"
        },
        "id": "HV-QAl4TzhRd",
        "outputId": "0c8a204c-a09d-4b1e-b548-ba3f5d1834b7"
      },
      "id": "HV-QAl4TzhRd",
      "execution_count": null,
      "outputs": [
        {
          "output_type": "execute_result",
          "data": {
            "text/plain": [
              "{'Ana', 'Juan'}"
            ]
          },
          "metadata": {},
          "execution_count": 12
        }
      ]
    },
    {
      "cell_type": "code",
      "source": [
        "practican_futbol.intersection(practican_tenis)"
      ],
      "metadata": {
        "colab": {
          "base_uri": "https://localhost:8080/"
        },
        "id": "nbpLWr-6zwsz",
        "outputId": "1567881e-68af-4a88-f1ab-cb6d16534424"
      },
      "id": "nbpLWr-6zwsz",
      "execution_count": null,
      "outputs": [
        {
          "output_type": "execute_result",
          "data": {
            "text/plain": [
              "{'Paco'}"
            ]
          },
          "metadata": {},
          "execution_count": 13
        }
      ]
    }
  ],
  "metadata": {
    "kernelspec": {
      "display_name": "Python 3 (ipykernel)",
      "language": "python",
      "name": "python3"
    },
    "language_info": {
      "codemirror_mode": {
        "name": "ipython",
        "version": 3
      },
      "file_extension": ".py",
      "mimetype": "text/x-python",
      "name": "python",
      "nbconvert_exporter": "python",
      "pygments_lexer": "ipython3",
      "version": "3.8.8"
    },
    "varInspector": {
      "cols": {
        "lenName": 16,
        "lenType": 16,
        "lenVar": 40
      },
      "kernels_config": {
        "python": {
          "delete_cmd_postfix": "",
          "delete_cmd_prefix": "del ",
          "library": "var_list.py",
          "varRefreshCmd": "print(var_dic_list())"
        },
        "r": {
          "delete_cmd_postfix": ") ",
          "delete_cmd_prefix": "rm(",
          "library": "var_list.r",
          "varRefreshCmd": "cat(var_dic_list()) "
        }
      },
      "types_to_exclude": [
        "module",
        "function",
        "builtin_function_or_method",
        "instance",
        "_Feature"
      ],
      "window_display": false
    },
    "colab": {
      "provenance": [],
      "include_colab_link": true
    }
  },
  "nbformat": 4,
  "nbformat_minor": 5
}