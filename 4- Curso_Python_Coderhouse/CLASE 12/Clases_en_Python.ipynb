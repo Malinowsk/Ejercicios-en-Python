{
  "nbformat": 4,
  "nbformat_minor": 0,
  "metadata": {
    "colab": {
      "provenance": [],
      "include_colab_link": true
    },
    "kernelspec": {
      "name": "python3",
      "display_name": "Python 3"
    },
    "language_info": {
      "name": "python"
    }
  },
  "cells": [
    {
      "cell_type": "markdown",
      "metadata": {
        "id": "view-in-github",
        "colab_type": "text"
      },
      "source": [
        "<a href=\"https://colab.research.google.com/github/Malinowsk/Ejercicios-en-Python/blob/main/4-%20Curso_Python_Coderhouse/CLASE%2012/Clases_en_Python.ipynb\" target=\"_parent\"><img src=\"https://colab.research.google.com/assets/colab-badge.svg\" alt=\"Open In Colab\"/></a>"
      ]
    },
    {
      "cell_type": "code",
      "execution_count": null,
      "metadata": {
        "id": "0a_mp-HD37Ab"
      },
      "outputs": [],
      "source": [
        "class Persona:\n",
        "    \"\"\"\n",
        "    Esta es una clase donde se agregan todos los datos\n",
        "    respecto a una persona\n",
        "    \"\"\"\n",
        "    def __init__(self, nombre, edad):\n",
        "        # Todo lo que definamos en __init__ se corre\n",
        "        # al crear una instancia de la clase\n",
        "        self.nombre = nombre\n",
        "        self.edad = edad\n",
        "\n",
        "#El parámetro self se refiere al objeto instanciado de esa clase sobre el cual se está invocando dicho método.\n",
        "\n",
        "#Link de Interes: https://ejemplos.net/que-significa-self-en-python/"
      ]
    },
    {
      "cell_type": "code",
      "source": [
        "#Creamos un objeto p1 que es una instancia de la clase Persona\n",
        "p1 = Persona(\"Juan\", 26)\n",
        "\n",
        "print(p1.nombre) #Le pedimos a p1 su nombre\n",
        "print(p1.edad) #Le pedimos a p1 su edad"
      ],
      "metadata": {
        "id": "RpZRH5HW4gtg"
      },
      "execution_count": null,
      "outputs": []
    },
    {
      "cell_type": "code",
      "source": [
        "#Vemos el tipo de objeto que es p1\n",
        "type(p1)"
      ],
      "metadata": {
        "id": "Ko1Y5r-p4hW1"
      },
      "execution_count": null,
      "outputs": []
    }
  ]
}