{
  "nbformat": 4,
  "nbformat_minor": 0,
  "metadata": {
    "colab": {
      "provenance": [],
      "include_colab_link": true
    },
    "kernelspec": {
      "name": "python3",
      "display_name": "Python 3"
    },
    "language_info": {
      "name": "python"
    }
  },
  "cells": [
    {
      "cell_type": "markdown",
      "metadata": {
        "id": "view-in-github",
        "colab_type": "text"
      },
      "source": [
        "<a href=\"https://colab.research.google.com/github/Malinowsk/Ejercicios-en-Python/blob/main/4-%20Curso_Python_Coderhouse/CLASE%208/actividades.ipynb\" target=\"_parent\"><img src=\"https://colab.research.google.com/assets/colab-badge.svg\" alt=\"Open In Colab\"/></a>"
      ]
    },
    {
      "cell_type": "code",
      "source": [
        "from google.colab import drive\n",
        "drive.mount('/drive/')"
      ],
      "metadata": {
        "colab": {
          "base_uri": "https://localhost:8080/"
        },
        "id": "HGpKlfp4mSm8",
        "outputId": "2c3f12e3-f343-4e2b-eb38-92faf8f7535e"
      },
      "execution_count": null,
      "outputs": [
        {
          "output_type": "stream",
          "name": "stdout",
          "text": [
            "Mounted at /drive/\n"
          ]
        }
      ]
    },
    {
      "cell_type": "code",
      "source": [
        "# Deben usar una ruta de su drive que tenga permiso de escritura\n",
        "ruta = '/drive/MyDrive/python_clase_8/'"
      ],
      "metadata": {
        "id": "6WX2q6UImXXY"
      },
      "execution_count": null,
      "outputs": []
    },
    {
      "cell_type": "code",
      "execution_count": null,
      "metadata": {
        "id": "7q6HdZ-bmMrq"
      },
      "outputs": [],
      "source": [
        "\"\"\"\n",
        "Descripción de la actividad. \n",
        "\n",
        "Crea un programa que pida por teclado (input) los datos de tus tres hobbies favoritos y\n",
        "los mismos se guarden en un archivo que se llame miHobbieFavorito.txt.\n",
        "\n",
        "EXTRA: Hacerlo con un for o un while para no repetir tanto…!!!\n",
        "\"\"\"\n"
      ]
    },
    {
      "cell_type": "code",
      "source": [
        "nombre_archivo = ruta + \"miHobbieFavorito.txt\"\n",
        "archivo = open(nombre_archivo, \"w\")\n",
        "\n",
        "for iteracion in range(1,4):\n",
        "    hobby = input(f\"Hobby favorito #{iteracion}:  \")\n",
        "    archivo.write(f\"{hobby}, \")\n",
        "\n",
        "archivo.close()\n"
      ],
      "metadata": {
        "colab": {
          "base_uri": "https://localhost:8080/"
        },
        "id": "YZ4rxhU6miJI",
        "outputId": "426e1cf8-80c0-441a-8adf-06f685483e9a"
      },
      "execution_count": null,
      "outputs": [
        {
          "name": "stdout",
          "output_type": "stream",
          "text": [
            "Hobby favorito #1bici\n",
            "Hobby favorito #2asado\n",
            "Hobby favorito #3netflix\n"
          ]
        }
      ]
    },
    {
      "cell_type": "code",
      "source": [
        "print(list(range(0,11,1))) #Todos los números del 0 al 10 [0, 1, 2, ..., 10]\n",
        "print(list(range(-10,1,1))) # Todos los números del -10 al 0 [-10, -9, -8, ..., 0]\n",
        "print(list(range(0,21,2))) # Todos los números pares del 0 al 20 [0, 2, 4, ..., 20]\n",
        "print(list(range(-19,0,2))) # Todos los números impares entre -20 y 0 [-19, -17, -15, ..., -1]\n",
        "print(list(range(0,50,5))) # Todos los números múltiples de 5 del 0 al 50 [0, 5, 10, ..., 50]"
      ],
      "metadata": {
        "colab": {
          "base_uri": "https://localhost:8080/"
        },
        "id": "AlJaOr9IMZjO",
        "outputId": "3d3f6e87-c5c6-4bf6-fcb8-776d39fd9ad5"
      },
      "execution_count": null,
      "outputs": [
        {
          "output_type": "stream",
          "name": "stdout",
          "text": [
            "[0, 1, 2, 3, 4, 5, 6, 7, 8, 9, 10]\n",
            "[-10, -9, -8, -7, -6, -5, -4, -3, -2, -1, 0]\n",
            "[0, 2, 4, 6, 8, 10, 12, 14, 16, 18, 20]\n",
            "[-19, -17, -15, -13, -11, -9, -7, -5, -3, -1]\n",
            "[0, 5, 10, 15, 20, 25, 30, 35, 40, 45]\n"
          ]
        }
      ]
    }
  ]
}