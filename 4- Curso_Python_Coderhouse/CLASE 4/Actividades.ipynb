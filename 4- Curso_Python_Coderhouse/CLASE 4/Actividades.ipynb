{
  "cells": [
    {
      "cell_type": "markdown",
      "metadata": {
        "id": "view-in-github",
        "colab_type": "text"
      },
      "source": [
        "<a href=\"https://colab.research.google.com/github/Malinowsk/Ejercicios-en-Python/blob/main/Actividades.ipynb\" target=\"_parent\"><img src=\"https://colab.research.google.com/assets/colab-badge.svg\" alt=\"Open In Colab\"/></a>"
      ]
    },
    {
      "cell_type": "code",
      "execution_count": null,
      "id": "ace48e27",
      "metadata": {
        "id": "ace48e27",
        "colab": {
          "base_uri": "https://localhost:8080/"
        },
        "outputId": "2aa126c0-e342-493e-c24b-ee5bfd41fe09"
      },
      "outputs": [
        {
          "output_type": "stream",
          "name": "stdout",
          "text": [
            "Año de nacieminto:  1989\n",
            "Generación Y\n"
          ]
        }
      ],
      "source": [
        "\"\"\"\n",
        "Escribir un programa que indique la generación correspondiente para un año de nacimiento indicado. \n",
        "Trabajarán con el notebook de clase Clase_4.ipynb\n",
        "\n",
        "Importante: Para los años que no pertenezcan a ninguna generación, se deberá colocar: “No existe generación asociada”\n",
        "\"\"\"\n",
        "\n",
        "#Generaciones Digitales\n",
        "anio = int(input(\"Año de nacieminto:  \"))\n",
        "\n",
        "if anio >= 2001 and anio <= 2010:\n",
        "    print(\"Generación Z\")\n",
        "elif anio >= 1980 and anio <= 2000:\n",
        "    print(\"Generación Y\")\n",
        "elif anio >= 1965 and anio <= 1979:\n",
        "    print(\"Generacion X\")\n",
        "elif anio >= 1946 and anio <= 1964:\n",
        "    print(\"Baby Boomer\")\n",
        "elif anio >= 1920 and anio <= 1940:\n",
        "    print(\"Generación Silenciosa\")\n",
        "else:\n",
        "    print(\"No existe generación asociada\")"
      ]
    },
    {
      "cell_type": "code",
      "execution_count": null,
      "id": "442b23f1",
      "metadata": {
        "id": "442b23f1",
        "colab": {
          "base_uri": "https://localhost:8080/"
        },
        "outputId": "ee66a0ca-8b57-4d51-b4d9-4cc594806c7f"
      },
      "outputs": [
        {
          "output_type": "stream",
          "name": "stdout",
          "text": [
            "Aprobado\n"
          ]
        }
      ],
      "source": [
        "\"\"\"\n",
        "Para aprobar un crédito, el cliente debe ser mayor de edad. Además, debe tener una antigüedad\n",
        "en el sistema financiero de mínimo 3 años y un ingreso mayor a 2500 dólares. \n",
        "En caso no tenga la antigüedad suficiente, su ingreso mensual debe ser como mínimo 4000 dólares.\n",
        "Si no cumple ninguna de las condiciones, no se aprueba el crédito\n",
        "\n",
        "Datos iniciales\n",
        "edad = 15\n",
        "antigüedad = 10\n",
        "ingreso = 1500\n",
        "\"\"\"\n",
        "\n",
        "#Crédito bancario\n",
        "edad = 18\n",
        "antiguedad = 1\n",
        "ingreso = 4800\n",
        "\n",
        "if edad >= 18:\n",
        "    if antiguedad >= 3 and ingreso >= 2500:\n",
        "        print(\"Aprobado\")\n",
        "    elif ingreso >= 4000:\n",
        "        print(\"Aprobado\")\n",
        "    else:\n",
        "        print(\"No aprobado\")\n",
        "else:\n",
        "    print(\"No aprobado\")"
      ]
    },
    {
      "cell_type": "code",
      "source": [],
      "metadata": {
        "id": "OAP6mwhX9X26"
      },
      "id": "OAP6mwhX9X26",
      "execution_count": null,
      "outputs": []
    },
    {
      "cell_type": "code",
      "source": [],
      "metadata": {
        "id": "aKs5NkW29X-D"
      },
      "id": "aKs5NkW29X-D",
      "execution_count": null,
      "outputs": []
    },
    {
      "cell_type": "code",
      "source": [
        "\"\""
      ],
      "metadata": {
        "id": "Knop4RKY9YFq"
      },
      "id": "Knop4RKY9YFq",
      "execution_count": null,
      "outputs": []
    },
    {
      "cell_type": "code",
      "source": [
        "\"\"\"\n",
        "Un curso se ha dividido en dos grupos diferentes: A y B de acuerdo al nombre y a una preferencia (Marvel o Capcom).\n",
        "El grupo A está formado por fans de Marvel con un nombre anterior a la M y los fans de Capcom con un nombre posterior a la N\n",
        "y el grupo B por el resto.\n",
        "Escribir un programa que pregunte al usuario su nombre y preferencia, y muestre por pantalla el grupo que le corresponde.\n",
        "Ej.:\n",
        "¿Cómo te llamas?  Alan\n",
        "¿Cuál es tu preferencia (M o C)?  C\n",
        "Tu grupo es B\n",
        "Para preguntarle al usuario, recuerda usar input.\n",
        "\n",
        "\"\"\"\n",
        "\n",
        "#Marvel vs Capcom\n",
        "nombre = input(\"¿Cómo te llamas?: \")\n",
        "fan = input(\"¿Cuál es tu preferencia (Marvel o Capcom)?: \")\n",
        "\n",
        "if (fan == \"Marvel\" and nombre[0] < \"M\") or (fan == \"Capcom\" and nombre[0] > \"N\"):\n",
        "  print(\"SOS DEL GRUPO A\")\n",
        "else:\n",
        "  print(\"Sos del grupo B!!!!!!!!!\")"
      ],
      "metadata": {
        "id": "put5w-0UxyqQ",
        "colab": {
          "base_uri": "https://localhost:8080/"
        },
        "outputId": "b747e043-c355-4bb9-8516-daef18519b14"
      },
      "id": "put5w-0UxyqQ",
      "execution_count": null,
      "outputs": [
        {
          "output_type": "stream",
          "name": "stdout",
          "text": [
            "¿Cómo te llamas?: Pedro\n",
            "¿Cuál es tu preferencia (Marvel o Capcom)?: Marvel\n",
            "Sos del grupo B!!!!!!!!!\n"
          ]
        }
      ]
    }
  ],
  "metadata": {
    "kernelspec": {
      "display_name": "Python 3 (ipykernel)",
      "language": "python",
      "name": "python3"
    },
    "language_info": {
      "codemirror_mode": {
        "name": "ipython",
        "version": 3
      },
      "file_extension": ".py",
      "mimetype": "text/x-python",
      "name": "python",
      "nbconvert_exporter": "python",
      "pygments_lexer": "ipython3",
      "version": "3.8.8"
    },
    "varInspector": {
      "cols": {
        "lenName": 16,
        "lenType": 16,
        "lenVar": 40
      },
      "kernels_config": {
        "python": {
          "delete_cmd_postfix": "",
          "delete_cmd_prefix": "del ",
          "library": "var_list.py",
          "varRefreshCmd": "print(var_dic_list())"
        },
        "r": {
          "delete_cmd_postfix": ") ",
          "delete_cmd_prefix": "rm(",
          "library": "var_list.r",
          "varRefreshCmd": "cat(var_dic_list()) "
        }
      },
      "types_to_exclude": [
        "module",
        "function",
        "builtin_function_or_method",
        "instance",
        "_Feature"
      ],
      "window_display": false
    },
    "colab": {
      "provenance": [],
      "include_colab_link": true
    }
  },
  "nbformat": 4,
  "nbformat_minor": 5
}