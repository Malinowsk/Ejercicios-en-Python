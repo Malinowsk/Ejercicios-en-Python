{
  "cells": [
    {
      "cell_type": "markdown",
      "metadata": {
        "id": "view-in-github",
        "colab_type": "text"
      },
      "source": [
        "<a href=\"https://colab.research.google.com/github/Malinowsk/Ejercicios-en-Python/blob/main/Control_de_flujo_de_decisi%C3%B3n.ipynb\" target=\"_parent\"><img src=\"https://colab.research.google.com/assets/colab-badge.svg\" alt=\"Open In Colab\"/></a>"
      ]
    },
    {
      "cell_type": "markdown",
      "metadata": {
        "id": "riLPX68jVF9q"
      },
      "source": [
        "# Repaso de la clase anterior"
      ]
    },
    {
      "cell_type": "code",
      "execution_count": null,
      "metadata": {
        "id": "Mcmn06Ru1Aba"
      },
      "outputs": [],
      "source": [
        "doc = int ( input(\"\\nPor favor, ingresar su documento:\\n\") )\n",
        "\n",
        "altura = float ( input(\"\\nPor favor, ingresar tu altura:\\n\") )\n",
        "\n",
        "peso = float ( input(\"\\nPor favor, ingresar tu peso:\\n\") )"
      ]
    },
    {
      "cell_type": "code",
      "execution_count": null,
      "metadata": {
        "id": "TNnX5jmC3a_O"
      },
      "outputs": [],
      "source": [
        "lista_datos_persona = [doc, altura, peso]"
      ]
    },
    {
      "cell_type": "code",
      "execution_count": null,
      "metadata": {
        "id": "xmS2BfLb3vTt"
      },
      "outputs": [],
      "source": [
        "lista_datos_persona"
      ]
    },
    {
      "cell_type": "code",
      "execution_count": null,
      "metadata": {
        "id": "O8wpfYCS3yKu"
      },
      "outputs": [],
      "source": [
        "lista_datos_persona[1]"
      ]
    },
    {
      "cell_type": "code",
      "execution_count": null,
      "metadata": {
        "id": "Wro25t_G39_I"
      },
      "outputs": [],
      "source": [
        "sum(lista_datos_persona)"
      ]
    },
    {
      "cell_type": "code",
      "execution_count": null,
      "metadata": {
        "id": "aO1cPLaJ4LFj"
      },
      "outputs": [],
      "source": [
        "peso == altura"
      ]
    },
    {
      "cell_type": "code",
      "execution_count": null,
      "metadata": {
        "id": "n8aVH9l34dtF"
      },
      "outputs": [],
      "source": [
        "(peso > altura )  and not (doc < peso)"
      ]
    },
    {
      "cell_type": "markdown",
      "metadata": {
        "id": "tymbaN7x5B4Y"
      },
      "source": [
        "# Control de flujo de decisión "
      ]
    },
    {
      "cell_type": "markdown",
      "metadata": {
        "id": "3W3PsqtmVOMp"
      },
      "source": [
        "# if"
      ]
    },
    {
      "cell_type": "code",
      "execution_count": null,
      "metadata": {
        "colab": {
          "base_uri": "https://localhost:8080/"
        },
        "id": "xW4QE9TP5jLB",
        "outputId": "dbab047a-811f-4a71-b260-ce3ab749631d"
      },
      "outputs": [
        {
          "output_type": "stream",
          "name": "stdout",
          "text": [
            "¡La condición es verdadera!\n"
          ]
        }
      ],
      "source": [
        "#Ejemplo 1\n",
        "x = 10\n",
        "\n",
        "if x > 4:\n",
        "  print(\"¡La condición es verdadera!\")"
      ]
    },
    {
      "cell_type": "code",
      "execution_count": null,
      "metadata": {
        "colab": {
          "base_uri": "https://localhost:8080/"
        },
        "id": "4ctFtqcw-tcV",
        "outputId": "43616254-00be-48d5-f069-5ce508d9faa1"
      },
      "outputs": [
        {
          "output_type": "stream",
          "name": "stdout",
          "text": [
            "Tu numero es divisible por 3 :)\n",
            "Tu numero es muy grande :( \n"
          ]
        }
      ],
      "source": [
        "#Ejemplo 2\n",
        "numero = 21\n",
        "\n",
        "if numero%2 == 0:\n",
        "  print(\"Tu numero  es par :)\")\n",
        "\n",
        "if numero%3 == 0:\n",
        "  print(\"Tu numero es divisible por 3 :)\")\n",
        "\n",
        "if numero > 10:\n",
        "  print(\"Tu numero es muy grande :( \")"
      ]
    },
    {
      "cell_type": "code",
      "execution_count": null,
      "metadata": {
        "colab": {
          "base_uri": "https://localhost:8080/"
        },
        "id": "lXOvvHVJ_49s",
        "outputId": "b4236f23-9210-4f2c-ce15-7f3aa0bafbe2"
      },
      "outputs": [
        {
          "output_type": "stream",
          "name": "stdout",
          "text": [
            "Mayor que 5 y menos que 15\n"
          ]
        }
      ],
      "source": [
        "#Ejemplo 3\n",
        "a = 10\n",
        "if a > 5 and a < 15:\n",
        "    print(\"Mayor que 5 y menos que 15\")"
      ]
    },
    {
      "cell_type": "markdown",
      "metadata": {
        "id": "fw-spP3qVRo5"
      },
      "source": [
        "# Else"
      ]
    },
    {
      "cell_type": "code",
      "source": [
        "numero =  int(input(\"Numero a evaluar:  \"))\n",
        "\n",
        "if numero > 36:\n",
        "    print(\"El número es grande\")\n",
        "else:\n",
        "    print(\"El número es chico\")"
      ],
      "metadata": {
        "colab": {
          "base_uri": "https://localhost:8080/"
        },
        "id": "-eZBQczXgxqy",
        "outputId": "ff321916-d83b-40e2-e63c-e68e0046dd68"
      },
      "execution_count": null,
      "outputs": [
        {
          "output_type": "stream",
          "name": "stdout",
          "text": [
            "Numero a evaluar:  40\n",
            "El número es grande\n"
          ]
        }
      ]
    },
    {
      "cell_type": "code",
      "execution_count": null,
      "metadata": {
        "colab": {
          "base_uri": "https://localhost:8080/"
        },
        "id": "i2ps53XqBGjt",
        "outputId": "3527c727-3efb-41e9-d741-aa1b0df05965"
      },
      "outputs": [
        {
          "output_type": "stream",
          "name": "stdout",
          "text": [
            "Numero a evaluar:  50\n",
            "No es 10\n"
          ]
        }
      ],
      "source": [
        "#Ejemplo 1\n",
        "x = int(input(\"Numero a evaluar:  \"))\n",
        "\n",
        "if x == 10:\n",
        "    print(\"Es 10\")\n",
        "else:\n",
        "    print(\"No es 10\")"
      ]
    },
    {
      "cell_type": "code",
      "execution_count": null,
      "metadata": {
        "id": "EWrncheO0YGB",
        "outputId": "c16d9e30-ae65-4e07-c3ce-63cf19246314",
        "colab": {
          "base_uri": "https://localhost:8080/"
        }
      },
      "outputs": [
        {
          "output_type": "stream",
          "name": "stdout",
          "text": [
            "a es mayor o igual que b\n"
          ]
        }
      ],
      "source": [
        "#Ejemplo 2\n",
        "a = 10\n",
        "b = 10\n",
        "\n",
        "if a < b:\n",
        "    print(\"a es menor que b\")\n",
        "else:\n",
        "    print(\"a es mayor o igual que b\")"
      ]
    },
    {
      "cell_type": "markdown",
      "metadata": {
        "id": "khEnUIELVXTj"
      },
      "source": [
        "# Elif"
      ]
    },
    {
      "cell_type": "code",
      "source": [
        "a = int(input(\"Numero a evaluar:  \"))\n",
        "\n",
        "if a == 4: \n",
        "   print (\"A es igual a cuatro\")\n",
        "elif a == 5:\n",
        "   print (\"A es igual a cinco\")\n",
        "elif a == 6:\n",
        "   print (\"A es igual a seis\")\n",
        "else:\n",
        "   print (\"No se cumple ninguna condición\")"
      ],
      "metadata": {
        "colab": {
          "base_uri": "https://localhost:8080/"
        },
        "id": "GQCF5KfAiiQe",
        "outputId": "1fb56dd3-e477-4bbb-d0c4-f5935398900e"
      },
      "execution_count": null,
      "outputs": [
        {
          "output_type": "stream",
          "name": "stdout",
          "text": [
            "Numero a evaluar:  1\n",
            "No se cumple ninguna condición\n"
          ]
        }
      ]
    },
    {
      "cell_type": "code",
      "source": [
        "# Ejemplo de un mal codigo\n",
        "a = int(input(\"Numero a evaluar:  \"))\n",
        "\n",
        "if a == 10:\n",
        "   print (\"Excelente\")\n",
        "\n",
        "if a >= 8:\n",
        "   print (\"Sobresaliente\")\n",
        "\n",
        "if a >= 5:\n",
        "   print (\"Aprobado. Debes practicar más\")\n",
        "\n",
        "if a >= 1:\n",
        "   print (\"Reprobrado\")\n",
        "else:\n",
        "   print (\"Contactar a la dirección\")\n",
        "\n",
        "print(\"Fuera del ciclo if else\")"
      ],
      "metadata": {
        "colab": {
          "base_uri": "https://localhost:8080/"
        },
        "id": "lc1B_h-8jRwC",
        "outputId": "0f0e077b-077c-4b37-edfe-b585bbbf940a"
      },
      "execution_count": null,
      "outputs": [
        {
          "output_type": "stream",
          "name": "stdout",
          "text": [
            "Numero a evaluar:  10\n",
            "Excelente\n",
            "Sobresaliente\n",
            "Aprobado. Debes practicar más\n",
            "Reprobrado\n",
            "Fuera del ciclo if else\n"
          ]
        }
      ]
    },
    {
      "cell_type": "code",
      "source": [
        "# Ejemplo de un buen codigo\n",
        "a = int(input(\"Numero a evaluar:  \"))\n",
        "\n",
        "if a == 10:\n",
        "   print (\"Excelente\")\n",
        "elif a >= 8:\n",
        "   print (\"Sobresaliente\")\n",
        "elif a >= 5:\n",
        "   print (\"Aprobado. Debes practicar más\")\n",
        "elif a >= 1:\n",
        "   print (\"Reprobrado\")\n",
        "else:\n",
        "   print (\"Contactar a la dirección\")\n",
        "\n",
        "print(\"Fuera del ciclo if else\")"
      ],
      "metadata": {
        "id": "OoW6_LgtlrJZ"
      },
      "execution_count": null,
      "outputs": []
    },
    {
      "cell_type": "code",
      "execution_count": null,
      "metadata": {
        "id": "petSf7ePEuUr"
      },
      "outputs": [],
      "source": [
        "#Ejemplo 1\n",
        "x = 5\n",
        "if x == 5:\n",
        "    print(\"Es 5\")\n",
        "elif x == 6:\n",
        "    print(\"Es 6\")\n",
        "elif x == 7:\n",
        "    print(\"Es 7\")"
      ]
    },
    {
      "cell_type": "code",
      "execution_count": null,
      "metadata": {
        "id": "HbtCVeQbGn1a"
      },
      "outputs": [],
      "source": [
        "#Ejemplo 2\n",
        "x = 5\n",
        "if x == 5:\n",
        "    print(\"Es 5\")\n",
        "elif x == 6:\n",
        "    print(\"Es 6\")\n",
        "elif x == 7:\n",
        "    print(\"Es 7\")\n",
        "else:\n",
        "    print(\"Es otro\")"
      ]
    },
    {
      "cell_type": "code",
      "execution_count": null,
      "metadata": {
        "id": "TZ28nZJwHG5_"
      },
      "outputs": [],
      "source": [
        "#Mas ejemplos :)\n",
        "comando =  \"SALUDO\"\n",
        "\n",
        "if (comando == \"ENTRAR\"):\n",
        "    print(\"Bienvenido al sistema.\")\n",
        "elif (comando == \"SALUDO\"):\n",
        "    print(\"Hola! ¿Cómo estás?\")\n",
        "elif (comando == \"SALIR\"):\n",
        "    print(\"Saliendo del sistema.\")\n",
        "else:\n",
        "    print(\"No se reconoce el comando.\")"
      ]
    },
    {
      "cell_type": "markdown",
      "source": [
        "# Operador ternario\n",
        "\n",
        "Es una forma de escribir un ciclo if else en una sola linea\n",
        "Se usa para casos sencillos"
      ],
      "metadata": {
        "id": "lAh5JKDPl4ik"
      }
    },
    {
      "cell_type": "code",
      "source": [
        "# instruccion 1 if condicional else instruccion2\n",
        "# instruccion 1 se va a ejecutar si if es verdadero\n",
        "# instruccion 2 se va a ejecutar si if es falso\n",
        "\n"
      ],
      "metadata": {
        "id": "eeKb1o95l64a"
      },
      "execution_count": null,
      "outputs": []
    },
    {
      "cell_type": "code",
      "source": [
        "edad = int(input(\"Edad: \"))\n",
        "es_mayor_de_edad = \"mayor\" if edad >= 18 else \"menor\""
      ],
      "metadata": {
        "colab": {
          "base_uri": "https://localhost:8080/"
        },
        "id": "SO1AIRdUl3k-",
        "outputId": "7426dd85-622d-4c8f-c690-f001901f5ec1"
      },
      "execution_count": null,
      "outputs": [
        {
          "name": "stdout",
          "output_type": "stream",
          "text": [
            "Edad: 15\n"
          ]
        }
      ]
    },
    {
      "cell_type": "code",
      "source": [
        "es_mayor_de_edad"
      ],
      "metadata": {
        "colab": {
          "base_uri": "https://localhost:8080/",
          "height": 35
        },
        "id": "1taCLEchmt8M",
        "outputId": "641648ac-f5e2-46a2-e972-f05c290d1f2c"
      },
      "execution_count": null,
      "outputs": [
        {
          "output_type": "execute_result",
          "data": {
            "text/plain": [
              "'menor'"
            ],
            "application/vnd.google.colaboratory.intrinsic+json": {
              "type": "string"
            }
          },
          "metadata": {},
          "execution_count": 30
        }
      ]
    },
    {
      "cell_type": "markdown",
      "source": [
        "# if anidados"
      ],
      "metadata": {
        "id": "aB8CoHHTiKDb"
      }
    },
    {
      "cell_type": "code",
      "source": [
        "# Disney\n",
        "# Programa para determinar si una persona se puede subir a una atracción mecánica para adolescentes\n",
        "edad = 10\n",
        "tiene_representante = True\n",
        "\n",
        "if edad >= 12:\n",
        "    if tiene_representante:\n",
        "        print(\"Te puedes subir\")\n",
        "    else:\n",
        "        if edad >= 15:\n",
        "            print(\"Te puedes subir\")\n",
        "        else:\n",
        "            print(\"No te puedes subir\")\n",
        "else:\n",
        "    print(\"No te puedes subir\")\n"
      ],
      "metadata": {
        "colab": {
          "base_uri": "https://localhost:8080/"
        },
        "id": "WfvFT2UjnOgp",
        "outputId": "c7dcf250-7ebf-4867-c730-fa6c339b3292"
      },
      "execution_count": null,
      "outputs": [
        {
          "output_type": "stream",
          "name": "stdout",
          "text": [
            "No te puedes subri a la atraccion\n"
          ]
        }
      ]
    }
  ],
  "metadata": {
    "colab": {
      "provenance": [],
      "collapsed_sections": [
        "riLPX68jVF9q"
      ],
      "include_colab_link": true
    },
    "kernelspec": {
      "display_name": "Python 3 (ipykernel)",
      "language": "python",
      "name": "python3"
    },
    "language_info": {
      "codemirror_mode": {
        "name": "ipython",
        "version": 3
      },
      "file_extension": ".py",
      "mimetype": "text/x-python",
      "name": "python",
      "nbconvert_exporter": "python",
      "pygments_lexer": "ipython3",
      "version": "3.8.8"
    },
    "varInspector": {
      "cols": {
        "lenName": 16,
        "lenType": 16,
        "lenVar": 40
      },
      "kernels_config": {
        "python": {
          "delete_cmd_postfix": "",
          "delete_cmd_prefix": "del ",
          "library": "var_list.py",
          "varRefreshCmd": "print(var_dic_list())"
        },
        "r": {
          "delete_cmd_postfix": ") ",
          "delete_cmd_prefix": "rm(",
          "library": "var_list.r",
          "varRefreshCmd": "cat(var_dic_list()) "
        }
      },
      "types_to_exclude": [
        "module",
        "function",
        "builtin_function_or_method",
        "instance",
        "_Feature"
      ],
      "window_display": false
    }
  },
  "nbformat": 4,
  "nbformat_minor": 0
}