{
  "cells": [
    {
      "cell_type": "markdown",
      "metadata": {
        "id": "view-in-github",
        "colab_type": "text"
      },
      "source": [
        "<a href=\"https://colab.research.google.com/github/Malinowsk/Ejercicios-en-Python/blob/main/4-%20Curso_Python_Coderhouse/CLASE%2010/Funciones_Avanzadas.ipynb\" target=\"_parent\"><img src=\"https://colab.research.google.com/assets/colab-badge.svg\" alt=\"Open In Colab\"/></a>"
      ]
    },
    {
      "cell_type": "markdown",
      "source": [
        "# Repaso funciones"
      ],
      "metadata": {
        "id": "KXjY-2gvagT-"
      },
      "id": "KXjY-2gvagT-"
    },
    {
      "cell_type": "code",
      "execution_count": null,
      "id": "e754089a",
      "metadata": {
        "id": "e754089a"
      },
      "outputs": [],
      "source": [
        "def sumar(numero1, numero2):\n",
        "    resultado = numero1 + numero2 \n",
        "    return resultado"
      ]
    },
    {
      "cell_type": "code",
      "source": [
        "resultado = sumar(7, 5)"
      ],
      "metadata": {
        "id": "WzyPbRj_ajdE"
      },
      "id": "WzyPbRj_ajdE",
      "execution_count": null,
      "outputs": []
    },
    {
      "cell_type": "code",
      "source": [
        "resultado"
      ],
      "metadata": {
        "colab": {
          "base_uri": "https://localhost:8080/"
        },
        "id": "b7xn3RcxiKT_",
        "outputId": "558357e8-8d0f-4e98-93e4-5c600bbb1b2c"
      },
      "id": "b7xn3RcxiKT_",
      "execution_count": null,
      "outputs": [
        {
          "output_type": "execute_result",
          "data": {
            "text/plain": [
              "12"
            ]
          },
          "metadata": {},
          "execution_count": 11
        }
      ]
    },
    {
      "cell_type": "code",
      "source": [
        "sumar(10, 12)"
      ],
      "metadata": {
        "colab": {
          "base_uri": "https://localhost:8080/"
        },
        "id": "i6cG3wkeiZhG",
        "outputId": "e67745d1-a774-4688-adf2-2c1e7ff0e17d"
      },
      "id": "i6cG3wkeiZhG",
      "execution_count": null,
      "outputs": [
        {
          "output_type": "execute_result",
          "data": {
            "text/plain": [
              "22"
            ]
          },
          "metadata": {},
          "execution_count": 12
        }
      ]
    },
    {
      "cell_type": "code",
      "source": [
        "sumar(20,35)"
      ],
      "metadata": {
        "colab": {
          "base_uri": "https://localhost:8080/"
        },
        "id": "ZKqEpaUpicXn",
        "outputId": "ab82624a-8683-4645-b71f-7709e19a01c4"
      },
      "id": "ZKqEpaUpicXn",
      "execution_count": null,
      "outputs": [
        {
          "output_type": "execute_result",
          "data": {
            "text/plain": [
              "55"
            ]
          },
          "metadata": {},
          "execution_count": 13
        }
      ]
    },
    {
      "cell_type": "markdown",
      "metadata": {
        "id": "ofuwaMP3eOZk"
      },
      "source": [
        "## Comentarios o docstrings en funciones"
      ],
      "id": "ofuwaMP3eOZk"
    },
    {
      "cell_type": "code",
      "execution_count": null,
      "metadata": {
        "id": "sbCCOw8beOVz"
      },
      "outputs": [],
      "source": [
        "def potenciacion(base, exponente):\n",
        "    \"\"\"\n",
        "    funcion que calcula la potenciacion de una base a un exponente\n",
        "\n",
        "    params:\n",
        "    base: int\n",
        "    exponente: int\n",
        "    \"\"\"\n",
        "    return base ** exponente"
      ],
      "id": "sbCCOw8beOVz"
    },
    {
      "cell_type": "code",
      "source": [
        "help(potenciacion)"
      ],
      "metadata": {
        "colab": {
          "base_uri": "https://localhost:8080/"
        },
        "id": "Q5fOlyWUi2zW",
        "outputId": "65d768e1-11a8-4224-e28d-90d374b5e58c"
      },
      "id": "Q5fOlyWUi2zW",
      "execution_count": null,
      "outputs": [
        {
          "output_type": "stream",
          "name": "stdout",
          "text": [
            "Help on function potenciacion in module __main__:\n",
            "\n",
            "potenciacion(base, exponente)\n",
            "    funcion que calcula la potenciacion de una base a un exponente\n",
            "    \n",
            "    params:\n",
            "    base: int\n",
            "    exponente: int\n",
            "\n"
          ]
        }
      ]
    },
    {
      "cell_type": "markdown",
      "source": [
        "# (Funciones) lambdas"
      ],
      "metadata": {
        "id": "zoGgtLqOaZ2f"
      },
      "id": "zoGgtLqOaZ2f"
    },
    {
      "cell_type": "code",
      "source": [
        "sumar_2 = lambda a, b : a + b"
      ],
      "metadata": {
        "id": "wCJBhgVvaeHx"
      },
      "id": "wCJBhgVvaeHx",
      "execution_count": null,
      "outputs": []
    },
    {
      "cell_type": "code",
      "source": [
        "sumar_2(20, 41)"
      ],
      "metadata": {
        "colab": {
          "base_uri": "https://localhost:8080/"
        },
        "id": "3QVR2jUDjpV4",
        "outputId": "eea11530-e884-4557-c48d-f4d1c62f5feb"
      },
      "id": "3QVR2jUDjpV4",
      "execution_count": null,
      "outputs": [
        {
          "output_type": "execute_result",
          "data": {
            "text/plain": [
              "61"
            ]
          },
          "metadata": {},
          "execution_count": 17
        }
      ]
    },
    {
      "cell_type": "markdown",
      "source": [
        "# Argumentos por posición y por nombre"
      ],
      "metadata": {
        "id": "t7Ey7AIwazpj"
      },
      "id": "t7Ey7AIwazpj"
    },
    {
      "cell_type": "code",
      "execution_count": null,
      "metadata": {
        "id": "Me877ul-pydd"
      },
      "outputs": [],
      "source": [
        "def potenciacion(base, exponente):\n",
        "    return base ** exponente"
      ],
      "id": "Me877ul-pydd"
    },
    {
      "cell_type": "code",
      "source": [
        "# 2 elevado a la 3\n",
        "# base 2, exponente 3\n",
        "2*2*2"
      ],
      "metadata": {
        "colab": {
          "base_uri": "https://localhost:8080/"
        },
        "id": "apkHNi7WlFP7",
        "outputId": "23e7511a-b469-4d4b-eb14-02bc4fa2dfb7"
      },
      "id": "apkHNi7WlFP7",
      "execution_count": null,
      "outputs": [
        {
          "output_type": "execute_result",
          "data": {
            "text/plain": [
              "8"
            ]
          },
          "metadata": {},
          "execution_count": 19
        }
      ]
    },
    {
      "cell_type": "code",
      "execution_count": null,
      "metadata": {
        "id": "_QQoGQ5kM20F",
        "colab": {
          "base_uri": "https://localhost:8080/"
        },
        "outputId": "cac40abe-bf14-493a-aa2c-d43f6f6671b6"
      },
      "outputs": [
        {
          "output_type": "execute_result",
          "data": {
            "text/plain": [
              "32"
            ]
          },
          "metadata": {},
          "execution_count": 20
        }
      ],
      "source": [
        "# paso de argumentos por posicion\n",
        "potenciacion(2, 5)"
      ],
      "id": "_QQoGQ5kM20F"
    },
    {
      "cell_type": "code",
      "source": [
        "# paso de argumentos por nombre\n",
        "potenciacion(base=2, exponente=5)"
      ],
      "metadata": {
        "colab": {
          "base_uri": "https://localhost:8080/"
        },
        "id": "D1f8H6qsld8S",
        "outputId": "02a66d32-472b-4a44-f0fc-b1c6a3c260fd"
      },
      "id": "D1f8H6qsld8S",
      "execution_count": null,
      "outputs": [
        {
          "output_type": "execute_result",
          "data": {
            "text/plain": [
              "32"
            ]
          },
          "metadata": {},
          "execution_count": 21
        }
      ]
    },
    {
      "cell_type": "code",
      "source": [
        "potenciacion(exponente=5, base=2)"
      ],
      "metadata": {
        "colab": {
          "base_uri": "https://localhost:8080/"
        },
        "id": "0GL1KBE7lx83",
        "outputId": "5fa22880-53f1-4397-9198-fca45385a0b7"
      },
      "id": "0GL1KBE7lx83",
      "execution_count": null,
      "outputs": [
        {
          "output_type": "execute_result",
          "data": {
            "text/plain": [
              "32"
            ]
          },
          "metadata": {},
          "execution_count": 22
        }
      ]
    },
    {
      "cell_type": "code",
      "source": [
        "potenciacion(2, exponente=5)"
      ],
      "metadata": {
        "colab": {
          "base_uri": "https://localhost:8080/"
        },
        "id": "Y80gfwz9l6U2",
        "outputId": "0850a9f8-4cc7-47c4-ef97-3e6d8ce6a151"
      },
      "id": "Y80gfwz9l6U2",
      "execution_count": null,
      "outputs": [
        {
          "output_type": "execute_result",
          "data": {
            "text/plain": [
              "32"
            ]
          },
          "metadata": {},
          "execution_count": 23
        }
      ]
    },
    {
      "cell_type": "code",
      "source": [],
      "metadata": {
        "id": "1d5yYCsGleDi"
      },
      "id": "1d5yYCsGleDi",
      "execution_count": null,
      "outputs": []
    },
    {
      "cell_type": "code",
      "execution_count": null,
      "id": "e55060f8",
      "metadata": {
        "id": "e55060f8"
      },
      "outputs": [],
      "source": [
        "#Si tomamos el siguiente ejemplo sabremos que la restar nos dará 3:\n",
        "def restar(a, b):\n",
        "    return a - b\n"
      ]
    },
    {
      "cell_type": "code",
      "source": [
        "resultado = restar(15, 12)\n",
        "resultado"
      ],
      "metadata": {
        "colab": {
          "base_uri": "https://localhost:8080/"
        },
        "id": "pByalDPsaYic",
        "outputId": "f11fd816-8aab-479e-c3d1-4d10b4e5e9b0"
      },
      "id": "pByalDPsaYic",
      "execution_count": null,
      "outputs": [
        {
          "output_type": "execute_result",
          "data": {
            "text/plain": [
              "3"
            ]
          },
          "metadata": {},
          "execution_count": 26
        }
      ]
    },
    {
      "cell_type": "code",
      "execution_count": null,
      "id": "383e01c4",
      "metadata": {
        "colab": {
          "base_uri": "https://localhost:8080/"
        },
        "id": "383e01c4",
        "outputId": "e3d94fbd-8122-4ced-df30-d91294a6ab85"
      },
      "outputs": [
        {
          "output_type": "execute_result",
          "data": {
            "text/plain": [
              "-3"
            ]
          },
          "metadata": {},
          "execution_count": 27
        }
      ],
      "source": [
        "#Pero ahora que pasa?\n",
        "resultado = restar(12, 15)\n",
        "resultado"
      ]
    },
    {
      "cell_type": "code",
      "execution_count": null,
      "id": "9ec3f057",
      "metadata": {
        "colab": {
          "base_uri": "https://localhost:8080/"
        },
        "id": "9ec3f057",
        "outputId": "b1f5ef1f-c0a9-4b0e-9dac-bfd0c1e86b11"
      },
      "outputs": [
        {
          "output_type": "execute_result",
          "data": {
            "text/plain": [
              "3"
            ]
          },
          "metadata": {},
          "execution_count": 28
        }
      ],
      "source": [
        "#Argumentos por nombre...\n",
        "def restar(a, b):\n",
        "    return a - b\n",
        "resultado = restar(a=15, b=12)\n",
        "resultado"
      ]
    },
    {
      "cell_type": "markdown",
      "source": [
        "## Valores por defecto"
      ],
      "metadata": {
        "id": "HPeKZD0NbYb_"
      },
      "id": "HPeKZD0NbYb_"
    },
    {
      "cell_type": "code",
      "source": [
        "# usamos simbolo igual = para asignar valores por defecto\n",
        "\n",
        "# funcion saludo a cliente\n",
        "def saludar_alumno(alumno=\"estudiante\"):\n",
        "    return f\"Bienvenido {alumno}\""
      ],
      "metadata": {
        "id": "Cd4wOaozbc3R"
      },
      "id": "Cd4wOaozbc3R",
      "execution_count": null,
      "outputs": []
    },
    {
      "cell_type": "code",
      "source": [
        "saludar_alumno(\"Ramiro\")"
      ],
      "metadata": {
        "colab": {
          "base_uri": "https://localhost:8080/",
          "height": 35
        },
        "id": "B1hB9Xmon469",
        "outputId": "a1fd3491-5ec4-4aa9-b20c-c019e50eeca9"
      },
      "id": "B1hB9Xmon469",
      "execution_count": null,
      "outputs": [
        {
          "output_type": "execute_result",
          "data": {
            "text/plain": [
              "'Bienvenido Ramiro'"
            ],
            "application/vnd.google.colaboratory.intrinsic+json": {
              "type": "string"
            }
          },
          "metadata": {},
          "execution_count": 33
        }
      ]
    },
    {
      "cell_type": "code",
      "source": [
        "saludar_alumno(\"Fernando\")"
      ],
      "metadata": {
        "colab": {
          "base_uri": "https://localhost:8080/",
          "height": 35
        },
        "id": "buZWx_3On70o",
        "outputId": "4a6fcd4e-307e-406f-a1f2-03407bbefde6"
      },
      "id": "buZWx_3On70o",
      "execution_count": null,
      "outputs": [
        {
          "output_type": "execute_result",
          "data": {
            "text/plain": [
              "'Bienvenido Fernando'"
            ],
            "application/vnd.google.colaboratory.intrinsic+json": {
              "type": "string"
            }
          },
          "metadata": {},
          "execution_count": 34
        }
      ]
    },
    {
      "cell_type": "code",
      "source": [
        "saludar_alumno()"
      ],
      "metadata": {
        "colab": {
          "base_uri": "https://localhost:8080/",
          "height": 35
        },
        "id": "iMKTo10tn-3N",
        "outputId": "e39e752d-d293-4f64-a98c-9a255223c8d9"
      },
      "id": "iMKTo10tn-3N",
      "execution_count": null,
      "outputs": [
        {
          "output_type": "execute_result",
          "data": {
            "text/plain": [
              "'Bienvenido estudiante'"
            ],
            "application/vnd.google.colaboratory.intrinsic+json": {
              "type": "string"
            }
          },
          "metadata": {},
          "execution_count": 39
        }
      ]
    },
    {
      "cell_type": "code",
      "source": [
        "def dar_bienvenida_alumno(comision, alumno=\"estudiante\"):\n",
        "    return f\"Bienvenido {alumno} a la comision {comision}\""
      ],
      "metadata": {
        "id": "4fssifpcoti_"
      },
      "id": "4fssifpcoti_",
      "execution_count": null,
      "outputs": []
    },
    {
      "cell_type": "code",
      "source": [
        "dar_bienvenida_alumno(comision=1000, alumno=\"Juan\")"
      ],
      "metadata": {
        "colab": {
          "base_uri": "https://localhost:8080/",
          "height": 35
        },
        "id": "JTwcofJvpDV6",
        "outputId": "309b1b8d-a574-451f-c08c-06b97288e296"
      },
      "id": "JTwcofJvpDV6",
      "execution_count": null,
      "outputs": [
        {
          "output_type": "execute_result",
          "data": {
            "text/plain": [
              "'Bienvenido Juan a la comision 1000'"
            ],
            "application/vnd.google.colaboratory.intrinsic+json": {
              "type": "string"
            }
          },
          "metadata": {},
          "execution_count": 41
        }
      ]
    },
    {
      "cell_type": "code",
      "source": [
        "dar_bienvenida_alumno(comision=2000)"
      ],
      "metadata": {
        "colab": {
          "base_uri": "https://localhost:8080/",
          "height": 35
        },
        "id": "hrkEDyMapI-c",
        "outputId": "560222d6-4bb6-4798-cec4-02e64c455fbd"
      },
      "id": "hrkEDyMapI-c",
      "execution_count": null,
      "outputs": [
        {
          "output_type": "execute_result",
          "data": {
            "text/plain": [
              "'Bienvenido estudiante a la comision 2000'"
            ],
            "application/vnd.google.colaboratory.intrinsic+json": {
              "type": "string"
            }
          },
          "metadata": {},
          "execution_count": 42
        }
      ]
    },
    {
      "cell_type": "code",
      "source": [
        "dar_bienvenida_alumno()"
      ],
      "metadata": {
        "colab": {
          "base_uri": "https://localhost:8080/",
          "height": 166
        },
        "id": "qA6l923ypULr",
        "outputId": "d615f534-5754-4ffb-b24c-1b65b7cc7455"
      },
      "id": "qA6l923ypULr",
      "execution_count": null,
      "outputs": [
        {
          "output_type": "error",
          "ename": "TypeError",
          "evalue": "ignored",
          "traceback": [
            "\u001b[0;31m---------------------------------------------------------------------------\u001b[0m",
            "\u001b[0;31mTypeError\u001b[0m                                 Traceback (most recent call last)",
            "\u001b[0;32m<ipython-input-43-01e3be48e3d7>\u001b[0m in \u001b[0;36m<module>\u001b[0;34m\u001b[0m\n\u001b[0;32m----> 1\u001b[0;31m \u001b[0mdar_bienvenida_alumno\u001b[0m\u001b[0;34m(\u001b[0m\u001b[0;34m)\u001b[0m\u001b[0;34m\u001b[0m\u001b[0;34m\u001b[0m\u001b[0m\n\u001b[0m",
            "\u001b[0;31mTypeError\u001b[0m: dar_bienvenida_alumno() missing 1 required positional argument: 'comision'"
          ]
        }
      ]
    },
    {
      "cell_type": "code",
      "source": [
        "dar_bienvenida_alumno(1000)"
      ],
      "metadata": {
        "colab": {
          "base_uri": "https://localhost:8080/",
          "height": 35
        },
        "id": "u0_TF8EvpqnS",
        "outputId": "972e049e-fe8d-4f0c-9a4b-ea4b85da31e5"
      },
      "id": "u0_TF8EvpqnS",
      "execution_count": null,
      "outputs": [
        {
          "output_type": "execute_result",
          "data": {
            "text/plain": [
              "'Bienvenido estudiante a la comision 1000'"
            ],
            "application/vnd.google.colaboratory.intrinsic+json": {
              "type": "string"
            }
          },
          "metadata": {},
          "execution_count": 44
        }
      ]
    },
    {
      "cell_type": "markdown",
      "source": [
        "# Funciones sin argumentos"
      ],
      "metadata": {
        "id": "COBgauymbTrM"
      },
      "id": "COBgauymbTrM"
    },
    {
      "cell_type": "code",
      "source": [
        "# funcion retorna estaciones del año\n",
        "def obtener_estaciones():\n",
        "    return (\"invierno\", \"primavera\", \"verano\", \"otoño\")"
      ],
      "metadata": {
        "id": "I_nbbfaSbfpz"
      },
      "id": "I_nbbfaSbfpz",
      "execution_count": null,
      "outputs": []
    },
    {
      "cell_type": "code",
      "source": [
        "obtener_estaciones()"
      ],
      "metadata": {
        "colab": {
          "base_uri": "https://localhost:8080/"
        },
        "id": "vZg2pgyRnHO4",
        "outputId": "595664ef-a928-41dc-b16d-b0a53c32f81e"
      },
      "id": "vZg2pgyRnHO4",
      "execution_count": null,
      "outputs": [
        {
          "output_type": "execute_result",
          "data": {
            "text/plain": [
              "('invierno', 'primavera', 'verano', 'otoño')"
            ]
          },
          "metadata": {},
          "execution_count": 30
        }
      ]
    },
    {
      "cell_type": "code",
      "source": [
        "# ejemplo de uso\n",
        "from datetime import datetime\n",
        "datetime.now()"
      ],
      "metadata": {
        "colab": {
          "base_uri": "https://localhost:8080/"
        },
        "id": "f4WBh2srnNrE",
        "outputId": "7cf52822-5a16-4b87-f84d-985268d16502"
      },
      "id": "f4WBh2srnNrE",
      "execution_count": null,
      "outputs": [
        {
          "output_type": "execute_result",
          "data": {
            "text/plain": [
              "datetime.datetime(2023, 3, 23, 22, 36, 0, 111411)"
            ]
          },
          "metadata": {},
          "execution_count": 31
        }
      ]
    },
    {
      "cell_type": "markdown",
      "source": [
        "## No confundir, con type hints"
      ],
      "metadata": {
        "id": "XMS3Ias8p8MF"
      },
      "id": "XMS3Ias8p8MF"
    },
    {
      "cell_type": "code",
      "source": [
        "# Los type hints sirven para dar pistas del tipo de dato de los parametros\n",
        "\n",
        "def sumar(numero_1: int, numero_2: int):\n",
        "    return numero_1 + numero_2"
      ],
      "metadata": {
        "id": "vaOTJalOqR1U"
      },
      "id": "vaOTJalOqR1U",
      "execution_count": null,
      "outputs": []
    },
    {
      "cell_type": "code",
      "source": [
        "sumar(20, 31)"
      ],
      "metadata": {
        "colab": {
          "base_uri": "https://localhost:8080/"
        },
        "id": "WZ20wyS3qoOI",
        "outputId": "64972210-7e98-4e0d-aecd-189cb5a72ed3"
      },
      "id": "WZ20wyS3qoOI",
      "execution_count": null,
      "outputs": [
        {
          "output_type": "execute_result",
          "data": {
            "text/plain": [
              "51"
            ]
          },
          "metadata": {},
          "execution_count": 46
        }
      ]
    },
    {
      "cell_type": "code",
      "source": [
        "# los type hints son solo a modo informativo, ya que python es dinamicamente tipado\n",
        "# los type hints son pistas\n",
        "# puedo usarlo para sumar strings por ejemplo\n",
        "\n",
        "sumar(\"Hola\", \" y chao\")"
      ],
      "metadata": {
        "colab": {
          "base_uri": "https://localhost:8080/",
          "height": 35
        },
        "id": "6xog73TgrH0x",
        "outputId": "d3de963f-86fd-4af9-a01d-1b79514f967d"
      },
      "id": "6xog73TgrH0x",
      "execution_count": null,
      "outputs": [
        {
          "output_type": "execute_result",
          "data": {
            "text/plain": [
              "'Hola y chao'"
            ],
            "application/vnd.google.colaboratory.intrinsic+json": {
              "type": "string"
            }
          },
          "metadata": {},
          "execution_count": 49
        }
      ]
    },
    {
      "cell_type": "code",
      "source": [
        "sumar(3.2, 3.5)"
      ],
      "metadata": {
        "colab": {
          "base_uri": "https://localhost:8080/"
        },
        "id": "2hzVWaPNrlP7",
        "outputId": "cf68a5f6-a64c-412d-c1fe-1590c899c537"
      },
      "id": "2hzVWaPNrlP7",
      "execution_count": null,
      "outputs": [
        {
          "output_type": "execute_result",
          "data": {
            "text/plain": [
              "6.7"
            ]
          },
          "metadata": {},
          "execution_count": 50
        }
      ]
    },
    {
      "cell_type": "markdown",
      "id": "dc78fe7c",
      "metadata": {
        "id": "dc78fe7c"
      },
      "source": [
        "### Argumentos por Valor y Referencia:\n",
        "\n",
        "Los números se pasan por valor y crean una copia dentro de la función, no les afecta externamente lo que hagamos con ellos en la función:\n"
      ]
    },
    {
      "cell_type": "code",
      "execution_count": null,
      "id": "8ff45cd7",
      "metadata": {
        "scrolled": true,
        "id": "8ff45cd7"
      },
      "outputs": [],
      "source": [
        "def doblar_valor(numero):\n",
        "    numero *= 2\n",
        "    return numero\n"
      ]
    },
    {
      "cell_type": "code",
      "source": [
        "numero = 10\n"
      ],
      "metadata": {
        "id": "WQF_r5tebuMo"
      },
      "id": "WQF_r5tebuMo",
      "execution_count": null,
      "outputs": []
    },
    {
      "cell_type": "code",
      "source": [
        "doblar_valor(numero)"
      ],
      "metadata": {
        "colab": {
          "base_uri": "https://localhost:8080/"
        },
        "id": "SAwNG9OotS4w",
        "outputId": "ac988d2b-fbf0-4af2-948e-6b62f59d3161"
      },
      "id": "SAwNG9OotS4w",
      "execution_count": null,
      "outputs": [
        {
          "output_type": "execute_result",
          "data": {
            "text/plain": [
              "20"
            ]
          },
          "metadata": {},
          "execution_count": 54
        }
      ]
    },
    {
      "cell_type": "code",
      "source": [
        "numero"
      ],
      "metadata": {
        "colab": {
          "base_uri": "https://localhost:8080/"
        },
        "id": "JlE8P58htUWY",
        "outputId": "5449053d-c0d5-46ef-f7b0-cc17425440e1"
      },
      "id": "JlE8P58htUWY",
      "execution_count": null,
      "outputs": [
        {
          "output_type": "execute_result",
          "data": {
            "text/plain": [
              "10"
            ]
          },
          "metadata": {},
          "execution_count": 55
        }
      ]
    },
    {
      "cell_type": "code",
      "source": [],
      "metadata": {
        "id": "iirwXpX7tUdA"
      },
      "id": "iirwXpX7tUdA",
      "execution_count": null,
      "outputs": []
    },
    {
      "cell_type": "code",
      "execution_count": null,
      "id": "484fc103",
      "metadata": {
        "id": "484fc103"
      },
      "outputs": [],
      "source": [
        "#Paso por referencia\n",
        "def doblar_valores(numeros):\n",
        "    for i,n in enumerate(numeros):\n",
        "        numeros[i] *= 2"
      ]
    },
    {
      "cell_type": "code",
      "execution_count": null,
      "id": "f53edecf",
      "metadata": {
        "id": "f53edecf"
      },
      "outputs": [],
      "source": [
        "lista_numeros = [10,50,100]"
      ]
    },
    {
      "cell_type": "code",
      "execution_count": null,
      "id": "b5d0c461",
      "metadata": {
        "id": "b5d0c461"
      },
      "outputs": [],
      "source": [
        "doblar_valores(lista_numeros)"
      ]
    },
    {
      "cell_type": "code",
      "execution_count": null,
      "id": "4e67ebb7",
      "metadata": {
        "colab": {
          "base_uri": "https://localhost:8080/"
        },
        "id": "4e67ebb7",
        "outputId": "e94b3ee3-8165-41b4-92d6-67c429fba182"
      },
      "outputs": [
        {
          "output_type": "execute_result",
          "data": {
            "text/plain": [
              "[40, 200, 400]"
            ]
          },
          "metadata": {},
          "execution_count": 61
        }
      ],
      "source": [
        "lista_numeros"
      ]
    },
    {
      "cell_type": "code",
      "source": [
        "list(enumerate(lista_numeros))"
      ],
      "metadata": {
        "colab": {
          "base_uri": "https://localhost:8080/"
        },
        "id": "ZdzLxWSzu6qB",
        "outputId": "418e3e44-4633-4ce9-f268-192001530f2b"
      },
      "id": "ZdzLxWSzu6qB",
      "execution_count": null,
      "outputs": [
        {
          "output_type": "execute_result",
          "data": {
            "text/plain": [
              "[(0, 40), (1, 200), (2, 400)]"
            ]
          },
          "metadata": {},
          "execution_count": 63
        }
      ]
    },
    {
      "cell_type": "code",
      "source": [
        "# truco para pasar listas o diccionarios por valor"
      ],
      "metadata": {
        "id": "Fy3BAdq8vaND"
      },
      "id": "Fy3BAdq8vaND",
      "execution_count": null,
      "outputs": []
    },
    {
      "cell_type": "code",
      "source": [
        "def obtener_dobles(numeros):\n",
        "    # print(id(numeros))  # pueden descomentar esto para ver cual es el objeto que recibe la funcion\n",
        "    for i,n in enumerate(numeros):\n",
        "        numeros[i] *= 2\n",
        "    return numeros"
      ],
      "metadata": {
        "id": "xlwb0PHAvexQ"
      },
      "id": "xlwb0PHAvexQ",
      "execution_count": null,
      "outputs": []
    },
    {
      "cell_type": "code",
      "source": [
        "lista_2 = [30, 40, 50]"
      ],
      "metadata": {
        "id": "WYvPqbeJvfj9"
      },
      "id": "WYvPqbeJvfj9",
      "execution_count": null,
      "outputs": []
    },
    {
      "cell_type": "code",
      "source": [
        "id(lista_2)"
      ],
      "metadata": {
        "colab": {
          "base_uri": "https://localhost:8080/"
        },
        "id": "ct71qpKqwPcB",
        "outputId": "dcf4a878-31b3-4ff7-b5fc-24c34637d49d"
      },
      "id": "ct71qpKqwPcB",
      "execution_count": null,
      "outputs": [
        {
          "output_type": "execute_result",
          "data": {
            "text/plain": [
              "140609513323712"
            ]
          },
          "metadata": {},
          "execution_count": 84
        }
      ]
    },
    {
      "cell_type": "code",
      "source": [
        "obtener_dobles(lista_2[:])"
      ],
      "metadata": {
        "colab": {
          "base_uri": "https://localhost:8080/"
        },
        "id": "oIzf7Ym1vtfe",
        "outputId": "6aaf7152-6898-4acc-b6ce-a2c680ba71fb"
      },
      "id": "oIzf7Ym1vtfe",
      "execution_count": null,
      "outputs": [
        {
          "output_type": "execute_result",
          "data": {
            "text/plain": [
              "[60, 80, 100]"
            ]
          },
          "metadata": {},
          "execution_count": 85
        }
      ]
    },
    {
      "cell_type": "code",
      "source": [
        "lista_2"
      ],
      "metadata": {
        "colab": {
          "base_uri": "https://localhost:8080/"
        },
        "id": "8cVoyZV0v2jJ",
        "outputId": "82a0355c-9abb-4bca-c613-96edf237c8e5"
      },
      "id": "8cVoyZV0v2jJ",
      "execution_count": null,
      "outputs": [
        {
          "output_type": "execute_result",
          "data": {
            "text/plain": [
              "[30, 40, 50]"
            ]
          },
          "metadata": {},
          "execution_count": 86
        }
      ]
    },
    {
      "cell_type": "markdown",
      "id": "a5eb3dd6",
      "metadata": {
        "id": "a5eb3dd6"
      },
      "source": [
        "### Funciones Integradas:"
      ]
    },
    {
      "cell_type": "code",
      "execution_count": null,
      "id": "145ffdf0",
      "metadata": {
        "id": "145ffdf0"
      },
      "outputs": [],
      "source": [
        "int(2.5)"
      ]
    },
    {
      "cell_type": "code",
      "execution_count": null,
      "id": "0b606f39",
      "metadata": {
        "id": "0b606f39"
      },
      "outputs": [],
      "source": [
        "int(\"25\")"
      ]
    },
    {
      "cell_type": "code",
      "execution_count": null,
      "id": "85fb25b7",
      "metadata": {
        "id": "85fb25b7"
      },
      "outputs": [],
      "source": [
        "int(\"hola\")"
      ]
    },
    {
      "cell_type": "code",
      "execution_count": null,
      "id": "1b5be13f",
      "metadata": {
        "id": "1b5be13f"
      },
      "outputs": [],
      "source": [
        "x = 5\n",
        "x = float(x)\n",
        "x"
      ]
    },
    {
      "cell_type": "code",
      "execution_count": null,
      "id": "5c376b2c",
      "metadata": {
        "id": "5c376b2c"
      },
      "outputs": [],
      "source": [
        "str(2.5)"
      ]
    },
    {
      "cell_type": "code",
      "execution_count": null,
      "id": "be7dd591",
      "metadata": {
        "id": "be7dd591"
      },
      "outputs": [],
      "source": [
        "round(2.3)"
      ]
    },
    {
      "cell_type": "code",
      "execution_count": null,
      "id": "537807df",
      "metadata": {
        "id": "537807df"
      },
      "outputs": [],
      "source": [
        "round(2.9)"
      ]
    },
    {
      "cell_type": "code",
      "execution_count": null,
      "id": "b124be57",
      "metadata": {
        "id": "b124be57"
      },
      "outputs": [],
      "source": [
        "help()"
      ]
    },
    {
      "cell_type": "markdown",
      "source": [
        "# Funciones recursivas"
      ],
      "metadata": {
        "id": "pKtu1EeKdBR-"
      },
      "id": "pKtu1EeKdBR-"
    },
    {
      "cell_type": "code",
      "source": [
        "def factorial(n):\n",
        "    if n == 1:\n",
        "        return 1\n",
        "    else:\n",
        "        return n*factorial(n - 1)"
      ],
      "metadata": {
        "id": "oNB3b2oQdDgF"
      },
      "id": "oNB3b2oQdDgF",
      "execution_count": null,
      "outputs": []
    },
    {
      "cell_type": "code",
      "source": [
        "factorial(5)"
      ],
      "metadata": {
        "colab": {
          "base_uri": "https://localhost:8080/"
        },
        "id": "i3DXxh_RdL7G",
        "outputId": "e43b2e63-afae-4a3d-a6f6-644ed5a9fe55"
      },
      "id": "i3DXxh_RdL7G",
      "execution_count": null,
      "outputs": [
        {
          "output_type": "execute_result",
          "data": {
            "text/plain": [
              "120"
            ]
          },
          "metadata": {},
          "execution_count": 8
        }
      ]
    }
  ],
  "metadata": {
    "kernelspec": {
      "display_name": "Python 3 (ipykernel)",
      "language": "python",
      "name": "python3"
    },
    "language_info": {
      "codemirror_mode": {
        "name": "ipython",
        "version": 3
      },
      "file_extension": ".py",
      "mimetype": "text/x-python",
      "name": "python",
      "nbconvert_exporter": "python",
      "pygments_lexer": "ipython3",
      "version": "3.9.12"
    },
    "colab": {
      "provenance": [],
      "include_colab_link": true
    }
  },
  "nbformat": 4,
  "nbformat_minor": 5
}