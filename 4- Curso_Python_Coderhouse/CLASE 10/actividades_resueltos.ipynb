{
  "nbformat": 4,
  "nbformat_minor": 0,
  "metadata": {
    "colab": {
      "provenance": [],
      "include_colab_link": true
    },
    "kernelspec": {
      "name": "python3",
      "display_name": "Python 3"
    },
    "language_info": {
      "name": "python"
    }
  },
  "cells": [
    {
      "cell_type": "markdown",
      "metadata": {
        "id": "view-in-github",
        "colab_type": "text"
      },
      "source": [
        "<a href=\"https://colab.research.google.com/github/Malinowsk/Ejercicios-en-Python/blob/main/4-%20Curso_Python_Coderhouse/CLASE%2010/actividades_resueltos.ipynb\" target=\"_parent\"><img src=\"https://colab.research.google.com/assets/colab-badge.svg\" alt=\"Open In Colab\"/></a>"
      ]
    },
    {
      "cell_type": "code",
      "execution_count": null,
      "metadata": {
        "id": "Hg_CGRO633SM"
      },
      "outputs": [],
      "source": [
        "\"\"\"\n",
        "Descripción de la actividad. \n",
        "\n",
        "Realiza una función que, dependiendo de los parámetros que reciba, convierta a milímetros o a metros.  \n",
        "1- Si recibe un argumento, supone que son milímetros y convierte a metros, centímetros y milímetros.\n",
        "2- Si recibe 3 argumentos, supone que son metros, centímetros y milímetros y los convierte a milímetros.\n",
        "\"\"\""
      ]
    },
    {
      "cell_type": "code",
      "source": [
        "def convert_units(*args):\n",
        "    if len(args) == 1:\n",
        "        # Si recibe un argumento, supone que son milímetros y convierte a metros, centímetros y milímetros.\n",
        "        milimetros = args[0]\n",
        "        metros = milimetros / 1000\n",
        "        centimetros = milimetros / 10\n",
        "        return f\"{metros} metros, {centimetros} centímetros, {milimetros} milímetros\"\n",
        "    elif len(args) == 3:\n",
        "        # Si recibe 3 argumentos, supone que son metros, centímetros y milímetros y los convierte a milímetros.\n",
        "        metros = args[0]\n",
        "        centimetros = args[1]\n",
        "        milimetros = args[2]\n",
        "        total_milimetros = (metros * 1000) + (centimetros * 10) + milimetros\n",
        "        return f\"{total_milimetros} milímetros\"\n",
        "    else:\n",
        "        return \"Error: La función debe recibir 1 o 3 argumentos.\""
      ],
      "metadata": {
        "id": "cQic0EmV4Nju"
      },
      "execution_count": null,
      "outputs": []
    }
  ]
}