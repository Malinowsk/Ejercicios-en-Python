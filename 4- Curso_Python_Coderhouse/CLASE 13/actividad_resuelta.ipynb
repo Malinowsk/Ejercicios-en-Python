{
  "nbformat": 4,
  "nbformat_minor": 0,
  "metadata": {
    "colab": {
      "provenance": [],
      "include_colab_link": true
    },
    "kernelspec": {
      "name": "python3",
      "display_name": "Python 3"
    },
    "language_info": {
      "name": "python"
    }
  },
  "cells": [
    {
      "cell_type": "markdown",
      "metadata": {
        "id": "view-in-github",
        "colab_type": "text"
      },
      "source": [
        "<a href=\"https://colab.research.google.com/github/Malinowsk/Ejercicios-en-Python/blob/main/4-%20Curso_Python_Coderhouse/CLASE%2013/actividad_resuelta.ipynb\" target=\"_parent\"><img src=\"https://colab.research.google.com/assets/colab-badge.svg\" alt=\"Open In Colab\"/></a>"
      ]
    },
    {
      "cell_type": "code",
      "execution_count": null,
      "metadata": {
        "id": "ZL-dY4HmqR_N"
      },
      "outputs": [],
      "source": [
        "\"\"\"\n",
        "Actividad 1: Draw IO\n",
        "Consigna: \n",
        "Crear una clase llamada Alumno, que posea como atributos de instancia el nombre y la nota del estudiante.\n",
        "Como métodos propios de la clase, se deberán definir correspondientemente el constructor, el método imprimir y resultado. \n",
        "Aclaración: Tanto los atributos como métodos, son de tipo públicos.\n",
        "Importante: En la siguiente actividad en clase, implementaremos nuestro Diagrama de Clase, directamente en Python. \n",
        "\"\"\""
      ]
    },
    {
      "cell_type": "code",
      "source": [
        "\"\"\"\n",
        "Actividad 2: Implementación en Python\n",
        "Consigna: Implementar la Clase de Alumno, creada en la actividad anterior, directamente en Python. \n",
        "\n",
        "Aclaraciones Generales:\n",
        "+ El método imprimir, deberá mostrar por pantalla el nombre y la nota del estudiante.\n",
        "+ El método resultado, evalúa la nota correspondiente del estudiante.\n",
        "Si el estudiante saca menos de 5 puntos desaprueba la materia, más de 5 puntos aprueba.\n",
        "Tip: Para la realización de este apartado, es necesario trabajar con estructuras condicionales.\n",
        "+ Se deberá instanciar, al menos, dos objetos pertenecientes a la clase Alumno.\n",
        "\"\"\""
      ],
      "metadata": {
        "id": "dPJBjsTzqlEp"
      },
      "execution_count": null,
      "outputs": []
    },
    {
      "cell_type": "code",
      "source": [
        "class Alumno:\n",
        "    academia = \"Coderhouse\"  # Atributo de clase, para practicar\n",
        "\n",
        "    # Este es el constructor\n",
        "    def __init__(self, nombre, nota):\n",
        "        self.nombre = nombre\n",
        "        self.nota = nota\n",
        "\n",
        "    def __str__(self):\n",
        "        return f\"El alumno {self.nombre} ha sacado un {self.nota}\"\n",
        "\n",
        "    def imprimir(self):\n",
        "        return f\"El estudiante {self.nombre} ha sacado {self.nota}\"\n",
        "    \n",
        "    def resultado(self):\n",
        "        if self.nota >= 5:\n",
        "            return \"Aprobado\"\n",
        "        else:\n",
        "            return \"Desaprobado\""
      ],
      "metadata": {
        "id": "TlmtHr9-q6GN"
      },
      "execution_count": null,
      "outputs": []
    },
    {
      "cell_type": "code",
      "source": [
        "matias = Alumno(\"Matias\", 10)\n",
        "leo = Alumno(nombre=\"Leo\", nota=4)"
      ],
      "metadata": {
        "id": "TBIvtgm5r8nK"
      },
      "execution_count": null,
      "outputs": []
    },
    {
      "cell_type": "code",
      "source": [
        "print(matias)"
      ],
      "metadata": {
        "colab": {
          "base_uri": "https://localhost:8080/"
        },
        "id": "bZhaAlgYvGOh",
        "outputId": "253807d4-4d75-4036-843f-ae15e8abf288"
      },
      "execution_count": null,
      "outputs": [
        {
          "output_type": "stream",
          "name": "stdout",
          "text": [
            "El alumno Matias ha sacado un 10\n"
          ]
        }
      ]
    },
    {
      "cell_type": "code",
      "source": [
        "matias.nombre"
      ],
      "metadata": {
        "colab": {
          "base_uri": "https://localhost:8080/",
          "height": 35
        },
        "id": "Cx5i1H9tsK9m",
        "outputId": "18ef1e2f-cdf8-4f04-903d-94178d2d9de7"
      },
      "execution_count": null,
      "outputs": [
        {
          "output_type": "execute_result",
          "data": {
            "text/plain": [
              "'Matias'"
            ],
            "application/vnd.google.colaboratory.intrinsic+json": {
              "type": "string"
            }
          },
          "metadata": {},
          "execution_count": 4
        }
      ]
    },
    {
      "cell_type": "code",
      "source": [
        "matias.nota"
      ],
      "metadata": {
        "colab": {
          "base_uri": "https://localhost:8080/"
        },
        "id": "xzQ8WsrQsN08",
        "outputId": "61106e0a-b9b3-45a8-a26d-37eba73e8703"
      },
      "execution_count": null,
      "outputs": [
        {
          "output_type": "execute_result",
          "data": {
            "text/plain": [
              "10"
            ]
          },
          "metadata": {},
          "execution_count": 5
        }
      ]
    },
    {
      "cell_type": "code",
      "source": [
        "matias.imprimir()"
      ],
      "metadata": {
        "colab": {
          "base_uri": "https://localhost:8080/",
          "height": 35
        },
        "id": "wTqwgkOlsQIw",
        "outputId": "9045cd6b-b903-4f41-c326-1012ffa12cfe"
      },
      "execution_count": null,
      "outputs": [
        {
          "output_type": "execute_result",
          "data": {
            "text/plain": [
              "'El estudiante Matias ha sacado 10'"
            ],
            "application/vnd.google.colaboratory.intrinsic+json": {
              "type": "string"
            }
          },
          "metadata": {},
          "execution_count": 6
        }
      ]
    },
    {
      "cell_type": "code",
      "source": [
        "matias.resultado()"
      ],
      "metadata": {
        "colab": {
          "base_uri": "https://localhost:8080/",
          "height": 35
        },
        "id": "q5gg5gPVsTeU",
        "outputId": "a4468f18-b5c8-4d66-8590-d8ad1a092591"
      },
      "execution_count": null,
      "outputs": [
        {
          "output_type": "execute_result",
          "data": {
            "text/plain": [
              "'Aprobado'"
            ],
            "application/vnd.google.colaboratory.intrinsic+json": {
              "type": "string"
            }
          },
          "metadata": {},
          "execution_count": 7
        }
      ]
    },
    {
      "cell_type": "code",
      "source": [
        "leo.imprimir()"
      ],
      "metadata": {
        "colab": {
          "base_uri": "https://localhost:8080/",
          "height": 35
        },
        "id": "PGlezSw9sWkx",
        "outputId": "36a72719-a1e9-43a0-b917-ee7fd9043d5e"
      },
      "execution_count": null,
      "outputs": [
        {
          "output_type": "execute_result",
          "data": {
            "text/plain": [
              "'El estudiante Leo ha sacado 4'"
            ],
            "application/vnd.google.colaboratory.intrinsic+json": {
              "type": "string"
            }
          },
          "metadata": {},
          "execution_count": 8
        }
      ]
    },
    {
      "cell_type": "code",
      "source": [
        "leo.resultado()"
      ],
      "metadata": {
        "colab": {
          "base_uri": "https://localhost:8080/",
          "height": 35
        },
        "id": "GCQTlu3GsbkC",
        "outputId": "fb68bea7-b90c-4d91-9533-c6f08bcc032a"
      },
      "execution_count": null,
      "outputs": [
        {
          "output_type": "execute_result",
          "data": {
            "text/plain": [
              "'Desaprobado'"
            ],
            "application/vnd.google.colaboratory.intrinsic+json": {
              "type": "string"
            }
          },
          "metadata": {},
          "execution_count": 14
        }
      ]
    },
    {
      "cell_type": "code",
      "source": [
        "leo.resultado"
      ],
      "metadata": {
        "colab": {
          "base_uri": "https://localhost:8080/"
        },
        "id": "9nUsUu_Tv3Fm",
        "outputId": "4fc0324a-a4a1-43f4-fc1e-837dc931c24a"
      },
      "execution_count": null,
      "outputs": [
        {
          "output_type": "execute_result",
          "data": {
            "text/plain": [
              "<bound method Alumno.resultado of <__main__.Alumno object at 0x7f0919f65b80>>"
            ]
          },
          "metadata": {},
          "execution_count": 13
        }
      ]
    }
  ]
}