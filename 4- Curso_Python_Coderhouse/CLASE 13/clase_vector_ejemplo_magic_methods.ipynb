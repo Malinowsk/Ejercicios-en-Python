{
  "nbformat": 4,
  "nbformat_minor": 0,
  "metadata": {
    "colab": {
      "provenance": [],
      "include_colab_link": true
    },
    "kernelspec": {
      "name": "python3",
      "display_name": "Python 3"
    },
    "language_info": {
      "name": "python"
    }
  },
  "cells": [
    {
      "cell_type": "markdown",
      "metadata": {
        "id": "view-in-github",
        "colab_type": "text"
      },
      "source": [
        "<a href=\"https://colab.research.google.com/github/Malinowsk/Ejercicios-en-Python/blob/main/4-%20Curso_Python_Coderhouse/CLASE%2013/clase_vector_ejemplo_magic_methods.ipynb\" target=\"_parent\"><img src=\"https://colab.research.google.com/assets/colab-badge.svg\" alt=\"Open In Colab\"/></a>"
      ]
    },
    {
      "cell_type": "code",
      "execution_count": null,
      "metadata": {
        "id": "AKH5uzQj6FJX"
      },
      "outputs": [],
      "source": [
        "class Vector:\n",
        "    \"\"\"\n",
        "    Clase Vector con caracteristicas similares a una lista.\n",
        "    Contiene lógica y métodos adicionales.\n",
        "    \"\"\"\n",
        "    def __init__(self, data):\n",
        "        self._data = data\n",
        "\n",
        "    def __str__(self) -> str:\n",
        "        # logica modificada que no tiene la lista\n",
        "        return f\"Vector cuyos valores son {self._data}\"\n",
        "\n",
        "    def __len__(self):\n",
        "        return len(self._data)\n",
        "\n",
        "    def __getitem__(self, pos):\n",
        "        return self._data[pos]\n",
        "\n",
        "    def __setitem__(self, pos, value):\n",
        "        self._data[pos] = value\n",
        "\n",
        "    def __iter__(self):\n",
        "        for pos in range(0, len(self._data)):\n",
        "            yield self._data[pos]\n",
        "\n",
        "    # Aqui viene la logica adicional\n",
        "    def calcular_product(self):\n",
        "        print(\"Calculando el producto\")\n",
        "    \n",
        "    def agregar(self, elem):\n",
        "        self._data.append(elem)"
      ]
    },
    {
      "cell_type": "code",
      "source": [
        "vector_1 = Vector([1,2])"
      ],
      "metadata": {
        "id": "DkoGE9jY6OFg"
      },
      "execution_count": null,
      "outputs": []
    },
    {
      "cell_type": "code",
      "source": [
        "vector_1._data"
      ],
      "metadata": {
        "colab": {
          "base_uri": "https://localhost:8080/"
        },
        "id": "QeLAHKTL6WZY",
        "outputId": "034a39cb-4d1a-48b2-a9ee-b7a9505b8f81"
      },
      "execution_count": null,
      "outputs": [
        {
          "output_type": "execute_result",
          "data": {
            "text/plain": [
              "[1, 2]"
            ]
          },
          "metadata": {},
          "execution_count": 3
        }
      ]
    },
    {
      "cell_type": "code",
      "source": [
        "# Python entiende que len() debe llamar al magic method __len__\n",
        "len(vector_1)"
      ],
      "metadata": {
        "colab": {
          "base_uri": "https://localhost:8080/"
        },
        "id": "21QoBbqs6bRg",
        "outputId": "82957b73-c570-4dd2-89df-6304ca7272f1"
      },
      "execution_count": null,
      "outputs": [
        {
          "output_type": "execute_result",
          "data": {
            "text/plain": [
              "2"
            ]
          },
          "metadata": {},
          "execution_count": 5
        }
      ]
    },
    {
      "cell_type": "code",
      "source": [
        "vector_1.__len__()"
      ],
      "metadata": {
        "colab": {
          "base_uri": "https://localhost:8080/"
        },
        "id": "DpeN9bHn6s0y",
        "outputId": "8083b404-ee2a-4078-903f-b4da0505056f"
      },
      "execution_count": null,
      "outputs": [
        {
          "output_type": "execute_result",
          "data": {
            "text/plain": [
              "2"
            ]
          },
          "metadata": {},
          "execution_count": 4
        }
      ]
    },
    {
      "cell_type": "code",
      "source": [
        "print(vector_1)"
      ],
      "metadata": {
        "colab": {
          "base_uri": "https://localhost:8080/"
        },
        "id": "lLEbKmJf65Px",
        "outputId": "bf398114-1e03-4ba2-88fc-24b53928ca7b"
      },
      "execution_count": null,
      "outputs": [
        {
          "output_type": "stream",
          "name": "stdout",
          "text": [
            "Vector cuyos valores son [1, 2]\n"
          ]
        }
      ]
    },
    {
      "cell_type": "code",
      "source": [
        "vector_1.__str__()"
      ],
      "metadata": {
        "colab": {
          "base_uri": "https://localhost:8080/",
          "height": 35
        },
        "id": "hkfRwL9q7Cll",
        "outputId": "9dedc244-9471-46a2-b262-fd5030660f16"
      },
      "execution_count": null,
      "outputs": [
        {
          "output_type": "execute_result",
          "data": {
            "text/plain": [
              "'Vector cuyos valores son [1, 2]'"
            ],
            "application/vnd.google.colaboratory.intrinsic+json": {
              "type": "string"
            }
          },
          "metadata": {},
          "execution_count": 6
        }
      ]
    },
    {
      "cell_type": "code",
      "source": [
        "vector_1.__getitem__(1)"
      ],
      "metadata": {
        "colab": {
          "base_uri": "https://localhost:8080/"
        },
        "id": "r95Nte6W7Hy4",
        "outputId": "836c35ca-e724-4199-a065-65dc4b53ba3e"
      },
      "execution_count": null,
      "outputs": [
        {
          "output_type": "execute_result",
          "data": {
            "text/plain": [
              "2"
            ]
          },
          "metadata": {},
          "execution_count": 8
        }
      ]
    },
    {
      "cell_type": "code",
      "source": [
        "vector_1[1]"
      ],
      "metadata": {
        "colab": {
          "base_uri": "https://localhost:8080/"
        },
        "id": "A7JLYitq7TvR",
        "outputId": "953f955a-04b5-472a-84f7-87122bb80b6d"
      },
      "execution_count": null,
      "outputs": [
        {
          "output_type": "execute_result",
          "data": {
            "text/plain": [
              "2"
            ]
          },
          "metadata": {},
          "execution_count": 9
        }
      ]
    },
    {
      "cell_type": "code",
      "source": [
        "vector_1.__setitem__(1, 10)"
      ],
      "metadata": {
        "id": "sHQuq0qS7hcI"
      },
      "execution_count": null,
      "outputs": []
    },
    {
      "cell_type": "code",
      "source": [
        "print(vector_1)"
      ],
      "metadata": {
        "colab": {
          "base_uri": "https://localhost:8080/"
        },
        "id": "YD7oFjxA7oEp",
        "outputId": "d7f85791-3c81-4c26-8782-cf49ba4f2bf8"
      },
      "execution_count": null,
      "outputs": [
        {
          "output_type": "stream",
          "name": "stdout",
          "text": [
            "Vector cuyos valores son [1, 2, 200]\n"
          ]
        }
      ]
    },
    {
      "cell_type": "code",
      "source": [
        "vector_1.agregar(200)"
      ],
      "metadata": {
        "id": "VU3rmSSjkvuk"
      },
      "execution_count": null,
      "outputs": []
    },
    {
      "cell_type": "code",
      "source": [
        "for elem in vector_1:\n",
        "    print(elem)"
      ],
      "metadata": {
        "colab": {
          "base_uri": "https://localhost:8080/"
        },
        "id": "OukUhEIF8IR7",
        "outputId": "faaf7c56-b43e-4a94-a8bb-a7e53ced11b4"
      },
      "execution_count": null,
      "outputs": [
        {
          "output_type": "stream",
          "name": "stdout",
          "text": [
            "1\n",
            "10\n"
          ]
        }
      ]
    },
    {
      "cell_type": "code",
      "source": [
        "vector_1.calcular_product()"
      ],
      "metadata": {
        "colab": {
          "base_uri": "https://localhost:8080/"
        },
        "id": "mjJfO-6akfKy",
        "outputId": "edd82c4c-2530-4064-80e8-5019168c57d5"
      },
      "execution_count": null,
      "outputs": [
        {
          "output_type": "stream",
          "name": "stdout",
          "text": [
            "Calculando el producto\n"
          ]
        }
      ]
    }
  ]
}