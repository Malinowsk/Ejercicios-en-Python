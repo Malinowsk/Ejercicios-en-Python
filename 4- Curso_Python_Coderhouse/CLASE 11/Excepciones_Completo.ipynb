{
  "cells": [
    {
      "cell_type": "markdown",
      "metadata": {
        "id": "view-in-github",
        "colab_type": "text"
      },
      "source": [
        "<a href=\"https://colab.research.google.com/github/Malinowsk/Ejercicios-en-Python/blob/main/Excepciones_Completo.ipynb\" target=\"_parent\"><img src=\"https://colab.research.google.com/assets/colab-badge.svg\" alt=\"Open In Colab\"/></a>"
      ]
    },
    {
      "cell_type": "markdown",
      "source": [
        "# Funciones recursivas\n",
        "Son funciones que dentro de la definición se llaman así mismas"
      ],
      "metadata": {
        "id": "pVpQiXMqHkI8"
      },
      "id": "pVpQiXMqHkI8"
    },
    {
      "cell_type": "code",
      "source": [
        "# Ejemplo factorial\n",
        "# pregunta reto selección a trabajos\n",
        "\n",
        "# factorial de 5 es igual a 5*4!\n",
        "def factorial(num):\n",
        "    if num == 1:\n",
        "        return 1\n",
        "    else:\n",
        "        return num * factorial(num - 1)"
      ],
      "metadata": {
        "id": "P10N9np5HvTF"
      },
      "id": "P10N9np5HvTF",
      "execution_count": null,
      "outputs": []
    },
    {
      "cell_type": "code",
      "source": [
        "factorial(5)"
      ],
      "metadata": {
        "colab": {
          "base_uri": "https://localhost:8080/"
        },
        "id": "1BLp4TpnLhZK",
        "outputId": "971245e1-b08c-42d2-8889-36299f0c7fe4"
      },
      "id": "1BLp4TpnLhZK",
      "execution_count": null,
      "outputs": [
        {
          "output_type": "execute_result",
          "data": {
            "text/plain": [
              "120"
            ]
          },
          "metadata": {},
          "execution_count": 2
        }
      ]
    },
    {
      "cell_type": "code",
      "source": [
        "factorial(1)"
      ],
      "metadata": {
        "colab": {
          "base_uri": "https://localhost:8080/"
        },
        "id": "jyNf5v9jLsgE",
        "outputId": "7dbdd448-2c19-4147-91d7-2b8d3f222851"
      },
      "id": "jyNf5v9jLsgE",
      "execution_count": null,
      "outputs": [
        {
          "output_type": "execute_result",
          "data": {
            "text/plain": [
              "1"
            ]
          },
          "metadata": {},
          "execution_count": 3
        }
      ]
    },
    {
      "cell_type": "code",
      "source": [
        "5*factorial(4)"
      ],
      "metadata": {
        "colab": {
          "base_uri": "https://localhost:8080/"
        },
        "id": "znjwLLNwLwtf",
        "outputId": "05acac9c-0821-4436-abcd-204fd17edb87"
      },
      "id": "znjwLLNwLwtf",
      "execution_count": null,
      "outputs": [
        {
          "output_type": "execute_result",
          "data": {
            "text/plain": [
              "120"
            ]
          },
          "metadata": {},
          "execution_count": 4
        }
      ]
    },
    {
      "cell_type": "code",
      "source": [
        "import time\n",
        "\n",
        "def cuenta_regresiva(n):\n",
        "    # time.sleep(10)\n",
        "    print(f\"Funcion llamada con argumento {n}\")\n",
        "    if n == 0:\n",
        "        print(\"¡Despegue!\")\n",
        "    else:\n",
        "        print(f\"inicio del bloque else: argumento {n}\")\n",
        "        cuenta_regresiva(n - 1)\n",
        "        print(f\"fin del bloque else: argumento {n}\")"
      ],
      "metadata": {
        "id": "_tONueL-H3KJ"
      },
      "id": "_tONueL-H3KJ",
      "execution_count": null,
      "outputs": []
    },
    {
      "cell_type": "code",
      "source": [
        "cuenta_regresiva(5)"
      ],
      "metadata": {
        "id": "CHqx7PVpIYoD",
        "colab": {
          "base_uri": "https://localhost:8080/"
        },
        "outputId": "08784ead-23a8-4384-c343-7551eebcb341"
      },
      "id": "CHqx7PVpIYoD",
      "execution_count": null,
      "outputs": [
        {
          "output_type": "stream",
          "name": "stdout",
          "text": [
            "Funcion llamada con argumento 5\n",
            "inicio del bloque else: argumento 5\n",
            "Funcion llamada con argumento 4\n",
            "inicio del bloque else: argumento 4\n",
            "Funcion llamada con argumento 3\n",
            "inicio del bloque else: argumento 3\n",
            "Funcion llamada con argumento 2\n",
            "inicio del bloque else: argumento 2\n",
            "Funcion llamada con argumento 1\n",
            "inicio del bloque else: argumento 1\n",
            "Funcion llamada con argumento 0\n",
            "¡Despegue!\n",
            "fin del bloque else: argumento 1\n",
            "fin del bloque else: argumento 2\n",
            "fin del bloque else: argumento 3\n",
            "fin del bloque else: argumento 4\n",
            "fin del bloque else: argumento 5\n"
          ]
        }
      ]
    },
    {
      "cell_type": "code",
      "source": [
        "\"\"\"\n",
        "Explicacion gráfica, muestra los momentos en que están abiertas las llamadas:\n",
        "5 está abierto todo el tiempo, solo cuando se cierra la llamada con 0 es que se\n",
        "empiezan a cerrar las demás\n",
        "\n",
        "A. 5\n",
        "B. 5 4\n",
        "C. 5 4 3\n",
        "D. 5 4 3 2 \n",
        "E. 5 4 3 2 1\n",
        "F. 5 4 3 2 1 0\n",
        "G. 5 4 3 2 1\n",
        "H. 5 4 3 2\n",
        "I. 5 4 3\n",
        "J. 5 4\n",
        "K. 5\n",
        "\"\"\""
      ],
      "metadata": {
        "id": "sMvNYsUEIocC"
      },
      "id": "sMvNYsUEIocC",
      "execution_count": null,
      "outputs": []
    },
    {
      "cell_type": "markdown",
      "source": [
        "# Errores sintácticos"
      ],
      "metadata": {
        "id": "M01veh5jLS1K"
      },
      "id": "M01veh5jLS1K"
    },
    {
      "cell_type": "code",
      "source": [
        "\"\"\"\n",
        "Errores por no seguir el lenguaje que entiende Python\n",
        "Usualmente, son detectados por el editor de código\n",
        "\"\"\"\n",
        "# nombre\n",
        "# no cerrar parentesis\n",
        "# no colocar dos puntos\n",
        "# mala indentación\n",
        "# llamar metodos que no tiene una clase"
      ],
      "metadata": {
        "id": "Tv4H6oo9LZVC"
      },
      "id": "Tv4H6oo9LZVC",
      "execution_count": null,
      "outputs": []
    },
    {
      "cell_type": "code",
      "source": [
        "print(variable_nueva)"
      ],
      "metadata": {
        "id": "R1qeKLTBPJjW",
        "colab": {
          "base_uri": "https://localhost:8080/",
          "height": 166
        },
        "outputId": "adde77c4-b296-45ed-fa0e-9ba7af247620"
      },
      "id": "R1qeKLTBPJjW",
      "execution_count": null,
      "outputs": [
        {
          "output_type": "error",
          "ename": "NameError",
          "evalue": "ignored",
          "traceback": [
            "\u001b[0;31m---------------------------------------------------------------------------\u001b[0m",
            "\u001b[0;31mNameError\u001b[0m                                 Traceback (most recent call last)",
            "\u001b[0;32m<ipython-input-12-51a1adfc3d8e>\u001b[0m in \u001b[0;36m<cell line: 1>\u001b[0;34m()\u001b[0m\n\u001b[0;32m----> 1\u001b[0;31m \u001b[0mprint\u001b[0m\u001b[0;34m(\u001b[0m\u001b[0mvariable_nueva\u001b[0m\u001b[0;34m)\u001b[0m\u001b[0;34m\u001b[0m\u001b[0;34m\u001b[0m\u001b[0m\n\u001b[0m",
            "\u001b[0;31mNameError\u001b[0m: name 'variable_nueva' is not defined"
          ]
        }
      ]
    },
    {
      "cell_type": "code",
      "source": [
        "6 + (2 + 3"
      ],
      "metadata": {
        "colab": {
          "base_uri": "https://localhost:8080/",
          "height": 131
        },
        "id": "Z4t_KdcEO9Yh",
        "outputId": "b548fc40-ea4d-419a-da2c-a5b003687e60"
      },
      "id": "Z4t_KdcEO9Yh",
      "execution_count": null,
      "outputs": [
        {
          "output_type": "error",
          "ename": "SyntaxError",
          "evalue": "ignored",
          "traceback": [
            "\u001b[0;36m  File \u001b[0;32m\"<ipython-input-13-e5342586754e>\"\u001b[0;36m, line \u001b[0;32m1\u001b[0m\n\u001b[0;31m    6 + (2 + 3\u001b[0m\n\u001b[0m              ^\u001b[0m\n\u001b[0;31mSyntaxError\u001b[0m\u001b[0;31m:\u001b[0m unexpected EOF while parsing\n"
          ]
        }
      ]
    },
    {
      "cell_type": "code",
      "source": [
        "num = 100\n",
        "\n",
        "if num > 10:\n",
        "    print(num)\n",
        "   print(\"hola\")"
      ],
      "metadata": {
        "colab": {
          "base_uri": "https://localhost:8080/",
          "height": 131
        },
        "id": "er4CIyLHPHgP",
        "outputId": "3ce5cad7-8b8a-40a6-bd0f-4d3d7aa40686"
      },
      "id": "er4CIyLHPHgP",
      "execution_count": null,
      "outputs": [
        {
          "output_type": "error",
          "ename": "IndentationError",
          "evalue": "ignored",
          "traceback": [
            "\u001b[0;36m  File \u001b[0;32m\"<tokenize>\"\u001b[0;36m, line \u001b[0;32m5\u001b[0m\n\u001b[0;31m    print(\"hola\")\u001b[0m\n\u001b[0m    ^\u001b[0m\n\u001b[0;31mIndentationError\u001b[0m\u001b[0;31m:\u001b[0m unindent does not match any outer indentation level\n"
          ]
        }
      ]
    },
    {
      "cell_type": "code",
      "source": [
        "lista = [2, 3, 4]"
      ],
      "metadata": {
        "id": "RNhGQY8UPbnk"
      },
      "id": "RNhGQY8UPbnk",
      "execution_count": null,
      "outputs": []
    },
    {
      "cell_type": "code",
      "source": [
        "# llamar metodos que no tiene una clase\n",
        "lista.add(20)"
      ],
      "metadata": {
        "colab": {
          "base_uri": "https://localhost:8080/",
          "height": 183
        },
        "id": "h15EeeKFPeTU",
        "outputId": "7501f285-c284-408c-d0e6-015e291012f8"
      },
      "id": "h15EeeKFPeTU",
      "execution_count": null,
      "outputs": [
        {
          "output_type": "error",
          "ename": "AttributeError",
          "evalue": "ignored",
          "traceback": [
            "\u001b[0;31m---------------------------------------------------------------------------\u001b[0m",
            "\u001b[0;31mAttributeError\u001b[0m                            Traceback (most recent call last)",
            "\u001b[0;32m<ipython-input-19-8e1979b66f84>\u001b[0m in \u001b[0;36m<cell line: 2>\u001b[0;34m()\u001b[0m\n\u001b[1;32m      1\u001b[0m \u001b[0;31m# llamar metodos que no tiene una clase\u001b[0m\u001b[0;34m\u001b[0m\u001b[0;34m\u001b[0m\u001b[0m\n\u001b[0;32m----> 2\u001b[0;31m \u001b[0mlista\u001b[0m\u001b[0;34m.\u001b[0m\u001b[0madd\u001b[0m\u001b[0;34m(\u001b[0m\u001b[0;36m20\u001b[0m\u001b[0;34m)\u001b[0m\u001b[0;34m\u001b[0m\u001b[0;34m\u001b[0m\u001b[0m\n\u001b[0m",
            "\u001b[0;31mAttributeError\u001b[0m: 'list' object has no attribute 'add'"
          ]
        }
      ]
    },
    {
      "cell_type": "markdown",
      "id": "f424e837",
      "metadata": {
        "id": "f424e837"
      },
      "source": [
        "# Excepciones"
      ]
    },
    {
      "cell_type": "markdown",
      "id": "88b349f8",
      "metadata": {
        "id": "88b349f8"
      },
      "source": [
        "Las excepciones son errores operacionales que ocurren durante la ejecución de mi código.\n",
        "Ocurren para ciertos argumentos en ciertas ocasiones"
      ]
    },
    {
      "cell_type": "code",
      "source": [
        "20/4"
      ],
      "metadata": {
        "colab": {
          "base_uri": "https://localhost:8080/"
        },
        "id": "l6Ui8qARQG2R",
        "outputId": "4a15ed92-d72a-4e36-e83a-fc179dbcfbae"
      },
      "id": "l6Ui8qARQG2R",
      "execution_count": null,
      "outputs": [
        {
          "output_type": "execute_result",
          "data": {
            "text/plain": [
              "5.0"
            ]
          },
          "metadata": {},
          "execution_count": 20
        }
      ]
    },
    {
      "cell_type": "code",
      "source": [
        "# DivisionByZero\n",
        "10/0"
      ],
      "metadata": {
        "id": "-EtcP2j2PFHP",
        "colab": {
          "base_uri": "https://localhost:8080/",
          "height": 183
        },
        "outputId": "a7f9be66-4ab6-4af2-8654-26f2ba610603"
      },
      "id": "-EtcP2j2PFHP",
      "execution_count": null,
      "outputs": [
        {
          "output_type": "error",
          "ename": "ZeroDivisionError",
          "evalue": "ignored",
          "traceback": [
            "\u001b[0;31m---------------------------------------------------------------------------\u001b[0m",
            "\u001b[0;31mZeroDivisionError\u001b[0m                         Traceback (most recent call last)",
            "\u001b[0;32m<ipython-input-21-117c486e33e5>\u001b[0m in \u001b[0;36m<cell line: 2>\u001b[0;34m()\u001b[0m\n\u001b[1;32m      1\u001b[0m \u001b[0;31m# DivisionByZero\u001b[0m\u001b[0;34m\u001b[0m\u001b[0;34m\u001b[0m\u001b[0m\n\u001b[0;32m----> 2\u001b[0;31m \u001b[0;36m10\u001b[0m\u001b[0;34m/\u001b[0m\u001b[0;36m0\u001b[0m\u001b[0;34m\u001b[0m\u001b[0;34m\u001b[0m\u001b[0m\n\u001b[0m",
            "\u001b[0;31mZeroDivisionError\u001b[0m: division by zero"
          ]
        }
      ]
    },
    {
      "cell_type": "code",
      "source": [
        "int(\"30\")"
      ],
      "metadata": {
        "colab": {
          "base_uri": "https://localhost:8080/"
        },
        "id": "xMFAU6RLQdq9",
        "outputId": "a6cadc5a-daa6-429e-bc05-aeb900da4125"
      },
      "id": "xMFAU6RLQdq9",
      "execution_count": null,
      "outputs": [
        {
          "output_type": "execute_result",
          "data": {
            "text/plain": [
              "30"
            ]
          },
          "metadata": {},
          "execution_count": 22
        }
      ]
    },
    {
      "cell_type": "code",
      "source": [
        "# ValueError\n",
        "int(\"hola\")"
      ],
      "metadata": {
        "id": "uOiNImijVLFx",
        "colab": {
          "base_uri": "https://localhost:8080/",
          "height": 183
        },
        "outputId": "2f48c2c7-027a-4664-f690-e802c145a720"
      },
      "id": "uOiNImijVLFx",
      "execution_count": null,
      "outputs": [
        {
          "output_type": "error",
          "ename": "ValueError",
          "evalue": "ignored",
          "traceback": [
            "\u001b[0;31m---------------------------------------------------------------------------\u001b[0m",
            "\u001b[0;31mValueError\u001b[0m                                Traceback (most recent call last)",
            "\u001b[0;32m<ipython-input-23-a33e099125d9>\u001b[0m in \u001b[0;36m<cell line: 2>\u001b[0;34m()\u001b[0m\n\u001b[1;32m      1\u001b[0m \u001b[0;31m# ValueError\u001b[0m\u001b[0;34m\u001b[0m\u001b[0;34m\u001b[0m\u001b[0m\n\u001b[0;32m----> 2\u001b[0;31m \u001b[0mint\u001b[0m\u001b[0;34m(\u001b[0m\u001b[0;34m\"hola\"\u001b[0m\u001b[0;34m)\u001b[0m\u001b[0;34m\u001b[0m\u001b[0;34m\u001b[0m\u001b[0m\n\u001b[0m",
            "\u001b[0;31mValueError\u001b[0m: invalid literal for int() with base 10: 'hola'"
          ]
        }
      ]
    },
    {
      "cell_type": "code",
      "source": [
        "# index out of range\n",
        "lista = [10, 20, 30, 40]"
      ],
      "metadata": {
        "id": "mny3k1ulVUL3"
      },
      "id": "mny3k1ulVUL3",
      "execution_count": null,
      "outputs": []
    },
    {
      "cell_type": "code",
      "source": [
        "lista[6]"
      ],
      "metadata": {
        "colab": {
          "base_uri": "https://localhost:8080/",
          "height": 166
        },
        "id": "pE6e_rrEQsAU",
        "outputId": "1050425e-2fa6-497b-e1de-edbceec07135"
      },
      "id": "pE6e_rrEQsAU",
      "execution_count": null,
      "outputs": [
        {
          "output_type": "error",
          "ename": "IndexError",
          "evalue": "ignored",
          "traceback": [
            "\u001b[0;31m---------------------------------------------------------------------------\u001b[0m",
            "\u001b[0;31mIndexError\u001b[0m                                Traceback (most recent call last)",
            "\u001b[0;32m<ipython-input-25-f715f6e228b7>\u001b[0m in \u001b[0;36m<cell line: 1>\u001b[0;34m()\u001b[0m\n\u001b[0;32m----> 1\u001b[0;31m \u001b[0mlista\u001b[0m\u001b[0;34m[\u001b[0m\u001b[0;36m6\u001b[0m\u001b[0;34m]\u001b[0m\u001b[0;34m\u001b[0m\u001b[0;34m\u001b[0m\u001b[0m\n\u001b[0m",
            "\u001b[0;31mIndexError\u001b[0m: list index out of range"
          ]
        }
      ]
    },
    {
      "cell_type": "markdown",
      "source": [
        "# Bloques try-except\n",
        "Los bloques try-except nos permiten poder continuar con la ejecución de un programa aunque ocurra un error.\n",
        "\n",
        "Para prevenir el posible fallo debemos poner el código que puede fallar dentro de un bloque try y luego encadenar otro bloque except para tratar la situación excepcional y procesarla."
      ],
      "metadata": {
        "id": "tJKMfoaNPWO_"
      },
      "id": "tJKMfoaNPWO_"
    },
    {
      "cell_type": "code",
      "execution_count": null,
      "id": "61b6fbeb",
      "metadata": {
        "id": "61b6fbeb",
        "colab": {
          "base_uri": "https://localhost:8080/"
        },
        "outputId": "acc83e9a-39da-4159-9477-8acf09e46f0b"
      },
      "outputs": [
        {
          "output_type": "stream",
          "name": "stdout",
          "text": [
            "17\n",
            "Ejecución exitosa\n"
          ]
        }
      ],
      "source": [
        "#Ejemplo sin error\n",
        "a = 7\n",
        "b = 10\n",
        "\n",
        "try:\n",
        "   print(a + b)\n",
        "except:\n",
        "   print(\"Ha ocurrido un error al sumar.\")\n",
        "\n",
        "print(\"Ejecución exitosa\")"
      ]
    },
    {
      "cell_type": "code",
      "source": [
        "5 + \"hola\""
      ],
      "metadata": {
        "id": "qs25PY6dR6o5"
      },
      "id": "qs25PY6dR6o5",
      "execution_count": null,
      "outputs": []
    },
    {
      "cell_type": "code",
      "execution_count": null,
      "id": "b9320d60",
      "metadata": {
        "id": "b9320d60",
        "colab": {
          "base_uri": "https://localhost:8080/"
        },
        "outputId": "55531b66-af6f-463d-d685-3b3c27563524"
      },
      "outputs": [
        {
          "output_type": "stream",
          "name": "stdout",
          "text": [
            "Ha ocurrido un error al sumar.\n",
            "Termino la ejecucion\n"
          ]
        }
      ],
      "source": [
        "#Ejemplo con error\n",
        "a = 7\n",
        "b = \"texto\"\n",
        "\n",
        "try:\n",
        "   print(a + b)\n",
        "except:\n",
        "   print(\"Ha ocurrido un error al sumar.\")\n",
        "\n",
        "print(\"Termino la ejecucion\")"
      ]
    },
    {
      "cell_type": "markdown",
      "id": "f705ad12",
      "metadata": {
        "id": "f705ad12"
      },
      "source": [
        "La sentencia try funciona de la siguiente manera:\n",
        "\n",
        "* Se ejecuta el bloque try (el código entre las sentencias try y except).\n",
        "\n",
        "* Si no ocurre ninguna excepción, el bloque except se saltea y termina la ejecución de la sentencia try.\n",
        "\n",
        "Como vemos esta forma nos permite controlar situaciones excepcionales que generalmente darían error y en su lugar mostrar un mensaje o ejecutar una pieza de código alternativo."
      ]
    },
    {
      "cell_type": "markdown",
      "source": [
        "## Ejemplos de uso"
      ],
      "metadata": {
        "id": "H6lwfsioQo9s"
      },
      "id": "H6lwfsioQo9s"
    },
    {
      "cell_type": "markdown",
      "source": [
        "Podemos aprovechar las excepciones para, por ejemplo, forzar al usuario a introducir dos números haciendo uso de un bucle while, repitiendo la lectura por teclado hasta que lo haga bien y entonces romper el bucle con un break:"
      ],
      "metadata": {
        "id": "SNJn4ei3PyjI"
      },
      "id": "SNJn4ei3PyjI"
    },
    {
      "cell_type": "code",
      "execution_count": null,
      "id": "0697566d",
      "metadata": {
        "id": "0697566d",
        "colab": {
          "base_uri": "https://localhost:8080/"
        },
        "outputId": "05cd931d-10ab-44c1-eacf-4504be318349"
      },
      "outputs": [
        {
          "output_type": "stream",
          "name": "stdout",
          "text": [
            "Introduce un número: 10\n",
            "Introduce otro número: veinte\n",
            "Ha ocurrido un error. Tienes que introducir 2 números.\n",
            "Introduce un número: 20\n",
            "Introduce otro número: 10\n",
            "La suma es 30.0\n"
          ]
        }
      ],
      "source": [
        "while True:\n",
        "   try:  \n",
        "      a = float(input(\"Introduce un número: \"))\n",
        "      b = float(input(\"Introduce otro número: \"))\n",
        "      suma = a + b\n",
        "      break\n",
        "   except:\n",
        "      print(\"Ha ocurrido un error. Tienes que introducir 2 números.\")\n",
        "\n",
        "print(f\"La suma es {suma}\")"
      ]
    },
    {
      "cell_type": "markdown",
      "id": "86bdd59e",
      "metadata": {
        "id": "86bdd59e"
      },
      "source": [
        "Entonces en definitiva.... \n",
        "\n",
        "**Try - Except nos permite controlar situaciones excepcionales que generalmente darían error y en su lugar permite mostrar un mensaje o ejecutar una pieza de código alternativo.**\n"
      ]
    },
    {
      "cell_type": "code",
      "source": [
        "# Ejemplo 2\n",
        "\"\"\"\n",
        "Juan tiene 6 años y quiere un cumpleaños en un parque.\n",
        "Debe invitar exactamente a 3 amig@s. Cada invitado debe tener nombre y edad en numeros\n",
        "\"\"\"\n",
        "lista_invitados = []"
      ],
      "metadata": {
        "id": "cNE9lCTzRtWn"
      },
      "id": "cNE9lCTzRtWn",
      "execution_count": null,
      "outputs": []
    },
    {
      "cell_type": "code",
      "source": [
        "for i in range(3):\n",
        "    try:   \n",
        "        nombre = input(\"Nombre del invitado: \")\n",
        "        edad = int(input(\"Edad del invitado: \"))\n",
        "        invitado_diccionario = {\"edad\": edad, \"nombre\": nombre}\n",
        "        lista_invitados.append(invitado_diccionario)\n",
        "    except:\n",
        "        print(\"Ha ocurrido un error. La edad debe ser un número entero.\")\n",
        "        # Debemos limpiar la lista para empezar con lista vacia el for\n",
        "        lista_invitados = []\n",
        "        break"
      ],
      "metadata": {
        "id": "lmTohTaXV-NV"
      },
      "id": "lmTohTaXV-NV",
      "execution_count": null,
      "outputs": []
    },
    {
      "cell_type": "markdown",
      "id": "523d3f18",
      "metadata": {
        "id": "523d3f18"
      },
      "source": [
        "# Bloque try, except, else\n",
        "\n",
        "Es posible encadenar un bloque else después del except para comprobar el caso en que todo funcione correctamente (no se ejecuta la excepción). El bloque else es un buen momento para romper la iteración con break si todo funciona correctamente:"
      ]
    },
    {
      "cell_type": "code",
      "execution_count": null,
      "id": "80cb9f50",
      "metadata": {
        "id": "80cb9f50",
        "colab": {
          "base_uri": "https://localhost:8080/"
        },
        "outputId": "66d5231c-2379-4ae7-b4ed-73950ed4e4d6"
      },
      "outputs": [
        {
          "output_type": "stream",
          "name": "stdout",
          "text": [
            "Introduce un número: 20\n",
            "Introduce otro número: cinco\n",
            "Ha ocurrido un error. Tienes que introducir 2 números.\n",
            "Introduce un número: 20\n",
            "Introduce otro número: 5\n",
            "La suma se ha realizado correctamente.\n",
            "La suma es 25.0\n"
          ]
        }
      ],
      "source": [
        "while True:\n",
        "    try:  \n",
        "        a = float(input(\"Introduce un número: \"))\n",
        "        b = float(input(\"Introduce otro número: \"))\n",
        "        suma = a + b\n",
        "    except:\n",
        "        print(\"Ha ocurrido un error. Tienes que introducir 2 números.\")\n",
        "    else:\n",
        "        # Se ejecuta si el bloque try no arrojo errores\n",
        "        print(\"La suma se ha realizado correctamente.\")\n",
        "        print(f\"La suma es {suma}\")\n",
        "        break  # Importante romper la iteración si todo ha ido bien."
      ]
    },
    {
      "cell_type": "markdown",
      "id": "a6d92947",
      "metadata": {
        "id": "a6d92947"
      },
      "source": [
        "# Bloque try, except, else, finally\n",
        "\n",
        "Por último es posible utilizar un bloque finally que se ejecute al final del código, ocurra o no ocurra un error:"
      ]
    },
    {
      "cell_type": "code",
      "execution_count": null,
      "id": "71e613e9",
      "metadata": {
        "id": "71e613e9",
        "colab": {
          "base_uri": "https://localhost:8080/"
        },
        "outputId": "0b9a639b-44c0-4735-da6d-21a28cf95129"
      },
      "outputs": [
        {
          "output_type": "stream",
          "name": "stdout",
          "text": [
            "Introduce un número: 10\n",
            "Introduce otro número: cinco\n",
            "Ha ocurrido un error. Tienes que introducir 2 números.\n",
            "Finally, para limpieza\n",
            "Introduce un número: 10\n",
            "Introduce otro número: 5\n",
            "La suma se ha realizado correctamente.\n",
            "La suma es 15.0\n",
            "Finally, para limpieza\n"
          ]
        }
      ],
      "source": [
        "# Ejemplo 1\n",
        "\n",
        "while True:\n",
        "    try:   \n",
        "        a = float(input(\"Introduce un número: \"))\n",
        "        b = float(input(\"Introduce otro número: \"))\n",
        "        suma = a + b\n",
        "    except:\n",
        "        print(\"Ha ocurrido un error. Tienes que introducir 2 números.\")\n",
        "    else:\n",
        "        # Se ejecuta si el bloque try no arrojo errores\n",
        "        print(\"La suma se ha realizado correctamente.\")\n",
        "        print(f\"La suma es {suma}\")\n",
        "        break   # Importante romper la iteración si todo ha ido bien.\n",
        "    finally:\n",
        "        # Esto se ejecuta siempre. incluse despúes del break\n",
        "        print(\"Finally, para limpieza\")"
      ]
    },
    {
      "cell_type": "markdown",
      "source": [
        "## Ejemplos vida real en pygsheets"
      ],
      "metadata": {
        "id": "Fcr5XcPCtaCu"
      },
      "id": "Fcr5XcPCtaCu"
    },
    {
      "cell_type": "markdown",
      "id": "90249ad9",
      "metadata": {
        "id": "90249ad9"
      },
      "source": [
        "# Capturar excepciones por tipo\n",
        "# Excepciones multiples\n",
        "\n",
        "En un mismo fragmento de código pueden ocurrir muchos errores diferentes y quizá nos interese actuar de forma diferente en cada caso. Para esas situaciones algo que podemos hacer es asignar una excepción a una variable. De esta forma es posible analizar el tipo de error que sucede gracias a su identificador.\n",
        "\n",
        "Imaginemos un ejemplo en el que queremos dividir 20 entre un número que el usuario introduce por teclado (20 / numero). Pueden ocurrir varios tipos de errores: que el usuario introduzca una cadena, que introduzca un cero... Vamos a asignar la excepción a una variable y así veremos el tipo de error que se produce."
      ]
    },
    {
      "cell_type": "code",
      "source": [
        "def ejemplo_division():\n",
        "    constante = 5\n",
        "    try:\n",
        "        num = float(input(\"Introduce un número divisor: \"))\n",
        "        print(constante/num)\n",
        "    except ValueError as e:\n",
        "        print(\"No se puede dividir el número entre una cadena vacia o un texto\")\n",
        "    except ZeroDivisionError as e:\n",
        "        print(\"No se puede dividir por cero, prueba otro número\")\n",
        "    except Exception as e:\n",
        "        # Nos sirve para capturar errores no previstos\n",
        "        # Comodin\n",
        "        print(\"Ha ocurrido un error no previsto\", type(e).__name__ )\n"
      ],
      "metadata": {
        "id": "uY5MFe_JHdIu"
      },
      "id": "uY5MFe_JHdIu",
      "execution_count": null,
      "outputs": []
    },
    {
      "cell_type": "code",
      "execution_count": null,
      "id": "730288fd",
      "metadata": {
        "id": "730288fd",
        "colab": {
          "base_uri": "https://localhost:8080/"
        },
        "outputId": "ef659083-edcb-4865-9abd-7820d8789997"
      },
      "outputs": [
        {
          "output_type": "stream",
          "name": "stdout",
          "text": [
            "Introduce un número divisor: 0\n",
            "Ha ocurrido un error no previsto ZeroDivisionError\n"
          ]
        }
      ],
      "source": [
        "ejemplo_division()"
      ]
    },
    {
      "cell_type": "markdown",
      "source": [
        "# Forzar error con raise\n",
        "\n",
        "A veces necesitas forzar el error para parar la ejecución del código. Sirve cuando: parar ejecución, código aguas arriba maneje la excepción, y software de monitoreo de errores"
      ],
      "metadata": {
        "id": "Lk50Lg2bZ0lv"
      },
      "id": "Lk50Lg2bZ0lv"
    },
    {
      "cell_type": "code",
      "source": [
        "def ejemplo_division_2():\n",
        "    constante = 5\n",
        "    try:\n",
        "        num = float(input(\"Introduce un número divisor: \"))\n",
        "        return constante/num\n",
        "    except ValueError as e:\n",
        "        print(\"No se puede dividir el número entre una cadena\")\n",
        "        raise\n",
        "    except ZeroDivisionError as e:\n",
        "        print(\"No se puede dividir por cero, prueba otro número\")\n",
        "        raise\n",
        "    except Exception as e:\n",
        "        # Nos sirve para capturar errores no previstos\n",
        "        print(\"Ha ocurrido un error no previsto\", type(e).__name__ )\n",
        "        raise"
      ],
      "metadata": {
        "id": "5WkpI5RUZ3kc"
      },
      "id": "5WkpI5RUZ3kc",
      "execution_count": null,
      "outputs": []
    },
    {
      "cell_type": "code",
      "source": [
        "ejemplo_division_2()"
      ],
      "metadata": {
        "colab": {
          "base_uri": "https://localhost:8080/",
          "height": 322
        },
        "id": "_-ZNi9irYapl",
        "outputId": "e82a5295-49d4-4751-89d7-0bfbcfc48e50"
      },
      "id": "_-ZNi9irYapl",
      "execution_count": null,
      "outputs": [
        {
          "output_type": "stream",
          "name": "stdout",
          "text": [
            "Introduce un número divisor: \n",
            "No se puede dividir el número entre una cadena\n"
          ]
        },
        {
          "output_type": "error",
          "ename": "ValueError",
          "evalue": "ignored",
          "traceback": [
            "\u001b[0;31m---------------------------------------------------------------------------\u001b[0m",
            "\u001b[0;31mValueError\u001b[0m                                Traceback (most recent call last)",
            "\u001b[0;32m<ipython-input-51-3d8251cd35e4>\u001b[0m in \u001b[0;36m<cell line: 1>\u001b[0;34m()\u001b[0m\n\u001b[0;32m----> 1\u001b[0;31m \u001b[0mejemplo_division_2\u001b[0m\u001b[0;34m(\u001b[0m\u001b[0;34m)\u001b[0m\u001b[0;34m\u001b[0m\u001b[0;34m\u001b[0m\u001b[0m\n\u001b[0m",
            "\u001b[0;32m<ipython-input-49-386d37b6e384>\u001b[0m in \u001b[0;36mejemplo_division_2\u001b[0;34m()\u001b[0m\n\u001b[1;32m      2\u001b[0m     \u001b[0mconstante\u001b[0m \u001b[0;34m=\u001b[0m \u001b[0;36m5\u001b[0m\u001b[0;34m\u001b[0m\u001b[0;34m\u001b[0m\u001b[0m\n\u001b[1;32m      3\u001b[0m     \u001b[0;32mtry\u001b[0m\u001b[0;34m:\u001b[0m\u001b[0;34m\u001b[0m\u001b[0;34m\u001b[0m\u001b[0m\n\u001b[0;32m----> 4\u001b[0;31m         \u001b[0mnum\u001b[0m \u001b[0;34m=\u001b[0m \u001b[0mfloat\u001b[0m\u001b[0;34m(\u001b[0m\u001b[0minput\u001b[0m\u001b[0;34m(\u001b[0m\u001b[0;34m\"Introduce un número divisor: \"\u001b[0m\u001b[0;34m)\u001b[0m\u001b[0;34m)\u001b[0m\u001b[0;34m\u001b[0m\u001b[0;34m\u001b[0m\u001b[0m\n\u001b[0m\u001b[1;32m      5\u001b[0m         \u001b[0;32mreturn\u001b[0m \u001b[0mconstante\u001b[0m\u001b[0;34m/\u001b[0m\u001b[0mnum\u001b[0m\u001b[0;34m\u001b[0m\u001b[0;34m\u001b[0m\u001b[0m\n\u001b[1;32m      6\u001b[0m     \u001b[0;32mexcept\u001b[0m \u001b[0mValueError\u001b[0m \u001b[0;32mas\u001b[0m \u001b[0me\u001b[0m\u001b[0;34m:\u001b[0m\u001b[0;34m\u001b[0m\u001b[0;34m\u001b[0m\u001b[0m\n",
            "\u001b[0;31mValueError\u001b[0m: could not convert string to float: ''"
          ]
        }
      ]
    },
    {
      "cell_type": "markdown",
      "source": [
        "# Crear tus propios errores"
      ],
      "metadata": {
        "id": "8Ak8CZfxYZwd"
      },
      "id": "8Ak8CZfxYZwd"
    },
    {
      "cell_type": "code",
      "source": [
        "# Ejemplo vida real: Pygsheets"
      ],
      "metadata": {
        "id": "uo-pKSYesipn"
      },
      "id": "uo-pKSYesipn",
      "execution_count": null,
      "outputs": []
    },
    {
      "cell_type": "code",
      "source": [
        "class ErrorAutenticacion(Exception):\n",
        "    pass"
      ],
      "metadata": {
        "id": "y9E2_wQWZD4I"
      },
      "id": "y9E2_wQWZD4I",
      "execution_count": null,
      "outputs": []
    },
    {
      "cell_type": "code",
      "source": [
        "def chequear_credenciales(username, password, datos):\n",
        "    if datos[\"username\"] == username and datos[\"password\"] == password:\n",
        "        return True\n",
        "    else:\n",
        "        raise ErrorAutenticacion(\"Username o contraseña no coinciden\")\n"
      ],
      "metadata": {
        "id": "NqQMqMSOZRFI"
      },
      "id": "NqQMqMSOZRFI",
      "execution_count": null,
      "outputs": []
    },
    {
      "cell_type": "code",
      "source": [
        "datos_pedro = {\"username\": \"pedro\", \"password\": \"1234\"}"
      ],
      "metadata": {
        "id": "1CrfF2_WZ0EE"
      },
      "id": "1CrfF2_WZ0EE",
      "execution_count": null,
      "outputs": []
    },
    {
      "cell_type": "code",
      "source": [
        "chequear_credenciales(\"pedro\", \"1234\", datos_pedro)"
      ],
      "metadata": {
        "colab": {
          "base_uri": "https://localhost:8080/"
        },
        "id": "xaMPxvKyZ61g",
        "outputId": "770fdd42-e924-463e-9b3f-59c34301efbe"
      },
      "id": "xaMPxvKyZ61g",
      "execution_count": null,
      "outputs": [
        {
          "output_type": "execute_result",
          "data": {
            "text/plain": [
              "True"
            ]
          },
          "metadata": {},
          "execution_count": 58
        }
      ]
    },
    {
      "cell_type": "code",
      "source": [
        "chequear_credenciales(\"pedro\", \"123\", datos_pedro)"
      ],
      "metadata": {
        "colab": {
          "base_uri": "https://localhost:8080/",
          "height": 270
        },
        "id": "BvArxyyjaNEd",
        "outputId": "d9ea77f1-b241-4457-c32f-9f8cddd40dc4"
      },
      "id": "BvArxyyjaNEd",
      "execution_count": null,
      "outputs": [
        {
          "output_type": "error",
          "ename": "ErrorAutenticacion",
          "evalue": "ignored",
          "traceback": [
            "\u001b[0;31m---------------------------------------------------------------------------\u001b[0m",
            "\u001b[0;31mErrorAutenticacion\u001b[0m                        Traceback (most recent call last)",
            "\u001b[0;32m<ipython-input-59-11751b26a071>\u001b[0m in \u001b[0;36m<cell line: 1>\u001b[0;34m()\u001b[0m\n\u001b[0;32m----> 1\u001b[0;31m \u001b[0mchequear_credenciales\u001b[0m\u001b[0;34m(\u001b[0m\u001b[0;34m\"pedro\"\u001b[0m\u001b[0;34m,\u001b[0m \u001b[0;34m\"123\"\u001b[0m\u001b[0;34m,\u001b[0m \u001b[0mdatos_pedro\u001b[0m\u001b[0;34m)\u001b[0m\u001b[0;34m\u001b[0m\u001b[0;34m\u001b[0m\u001b[0m\n\u001b[0m",
            "\u001b[0;32m<ipython-input-54-1f98c6328c50>\u001b[0m in \u001b[0;36mchequear_credenciales\u001b[0;34m(username, password, datos)\u001b[0m\n\u001b[1;32m      3\u001b[0m         \u001b[0;32mreturn\u001b[0m \u001b[0;32mTrue\u001b[0m\u001b[0;34m\u001b[0m\u001b[0;34m\u001b[0m\u001b[0m\n\u001b[1;32m      4\u001b[0m     \u001b[0;32melse\u001b[0m\u001b[0;34m:\u001b[0m\u001b[0;34m\u001b[0m\u001b[0;34m\u001b[0m\u001b[0m\n\u001b[0;32m----> 5\u001b[0;31m         \u001b[0;32mraise\u001b[0m \u001b[0mErrorAutenticacion\u001b[0m\u001b[0;34m(\u001b[0m\u001b[0;34m\"Username o contraseña no coinciden\"\u001b[0m\u001b[0;34m)\u001b[0m\u001b[0;34m\u001b[0m\u001b[0;34m\u001b[0m\u001b[0m\n\u001b[0m\u001b[1;32m      6\u001b[0m \u001b[0;34m\u001b[0m\u001b[0m\n",
            "\u001b[0;31mErrorAutenticacion\u001b[0m: Username o contraseña no coinciden"
          ]
        }
      ]
    }
  ],
  "metadata": {
    "kernelspec": {
      "display_name": "Python 3 (ipykernel)",
      "language": "python",
      "name": "python3"
    },
    "language_info": {
      "codemirror_mode": {
        "name": "ipython",
        "version": 3
      },
      "file_extension": ".py",
      "mimetype": "text/x-python",
      "name": "python",
      "nbconvert_exporter": "python",
      "pygments_lexer": "ipython3",
      "version": "3.9.12"
    },
    "varInspector": {
      "cols": {
        "lenName": 16,
        "lenType": 16,
        "lenVar": 40
      },
      "kernels_config": {
        "python": {
          "delete_cmd_postfix": "",
          "delete_cmd_prefix": "del ",
          "library": "var_list.py",
          "varRefreshCmd": "print(var_dic_list())"
        },
        "r": {
          "delete_cmd_postfix": ") ",
          "delete_cmd_prefix": "rm(",
          "library": "var_list.r",
          "varRefreshCmd": "cat(var_dic_list()) "
        }
      },
      "types_to_exclude": [
        "module",
        "function",
        "builtin_function_or_method",
        "instance",
        "_Feature"
      ],
      "window_display": false
    },
    "colab": {
      "provenance": [],
      "include_colab_link": true
    }
  },
  "nbformat": 4,
  "nbformat_minor": 5
}