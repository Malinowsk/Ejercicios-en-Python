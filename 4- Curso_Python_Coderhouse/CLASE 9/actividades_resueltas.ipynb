{
  "nbformat": 4,
  "nbformat_minor": 0,
  "metadata": {
    "colab": {
      "provenance": [],
      "include_colab_link": true
    },
    "kernelspec": {
      "name": "python3",
      "display_name": "Python 3"
    },
    "language_info": {
      "name": "python"
    }
  },
  "cells": [
    {
      "cell_type": "markdown",
      "metadata": {
        "id": "view-in-github",
        "colab_type": "text"
      },
      "source": [
        "<a href=\"https://colab.research.google.com/github/Malinowsk/Ejercicios-en-Python/blob/main/4-%20Curso_Python_Coderhouse/CLASE%209/actividades_resueltas.ipynb\" target=\"_parent\"><img src=\"https://colab.research.google.com/assets/colab-badge.svg\" alt=\"Open In Colab\"/></a>"
      ]
    },
    {
      "cell_type": "code",
      "execution_count": null,
      "metadata": {
        "id": "zOa_ojeRHgLl"
      },
      "outputs": [],
      "source": [
        "\"\"\"\n",
        "Actividad 1\n",
        "\n",
        "Escribir una función a la que se le pase una cadena del nombre de una ciudad <ciudad> y muestre\n",
        "por pantalla el saludo ¡hola bienvenidx a <nombre>!.\n",
        "\"\"\"\n",
        "# solucion 1\n",
        "def dar_bienvenida(ciudad):\n",
        "    saludo = f\"Hola bienvenid@ a {ciudad}!\"\n",
        "    return saludo\n",
        "\n",
        "# solucion 2\n",
        "def dar_bienvenida(ciudad):\n",
        "    return f\"Hola bienvenid@ a {ciudad}!\""
      ]
    },
    {
      "cell_type": "code",
      "source": [
        "print(dar_bienvenida(\"Rosario\"))"
      ],
      "metadata": {
        "colab": {
          "base_uri": "https://localhost:8080/"
        },
        "id": "COQLkn7ohlQZ",
        "outputId": "4acc85e8-1f80-4d64-ce45-7abe236653d1"
      },
      "execution_count": null,
      "outputs": [
        {
          "output_type": "stream",
          "name": "stdout",
          "text": [
            "Hola bienvenid@ a Rosario!\n"
          ]
        }
      ]
    },
    {
      "cell_type": "code",
      "source": [
        "\"\"\"\n",
        "Actividad 2\n",
        "\n",
        "Escribir una función que reciba una muestra de números en una lista y devuelva su media.\n",
        "\n",
        "Definicion matematica de media:\n",
        "(suma de los numeros) / (cantidad de numeros)\n",
        "\"\"\"\n",
        "def obtener_media(lista_numeros):\n",
        "    suma = sum(lista_numeros)\n",
        "    cantidad_numeros = len(lista_numeros)\n",
        "    media = suma / cantidad_numeros\n",
        "    return media\n"
      ],
      "metadata": {
        "id": "25CD8fY9HoBV"
      },
      "execution_count": null,
      "outputs": []
    },
    {
      "cell_type": "code",
      "source": [
        "# obtener la media de la lista: [5, 10, 15, 20, 25]"
      ],
      "metadata": {
        "id": "R-ujbKGejcoD"
      },
      "execution_count": null,
      "outputs": []
    },
    {
      "cell_type": "code",
      "source": [
        "obtener_media([5,10,15,20,25])"
      ],
      "metadata": {
        "colab": {
          "base_uri": "https://localhost:8080/"
        },
        "id": "kH-EPnBGj14i",
        "outputId": "0ebea245-64f0-4ce2-e7d6-07689eee4edd"
      },
      "execution_count": null,
      "outputs": [
        {
          "output_type": "execute_result",
          "data": {
            "text/plain": [
              "15.0"
            ]
          },
          "metadata": {},
          "execution_count": 7
        }
      ]
    },
    {
      "cell_type": "code",
      "source": [
        "\"\"\"\n",
        "Actividad 3\n",
        "\n",
        "Crea un programa que le pida dos números enteros al usuario y diga por consola, si alguno de ellos es múltiplo del otro.\n",
        "La función debe llamarse es_multiplo().\n",
        "\"\"\"\n",
        "\n",
        "def es_multiplo(numero_1, numero_2):\n",
        "    if numero_1 % numero_2 == 0 or numero_2 % numero_1 == 0:\n",
        "        return True\n",
        "    else:\n",
        "        return False"
      ],
      "metadata": {
        "id": "5yDcVm2CHsUU"
      },
      "execution_count": null,
      "outputs": []
    },
    {
      "cell_type": "code",
      "source": [
        "es_multiplo(10, 2)"
      ],
      "metadata": {
        "colab": {
          "base_uri": "https://localhost:8080/"
        },
        "id": "MqwcEQwmmdQl",
        "outputId": "e59f366c-7b6c-4a15-8ba0-179909bcfaa1"
      },
      "execution_count": null,
      "outputs": [
        {
          "output_type": "execute_result",
          "data": {
            "text/plain": [
              "True"
            ]
          },
          "metadata": {},
          "execution_count": 9
        }
      ]
    },
    {
      "cell_type": "code",
      "source": [
        "es_multiplo(5, 15)"
      ],
      "metadata": {
        "colab": {
          "base_uri": "https://localhost:8080/"
        },
        "id": "_njuJOKrmkbJ",
        "outputId": "75825c7e-5515-4a92-a2e6-c7d715e409ac"
      },
      "execution_count": null,
      "outputs": [
        {
          "output_type": "execute_result",
          "data": {
            "text/plain": [
              "True"
            ]
          },
          "metadata": {},
          "execution_count": 10
        }
      ]
    },
    {
      "cell_type": "code",
      "source": [
        "es_multiplo(7, 5)"
      ],
      "metadata": {
        "colab": {
          "base_uri": "https://localhost:8080/"
        },
        "id": "u0abOtP8mrVD",
        "outputId": "218e7b43-7732-44c5-b875-923f5f743651"
      },
      "execution_count": null,
      "outputs": [
        {
          "output_type": "execute_result",
          "data": {
            "text/plain": [
              "False"
            ]
          },
          "metadata": {},
          "execution_count": 11
        }
      ]
    },
    {
      "cell_type": "code",
      "source": [
        "num1 = int(input(\"Ingrese el primer número: \"))\n",
        "num2 = int(input(\"Ingrese el segundo número: \"))"
      ],
      "metadata": {
        "colab": {
          "base_uri": "https://localhost:8080/"
        },
        "id": "tKZ_qeS8nBpz",
        "outputId": "a8229f19-bdaf-4e7c-af30-11be654d3f26"
      },
      "execution_count": null,
      "outputs": [
        {
          "name": "stdout",
          "output_type": "stream",
          "text": [
            "Ingrese el primer número: 3\n",
            "Ingrese el segundo número: 4\n"
          ]
        }
      ]
    },
    {
      "cell_type": "code",
      "source": [
        "es_multiplo(num1, num2)"
      ],
      "metadata": {
        "colab": {
          "base_uri": "https://localhost:8080/"
        },
        "id": "VNzV0cjcnGte",
        "outputId": "c3282d24-73fd-4b76-8fe4-32800eea3263"
      },
      "execution_count": null,
      "outputs": [
        {
          "output_type": "execute_result",
          "data": {
            "text/plain": [
              "False"
            ]
          },
          "metadata": {},
          "execution_count": 13
        }
      ]
    }
  ]
}