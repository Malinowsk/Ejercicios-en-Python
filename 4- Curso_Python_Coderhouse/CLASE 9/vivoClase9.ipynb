{
  "nbformat": 4,
  "nbformat_minor": 0,
  "metadata": {
    "colab": {
      "provenance": [],
      "include_colab_link": true
    },
    "kernelspec": {
      "name": "python3",
      "display_name": "Python 3"
    },
    "language_info": {
      "name": "python"
    }
  },
  "cells": [
    {
      "cell_type": "markdown",
      "metadata": {
        "id": "view-in-github",
        "colab_type": "text"
      },
      "source": [
        "<a href=\"https://colab.research.google.com/github/Malinowsk/Ejercicios-en-Python/blob/main/4-%20Curso_Python_Coderhouse/CLASE%209/vivoClase9.ipynb\" target=\"_parent\"><img src=\"https://colab.research.google.com/assets/colab-badge.svg\" alt=\"Open In Colab\"/></a>"
      ]
    },
    {
      "cell_type": "markdown",
      "metadata": {
        "id": "0q4uZEi7SmIK"
      },
      "source": [
        "# Ayuda Desafio clase 8"
      ]
    },
    {
      "cell_type": "code",
      "metadata": {
        "id": "Cwu2DyE6jPhN"
      },
      "source": [
        "#---------- nota1 ---- nota2 ------- 0-10 -------- prome>7 aprobabas---4 y 7 ---final\n",
        "\n",
        "import sys\n",
        "\n",
        "#Validar si hay dos notas o no...\n",
        "\n",
        "\n",
        "if len(sys.argv) == 3: #Validamos que son dos notas :) \n",
        "\n",
        "  #Guardar en otra variable\n",
        "  nota1 = sys.argv[1]\n",
        "  nota2 = sys.argv[2]\n",
        "\n",
        "  nota1_bien = False\n",
        "  nota2_bien = False\n",
        "\n",
        "  #Validar que estan entre 0 y 10\n",
        "\n",
        "  if ( nota1>=0 and nota1<=10 ):  #Vamos bien :) \n",
        "\n",
        "    nota1_bien = True\n",
        "\n",
        "  else: \n",
        "\n",
        "    print(\"Error con la nota 1\")\n",
        "\n",
        "\n",
        "\n",
        "  if ( nota2>=0 and nota2<=10 ):  #Vamos bien :) \n",
        "\n",
        "    nota2_bien = True\n",
        "\n",
        "  else: \n",
        "\n",
        "    print(\"Error con la nota 2\")\n",
        "\n",
        "\n",
        "\n",
        "\n",
        "  #Dar las respuestas \n",
        "  if ( nota1_bien and nota2_bien):\n",
        "\n",
        "    if ( nota1 >= 7 and nota2 >= 7):\n",
        "\n",
        "      print(\"Felicidades promoción\")\n",
        "\n",
        "    #Ver los otros casos\n",
        "\t\n",
        "\n",
        "else:\n",
        "\n",
        "\n",
        "\tprint(\"Paremetros incorrectos\")"
      ],
      "execution_count": null,
      "outputs": []
    },
    {
      "cell_type": "markdown",
      "metadata": {
        "id": "sEhmbjgfS4Jh"
      },
      "source": [
        "# Repaso"
      ]
    },
    {
      "cell_type": "code",
      "metadata": {
        "id": "fVGfddE-S9ji"
      },
      "source": [
        "# Mostrar los numeros impares entre 5 y el 40\n",
        "\n",
        "for x in range(5,40,2):\n",
        "\n",
        "  print(f\"Este número cumple: {x}\")\n"
      ],
      "execution_count": null,
      "outputs": []
    },
    {
      "cell_type": "code",
      "metadata": {
        "id": "FnGLB8r4Twye"
      },
      "source": [
        "for x in range(5, 40):\n",
        "\n",
        "  if ( x % 2 == 1):\n",
        "\n",
        "    print(f\"Este número no es divisible por 2: {x}\")"
      ],
      "execution_count": null,
      "outputs": []
    },
    {
      "cell_type": "code",
      "metadata": {
        "id": "yU_-Zp8wURfM"
      },
      "source": [
        "#Mostrar los numeros entre -11 y 108 que no sean divisibles por 3\n",
        "for x in range(-11, 108):\n",
        "\n",
        "  if ( not (x % 3 == 0) ):\n",
        "  #if ( (x % 3 != 0) ):\n",
        "  #if ( x % 3 == 1 or  x % 3 == 2 ):\n",
        "\n",
        "    print(f\"Este numero no es divisible por 3: {x}\")"
      ],
      "execution_count": null,
      "outputs": []
    },
    {
      "cell_type": "code",
      "metadata": {
        "id": "gXYS-fd-VMu7"
      },
      "source": [
        "#Mostrar los numeros entre 1 y 33 que no sean divisibles por 7\n",
        "\n",
        "\n",
        "for x in range(1, 33):\n",
        "\n",
        "  if ( not (x % 7 == 0) ):\n",
        "  #if ( (x % 3 != 0) ):\n",
        "  #if ( x % 3 == 1 or  x % 3 == 2 ):\n",
        "\n",
        "    print(f\"Este numero no es divisible por 7: {x}\")"
      ],
      "execution_count": null,
      "outputs": []
    },
    {
      "cell_type": "code",
      "metadata": {
        "id": "XAiXQPPoVgRo"
      },
      "source": [
        "print(f\"HOLA SOY EL : ---> {6}\")\n",
        "\n",
        "#len(lista)\n",
        "\n",
        "#input()\n",
        "\n",
        "#sum()\n",
        "\n",
        "#NOMBRE(    parametros   )"
      ],
      "execution_count": null,
      "outputs": []
    },
    {
      "cell_type": "code",
      "metadata": {
        "id": "e15i3uOLWx7D"
      },
      "source": [
        "#Mi primer función\n",
        "\n",
        "def funcion_saludar():\n",
        "\n",
        "  print(\"Hola Coder\")\n",
        "  print(\"----------\")\n",
        "  print(\"Soy muy buenoooo\")"
      ],
      "execution_count": null,
      "outputs": []
    },
    {
      "cell_type": "code",
      "metadata": {
        "id": "uy3hDPe0XE-t"
      },
      "source": [
        "funcion_saludar()"
      ],
      "execution_count": null,
      "outputs": []
    },
    {
      "cell_type": "code",
      "metadata": {
        "id": "dELj5ww1XUbx"
      },
      "source": [
        "def funcion_saludar_nombre(nombre):  #nombre es mi parametro de entrada\n",
        "\n",
        "  print(\"Hola Coder\")\n",
        "  print(\"----------\")\n",
        "  print(f\"El mejor es: {nombre}\")"
      ],
      "execution_count": null,
      "outputs": []
    },
    {
      "cell_type": "code",
      "metadata": {
        "id": "ZXgCjsZoXzfM"
      },
      "source": [
        "funcion_saludar_nombre(\"Nico\")  #Le envio un Nico"
      ],
      "execution_count": null,
      "outputs": []
    },
    {
      "cell_type": "code",
      "metadata": {
        "id": "2SvcGopzYE9O"
      },
      "source": [
        "funcion_saludar_nombre(\"Nadia!!!\")"
      ],
      "execution_count": null,
      "outputs": []
    },
    {
      "cell_type": "code",
      "metadata": {
        "id": "Tev5ByT9YXNi"
      },
      "source": [
        "pepe = \"Agustin\""
      ],
      "execution_count": null,
      "outputs": []
    },
    {
      "cell_type": "code",
      "metadata": {
        "id": "PlyM7mmnYbJG"
      },
      "source": [
        "funcion_saludar_nombre(pepe)"
      ],
      "execution_count": null,
      "outputs": []
    },
    {
      "cell_type": "code",
      "metadata": {
        "id": "ZTolVwtyYusN"
      },
      "source": [
        "nombre  #No funciona porque vive solo en la funcion, variable Local :)"
      ],
      "execution_count": null,
      "outputs": []
    },
    {
      "cell_type": "code",
      "metadata": {
        "id": "CtnivQl2ZRzy"
      },
      "source": [
        "variable_test = 10  #Vive en todo mi colabs --- Variable global\n"
      ],
      "execution_count": null,
      "outputs": []
    },
    {
      "cell_type": "code",
      "metadata": {
        "id": "zTnaLuUbZds7"
      },
      "source": [
        "def test():\n",
        "  variable_test = 15\n",
        "  print(f\"{variable_test}\")"
      ],
      "execution_count": null,
      "outputs": []
    },
    {
      "cell_type": "code",
      "metadata": {
        "id": "3YPXeOwcZfNs"
      },
      "source": [
        "test()"
      ],
      "execution_count": null,
      "outputs": []
    },
    {
      "cell_type": "code",
      "metadata": {
        "id": "lMxOkGkPZ1MU"
      },
      "source": [
        "variable_test"
      ],
      "execution_count": null,
      "outputs": []
    },
    {
      "cell_type": "code",
      "metadata": {
        "id": "0QcNBE51bF6P"
      },
      "source": [
        "#Las funciones anteriores .... \"Procedimientos\""
      ],
      "execution_count": null,
      "outputs": []
    },
    {
      "cell_type": "code",
      "metadata": {
        "id": "Sv2HwwJfbzTS"
      },
      "source": [
        "def saludo_nombre(nombre):\n",
        "\n",
        "  saludo = f\"Hasta pronto, {nombre} gracias por venir!!!\"\n",
        "\n",
        "  return saludo"
      ],
      "execution_count": null,
      "outputs": []
    },
    {
      "cell_type": "code",
      "metadata": {
        "id": "eRrUecK1cIBT"
      },
      "source": [
        "saludo_nombre(\"Pepe\")"
      ],
      "execution_count": null,
      "outputs": []
    },
    {
      "cell_type": "code",
      "metadata": {
        "id": "JmIsW3CHcr_Z"
      },
      "source": [
        "#Procedimiento\n",
        "def suma1 (a,b ):\n",
        "\n",
        "  resultado = a + b\n",
        "  print(f\"El resultado de la suma es: {resultado}\")\n",
        "\n"
      ],
      "execution_count": null,
      "outputs": []
    },
    {
      "cell_type": "code",
      "metadata": {
        "id": "CSiRYw4mc65h"
      },
      "source": [
        "suma1(11, 9)"
      ],
      "execution_count": null,
      "outputs": []
    },
    {
      "cell_type": "code",
      "metadata": {
        "id": "JSYMvGt_c_ly"
      },
      "source": [
        "#Función \n",
        "def suma2 (a,b ):\n",
        "\n",
        "  resultado = a + b\n",
        "  \n",
        "  return resultado "
      ],
      "execution_count": null,
      "outputs": []
    },
    {
      "cell_type": "code",
      "metadata": {
        "id": "fomPwJ6-dHF6"
      },
      "source": [
        "variable = suma2(11,9)  #variable <------ 20"
      ],
      "execution_count": null,
      "outputs": []
    },
    {
      "cell_type": "code",
      "metadata": {
        "id": "QXvyI842idpF"
      },
      "source": [
        "def restarNumeros(numero1, numero2):\n",
        "\n",
        "  resultado = numero1 - numero2\n",
        "\n",
        "  return resultado"
      ],
      "execution_count": null,
      "outputs": []
    },
    {
      "cell_type": "code",
      "metadata": {
        "id": "ogFHqFBkipw8"
      },
      "source": [
        "#Forma A\n",
        "var1 = restarNumeros(5,1)"
      ],
      "execution_count": null,
      "outputs": []
    },
    {
      "cell_type": "code",
      "metadata": {
        "id": "KsoyAHM-i4Nr"
      },
      "source": [
        "var1"
      ],
      "execution_count": null,
      "outputs": []
    },
    {
      "cell_type": "code",
      "metadata": {
        "id": "edCkhgIBi75z"
      },
      "source": [
        "#Forma B\n",
        "print(f\"RESULTADO DE LA RESTA {restarNumeros(519,111)}\")"
      ],
      "execution_count": null,
      "outputs": []
    },
    {
      "cell_type": "code",
      "metadata": {
        "id": "MFyHEYTAjNBd"
      },
      "source": [
        "var1 = restarNumeros(1,7)"
      ],
      "execution_count": null,
      "outputs": []
    },
    {
      "cell_type": "code",
      "metadata": {
        "id": "2KfZXZPajQ3K"
      },
      "source": [
        "var1"
      ],
      "execution_count": null,
      "outputs": []
    },
    {
      "cell_type": "code",
      "metadata": {
        "id": "vHRfCPuQka5l"
      },
      "source": [
        "#Mostrar los numeros entre -11 y 108 que no sean divisibles por 3\n",
        "\n",
        "def numeros_entre_no_divisibles(desde, hasta, noDivisible ):\n",
        "\n",
        "        for x in range(desde, hasta):\n",
        "\n",
        "          if ( not (x % noDivisible == 0) ):\n",
        "\n",
        "\n",
        "            print(f\"Este numero no es divisible por {noDivisible}: {x}\")"
      ],
      "execution_count": null,
      "outputs": []
    },
    {
      "cell_type": "code",
      "metadata": {
        "id": "wCP3VMhflDYd"
      },
      "source": [
        "numeros_entre_no_divisibles(-1001, 3, 2)  #10 11 13 14 15 17 18 ..."
      ],
      "execution_count": null,
      "outputs": []
    },
    {
      "cell_type": "code",
      "metadata": {
        "id": "OvJeZDLenUti"
      },
      "source": [
        "def esPar(numero):\n",
        "\n",
        "if ( type(numero) == int):\n",
        "    if ( numero % 2 == 0):\n",
        "        print(\"PAR\")\n",
        "    else:\n",
        "        print(\"IMPAR\")\n",
        "else:\n",
        "    print(\"ERROR, mandame un entero\")\n",
        "\n"
      ],
      "execution_count": null,
      "outputs": []
    },
    {
      "cell_type": "code",
      "metadata": {
        "id": "fcUXDOmanzbP"
      },
      "source": [
        "esPar(\"Nico\")"
      ],
      "execution_count": null,
      "outputs": []
    }
  ]
}