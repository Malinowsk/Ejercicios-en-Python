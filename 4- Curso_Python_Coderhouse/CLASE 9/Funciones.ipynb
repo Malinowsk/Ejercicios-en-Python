{
  "cells": [
    {
      "cell_type": "markdown",
      "metadata": {
        "id": "view-in-github",
        "colab_type": "text"
      },
      "source": [
        "<a href=\"https://colab.research.google.com/github/Malinowsk/Ejercicios-en-Python/blob/main/4-%20Curso_Python_Coderhouse/CLASE%209/Funciones.ipynb\" target=\"_parent\"><img src=\"https://colab.research.google.com/assets/colab-badge.svg\" alt=\"Open In Colab\"/></a>"
      ]
    },
    {
      "cell_type": "markdown",
      "metadata": {
        "id": "zs9b13zr-9WV"
      },
      "source": [
        "# Funciones"
      ]
    },
    {
      "cell_type": "markdown",
      "metadata": {
        "id": "UfBuGire_MtF"
      },
      "source": [
        "```\n",
        "def funcion (parametros):\n",
        "    bloque de codigo\n",
        "    return RESULTADO\n",
        "```"
      ]
    },
    {
      "cell_type": "code",
      "source": [
        "\"\"\"\n",
        "Respecto a los nombres\n",
        "+ Funcion se usa en general\n",
        "+ Funcion no tiene retorno explicito, también se le llama procedimiento\n",
        "+ Funcion definidas dentro de una clase se les llama métodos (clase 12)\n",
        "\"\"\""
      ],
      "metadata": {
        "id": "vJw-WCoX-ZQU"
      },
      "execution_count": null,
      "outputs": []
    },
    {
      "cell_type": "markdown",
      "source": [
        "### Primeras funciones"
      ],
      "metadata": {
        "id": "LYtyhDun_IHZ"
      }
    },
    {
      "cell_type": "code",
      "source": [
        "# es un funcion porque tiene return explicito\n",
        "\n",
        "def saludar_a_persona(nombre):\n",
        "   saludo = f\"Hola {nombre}, ¿Qué onda?\"\n",
        "   return saludo"
      ],
      "metadata": {
        "id": "24oEKMDN_HeM"
      },
      "execution_count": null,
      "outputs": []
    },
    {
      "cell_type": "code",
      "source": [
        "saludar_a_persona(\"Ignacio\")"
      ],
      "metadata": {
        "id": "5sy3cbEg_VLb",
        "colab": {
          "base_uri": "https://localhost:8080/",
          "height": 35
        },
        "outputId": "f001ae69-c8c8-4137-a408-626731b1c932"
      },
      "execution_count": null,
      "outputs": [
        {
          "output_type": "execute_result",
          "data": {
            "text/plain": [
              "'Hola Ignacio, ¿Qué onda?'"
            ],
            "application/vnd.google.colaboratory.intrinsic+json": {
              "type": "string"
            }
          },
          "metadata": {},
          "execution_count": 2
        }
      ]
    },
    {
      "cell_type": "code",
      "source": [
        "retorno_de_saludo = saludar_a_persona(\"Ignacio\")"
      ],
      "metadata": {
        "id": "1tLGvzZHXiDq"
      },
      "execution_count": null,
      "outputs": []
    },
    {
      "cell_type": "code",
      "source": [
        "retorno_de_saludo"
      ],
      "metadata": {
        "colab": {
          "base_uri": "https://localhost:8080/",
          "height": 35
        },
        "id": "NEcf9BNvYkfe",
        "outputId": "052d5a9c-b50d-4959-ece1-fa40689f1da8"
      },
      "execution_count": null,
      "outputs": [
        {
          "output_type": "execute_result",
          "data": {
            "text/plain": [
              "'Hola Ignacio, ¿Qué onda?'"
            ],
            "application/vnd.google.colaboratory.intrinsic+json": {
              "type": "string"
            }
          },
          "metadata": {},
          "execution_count": 6
        }
      ]
    },
    {
      "cell_type": "code",
      "source": [
        "# es un procedimiento, porque al final no tiene la sentencia return\n",
        "\n",
        "def saludar(persona):\n",
        "    saludo = f\"Hola {persona}, ¿Qué onda?\"\n",
        "    print(saludo)"
      ],
      "metadata": {
        "id": "wP_u5hX__Mmj"
      },
      "execution_count": null,
      "outputs": []
    },
    {
      "cell_type": "code",
      "source": [
        "saludar(\"Rafael\")"
      ],
      "metadata": {
        "id": "RkqSSLXV_tJ9",
        "colab": {
          "base_uri": "https://localhost:8080/"
        },
        "outputId": "8068149f-43bd-4ec4-bce3-7318cab223ca"
      },
      "execution_count": null,
      "outputs": [
        {
          "output_type": "stream",
          "name": "stdout",
          "text": [
            "Hola Rafael, ¿Qué onda?\n"
          ]
        }
      ]
    },
    {
      "cell_type": "code",
      "source": [
        "retono_de_saludar = saludar(\"Rafael\")"
      ],
      "metadata": {
        "colab": {
          "base_uri": "https://localhost:8080/"
        },
        "id": "-ByZ7Ky_YTfJ",
        "outputId": "aed2e781-b244-4432-c97c-77de2b1d2933"
      },
      "execution_count": null,
      "outputs": [
        {
          "output_type": "stream",
          "name": "stdout",
          "text": [
            "Hola Rafael, ¿Qué onda?\n"
          ]
        }
      ]
    },
    {
      "cell_type": "code",
      "source": [
        "type(retono_de_saludar)"
      ],
      "metadata": {
        "colab": {
          "base_uri": "https://localhost:8080/"
        },
        "id": "LagPXBCZY0Rj",
        "outputId": "11ff04ef-7551-4102-cb83-0c8fba2e553d"
      },
      "execution_count": null,
      "outputs": [
        {
          "output_type": "execute_result",
          "data": {
            "text/plain": [
              "NoneType"
            ]
          },
          "metadata": {},
          "execution_count": 9
        }
      ]
    },
    {
      "cell_type": "code",
      "source": [
        "# aca defini la funcion\n",
        "# \"estas creando la herramienta\"\n",
        "\n",
        "def sumar(a, b):\n",
        "    return a + b"
      ],
      "metadata": {
        "id": "Y2l_d9Oy_mlx"
      },
      "execution_count": null,
      "outputs": []
    },
    {
      "cell_type": "code",
      "source": [
        "# esta es la llamada de la funcion\n",
        "# es cuando uso la funcion\n",
        "# estas \"usando la herramienta\"\n",
        "\n",
        "sumar(10, 15)"
      ],
      "metadata": {
        "id": "ignehNcb_qFl"
      },
      "execution_count": null,
      "outputs": []
    },
    {
      "cell_type": "markdown",
      "source": [
        "### Ejemplos vida real"
      ],
      "metadata": {
        "id": "cL-QFYloAl8k"
      }
    },
    {
      "cell_type": "code",
      "source": [
        "\"\"\"\n",
        "En todos los sistemas web se necesita el nombre completo del usuario, pero en la base de datos guardamos\n",
        "el nombre y apellido por separado\n",
        "Considera los datos de nombres y apellidos pueden tener formatos incorrectos.\n",
        "Se desea la respuesta siempre de el mismo formato:\n",
        "Apellido, Nombre\n",
        "\n",
        "Ejemplo data\n",
        "data = {\n",
        "    \"nombre\": \"MANUEL\",\n",
        "    \"apellido\": \"Gonzales\"\n",
        "}\n",
        "\"\"\"\n",
        "\n",
        "def obtener_nombre_completo(data_diccionario):\n",
        "    respuesta = f'{data_diccionario[\"apellido\"]}, {data_diccionario[\"nombre\"]}'\n",
        "    return respuesta.title()\n"
      ],
      "metadata": {
        "id": "0rzAnGL8ArNU"
      },
      "execution_count": null,
      "outputs": []
    },
    {
      "cell_type": "code",
      "source": [
        "data = {\"nombre\": \"IVAN\", \"apellido\": \"Tomasevich\"}"
      ],
      "metadata": {
        "id": "ZMuP9gDVbpPY"
      },
      "execution_count": null,
      "outputs": []
    },
    {
      "cell_type": "code",
      "source": [
        "obtener_nombre_completo(data)"
      ],
      "metadata": {
        "colab": {
          "base_uri": "https://localhost:8080/",
          "height": 35
        },
        "id": "u1GXGhR9by2l",
        "outputId": "5e856ff4-d368-4e94-e629-c57b80cb93ca"
      },
      "execution_count": null,
      "outputs": [
        {
          "output_type": "execute_result",
          "data": {
            "text/plain": [
              "'Tomasevich, Ivan'"
            ],
            "application/vnd.google.colaboratory.intrinsic+json": {
              "type": "string"
            }
          },
          "metadata": {},
          "execution_count": 13
        }
      ]
    },
    {
      "cell_type": "markdown",
      "source": [
        "### Valores y funciones"
      ],
      "metadata": {
        "id": "xZlcFk3DCRus"
      }
    },
    {
      "cell_type": "code",
      "source": [
        "def test():\n",
        "    variable_test = 10\n",
        "    return variable_test\n"
      ],
      "metadata": {
        "id": "FToQlf6tCf2K"
      },
      "execution_count": null,
      "outputs": []
    },
    {
      "cell_type": "code",
      "source": [
        "print(variable_test)"
      ],
      "metadata": {
        "colab": {
          "base_uri": "https://localhost:8080/",
          "height": 166
        },
        "id": "uSgHAGnhb_b_",
        "outputId": "59fb3db7-de01-4bf5-f51e-c75302714459"
      },
      "execution_count": null,
      "outputs": [
        {
          "output_type": "error",
          "ename": "NameError",
          "evalue": "ignored",
          "traceback": [
            "\u001b[0;31m---------------------------------------------------------------------------\u001b[0m",
            "\u001b[0;31mNameError\u001b[0m                                 Traceback (most recent call last)",
            "\u001b[0;32m<ipython-input-15-abad6c7fc693>\u001b[0m in \u001b[0;36m<module>\u001b[0;34m\u001b[0m\n\u001b[0;32m----> 1\u001b[0;31m \u001b[0mprint\u001b[0m\u001b[0;34m(\u001b[0m\u001b[0mvariable_test\u001b[0m\u001b[0;34m)\u001b[0m\u001b[0;34m\u001b[0m\u001b[0;34m\u001b[0m\u001b[0m\n\u001b[0m",
            "\u001b[0;31mNameError\u001b[0m: name 'variable_test' is not defined"
          ]
        }
      ]
    },
    {
      "cell_type": "code",
      "source": [
        "variable_test_2 = 10"
      ],
      "metadata": {
        "id": "YNe-NtHmCUsM"
      },
      "execution_count": null,
      "outputs": []
    },
    {
      "cell_type": "code",
      "source": [
        "variable_test_2"
      ],
      "metadata": {
        "colab": {
          "base_uri": "https://localhost:8080/"
        },
        "id": "y5LRrLpUcV6Y",
        "outputId": "2eabdffd-5e6d-4485-8a6c-4bcf458da4df"
      },
      "execution_count": null,
      "outputs": [
        {
          "output_type": "execute_result",
          "data": {
            "text/plain": [
              "10"
            ]
          },
          "metadata": {},
          "execution_count": 17
        }
      ]
    },
    {
      "cell_type": "code",
      "source": [
        "def test_2():\n",
        "    variable_test_2 = 155\n",
        "    return variable_test_2"
      ],
      "metadata": {
        "id": "zStadK4GcUuA"
      },
      "execution_count": null,
      "outputs": []
    },
    {
      "cell_type": "code",
      "source": [
        "test_2()"
      ],
      "metadata": {
        "colab": {
          "base_uri": "https://localhost:8080/"
        },
        "id": "UzsKp7lCcdEf",
        "outputId": "05f88ad4-2766-4a58-ba94-f89f33b8463d"
      },
      "execution_count": null,
      "outputs": [
        {
          "output_type": "execute_result",
          "data": {
            "text/plain": [
              "155"
            ]
          },
          "metadata": {},
          "execution_count": 19
        }
      ]
    },
    {
      "cell_type": "code",
      "source": [
        "variable_test_2"
      ],
      "metadata": {
        "colab": {
          "base_uri": "https://localhost:8080/"
        },
        "id": "SKQb0dI2cs5Y",
        "outputId": "f8cd3eb9-9608-423b-d23b-72cb9b56d0df"
      },
      "execution_count": null,
      "outputs": [
        {
          "output_type": "execute_result",
          "data": {
            "text/plain": [
              "10"
            ]
          },
          "metadata": {},
          "execution_count": 20
        }
      ]
    },
    {
      "cell_type": "markdown",
      "source": [
        "### despues del return no tiene efecto"
      ],
      "metadata": {
        "id": "z3fp74IGdHYS"
      }
    },
    {
      "cell_type": "code",
      "source": [
        "def duplicar_numero(numero):\n",
        "    return numero*2\n",
        "    return numero*3"
      ],
      "metadata": {
        "id": "raQgSaPRdK60"
      },
      "execution_count": null,
      "outputs": []
    },
    {
      "cell_type": "code",
      "source": [
        "duplicar_numero(10)"
      ],
      "metadata": {
        "colab": {
          "base_uri": "https://localhost:8080/"
        },
        "id": "NQ-I5chgdRTI",
        "outputId": "c67b0f02-15eb-46cf-8b33-ae1f51862532"
      },
      "execution_count": null,
      "outputs": [
        {
          "output_type": "execute_result",
          "data": {
            "text/plain": [
              "20"
            ]
          },
          "metadata": {},
          "execution_count": 22
        }
      ]
    },
    {
      "cell_type": "code",
      "source": [],
      "metadata": {
        "id": "ekRB2Od1dvWH"
      },
      "execution_count": null,
      "outputs": []
    },
    {
      "cell_type": "markdown",
      "source": [
        "### retorno multiple"
      ],
      "metadata": {
        "id": "4X1IiUP5dv87"
      }
    },
    {
      "cell_type": "code",
      "source": [
        "def ejemplo_retorno_multiple():\n",
        "    return \"hola\", 10, 3.5, [3, 4, 5]"
      ],
      "metadata": {
        "id": "4vEIY4AWdx4x"
      },
      "execution_count": null,
      "outputs": []
    },
    {
      "cell_type": "code",
      "source": [
        "ejemplo_retorno_multiple()"
      ],
      "metadata": {
        "colab": {
          "base_uri": "https://localhost:8080/"
        },
        "id": "jACQbPGtd5--",
        "outputId": "2087add8-91ba-4efb-a615-711a79637711"
      },
      "execution_count": null,
      "outputs": [
        {
          "output_type": "execute_result",
          "data": {
            "text/plain": [
              "('hola', 10, 3.5, [3, 4, 5])"
            ]
          },
          "metadata": {},
          "execution_count": 24
        }
      ]
    },
    {
      "cell_type": "code",
      "source": [
        "type(ejemplo_retorno_multiple())"
      ],
      "metadata": {
        "colab": {
          "base_uri": "https://localhost:8080/"
        },
        "id": "-eIhXQffd7xW",
        "outputId": "bc2de21e-c906-40f7-ea40-a1046b86abbd"
      },
      "execution_count": null,
      "outputs": [
        {
          "output_type": "execute_result",
          "data": {
            "text/plain": [
              "tuple"
            ]
          },
          "metadata": {},
          "execution_count": 26
        }
      ]
    },
    {
      "cell_type": "code",
      "source": [
        "sumar(5, 7)"
      ],
      "metadata": {
        "colab": {
          "base_uri": "https://localhost:8080/"
        },
        "id": "XGZlEsKkeZAh",
        "outputId": "7962e714-a7c2-4665-9872-8488af23286d"
      },
      "execution_count": null,
      "outputs": [
        {
          "output_type": "execute_result",
          "data": {
            "text/plain": [
              "12"
            ]
          },
          "metadata": {},
          "execution_count": 29
        }
      ]
    },
    {
      "cell_type": "code",
      "source": [
        "sumar(7, 5)"
      ],
      "metadata": {
        "colab": {
          "base_uri": "https://localhost:8080/"
        },
        "id": "69lMFd0HeeeA",
        "outputId": "752e6ae1-c5e7-4597-cc9e-5607456b0409"
      },
      "execution_count": null,
      "outputs": [
        {
          "output_type": "execute_result",
          "data": {
            "text/plain": [
              "12"
            ]
          },
          "metadata": {},
          "execution_count": 30
        }
      ]
    },
    {
      "cell_type": "markdown",
      "metadata": {
        "id": "vptAaTUopv_a"
      },
      "source": [
        "## Parámetros de una función\n",
        "\n",
        "### Importante: Esto es solo una introducción, en la próxima clase profundizaremos mucho más en este tema 😊"
      ]
    },
    {
      "cell_type": "code",
      "execution_count": null,
      "metadata": {
        "id": "Me877ul-pydd"
      },
      "outputs": [],
      "source": [
        "def potenciacion(base, exponente):\n",
        "    return base ** exponente"
      ]
    },
    {
      "cell_type": "code",
      "execution_count": null,
      "metadata": {
        "id": "_QQoGQ5kM20F",
        "colab": {
          "base_uri": "https://localhost:8080/"
        },
        "outputId": "b843081d-a137-4824-b2fa-f1bdadc6f1ed"
      },
      "outputs": [
        {
          "output_type": "execute_result",
          "data": {
            "text/plain": [
              "32"
            ]
          },
          "metadata": {},
          "execution_count": 32
        }
      ],
      "source": [
        "potenciacion(2, 5)"
      ]
    },
    {
      "cell_type": "code",
      "execution_count": null,
      "metadata": {
        "id": "JcEQeVdQM2xN",
        "colab": {
          "base_uri": "https://localhost:8080/"
        },
        "outputId": "2bfca3cf-bb19-46ec-e90f-80f0b6084bd6"
      },
      "outputs": [
        {
          "output_type": "execute_result",
          "data": {
            "text/plain": [
              "25"
            ]
          },
          "metadata": {},
          "execution_count": 33
        }
      ],
      "source": [
        "potenciacion(5, 2)"
      ]
    },
    {
      "cell_type": "code",
      "execution_count": null,
      "metadata": {
        "id": "tR57KsoLM2nj",
        "colab": {
          "base_uri": "https://localhost:8080/"
        },
        "outputId": "85dce041-0919-4c5a-cf37-d648b0dab489"
      },
      "outputs": [
        {
          "output_type": "execute_result",
          "data": {
            "text/plain": [
              "243"
            ]
          },
          "metadata": {},
          "execution_count": 34
        }
      ],
      "source": [
        "potenciacion(base = 3, exponente = 5)"
      ]
    },
    {
      "cell_type": "code",
      "execution_count": null,
      "metadata": {
        "id": "aJG_OJ6QM2Zl",
        "colab": {
          "base_uri": "https://localhost:8080/"
        },
        "outputId": "5e1291ff-8aa2-47f4-b72a-cb2970dc2f39"
      },
      "outputs": [
        {
          "output_type": "execute_result",
          "data": {
            "text/plain": [
              "243"
            ]
          },
          "metadata": {},
          "execution_count": 35
        }
      ],
      "source": [
        "potenciacion(exponente = 5, base = 3)"
      ]
    },
    {
      "cell_type": "markdown",
      "metadata": {
        "id": "2ImNi9Mz_NRQ"
      },
      "source": [
        "## Funciones lambda"
      ]
    },
    {
      "cell_type": "code",
      "execution_count": null,
      "metadata": {
        "id": "vXTrO7vWYkEd"
      },
      "outputs": [],
      "source": [
        "def potenciacion(base, exponente):\n",
        "    return base ** exponente"
      ]
    },
    {
      "cell_type": "code",
      "execution_count": null,
      "metadata": {
        "id": "EJcUgmeTYj7y"
      },
      "outputs": [],
      "source": [
        "potenciacion_lambda = lambda base, exponente: base ** exponente"
      ]
    },
    {
      "cell_type": "code",
      "execution_count": null,
      "metadata": {
        "id": "5TRlIZ4IYj5t"
      },
      "outputs": [],
      "source": [
        "potenciacion_lambda(3, 4)"
      ]
    },
    {
      "cell_type": "markdown",
      "metadata": {
        "id": "VLedOSMV8KWQ"
      },
      "source": [
        "Ejercicio 1 : Escribir una funcion suma de tipo lambda"
      ]
    },
    {
      "cell_type": "code",
      "execution_count": null,
      "metadata": {
        "id": "_G3U4McD8KWQ"
      },
      "outputs": [],
      "source": [
        "#Completar"
      ]
    },
    {
      "cell_type": "markdown",
      "metadata": {
        "id": "ofuwaMP3eOZk"
      },
      "source": [
        "## Comentarios en funciones"
      ]
    },
    {
      "cell_type": "code",
      "execution_count": null,
      "metadata": {
        "id": "sbCCOw8beOVz"
      },
      "outputs": [],
      "source": [
        "def potenciacion(base, exponente):\n",
        "    \"\"\"\n",
        "    funcion que calcula la potenciacion de una base a un exponente\n",
        "\n",
        "    params:\n",
        "\n",
        "    base: int\n",
        "    exponente: int\n",
        "    \"\"\"\n",
        "\n",
        "    return base ** exponente"
      ]
    },
    {
      "cell_type": "code",
      "execution_count": null,
      "metadata": {
        "id": "8xSwYrn3eOLN"
      },
      "outputs": [],
      "source": [
        "potenciacion(3, 5)"
      ]
    },
    {
      "cell_type": "code",
      "execution_count": null,
      "metadata": {
        "id": "yTRMXUtF8KWT"
      },
      "outputs": [],
      "source": [
        "#Solicitamos la informacion de la funcion asociada\n",
        "help(potenciacion)"
      ]
    },
    {
      "cell_type": "markdown",
      "metadata": {
        "id": "e0zdfa-68KWU"
      },
      "source": [
        "Ejercicio 2 : Completar la documentacion de la funcion lambda previamente creada. Tip: Hay que configurar el siguiente atributo: **__doc__**"
      ]
    },
    {
      "cell_type": "code",
      "execution_count": null,
      "metadata": {
        "id": "mvYgcSCK8KWU"
      },
      "outputs": [],
      "source": [
        "#Completar"
      ]
    }
  ],
  "metadata": {
    "colab": {
      "provenance": [],
      "collapsed_sections": [
        "vptAaTUopv_a",
        "2ImNi9Mz_NRQ",
        "ofuwaMP3eOZk"
      ],
      "include_colab_link": true
    },
    "kernelspec": {
      "display_name": "Python 3 (ipykernel)",
      "language": "python",
      "name": "python3"
    },
    "language_info": {
      "codemirror_mode": {
        "name": "ipython",
        "version": 3
      },
      "file_extension": ".py",
      "mimetype": "text/x-python",
      "name": "python",
      "nbconvert_exporter": "python",
      "pygments_lexer": "ipython3",
      "version": "3.9.12"
    },
    "varInspector": {
      "cols": {
        "lenName": 16,
        "lenType": 16,
        "lenVar": 40
      },
      "kernels_config": {
        "python": {
          "delete_cmd_postfix": "",
          "delete_cmd_prefix": "del ",
          "library": "var_list.py",
          "varRefreshCmd": "print(var_dic_list())"
        },
        "r": {
          "delete_cmd_postfix": ") ",
          "delete_cmd_prefix": "rm(",
          "library": "var_list.r",
          "varRefreshCmd": "cat(var_dic_list()) "
        }
      },
      "types_to_exclude": [
        "module",
        "function",
        "builtin_function_or_method",
        "instance",
        "_Feature"
      ],
      "window_display": false
    }
  },
  "nbformat": 4,
  "nbformat_minor": 0
}