{
  "nbformat": 4,
  "nbformat_minor": 0,
  "metadata": {
    "colab": {
      "provenance": [],
      "include_colab_link": true
    },
    "kernelspec": {
      "name": "python3",
      "display_name": "Python 3"
    },
    "language_info": {
      "name": "python"
    }
  },
  "cells": [
    {
      "cell_type": "markdown",
      "metadata": {
        "id": "view-in-github",
        "colab_type": "text"
      },
      "source": [
        "<a href=\"https://colab.research.google.com/github/Malinowsk/Ejercicios-en-Python/blob/main/actividad_resuelta.ipynb\" target=\"_parent\"><img src=\"https://colab.research.google.com/assets/colab-badge.svg\" alt=\"Open In Colab\"/></a>"
      ]
    },
    {
      "cell_type": "code",
      "source": [
        "class Mamifero:\n",
        "    \n",
        "    def __init__(self, mamas, vida):\n",
        "       self.cantidad_mamas = mamas\n",
        "       self.esperanza_de_vida = vida\n",
        "\n",
        "    def mamar(self):\n",
        "        print('COMIENDO')\n",
        "\n",
        "    def nacer(self):\n",
        "        print('NACIENDO')\n",
        "\n",
        "\n",
        "class AnimalMarino:\n",
        "    \n",
        "    def __init__(self, tiene_branqueas, especie):\n",
        "        self.tiene_branqueas = tiene_branqueas\n",
        "        self.especie = especie\n",
        "\n",
        "    def nadar(self):\n",
        "        print('NADANDO')\n",
        "       \n",
        "\n",
        "\n",
        "class Cetaceo(Mamifero, AnimalMarino):\n",
        "\n",
        "    def __init__(self, notas, vive_en, peso, tiene_branqueas, especie, mamas, vida):\n",
        "\n",
        "        # Cuando son herencias multiples hay que definir con que clases trabajar\n",
        "        # super() funciona solo con 1\n",
        "\n",
        "        # Mamifero\n",
        "        Mamifero.__init__(self, mamas=mamas, vida=vida)\n",
        "\n",
        "        # AnimalMarino\n",
        "        AnimalMarino.__init__(self, tiene_branqueas=tiene_branqueas, especie=especie)\n",
        "\n",
        "        self.notas = notas\n",
        "        self.vive_en = vive_en\n",
        "        self.peso = peso\n",
        "    \n",
        "    # Voy a sobreescribir nacer\n",
        "    def nacer(self):\n",
        "        print('CETACEO NACE')\n",
        "\n",
        "    def nadar(self):\n",
        "        super().nadar()\n",
        "        print('Sigue Nadando...')\n"
      ],
      "metadata": {
        "id": "KREmOmdaxiRS"
      },
      "execution_count": null,
      "outputs": []
    },
    {
      "cell_type": "code",
      "source": [
        "delfin_comun = Cetaceo(\n",
        "    vive_en='oceona atlantico', \n",
        "    notas='Es un animal inteligente', \n",
        "    peso=101,\n",
        "    especie='Delfin Común',\n",
        "    mamas=4,\n",
        "    tiene_branqueas=False,\n",
        "    vida=60)\n"
      ],
      "metadata": {
        "id": "nKx1kZI5sLhD"
      },
      "execution_count": null,
      "outputs": []
    },
    {
      "cell_type": "code",
      "source": [
        "delfin_comun.especie # de AnimalMarino"
      ],
      "metadata": {
        "colab": {
          "base_uri": "https://localhost:8080/",
          "height": 35
        },
        "id": "6cfS-T3H6LUd",
        "outputId": "f1b9e25f-0568-465f-deb6-7b495bd27be9"
      },
      "execution_count": null,
      "outputs": [
        {
          "output_type": "execute_result",
          "data": {
            "text/plain": [
              "'Delfin Común'"
            ],
            "application/vnd.google.colaboratory.intrinsic+json": {
              "type": "string"
            }
          },
          "metadata": {},
          "execution_count": 4
        }
      ]
    },
    {
      "cell_type": "code",
      "source": [
        "delfin_comun.esperanza_de_vida  # de Mamifero"
      ],
      "metadata": {
        "colab": {
          "base_uri": "https://localhost:8080/"
        },
        "id": "aR4N5gKN6WEB",
        "outputId": "37c112e2-da42-41f0-e2a7-57d74739a501"
      },
      "execution_count": null,
      "outputs": [
        {
          "output_type": "execute_result",
          "data": {
            "text/plain": [
              "60"
            ]
          },
          "metadata": {},
          "execution_count": 5
        }
      ]
    },
    {
      "cell_type": "code",
      "source": [
        "delfin_comun.peso  # de Cetaceo"
      ],
      "metadata": {
        "colab": {
          "base_uri": "https://localhost:8080/"
        },
        "id": "0BvqkVJe6fFH",
        "outputId": "acb14065-f485-4d19-948e-17c5bbce7d37"
      },
      "execution_count": null,
      "outputs": [
        {
          "output_type": "execute_result",
          "data": {
            "text/plain": [
              "101"
            ]
          },
          "metadata": {},
          "execution_count": 6
        }
      ]
    },
    {
      "cell_type": "code",
      "source": [
        "delfin_comun.nacer()"
      ],
      "metadata": {
        "colab": {
          "base_uri": "https://localhost:8080/"
        },
        "id": "sIPx1pnMsxn6",
        "outputId": "e6dede4f-3929-4fd3-dc9a-935f11f8ce4e"
      },
      "execution_count": null,
      "outputs": [
        {
          "output_type": "stream",
          "name": "stdout",
          "text": [
            "CETACEO NACE\n"
          ]
        }
      ]
    },
    {
      "cell_type": "code",
      "source": [
        "# Fue heredado\n",
        "delfin_comun.mamar()"
      ],
      "metadata": {
        "colab": {
          "base_uri": "https://localhost:8080/"
        },
        "id": "C9yOaub4s5Qy",
        "outputId": "0a0abf12-9e5d-40dc-a4fb-c680894e2afc"
      },
      "execution_count": null,
      "outputs": [
        {
          "output_type": "stream",
          "name": "stdout",
          "text": [
            "COMIENDO\n"
          ]
        }
      ]
    },
    {
      "cell_type": "code",
      "source": [
        "delfin_comun.nadar()"
      ],
      "metadata": {
        "colab": {
          "base_uri": "https://localhost:8080/"
        },
        "id": "QGTVp1LVs_5p",
        "outputId": "c1a05598-274f-4a1c-b360-084e743c6d94"
      },
      "execution_count": null,
      "outputs": [
        {
          "output_type": "stream",
          "name": "stdout",
          "text": [
            "NADANDO\n",
            "Sigue Nadando...\n"
          ]
        }
      ]
    }
  ]
}