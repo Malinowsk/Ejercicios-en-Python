{
  "nbformat": 4,
  "nbformat_minor": 0,
  "metadata": {
    "colab": {
      "provenance": [],
      "include_colab_link": true
    },
    "kernelspec": {
      "name": "python3",
      "display_name": "Python 3"
    },
    "language_info": {
      "name": "python"
    }
  },
  "cells": [
    {
      "cell_type": "markdown",
      "metadata": {
        "id": "view-in-github",
        "colab_type": "text"
      },
      "source": [
        "<a href=\"https://colab.research.google.com/github/Malinowsk/Ejercicios-en-Python/blob/main/vivoclase14.ipynb\" target=\"_parent\"><img src=\"https://colab.research.google.com/assets/colab-badge.svg\" alt=\"Open In Colab\"/></a>"
      ]
    },
    {
      "cell_type": "code",
      "metadata": {
        "id": "UAJ11tN-EtO1"
      },
      "source": [
        "class Persona:\n",
        "\n",
        "  #atributos---inst---clase!!!\n",
        "  especie = \"Humano\"\n",
        "\n",
        "  #definir el constructor\n",
        "  def __init__(self, n, a, e):\n",
        "\n",
        "    self.nombre = n\n",
        "    self.apellido = a\n",
        "    self.__edad = e  #Privada la edad\n",
        "\n",
        "  #metodos\n",
        "  #Clasicos\n",
        "  def __str__(self):\n",
        "    return f\"NOMBRE: -------> {self.nombre}\"\n",
        "\n",
        "  def mostrar(self):\n",
        "    print(f\"NOMBRE: {self.nombre}\\nAPELLIDO: {self.apellido}\\nEDAD: {self.__edad}\")\n",
        "    \n",
        "\n",
        "  #Propios de la persona...\n",
        "  def esMayor(self):\n",
        "\n",
        "    if(self.__edad>=18):\n",
        "\n",
        "      print(\"Felicidades sos Mayor :) \")\n",
        "\n",
        "    else: print(\"Espera unos años para ser feliz....\")\n",
        "\n",
        "\n",
        "  #Creacion de getters y setters\n",
        "\n",
        "  def getEdad(self):\n",
        "    return self.__edad\n",
        "\n",
        "  def setEdad(self, edadNueva): #Modificar la edad :)\n",
        "    self.__edad = edadNueva "
      ],
      "execution_count": null,
      "outputs": []
    },
    {
      "cell_type": "code",
      "metadata": {
        "id": "Ww12PjLdIyFt"
      },
      "source": [
        "p1 = Persona(\"Nico\", \"Perez\", 32)"
      ],
      "execution_count": null,
      "outputs": []
    },
    {
      "cell_type": "code",
      "metadata": {
        "colab": {
          "base_uri": "https://localhost:8080/"
        },
        "id": "CRN-6Rv3I7tT",
        "outputId": "be7b802f-4564-4629-d400-55eafb275fcd"
      },
      "source": [
        "p1"
      ],
      "execution_count": null,
      "outputs": [
        {
          "output_type": "execute_result",
          "data": {
            "text/plain": [
              "<__main__.Persona at 0x7f6d3ec03a90>"
            ]
          },
          "metadata": {},
          "execution_count": 3
        }
      ]
    },
    {
      "cell_type": "code",
      "metadata": {
        "colab": {
          "base_uri": "https://localhost:8080/"
        },
        "id": "tNg4Hs8hI-A7",
        "outputId": "a1e96e8a-63bb-488d-96d6-96e7283089bb"
      },
      "source": [
        "print(p1)  #Str"
      ],
      "execution_count": null,
      "outputs": [
        {
          "output_type": "stream",
          "name": "stdout",
          "text": [
            "NOMBRE: Nico\n"
          ]
        }
      ]
    },
    {
      "cell_type": "code",
      "metadata": {
        "colab": {
          "base_uri": "https://localhost:8080/"
        },
        "id": "suhvASzYJDQy",
        "outputId": "d38a0f30-ac6c-488c-9580-99d87d3c1129"
      },
      "source": [
        "p1.mostrar()"
      ],
      "execution_count": null,
      "outputs": [
        {
          "output_type": "stream",
          "name": "stdout",
          "text": [
            "NOMBRE: Nico\n",
            "APELLIDO: Perez\n",
            "EDAD: 32\n"
          ]
        }
      ]
    },
    {
      "cell_type": "code",
      "metadata": {
        "colab": {
          "base_uri": "https://localhost:8080/"
        },
        "id": "Fg-vBjQ2JIsC",
        "outputId": "aa120937-ddc4-4c26-c0c9-0e3c9506d1ef"
      },
      "source": [
        "p1.esMayor()"
      ],
      "execution_count": null,
      "outputs": [
        {
          "output_type": "stream",
          "name": "stdout",
          "text": [
            "Felicidades sos Mayor :) \n"
          ]
        }
      ]
    },
    {
      "cell_type": "code",
      "metadata": {
        "colab": {
          "base_uri": "https://localhost:8080/",
          "height": 165
        },
        "id": "-NAp_cHZJPk1",
        "outputId": "5bcf4246-f214-4260-e5bc-f72d95218aa4"
      },
      "source": [
        "#mostrar(p1)  "
      ],
      "execution_count": null,
      "outputs": [
        {
          "output_type": "error",
          "ename": "NameError",
          "evalue": "ignored",
          "traceback": [
            "\u001b[0;31m---------------------------------------------------------------------------\u001b[0m",
            "\u001b[0;31mNameError\u001b[0m                                 Traceback (most recent call last)",
            "\u001b[0;32m<ipython-input-7-ba0e5a26ae8e>\u001b[0m in \u001b[0;36m<module>\u001b[0;34m()\u001b[0m\n\u001b[0;32m----> 1\u001b[0;31m \u001b[0mmostrar\u001b[0m\u001b[0;34m(\u001b[0m\u001b[0mp1\u001b[0m\u001b[0;34m)\u001b[0m\u001b[0;34m\u001b[0m\u001b[0;34m\u001b[0m\u001b[0m\n\u001b[0m",
            "\u001b[0;31mNameError\u001b[0m: name 'mostrar' is not defined"
          ]
        }
      ]
    },
    {
      "cell_type": "code",
      "metadata": {
        "id": "i3q7wA7xJjEU"
      },
      "source": [
        "#p1.nombre = \"Brenda\" #Violación a la POO"
      ],
      "execution_count": null,
      "outputs": []
    },
    {
      "cell_type": "code",
      "metadata": {
        "colab": {
          "base_uri": "https://localhost:8080/"
        },
        "id": "kRqvKxOzJn7C",
        "outputId": "77d59316-e2f6-45d9-b72d-cc8337b45472"
      },
      "source": [
        "#p1.mostrar()"
      ],
      "execution_count": null,
      "outputs": [
        {
          "output_type": "stream",
          "name": "stdout",
          "text": [
            "NOMBRE: Brenda\n",
            "APELLIDO: Perez\n",
            "EDAD: 32\n"
          ]
        }
      ]
    },
    {
      "cell_type": "code",
      "metadata": {
        "id": "wFN4xlgzKGBU"
      },
      "source": [
        "p1.__edad = 90  #No modifico el dato :) "
      ],
      "execution_count": null,
      "outputs": []
    },
    {
      "cell_type": "code",
      "metadata": {
        "colab": {
          "base_uri": "https://localhost:8080/"
        },
        "id": "ICaBOs0XKL3C",
        "outputId": "28bd5744-d3c2-4c59-83cf-e4fc2d462a4b"
      },
      "source": [
        "p1.mostrar()"
      ],
      "execution_count": null,
      "outputs": [
        {
          "output_type": "stream",
          "name": "stdout",
          "text": [
            "NOMBRE: Nico\n",
            "APELLIDO: Perez\n",
            "EDAD: 32\n"
          ]
        }
      ]
    },
    {
      "cell_type": "code",
      "metadata": {
        "id": "VRJ4WCXxK0cO"
      },
      "source": [
        "p1.setEdad(101)"
      ],
      "execution_count": null,
      "outputs": []
    },
    {
      "cell_type": "code",
      "metadata": {
        "colab": {
          "base_uri": "https://localhost:8080/"
        },
        "id": "4np3ND66K4TT",
        "outputId": "02d6baff-c45a-41fd-9e6a-25a25283bbd7"
      },
      "source": [
        "p1.mostrar()"
      ],
      "execution_count": null,
      "outputs": [
        {
          "output_type": "stream",
          "name": "stdout",
          "text": [
            "NOMBRE: Nico\n",
            "APELLIDO: Perez\n",
            "EDAD: 101\n"
          ]
        }
      ]
    },
    {
      "cell_type": "code",
      "metadata": {
        "id": "M5fXJQJAK8hl"
      },
      "source": [
        "#FIN REPASO!!!!!!!!!!!!"
      ],
      "execution_count": null,
      "outputs": []
    },
    {
      "cell_type": "code",
      "metadata": {
        "id": "7GmsLXdVP_GV"
      },
      "source": [
        "class Empleado(Persona): #Sueldo, cargo\n",
        "\n",
        "  #Atributos - constructor , las cosas del padre, las cosas del hijo\n",
        "  def __init__(self, nomP, apeP, edadP, sue, car):\n",
        "\n",
        "    #Esta se entiende más :) \n",
        "    #self.nombre = nomP\n",
        "    #self.apellido = apeP\n",
        "    #self.edad = edadP\n",
        "    #self.sueldo = sue\n",
        "    #self.cargo = car\n",
        "\n",
        "    #opcioón dos --- super()\n",
        "    super().__init__(nomP, apeP, edadP)\n",
        "    self.sueldo = sue\n",
        "    self.cargo = car\n",
        "\n",
        "  def __str__(self):\n",
        "\n",
        "      return f\"-----------> {self.sueldo} --- {self.cargo}\"\n",
        "\n",
        "  def mostrar(self):\n",
        "      #super().mostrar() #Me gusto la idea :) \n",
        "      print(f\"SUELDO: {self.sueldo} --- CARGO: {self.cargo}\")\n",
        "\n",
        "\n",
        "  def mostrar1(self):\n",
        "\n",
        "      print(f\"SUELDO: {self.sueldo} --- CARGO: {self.cargo}\")\n",
        "\n",
        "  #Metodos"
      ],
      "execution_count": null,
      "outputs": []
    },
    {
      "cell_type": "code",
      "metadata": {
        "id": "5u16gm5kR0IF"
      },
      "source": [
        "empleado1 = Empleado(\"Pablo\", \"Bravo\", 38, 1999.80, \"Jefe\")"
      ],
      "execution_count": null,
      "outputs": []
    },
    {
      "cell_type": "code",
      "metadata": {
        "colab": {
          "base_uri": "https://localhost:8080/"
        },
        "id": "AcL2aLgLSPSc",
        "outputId": "256ab78a-72a2-4167-e96f-230e0ec70bcb"
      },
      "source": [
        "empleado1"
      ],
      "execution_count": null,
      "outputs": [
        {
          "output_type": "execute_result",
          "data": {
            "text/plain": [
              "<__main__.Empleado at 0x7f6d3eae4810>"
            ]
          },
          "metadata": {},
          "execution_count": 72
        }
      ]
    },
    {
      "cell_type": "code",
      "metadata": {
        "colab": {
          "base_uri": "https://localhost:8080/"
        },
        "id": "7kz9luSPSUiM",
        "outputId": "b95c6674-cd64-4352-c392-b74b39c166fd"
      },
      "source": [
        "print(empleado1)"
      ],
      "execution_count": null,
      "outputs": [
        {
          "output_type": "stream",
          "name": "stdout",
          "text": [
            "-----------> 1999.8 --- Jefe\n"
          ]
        }
      ]
    },
    {
      "cell_type": "code",
      "metadata": {
        "colab": {
          "base_uri": "https://localhost:8080/"
        },
        "id": "Hymoj2kpTE6u",
        "outputId": "67527df2-f1d3-4a8e-9484-6f8717bca23f"
      },
      "source": [
        "empleado1.mostrar() "
      ],
      "execution_count": null,
      "outputs": [
        {
          "output_type": "stream",
          "name": "stdout",
          "text": [
            "SUELDO: 1999.8 --- CARGO: Jefe\n"
          ]
        }
      ]
    },
    {
      "cell_type": "markdown",
      "metadata": {
        "id": "J0BhsJA2c0j7"
      },
      "source": [
        "#Ejemplo integrador"
      ]
    },
    {
      "cell_type": "code",
      "metadata": {
        "id": "WjvZuX-Lc4_b"
      },
      "source": [
        "class Vehiculo:\n",
        "\n",
        "  def __init__(self,p,c):\n",
        "\n",
        "    self.patente = p\n",
        "    self.color =  c\n",
        "\n",
        "  def mostrar(self):\n",
        "    print(f\"-------------\\nPATENTE: {self.patente}\\nCOLOR: {self.color}\")"
      ],
      "execution_count": null,
      "outputs": []
    },
    {
      "cell_type": "code",
      "metadata": {
        "id": "6PWMemhndY1z"
      },
      "source": [
        "class Tren(Vehiculo):\n",
        "\n",
        "  def __init__(self, p, c, l, pre):\n",
        "    super().__init__(p,c)\n",
        "    self.linea = l\n",
        "    self.precio = pre\n",
        "\n",
        "  def mostrar(self):\n",
        "\n",
        "    print(f\"-------TREN-----\\nLINEA: {self.linea}\\nPRECIO: {self.precio}\")\n",
        "    super().mostrar()  ##Super me paré en el paddre y agarre su mostrar :) "
      ],
      "execution_count": null,
      "outputs": []
    },
    {
      "cell_type": "code",
      "metadata": {
        "id": "upDL_jCcd8qM"
      },
      "source": [
        "veh1 = Vehiculo(\"aaasss\", \"Rojo\")"
      ],
      "execution_count": null,
      "outputs": []
    },
    {
      "cell_type": "code",
      "metadata": {
        "colab": {
          "base_uri": "https://localhost:8080/"
        },
        "id": "lPw0z27IeCe0",
        "outputId": "869dd8c1-ec7d-44d2-ef59-bcd1800b2050"
      },
      "source": [
        "veh1.mostrar()"
      ],
      "execution_count": null,
      "outputs": [
        {
          "output_type": "stream",
          "name": "stdout",
          "text": [
            "-------------\n",
            "PATENTE: aaasss\n",
            "COLOR: Rojo\n"
          ]
        }
      ]
    },
    {
      "cell_type": "code",
      "metadata": {
        "id": "wbsAReQJeHFM"
      },
      "source": [
        "t1 = Tren(\"tttaaatt\", \"Verde\", \"Roca\", 12.5)"
      ],
      "execution_count": null,
      "outputs": []
    },
    {
      "cell_type": "code",
      "metadata": {
        "colab": {
          "base_uri": "https://localhost:8080/"
        },
        "id": "5q5lho3ueTEs",
        "outputId": "472d056a-4541-48cb-cebe-d78691aab749"
      },
      "source": [
        "t1.mostrar()"
      ],
      "execution_count": null,
      "outputs": [
        {
          "output_type": "stream",
          "name": "stdout",
          "text": [
            "-------TREN-----\n",
            "LINEA: Roca\n",
            "PRECIO: 12.5\n",
            "-------------\n",
            "PATENTE: tttaaatt\n",
            "COLOR: Verde\n"
          ]
        }
      ]
    },
    {
      "cell_type": "code",
      "metadata": {
        "id": "KbH0hXkofLW-"
      },
      "source": [
        "class FinDelMundo(Tren):\n",
        "  #                 ABUELO  PADRE  hijo\n",
        "  def __init__(self,p, c, l, pre, alt):\n",
        "\n",
        "    \n",
        "    super().__init__(p,c,l,pre) #ERROR ACá\n",
        "    self.altura = alt\n",
        "\n",
        "  def mostrar(self):\n",
        "   \n",
        "    #super().super().mostrar() #Investigar, ir solo a lo del abuelo\n",
        "    super(Tren, self).mostrar()  #<--- Así se hace\n",
        "    #Respuesta a lo que me preguntaron al final.\n",
        "    #No se accede al abuelo con super.super... se accede con super(Padre, self)\n",
        "\n",
        "\n",
        "    #print(f\"ALTURA: {self.altura} msnm\")\n",
        "\n",
        "\n",
        "\n"
      ],
      "execution_count": null,
      "outputs": []
    },
    {
      "cell_type": "code",
      "metadata": {
        "id": "Lj1ysCVagfG4"
      },
      "source": [
        "ejemploFinal = FinDelMundo(\"nicoPat\",\"Rosita\", \"Sarmiento\", 2000, 5678)"
      ],
      "execution_count": null,
      "outputs": []
    },
    {
      "cell_type": "code",
      "metadata": {
        "colab": {
          "base_uri": "https://localhost:8080/"
        },
        "id": "8v3ZJq8Lhu0w",
        "outputId": "9ec93d1c-4d26-4c0a-b2f3-02c575a6517c"
      },
      "source": [
        "ejemploFinal.mostrar()"
      ],
      "execution_count": null,
      "outputs": [
        {
          "output_type": "stream",
          "name": "stdout",
          "text": [
            "-------------\n",
            "PATENTE: nicoPat\n",
            "COLOR: Rosita\n"
          ]
        }
      ]
    }
  ]
}