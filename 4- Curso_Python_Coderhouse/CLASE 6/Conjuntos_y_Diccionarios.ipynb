{
  "cells": [
    {
      "cell_type": "markdown",
      "metadata": {
        "id": "view-in-github",
        "colab_type": "text"
      },
      "source": [
        "<a href=\"https://colab.research.google.com/github/Malinowsk/Ejercicios-en-Python/blob/main/Conjuntos_y_Diccionarios.ipynb\" target=\"_parent\"><img src=\"https://colab.research.google.com/assets/colab-badge.svg\" alt=\"Open In Colab\"/></a>"
      ]
    },
    {
      "cell_type": "markdown",
      "id": "40f920e0",
      "metadata": {
        "id": "40f920e0"
      },
      "source": [
        "# Set!"
      ]
    },
    {
      "cell_type": "code",
      "source": [
        "conjunto_alumnos = {'Emanuel', 'Ivan', 'Diego', 'Natalia', 'Jorge'}"
      ],
      "metadata": {
        "id": "TZ6oSA3Yc7v5"
      },
      "id": "TZ6oSA3Yc7v5",
      "execution_count": null,
      "outputs": []
    },
    {
      "cell_type": "code",
      "source": [
        "type(conjunto_alumnos)"
      ],
      "metadata": {
        "colab": {
          "base_uri": "https://localhost:8080/"
        },
        "id": "Nc034iQdc78O",
        "outputId": "a43d59dd-2a20-4109-fedc-6d05d669ac21"
      },
      "id": "Nc034iQdc78O",
      "execution_count": null,
      "outputs": [
        {
          "output_type": "execute_result",
          "data": {
            "text/plain": [
              "set"
            ]
          },
          "metadata": {},
          "execution_count": 2
        }
      ]
    },
    {
      "cell_type": "code",
      "source": [
        "conjunto_alumnos"
      ],
      "metadata": {
        "colab": {
          "base_uri": "https://localhost:8080/"
        },
        "id": "AmLr7NUcdL-G",
        "outputId": "5091ad1e-7625-4611-ed2e-5e5cc3b7f05e"
      },
      "id": "AmLr7NUcdL-G",
      "execution_count": null,
      "outputs": [
        {
          "output_type": "execute_result",
          "data": {
            "text/plain": [
              "{'Diego', 'Emanuel', 'Ivan', 'Jorge', 'Natalia'}"
            ]
          },
          "metadata": {},
          "execution_count": 17
        }
      ]
    },
    {
      "cell_type": "code",
      "source": [
        "conjunto_a = set()"
      ],
      "metadata": {
        "id": "BKkmFK77dgMd"
      },
      "id": "BKkmFK77dgMd",
      "execution_count": null,
      "outputs": []
    },
    {
      "cell_type": "code",
      "source": [
        "conjunto_a"
      ],
      "metadata": {
        "colab": {
          "base_uri": "https://localhost:8080/"
        },
        "id": "RlUvHEPEdgVR",
        "outputId": "87a01614-ff30-4337-c548-b5ad817e62f6"
      },
      "id": "RlUvHEPEdgVR",
      "execution_count": null,
      "outputs": [
        {
          "output_type": "execute_result",
          "data": {
            "text/plain": [
              "set()"
            ]
          },
          "metadata": {},
          "execution_count": 5
        }
      ]
    },
    {
      "cell_type": "code",
      "source": [
        "conjunto_b = {}"
      ],
      "metadata": {
        "id": "mFibzMvLdxUl"
      },
      "id": "mFibzMvLdxUl",
      "execution_count": null,
      "outputs": []
    },
    {
      "cell_type": "code",
      "source": [
        "# Asi se crea un diccionario vacio, no un conjunto\n",
        "type(conjunto_b)"
      ],
      "metadata": {
        "colab": {
          "base_uri": "https://localhost:8080/"
        },
        "id": "KKHvls4pdmRL",
        "outputId": "f66a733a-5a28-4f17-87bc-0130f5a288c2"
      },
      "id": "KKHvls4pdmRL",
      "execution_count": null,
      "outputs": [
        {
          "output_type": "execute_result",
          "data": {
            "text/plain": [
              "dict"
            ]
          },
          "metadata": {},
          "execution_count": 8
        }
      ]
    },
    {
      "cell_type": "code",
      "source": [
        "conjunto_c = set(['Emanuel', 'Ivan', 'Diego', 'Natalia', 'Jorge'])"
      ],
      "metadata": {
        "id": "dRiImnoadmYF"
      },
      "id": "dRiImnoadmYF",
      "execution_count": null,
      "outputs": []
    },
    {
      "cell_type": "code",
      "source": [
        "conjunto_c"
      ],
      "metadata": {
        "colab": {
          "base_uri": "https://localhost:8080/"
        },
        "id": "UvfDsSkAeB7f",
        "outputId": "62a97708-bcc0-4fcb-d01b-9bdffbcdd5f6"
      },
      "id": "UvfDsSkAeB7f",
      "execution_count": null,
      "outputs": [
        {
          "output_type": "execute_result",
          "data": {
            "text/plain": [
              "{'Diego', 'Emanuel', 'Ivan', 'Jorge', 'Natalia'}"
            ]
          },
          "metadata": {},
          "execution_count": 10
        }
      ]
    },
    {
      "cell_type": "code",
      "source": [
        "lista_ganadores = [\"Juan\", \"Pedro\", \"Gaby\", \"Juan\"]"
      ],
      "metadata": {
        "id": "_k_L6UXQeJY4"
      },
      "id": "_k_L6UXQeJY4",
      "execution_count": null,
      "outputs": []
    },
    {
      "cell_type": "code",
      "source": [
        "# No queremos ganadores repetidos, entonces puedo usar un set\n",
        "conjunto_ganadores = set(lista_ganadores)"
      ],
      "metadata": {
        "id": "T9iMs9vLeWdV"
      },
      "id": "T9iMs9vLeWdV",
      "execution_count": null,
      "outputs": []
    },
    {
      "cell_type": "code",
      "source": [
        "conjunto_ganadores"
      ],
      "metadata": {
        "colab": {
          "base_uri": "https://localhost:8080/"
        },
        "id": "qfhKEFHieCCs",
        "outputId": "eac44588-3742-40cd-d882-3e8d0b60be4a"
      },
      "id": "qfhKEFHieCCs",
      "execution_count": null,
      "outputs": [
        {
          "output_type": "execute_result",
          "data": {
            "text/plain": [
              "{'Gaby', 'Juan', 'Pedro'}"
            ]
          },
          "metadata": {},
          "execution_count": 14
        }
      ]
    },
    {
      "cell_type": "code",
      "source": [
        "conjunto_ganadores[0:2]"
      ],
      "metadata": {
        "id": "yNhQbOKwfWqy"
      },
      "id": "yNhQbOKwfWqy",
      "execution_count": null,
      "outputs": []
    },
    {
      "cell_type": "code",
      "execution_count": null,
      "id": "eb708f34",
      "metadata": {
        "id": "eb708f34"
      },
      "outputs": [],
      "source": [
        "#Empecemos!\n",
        "conjunto1 = {1,2,\"Juan\", \"Juan\"}"
      ]
    },
    {
      "cell_type": "code",
      "execution_count": null,
      "id": "9b6ec357",
      "metadata": {
        "id": "9b6ec357",
        "outputId": "04cf862b-4579-4a14-b7c4-328d83ece8f6",
        "colab": {
          "base_uri": "https://localhost:8080/"
        }
      },
      "outputs": [
        {
          "output_type": "execute_result",
          "data": {
            "text/plain": [
              "{1, 2, 'Juan'}"
            ]
          },
          "metadata": {},
          "execution_count": 21
        }
      ],
      "source": [
        "conjunto1"
      ]
    },
    {
      "cell_type": "code",
      "execution_count": null,
      "id": "77603d31",
      "metadata": {
        "id": "77603d31"
      },
      "outputs": [],
      "source": [
        "#Agregamos un elemento\n",
        "conjunto1.add(\"Nadia\")"
      ]
    },
    {
      "cell_type": "code",
      "execution_count": null,
      "id": "06710945",
      "metadata": {
        "id": "06710945",
        "outputId": "49931cb0-2c5c-45d7-f17a-547180930e1c",
        "colab": {
          "base_uri": "https://localhost:8080/"
        }
      },
      "outputs": [
        {
          "output_type": "execute_result",
          "data": {
            "text/plain": [
              "{1, 2, 'Juan', 'Nadia'}"
            ]
          },
          "metadata": {},
          "execution_count": 23
        }
      ],
      "source": [
        "conjunto1"
      ]
    },
    {
      "cell_type": "code",
      "source": [
        "conjunto1.add(\"Juan\")"
      ],
      "metadata": {
        "id": "DjSN5TTwf7i5"
      },
      "id": "DjSN5TTwf7i5",
      "execution_count": null,
      "outputs": []
    },
    {
      "cell_type": "code",
      "source": [
        "conjunto1"
      ],
      "metadata": {
        "colab": {
          "base_uri": "https://localhost:8080/"
        },
        "id": "3GgE0e5Rf-La",
        "outputId": "feef39c9-acd5-4326-9c13-bfc8aa53af5f"
      },
      "id": "3GgE0e5Rf-La",
      "execution_count": null,
      "outputs": [
        {
          "output_type": "execute_result",
          "data": {
            "text/plain": [
              "{1, 2, 'Juan', 'Nadia'}"
            ]
          },
          "metadata": {},
          "execution_count": 26
        }
      ]
    },
    {
      "cell_type": "code",
      "execution_count": null,
      "id": "8ce6e863",
      "metadata": {
        "id": "8ce6e863"
      },
      "outputs": [],
      "source": [
        "#Actualizamos un elemento\n",
        "conjunto1.update([33, 12, \"Miguel\"])"
      ]
    },
    {
      "cell_type": "code",
      "execution_count": null,
      "id": "25f6d69d",
      "metadata": {
        "id": "25f6d69d",
        "outputId": "2d8d6a14-42d7-427e-b9ec-db7cff972e2f",
        "colab": {
          "base_uri": "https://localhost:8080/"
        }
      },
      "outputs": [
        {
          "output_type": "execute_result",
          "data": {
            "text/plain": [
              "{1, 12, 2, 33, 'Juan', 'Miguel', 'Nadia'}"
            ]
          },
          "metadata": {},
          "execution_count": 28
        }
      ],
      "source": [
        "conjunto1"
      ]
    },
    {
      "cell_type": "code",
      "execution_count": null,
      "id": "b74de209",
      "metadata": {
        "id": "b74de209"
      },
      "outputs": [],
      "source": [
        "#Eliminamos el valor 33\n",
        "conjunto1.discard(33)"
      ]
    },
    {
      "cell_type": "code",
      "execution_count": null,
      "id": "e204a330",
      "metadata": {
        "id": "e204a330",
        "outputId": "c72f8bec-82d3-4890-85e0-cc8c98f8a9fd",
        "colab": {
          "base_uri": "https://localhost:8080/"
        }
      },
      "outputs": [
        {
          "output_type": "execute_result",
          "data": {
            "text/plain": [
              "{1, 12, 2, 'Juan', 'Miguel', 'Nadia'}"
            ]
          },
          "metadata": {},
          "execution_count": 30
        }
      ],
      "source": [
        "conjunto1"
      ]
    },
    {
      "cell_type": "code",
      "execution_count": null,
      "id": "5fe0cc65",
      "metadata": {
        "id": "5fe0cc65"
      },
      "outputs": [],
      "source": [
        "#Tratamos de eliminar un elemento que no existe\n",
        "conjunto1.discard(\"Pepe\")"
      ]
    },
    {
      "cell_type": "code",
      "execution_count": null,
      "id": "b92332b0",
      "metadata": {
        "id": "b92332b0",
        "outputId": "93c169ea-c279-43e3-8fcc-388c14c35c27",
        "colab": {
          "base_uri": "https://localhost:8080/"
        }
      },
      "outputs": [
        {
          "output_type": "execute_result",
          "data": {
            "text/plain": [
              "{1, 12, 2, 'Juan', 'Miguel', 'Nadia'}"
            ]
          },
          "metadata": {},
          "execution_count": 32
        }
      ],
      "source": [
        "conjunto1"
      ]
    },
    {
      "cell_type": "code",
      "execution_count": null,
      "id": "a38e1518",
      "metadata": {
        "id": "a38e1518",
        "outputId": "a7de5320-ca26-4cda-e496-a61d232b7be3",
        "colab": {
          "base_uri": "https://localhost:8080/",
          "height": 166
        }
      },
      "outputs": [
        {
          "output_type": "error",
          "ename": "KeyError",
          "evalue": "ignored",
          "traceback": [
            "\u001b[0;31m---------------------------------------------------------------------------\u001b[0m",
            "\u001b[0;31mKeyError\u001b[0m                                  Traceback (most recent call last)",
            "\u001b[0;32m<ipython-input-33-8b11f61f40d6>\u001b[0m in \u001b[0;36m<module>\u001b[0;34m\u001b[0m\n\u001b[0;32m----> 1\u001b[0;31m \u001b[0mconjunto1\u001b[0m\u001b[0;34m.\u001b[0m\u001b[0mremove\u001b[0m\u001b[0;34m(\u001b[0m\u001b[0;34m\"Pepe\"\u001b[0m\u001b[0;34m)\u001b[0m  \u001b[0;31m#me muestra un error\u001b[0m\u001b[0;34m\u001b[0m\u001b[0;34m\u001b[0m\u001b[0m\n\u001b[0m",
            "\u001b[0;31mKeyError\u001b[0m: 'Pepe'"
          ]
        }
      ],
      "source": [
        "conjunto1.remove(\"Pepe\")  #me muestra un error"
      ]
    },
    {
      "cell_type": "code",
      "execution_count": null,
      "id": "2b216ee6",
      "metadata": {
        "id": "2b216ee6",
        "colab": {
          "base_uri": "https://localhost:8080/"
        },
        "outputId": "3837fdcd-51b4-49ed-b032-5ef28fb5bf41"
      },
      "outputs": [
        {
          "output_type": "execute_result",
          "data": {
            "text/plain": [
              "False"
            ]
          },
          "metadata": {},
          "execution_count": 34
        }
      ],
      "source": [
        "# Chequear contencion o pertenencia\n",
        "\"Nico\" in conjunto1"
      ]
    },
    {
      "cell_type": "code",
      "source": [
        "\"Juan\" in conjunto1"
      ],
      "metadata": {
        "colab": {
          "base_uri": "https://localhost:8080/"
        },
        "id": "EJ15fs3BiFRm",
        "outputId": "05df94f0-062c-49ab-c995-8ee1a7ced58d"
      },
      "id": "EJ15fs3BiFRm",
      "execution_count": null,
      "outputs": [
        {
          "output_type": "execute_result",
          "data": {
            "text/plain": [
              "True"
            ]
          },
          "metadata": {},
          "execution_count": 35
        }
      ]
    },
    {
      "cell_type": "code",
      "source": [
        "conjunto1"
      ],
      "metadata": {
        "colab": {
          "base_uri": "https://localhost:8080/"
        },
        "id": "339HMRviiKyS",
        "outputId": "7a7305a1-5fda-482e-99e5-82f16e496662"
      },
      "id": "339HMRviiKyS",
      "execution_count": null,
      "outputs": [
        {
          "output_type": "execute_result",
          "data": {
            "text/plain": [
              "{'Juan', 'Nadia'}"
            ]
          },
          "metadata": {},
          "execution_count": 47
        }
      ]
    },
    {
      "cell_type": "code",
      "execution_count": null,
      "id": "b233ee05",
      "metadata": {
        "id": "b233ee05",
        "colab": {
          "base_uri": "https://localhost:8080/"
        },
        "outputId": "62672aa0-ed9c-47c0-e92c-087642fdfbf9"
      },
      "outputs": [
        {
          "output_type": "execute_result",
          "data": {
            "text/plain": [
              "12"
            ]
          },
          "metadata": {},
          "execution_count": 46
        }
      ],
      "source": [
        "conjunto1.pop() #ejecutamos varias veces! nos muestra aleatoriamente los valores"
      ]
    },
    {
      "cell_type": "code",
      "execution_count": null,
      "id": "d659ed73",
      "metadata": {
        "id": "d659ed73"
      },
      "outputs": [],
      "source": [
        "grupo = {\"Pablo\", \"Nico\", \"Nadia\", \"Ezeqiel\"}"
      ]
    },
    {
      "cell_type": "code",
      "execution_count": null,
      "id": "25861263",
      "metadata": {
        "id": "25861263"
      },
      "outputs": [],
      "source": [
        "grupo"
      ]
    },
    {
      "cell_type": "code",
      "execution_count": null,
      "id": "0884d1a6",
      "metadata": {
        "id": "0884d1a6"
      },
      "outputs": [],
      "source": [
        "#Agregamos un elemento\n",
        "grupo.add(\"Jeremias\")"
      ]
    },
    {
      "cell_type": "code",
      "execution_count": null,
      "id": "36871109",
      "metadata": {
        "id": "36871109"
      },
      "outputs": [],
      "source": [
        "#Eliminamos a Nico\n",
        "grupo.discard(\"Nico\")"
      ]
    },
    {
      "cell_type": "code",
      "execution_count": null,
      "id": "5b75526d",
      "metadata": {
        "id": "5b75526d"
      },
      "outputs": [],
      "source": [
        "grupo"
      ]
    },
    {
      "cell_type": "code",
      "execution_count": null,
      "id": "e6a74fb0",
      "metadata": {
        "id": "e6a74fb0"
      },
      "outputs": [],
      "source": [
        "grupo.discard(\"Pablo\", \"Nadia\")"
      ]
    },
    {
      "cell_type": "code",
      "execution_count": null,
      "id": "4045a429",
      "metadata": {
        "id": "4045a429"
      },
      "outputs": [],
      "source": [
        "print(len(grupo))"
      ]
    },
    {
      "cell_type": "code",
      "execution_count": null,
      "id": "ad70789b",
      "metadata": {
        "id": "ad70789b"
      },
      "outputs": [],
      "source": [
        "#Verificamos y efectivamente es correcto!\n",
        "grupo"
      ]
    },
    {
      "cell_type": "code",
      "execution_count": null,
      "id": "44e0228b",
      "metadata": {
        "id": "44e0228b"
      },
      "outputs": [],
      "source": [
        "#Ejemplos :)\n",
        "myset = {\"manzana\", \"banana\", \"cherry\"}\n",
        "print(type(myset))"
      ]
    },
    {
      "cell_type": "code",
      "execution_count": null,
      "id": "1931dae2",
      "metadata": {
        "id": "1931dae2",
        "colab": {
          "base_uri": "https://localhost:8080/"
        },
        "outputId": "e7a4f6ad-e6ef-4360-ccca-1183362605f8"
      },
      "outputs": [
        {
          "output_type": "stream",
          "name": "stdout",
          "text": [
            "{'manzana', 'cherry', 'banana'}\n"
          ]
        }
      ],
      "source": [
        "#Uso de la funcion: Set()\n",
        "myset2 = set((\"manzana\", \"banana\", \"cherry\")) \n",
        "print(myset2)"
      ]
    },
    {
      "cell_type": "code",
      "execution_count": null,
      "id": "e96e852a",
      "metadata": {
        "id": "e96e852a",
        "colab": {
          "base_uri": "https://localhost:8080/"
        },
        "outputId": "4829c937-1389-4093-d464-20aef8b66e6b"
      },
      "outputs": [
        {
          "output_type": "stream",
          "name": "stdout",
          "text": [
            "manzana\n",
            "cherry\n",
            "banana\n"
          ]
        }
      ],
      "source": [
        "#Los sets son objetos iterables\n",
        "for x in myset2:\n",
        "  print(x)"
      ]
    },
    {
      "cell_type": "markdown",
      "id": "e17d244c",
      "metadata": {
        "id": "e17d244c"
      },
      "source": [
        "# Diccionarios"
      ]
    },
    {
      "cell_type": "markdown",
      "id": "79150d76",
      "metadata": {
        "id": "79150d76"
      },
      "source": [
        "Un diccionario es una estructura de datos que almacena la información en forma de pares con una clave única y un valor asociado. Existen diferentes maneras de crear un diccionario, veamos los casos mas generales:"
      ]
    },
    {
      "cell_type": "code",
      "source": [
        "# Link es el personaje principal de Zelda\n",
        "# cada par de elementos => llave: valor\n",
        "\n",
        "link = {\n",
        "    \"nombre\": \"Link\",\n",
        "    \"edad\": 7,\n",
        "    \"vida_total\": 10,  #corazones\n",
        "    \"vida_actual\": 5,\n",
        "    \"lanza_fuego\": False,\n",
        "    \"objetos\": [\"piedra\", \"espada\", \"escudo\"]\n",
        "}"
      ],
      "metadata": {
        "id": "mzrOkcAKpVkR"
      },
      "id": "mzrOkcAKpVkR",
      "execution_count": null,
      "outputs": []
    },
    {
      "cell_type": "code",
      "source": [
        "link"
      ],
      "metadata": {
        "colab": {
          "base_uri": "https://localhost:8080/"
        },
        "id": "PUhae2bYp7xP",
        "outputId": "e631b6b4-c4cc-484e-a293-4aa297b62b9c"
      },
      "id": "PUhae2bYp7xP",
      "execution_count": null,
      "outputs": [
        {
          "output_type": "execute_result",
          "data": {
            "text/plain": [
              "{'nombre': 'Link',\n",
              " 'edad': 7,\n",
              " 'vida_total': 10,\n",
              " 'vida_actual': 5,\n",
              " 'lanza_fuego': False,\n",
              " 'objetos': ['piedra', 'espada', 'escudo']}"
            ]
          },
          "metadata": {},
          "execution_count": 51
        }
      ]
    },
    {
      "cell_type": "code",
      "source": [
        "# diccionario usado para traducir colores del español al ingles\n",
        "colores = {\n",
        "    \"amarillo\": \"yellow\",\n",
        "    \"rojo\": \"red\",\n",
        "    \"azul\": \"blue\"\n",
        "}"
      ],
      "metadata": {
        "id": "yGVj8m3Qp79e"
      },
      "id": "yGVj8m3Qp79e",
      "execution_count": null,
      "outputs": []
    },
    {
      "cell_type": "code",
      "source": [
        "colores[\"amarillo\"]"
      ],
      "metadata": {
        "colab": {
          "base_uri": "https://localhost:8080/",
          "height": 35
        },
        "id": "O83b2L0Lp8FC",
        "outputId": "e5a2da64-10dd-48fd-90a5-5f62347d6b1c"
      },
      "id": "O83b2L0Lp8FC",
      "execution_count": null,
      "outputs": [
        {
          "output_type": "execute_result",
          "data": {
            "text/plain": [
              "'yellow'"
            ],
            "application/vnd.google.colaboratory.intrinsic+json": {
              "type": "string"
            }
          },
          "metadata": {},
          "execution_count": 53
        }
      ]
    },
    {
      "cell_type": "code",
      "source": [
        "link[\"vida_actual\"]"
      ],
      "metadata": {
        "colab": {
          "base_uri": "https://localhost:8080/"
        },
        "id": "31wuMkQ3r_i5",
        "outputId": "b56e7770-38ac-452b-cdd5-e9fb178e1a67"
      },
      "id": "31wuMkQ3r_i5",
      "execution_count": null,
      "outputs": [
        {
          "output_type": "execute_result",
          "data": {
            "text/plain": [
              "5"
            ]
          },
          "metadata": {},
          "execution_count": 54
        }
      ]
    },
    {
      "cell_type": "code",
      "source": [
        "jugadores = {\n",
        "    30: \"Messi\",\n",
        "    10: \"Neymar\"\n",
        "}"
      ],
      "metadata": {
        "id": "-h_3dElIr_pz"
      },
      "id": "-h_3dElIr_pz",
      "execution_count": null,
      "outputs": []
    },
    {
      "cell_type": "code",
      "source": [
        "jugadores[10]"
      ],
      "metadata": {
        "colab": {
          "base_uri": "https://localhost:8080/",
          "height": 35
        },
        "id": "Xqi6qUbjsjgZ",
        "outputId": "296c9698-4507-49c9-c08f-1c0323cc18b4"
      },
      "id": "Xqi6qUbjsjgZ",
      "execution_count": null,
      "outputs": [
        {
          "output_type": "execute_result",
          "data": {
            "text/plain": [
              "'Neymar'"
            ],
            "application/vnd.google.colaboratory.intrinsic+json": {
              "type": "string"
            }
          },
          "metadata": {},
          "execution_count": 57
        }
      ]
    },
    {
      "cell_type": "code",
      "source": [
        "jugadores"
      ],
      "metadata": {
        "colab": {
          "base_uri": "https://localhost:8080/"
        },
        "id": "u1qbIpebtae3",
        "outputId": "961665b0-41b8-46c1-edef-a5588f52325d"
      },
      "id": "u1qbIpebtae3",
      "execution_count": null,
      "outputs": [
        {
          "output_type": "execute_result",
          "data": {
            "text/plain": [
              "{30: 'Messi', 10: 'Neymar', 9: 'Julian'}"
            ]
          },
          "metadata": {},
          "execution_count": 60
        }
      ]
    },
    {
      "cell_type": "code",
      "source": [
        "jugadores[9] = \"Julian\""
      ],
      "metadata": {
        "id": "TSclmYULsjnV"
      },
      "id": "TSclmYULsjnV",
      "execution_count": null,
      "outputs": []
    },
    {
      "cell_type": "code",
      "source": [
        "link[\"vida_actual\"]"
      ],
      "metadata": {
        "colab": {
          "base_uri": "https://localhost:8080/"
        },
        "id": "KEMXLIejsju5",
        "outputId": "3dabd1cc-fb85-4bfc-953e-3ebc6ad7026d"
      },
      "id": "KEMXLIejsju5",
      "execution_count": null,
      "outputs": [
        {
          "output_type": "execute_result",
          "data": {
            "text/plain": [
              "5"
            ]
          },
          "metadata": {},
          "execution_count": 61
        }
      ]
    },
    {
      "cell_type": "code",
      "source": [
        "# Link se tomo una leche\n",
        "link[\"vida_actual\"] += 5"
      ],
      "metadata": {
        "id": "MmxpaphHtso1"
      },
      "id": "MmxpaphHtso1",
      "execution_count": null,
      "outputs": []
    },
    {
      "cell_type": "code",
      "source": [
        "link[\"vida_actual\"]"
      ],
      "metadata": {
        "colab": {
          "base_uri": "https://localhost:8080/"
        },
        "id": "qrODxRu7tszj",
        "outputId": "ebe12168-23f0-47c7-81a4-f63173c4f45b"
      },
      "id": "qrODxRu7tszj",
      "execution_count": null,
      "outputs": [
        {
          "output_type": "execute_result",
          "data": {
            "text/plain": [
              "10"
            ]
          },
          "metadata": {},
          "execution_count": 63
        }
      ]
    },
    {
      "cell_type": "code",
      "source": [
        "link[\"vida_actual\"] = 1"
      ],
      "metadata": {
        "id": "ubN0fjj3t5Ed"
      },
      "id": "ubN0fjj3t5Ed",
      "execution_count": null,
      "outputs": []
    },
    {
      "cell_type": "code",
      "source": [
        "link[\"vida_actual\"]"
      ],
      "metadata": {
        "colab": {
          "base_uri": "https://localhost:8080/"
        },
        "id": "TNkqvV2Yt79i",
        "outputId": "7dc56d70-2f29-4941-b607-648db1cc2e21"
      },
      "id": "TNkqvV2Yt79i",
      "execution_count": null,
      "outputs": [
        {
          "output_type": "execute_result",
          "data": {
            "text/plain": [
              "1"
            ]
          },
          "metadata": {},
          "execution_count": 65
        }
      ]
    },
    {
      "cell_type": "code",
      "execution_count": null,
      "id": "42c80f6e",
      "metadata": {
        "id": "42c80f6e"
      },
      "outputs": [],
      "source": [
        "# Diccionario vacío inicializado con dict()\n",
        "my_dict = dict()\n",
        "# Diccionario vacío inicializado con llaves\n",
        "my_dict = {}\n",
        "# Diccionario inicializado con valores\n",
        "my_dict = {'status': True, 'msg': 'ok'}"
      ]
    },
    {
      "cell_type": "markdown",
      "id": "de144727",
      "metadata": {
        "id": "de144727"
      },
      "source": [
        "Para acceder al valor de un elemento, podemos realizarlo de la siguiente manera"
      ]
    },
    {
      "cell_type": "code",
      "execution_count": null,
      "id": "10ea34ac",
      "metadata": {
        "id": "10ea34ac",
        "outputId": "82dd33ef-1c15-409e-b1c6-11bc0be014ea",
        "colab": {
          "base_uri": "https://localhost:8080/"
        }
      },
      "outputs": [
        {
          "output_type": "stream",
          "name": "stdout",
          "text": [
            "World\n"
          ]
        }
      ],
      "source": [
        "my_dict = {\n",
        "    'hello': 'World',\n",
        "    'msg': 'Estamos bien!'\n",
        "}\n",
        "\n",
        "print(my_dict['hello'])"
      ]
    },
    {
      "cell_type": "markdown",
      "id": "4527737d",
      "metadata": {
        "id": "4527737d"
      },
      "source": [
        "Si queremos obtener un listado con todas las claves de un diccionario, podemos convertirlo en una lista de la siguiente forma:"
      ]
    },
    {
      "cell_type": "code",
      "execution_count": null,
      "id": "b9993924",
      "metadata": {
        "id": "b9993924",
        "outputId": "e6fe9103-f982-48a3-e08f-86ebad3592e7",
        "colab": {
          "base_uri": "https://localhost:8080/"
        }
      },
      "outputs": [
        {
          "output_type": "stream",
          "name": "stdout",
          "text": [
            "['hello', 'msg']\n"
          ]
        }
      ],
      "source": [
        "my_dict = {\n",
        "    'hello': 'World',\n",
        "    'msg': 'Estamos bien!'\n",
        "}\n",
        "\n",
        "print(list(my_dict))"
      ]
    },
    {
      "cell_type": "markdown",
      "id": "9cd03c7d",
      "metadata": {
        "id": "9cd03c7d"
      },
      "source": [
        "Para obtener el número de elementos de un diccionario como bien hemos visto utilizaremos la función len."
      ]
    },
    {
      "cell_type": "code",
      "execution_count": null,
      "id": "02200e02",
      "metadata": {
        "id": "02200e02",
        "outputId": "feb071e5-edf3-4466-b3b9-eb7262ae8edb",
        "colab": {
          "base_uri": "https://localhost:8080/"
        }
      },
      "outputs": [
        {
          "output_type": "execute_result",
          "data": {
            "text/plain": [
              "2"
            ]
          },
          "metadata": {},
          "execution_count": 68
        }
      ],
      "source": [
        "my_dict = {\n",
        "    'hello': 'World',\n",
        "    'msg': 'Estamos bien!'\n",
        "}\n",
        "\n",
        "len(my_dict)"
      ]
    },
    {
      "cell_type": "markdown",
      "id": "0a6b0644",
      "metadata": {
        "id": "0a6b0644"
      },
      "source": [
        "Para comprobar si existe una clave o no dentro de un diccionario, podemos usar el operador in, esta acción siempre nos devolverá como resultado un booleano. Veamos algunos ejemplos:"
      ]
    },
    {
      "cell_type": "code",
      "execution_count": null,
      "id": "884b6d38",
      "metadata": {
        "id": "884b6d38",
        "outputId": "0eadfc88-49fb-4221-e5eb-b555a053d428",
        "colab": {
          "base_uri": "https://localhost:8080/"
        }
      },
      "outputs": [
        {
          "output_type": "stream",
          "name": "stdout",
          "text": [
            "True\n",
            "True\n"
          ]
        }
      ],
      "source": [
        "my_dict = {\n",
        "    'hello': 'World',\n",
        "    'msg': 'Estamos bien!'\n",
        "}\n",
        "\n",
        "result = 'hello' in my_dict\n",
        "print(result)\n",
        "result2 = 'bye' not in my_dict\n",
        "print(result2)"
      ]
    },
    {
      "cell_type": "code",
      "execution_count": null,
      "id": "f53be393",
      "metadata": {
        "id": "f53be393",
        "outputId": "e8f37f00-a075-43ae-d158-23d0a74af804",
        "colab": {
          "base_uri": "https://localhost:8080/"
        }
      },
      "outputs": [
        {
          "output_type": "stream",
          "name": "stdout",
          "text": [
            "{1: 'Casillas', 15: 'Ramos', 3: 'Pique', 5: 'Puyol', 11: 'Capdevila', 14: 'Xabi Alonso', 16: 'Busquets', 8: 'Xavi Hernandez', 18: 'Pedrito', 6: 'Iniesta', 7: 'Villa'}\n"
          ]
        }
      ],
      "source": [
        "#Otro ejemplo mas!\n",
        "futbolistas = {\n",
        "    1 : \"Casillas\", 15 : \"Ramos\",\n",
        "    3 : \"Pique\", 5 : \"Puyol\",\n",
        "    11 : \"Capdevila\", 14 : \"Xabi Alonso\",\n",
        "    16 : \"Busquets\", 8 : \"Xavi Hernandez\",\n",
        "    18 : \"Pedrito\", 6 : \"Iniesta\",\n",
        "    7 : \"Villa\"\n",
        "}\n",
        "print(futbolistas)"
      ]
    },
    {
      "cell_type": "code",
      "source": [
        "link"
      ],
      "metadata": {
        "colab": {
          "base_uri": "https://localhost:8080/"
        },
        "id": "I8yI_Qp1vhtW",
        "outputId": "2112f4f8-74b4-4739-ba1c-d56f55ce09f7"
      },
      "id": "I8yI_Qp1vhtW",
      "execution_count": null,
      "outputs": [
        {
          "output_type": "execute_result",
          "data": {
            "text/plain": [
              "{'nombre': 'Link',\n",
              " 'edad': 7,\n",
              " 'vida_total': 10,\n",
              " 'vida_actual': 1,\n",
              " 'lanza_fuego': False,\n",
              " 'objetos': ['piedra', 'espada', 'escudo']}"
            ]
          },
          "metadata": {},
          "execution_count": 71
        }
      ]
    },
    {
      "cell_type": "code",
      "source": [
        "del link['objetos']"
      ],
      "metadata": {
        "id": "1CTHCB30vkXl"
      },
      "id": "1CTHCB30vkXl",
      "execution_count": null,
      "outputs": []
    },
    {
      "cell_type": "code",
      "source": [
        "link"
      ],
      "metadata": {
        "colab": {
          "base_uri": "https://localhost:8080/"
        },
        "id": "oRop4E7Wvqfi",
        "outputId": "a01a74a1-411d-4ed1-9be0-8b54100a7e11"
      },
      "id": "oRop4E7Wvqfi",
      "execution_count": null,
      "outputs": [
        {
          "output_type": "execute_result",
          "data": {
            "text/plain": [
              "{'nombre': 'Link',\n",
              " 'edad': 7,\n",
              " 'vida_total': 10,\n",
              " 'vida_actual': 1,\n",
              " 'lanza_fuego': False}"
            ]
          },
          "metadata": {},
          "execution_count": 73
        }
      ]
    },
    {
      "cell_type": "code",
      "source": [
        "link.update({\"edad\": 20, \"objetos\": [\"espada del poder\", \"arco infinito\"]})"
      ],
      "metadata": {
        "id": "MWf5qobLvtyT"
      },
      "id": "MWf5qobLvtyT",
      "execution_count": null,
      "outputs": []
    },
    {
      "cell_type": "code",
      "source": [
        "link"
      ],
      "metadata": {
        "colab": {
          "base_uri": "https://localhost:8080/"
        },
        "id": "1Xe090REwDE8",
        "outputId": "f2d6ce12-b5d6-465c-afaa-d5d9323be305"
      },
      "id": "1Xe090REwDE8",
      "execution_count": null,
      "outputs": [
        {
          "output_type": "execute_result",
          "data": {
            "text/plain": [
              "{'nombre': 'Link',\n",
              " 'edad': 20,\n",
              " 'vida_total': 10,\n",
              " 'vida_actual': 1,\n",
              " 'lanza_fuego': False,\n",
              " 'objetos': ['espada del poder', 'arco infinito']}"
            ]
          },
          "metadata": {},
          "execution_count": 75
        }
      ]
    },
    {
      "cell_type": "code",
      "source": [
        "paises_capitales = {\n",
        "    \"Venezuela\": \"Caracas\",\n",
        "    \"Brazil\": \"Brazilia\",\n",
        "    \"Uruguay\": \"Montevideo\"\n",
        "}"
      ],
      "metadata": {
        "id": "-4JXn5N0wIiX"
      },
      "id": "-4JXn5N0wIiX",
      "execution_count": null,
      "outputs": []
    },
    {
      "cell_type": "code",
      "source": [
        "paises_capitales"
      ],
      "metadata": {
        "colab": {
          "base_uri": "https://localhost:8080/"
        },
        "id": "d1meCETEwS2M",
        "outputId": "93711684-5010-4221-af21-8ba531f43467"
      },
      "id": "d1meCETEwS2M",
      "execution_count": null,
      "outputs": [
        {
          "output_type": "execute_result",
          "data": {
            "text/plain": [
              "{'Venezuela': 'Caracas 2', 'Brazil': 'Brazilia', 'Uruguay': 'Montevideo'}"
            ]
          },
          "metadata": {},
          "execution_count": 87
        }
      ]
    },
    {
      "cell_type": "code",
      "source": [
        "paises_capitales.clear()"
      ],
      "metadata": {
        "id": "zbYJCIH0wZyB"
      },
      "id": "zbYJCIH0wZyB",
      "execution_count": null,
      "outputs": []
    },
    {
      "cell_type": "code",
      "source": [
        "paises_capitales"
      ],
      "metadata": {
        "colab": {
          "base_uri": "https://localhost:8080/"
        },
        "id": "R9JIlITGwhP1",
        "outputId": "4bcdf089-e715-43fa-92d8-559adca85220"
      },
      "id": "R9JIlITGwhP1",
      "execution_count": null,
      "outputs": [
        {
          "output_type": "execute_result",
          "data": {
            "text/plain": [
              "{}"
            ]
          },
          "metadata": {},
          "execution_count": 82
        }
      ]
    },
    {
      "cell_type": "code",
      "source": [
        "type(paises_capitales)"
      ],
      "metadata": {
        "colab": {
          "base_uri": "https://localhost:8080/"
        },
        "id": "jy8p5Pxbwj5d",
        "outputId": "a84d7bd5-a977-4121-e152-1be387cc266d"
      },
      "id": "jy8p5Pxbwj5d",
      "execution_count": null,
      "outputs": [
        {
          "output_type": "execute_result",
          "data": {
            "text/plain": [
              "dict"
            ]
          },
          "metadata": {},
          "execution_count": 83
        }
      ]
    }
  ],
  "metadata": {
    "kernelspec": {
      "display_name": "Python 3 (ipykernel)",
      "language": "python",
      "name": "python3"
    },
    "language_info": {
      "codemirror_mode": {
        "name": "ipython",
        "version": 3
      },
      "file_extension": ".py",
      "mimetype": "text/x-python",
      "name": "python",
      "nbconvert_exporter": "python",
      "pygments_lexer": "ipython3",
      "version": "3.8.8"
    },
    "varInspector": {
      "cols": {
        "lenName": 16,
        "lenType": 16,
        "lenVar": 40
      },
      "kernels_config": {
        "python": {
          "delete_cmd_postfix": "",
          "delete_cmd_prefix": "del ",
          "library": "var_list.py",
          "varRefreshCmd": "print(var_dic_list())"
        },
        "r": {
          "delete_cmd_postfix": ") ",
          "delete_cmd_prefix": "rm(",
          "library": "var_list.r",
          "varRefreshCmd": "cat(var_dic_list()) "
        }
      },
      "types_to_exclude": [
        "module",
        "function",
        "builtin_function_or_method",
        "instance",
        "_Feature"
      ],
      "window_display": false
    },
    "colab": {
      "provenance": [],
      "include_colab_link": true
    }
  },
  "nbformat": 4,
  "nbformat_minor": 5
}