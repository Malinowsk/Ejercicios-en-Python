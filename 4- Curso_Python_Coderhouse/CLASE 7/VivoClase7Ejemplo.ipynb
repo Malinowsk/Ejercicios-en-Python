{
  "nbformat": 4,
  "nbformat_minor": 0,
  "metadata": {
    "colab": {
      "provenance": [],
      "collapsed_sections": [
        "sWj7KOKdpjlZ",
        "X6SWmCeRpyVw",
        "7s_lVXdUqD33",
        "k4AtZHgOt5KP"
      ],
      "include_colab_link": true
    },
    "kernelspec": {
      "name": "python3",
      "display_name": "Python 3"
    },
    "language_info": {
      "name": "python"
    }
  },
  "cells": [
    {
      "cell_type": "markdown",
      "metadata": {
        "id": "view-in-github",
        "colab_type": "text"
      },
      "source": [
        "<a href=\"https://colab.research.google.com/github/Malinowsk/Ejercicios-en-Python/blob/main/VivoClase7Ejemplo.ipynb\" target=\"_parent\"><img src=\"https://colab.research.google.com/assets/colab-badge.svg\" alt=\"Open In Colab\"/></a>"
      ]
    },
    {
      "cell_type": "markdown",
      "metadata": {
        "id": "sWj7KOKdpjlZ"
      },
      "source": [
        "# Repaso 1:  Mostrar por pantalla todos los números naturales impares divisibles por 3 menores a 50. "
      ]
    },
    {
      "cell_type": "code",
      "metadata": {
        "id": "3AANXI_fOiwm"
      },
      "source": [
        "# 3 6!!!!!   9 ----  15  -----  21 ------  45!!!!!\n",
        "\n",
        "for numero in range(3,50,6):\n",
        "\n",
        "  print(f\"----> {numero}\")"
      ],
      "execution_count": null,
      "outputs": []
    },
    {
      "cell_type": "code",
      "metadata": {
        "id": "OTEZ1xIoPeZ6"
      },
      "source": [
        "for numero in range(0,50):\n",
        "\n",
        "  if (numero % 3 == 0): #divisbles por 3\n",
        "\n",
        "    if  (numero % 2 == 1):\n",
        "\n",
        "      print(f\"----> {numero}\")"
      ],
      "execution_count": null,
      "outputs": []
    },
    {
      "cell_type": "markdown",
      "metadata": {
        "id": "X6SWmCeRpyVw"
      },
      "source": [
        "# Repaso 2: Dada esta lista de números encontrar el valor mínimo y la ubicación.   [21,33,-25,85,-3.6, 27]"
      ]
    },
    {
      "cell_type": "code",
      "metadata": {
        "id": "xbdmU0_NQkIz"
      },
      "source": [
        "# -25\n",
        "\n",
        "lista = [21,33,-25,85,-3.6, 27]\n",
        "\n",
        "minimo = lista[0]\n",
        "\n",
        "for x in lista:\n",
        "\n",
        "  if ( x < minimo):\n",
        "\n",
        "    minimo = x\n",
        "\n",
        "\n",
        "print(f\"MINIMO: {minimo}\")\n",
        "\n",
        "#Tarea para la casa !!!!!!!! ---- en qué posición estaba el -25\n"
      ],
      "execution_count": null,
      "outputs": []
    },
    {
      "cell_type": "markdown",
      "metadata": {
        "id": "7s_lVXdUqD33"
      },
      "source": [
        "# Repaso 3: Guardar los datos de una Persona con un input (doc,edad, nombre, altura, en un diccionario)"
      ]
    },
    {
      "cell_type": "code",
      "metadata": {
        "id": "JjrV_suvSD05"
      },
      "source": [
        "# CASAS :) \n",
        "dic = {}\n",
        "\n",
        "dic[\"DOC\"] = input(\"Por favor ingresar el documento:\\n\")"
      ],
      "execution_count": null,
      "outputs": []
    },
    {
      "cell_type": "code",
      "metadata": {
        "id": "iH1KDx8xSl7k"
      },
      "source": [
        "dic"
      ],
      "execution_count": null,
      "outputs": []
    },
    {
      "cell_type": "markdown",
      "metadata": {
        "id": "k4AtZHgOt5KP"
      },
      "source": [
        "# Repaso 4: Ingresar un número con input, y mostrar un mensaje diciendo si es un numero primo o no. "
      ]
    },
    {
      "cell_type": "code",
      "metadata": {
        "id": "bOK9yfc8S3G8"
      },
      "source": [
        "numero = int ( input(\"Dame un número... o te mato :( \"))\n",
        "\n",
        "# Un numero es primo cuando ... es divisioble SOLAMENTE por 1 y si mismo..\n",
        "#5 ----  11----- \n",
        "\n",
        "#!!!!!!!!!!!!!!!!\n"
      ],
      "execution_count": null,
      "outputs": []
    },
    {
      "cell_type": "markdown",
      "source": [
        "# Clase 7: Metodos de colecciones"
      ],
      "metadata": {
        "id": "W0yzYnvY6SA9"
      }
    },
    {
      "cell_type": "markdown",
      "source": [
        "### None"
      ],
      "metadata": {
        "id": "KPJkX1FTJsqq"
      }
    },
    {
      "cell_type": "code",
      "source": [
        "None"
      ],
      "metadata": {
        "id": "gDBtzZOoJrk6"
      },
      "execution_count": null,
      "outputs": []
    },
    {
      "cell_type": "code",
      "source": [
        "type(None)"
      ],
      "metadata": {
        "colab": {
          "base_uri": "https://localhost:8080/"
        },
        "id": "U0eQJaiOJrri",
        "outputId": "daafc899-5b82-4d90-d2ed-e495ef43ab86"
      },
      "execution_count": null,
      "outputs": [
        {
          "output_type": "execute_result",
          "data": {
            "text/plain": [
              "NoneType"
            ]
          },
          "metadata": {},
          "execution_count": 1
        }
      ]
    },
    {
      "cell_type": "code",
      "source": [
        "nombre = None"
      ],
      "metadata": {
        "id": "_aYSBRGgJrzF"
      },
      "execution_count": null,
      "outputs": []
    },
    {
      "cell_type": "code",
      "source": [
        "type(None)"
      ],
      "metadata": {
        "colab": {
          "base_uri": "https://localhost:8080/"
        },
        "id": "VYSsSJeSJwaD",
        "outputId": "9c2bfdc2-2f60-4638-b41e-de813a5dcc65"
      },
      "execution_count": null,
      "outputs": [
        {
          "output_type": "execute_result",
          "data": {
            "text/plain": [
              "NoneType"
            ]
          },
          "metadata": {},
          "execution_count": 3
        }
      ]
    },
    {
      "cell_type": "code",
      "source": [
        "nombre is None"
      ],
      "metadata": {
        "colab": {
          "base_uri": "https://localhost:8080/"
        },
        "id": "_qcXkkDbJwg_",
        "outputId": "47142091-ea98-4df7-a694-bcf49eb955f0"
      },
      "execution_count": null,
      "outputs": [
        {
          "output_type": "execute_result",
          "data": {
            "text/plain": [
              "True"
            ]
          },
          "metadata": {},
          "execution_count": 4
        }
      ]
    },
    {
      "cell_type": "code",
      "source": [
        "nombre == None"
      ],
      "metadata": {
        "colab": {
          "base_uri": "https://localhost:8080/"
        },
        "id": "8SntCIcfKZSL",
        "outputId": "e6c1ff8f-2a3c-4654-d70b-07a564ce96fd"
      },
      "execution_count": null,
      "outputs": [
        {
          "output_type": "execute_result",
          "data": {
            "text/plain": [
              "True"
            ]
          },
          "metadata": {},
          "execution_count": 5
        }
      ]
    },
    {
      "cell_type": "markdown",
      "source": [
        "### Cadenas de texto"
      ],
      "metadata": {
        "id": "T6hKND-RVD4e"
      }
    },
    {
      "cell_type": "code",
      "metadata": {
        "id": "ZzfGCfUsTu5r"
      },
      "source": [
        "cadena1 = \"Pepeto es tremendo\""
      ],
      "execution_count": null,
      "outputs": []
    },
    {
      "cell_type": "code",
      "metadata": {
        "id": "GzzGyFYtTyae",
        "colab": {
          "base_uri": "https://localhost:8080/",
          "height": 35
        },
        "outputId": "38d1522a-d0d9-4576-c3fc-e23194c2c3e8"
      },
      "source": [
        "cadena1.upper()"
      ],
      "execution_count": null,
      "outputs": [
        {
          "output_type": "execute_result",
          "data": {
            "text/plain": [
              "'PEPETO ES TREMENDO'"
            ],
            "application/vnd.google.colaboratory.intrinsic+json": {
              "type": "string"
            }
          },
          "metadata": {},
          "execution_count": 7
        }
      ]
    },
    {
      "cell_type": "code",
      "source": [
        "cadena1_upper = cadena1.upper()"
      ],
      "metadata": {
        "id": "VYExW4LaOa49"
      },
      "execution_count": null,
      "outputs": []
    },
    {
      "cell_type": "code",
      "metadata": {
        "id": "if7TT8PXT3iS",
        "colab": {
          "base_uri": "https://localhost:8080/",
          "height": 35
        },
        "outputId": "bd272739-47c1-4fac-da6b-b8efa50e5204"
      },
      "source": [
        "cadena1"
      ],
      "execution_count": null,
      "outputs": [
        {
          "output_type": "execute_result",
          "data": {
            "text/plain": [
              "'Pepeto es tremendo'"
            ],
            "application/vnd.google.colaboratory.intrinsic+json": {
              "type": "string"
            }
          },
          "metadata": {},
          "execution_count": 8
        }
      ]
    },
    {
      "cell_type": "code",
      "source": [
        "id(cadena1)"
      ],
      "metadata": {
        "colab": {
          "base_uri": "https://localhost:8080/"
        },
        "id": "PEfmNIF-N4HC",
        "outputId": "0a41c31d-fa9e-4e9f-8e64-5a88274b08ce"
      },
      "execution_count": null,
      "outputs": [
        {
          "output_type": "execute_result",
          "data": {
            "text/plain": [
              "139773436200720"
            ]
          },
          "metadata": {},
          "execution_count": 13
        }
      ]
    },
    {
      "cell_type": "code",
      "metadata": {
        "id": "LeD_NixxUDhU",
        "colab": {
          "base_uri": "https://localhost:8080/",
          "height": 35
        },
        "outputId": "fb232b85-5f91-4155-841f-2e2ea3215c8b"
      },
      "source": [
        "cadena1.lower()"
      ],
      "execution_count": null,
      "outputs": [
        {
          "output_type": "execute_result",
          "data": {
            "text/plain": [
              "'pepeto es tremendo'"
            ],
            "application/vnd.google.colaboratory.intrinsic+json": {
              "type": "string"
            }
          },
          "metadata": {},
          "execution_count": 11
        }
      ]
    },
    {
      "cell_type": "code",
      "metadata": {
        "id": "jGEWUhtqUO8b",
        "colab": {
          "base_uri": "https://localhost:8080/",
          "height": 35
        },
        "outputId": "c3a720f4-bd83-4a83-f2a9-ec515b3833b1"
      },
      "source": [
        "cadena1"
      ],
      "execution_count": null,
      "outputs": [
        {
          "output_type": "execute_result",
          "data": {
            "text/plain": [
              "'Pepeto es tremendo'"
            ],
            "application/vnd.google.colaboratory.intrinsic+json": {
              "type": "string"
            }
          },
          "metadata": {},
          "execution_count": 12
        }
      ]
    },
    {
      "cell_type": "code",
      "metadata": {
        "id": "a7qVtadkUev0"
      },
      "source": [
        "cadena2 = \"HoLa AmIgO!\""
      ],
      "execution_count": null,
      "outputs": []
    },
    {
      "cell_type": "code",
      "metadata": {
        "id": "5xqcT-rvUgxU",
        "colab": {
          "base_uri": "https://localhost:8080/",
          "height": 35
        },
        "outputId": "04fa4580-a0d9-426b-82bf-db1f7ad5da4b"
      },
      "source": [
        "cadena2.capitalize()"
      ],
      "execution_count": null,
      "outputs": [
        {
          "output_type": "execute_result",
          "data": {
            "text/plain": [
              "'Hola amigo!'"
            ],
            "application/vnd.google.colaboratory.intrinsic+json": {
              "type": "string"
            }
          },
          "metadata": {},
          "execution_count": 16
        }
      ]
    },
    {
      "cell_type": "code",
      "metadata": {
        "id": "bVYCoLtdUx90",
        "colab": {
          "base_uri": "https://localhost:8080/",
          "height": 35
        },
        "outputId": "6ef632e8-e82e-4491-b9ba-f509cab3a717"
      },
      "source": [
        "cadena1.title()"
      ],
      "execution_count": null,
      "outputs": [
        {
          "output_type": "execute_result",
          "data": {
            "text/plain": [
              "'Pepeto Es Tremendo'"
            ],
            "application/vnd.google.colaboratory.intrinsic+json": {
              "type": "string"
            }
          },
          "metadata": {},
          "execution_count": 17
        }
      ]
    },
    {
      "cell_type": "code",
      "metadata": {
        "id": "O7t2bpL8VElC",
        "colab": {
          "base_uri": "https://localhost:8080/"
        },
        "outputId": "c7f4a1d8-efe5-4e50-cc22-06c5675c4e3b"
      },
      "source": [
        "cadena1.count(\"e\")"
      ],
      "execution_count": null,
      "outputs": [
        {
          "output_type": "execute_result",
          "data": {
            "text/plain": [
              "5"
            ]
          },
          "metadata": {},
          "execution_count": 18
        }
      ]
    },
    {
      "cell_type": "code",
      "metadata": {
        "id": "l8itPIUtVVuw",
        "colab": {
          "base_uri": "https://localhost:8080/"
        },
        "outputId": "60ccb95a-e1d3-4aef-e3af-402679a3ea54"
      },
      "source": [
        "cadena1.find(\"Nadia\")"
      ],
      "execution_count": null,
      "outputs": [
        {
          "output_type": "execute_result",
          "data": {
            "text/plain": [
              "-1"
            ]
          },
          "metadata": {},
          "execution_count": 19
        }
      ]
    },
    {
      "cell_type": "code",
      "metadata": {
        "id": "4aqP6DKGWVqv"
      },
      "source": [
        "cadena3 = \"HoLa amigo como estas amigo!\""
      ],
      "execution_count": null,
      "outputs": []
    },
    {
      "cell_type": "code",
      "metadata": {
        "id": "FPKg-SheWZCz",
        "colab": {
          "base_uri": "https://localhost:8080/"
        },
        "outputId": "a3de92f8-bcd6-4ae1-9492-066857694d5f"
      },
      "source": [
        "cadena3.find(\"amigo\")"
      ],
      "execution_count": null,
      "outputs": [
        {
          "output_type": "execute_result",
          "data": {
            "text/plain": [
              "5"
            ]
          },
          "metadata": {},
          "execution_count": 21
        }
      ]
    },
    {
      "cell_type": "code",
      "source": [
        "cadena3.find(\"AMIGO\")"
      ],
      "metadata": {
        "colab": {
          "base_uri": "https://localhost:8080/"
        },
        "id": "Ayi9JMk5P2SD",
        "outputId": "04cfbccf-2758-41b2-cb6d-ac10d5c5137c"
      },
      "execution_count": null,
      "outputs": [
        {
          "output_type": "execute_result",
          "data": {
            "text/plain": [
              "-1"
            ]
          },
          "metadata": {},
          "execution_count": 23
        }
      ]
    },
    {
      "cell_type": "code",
      "metadata": {
        "id": "UyF23pJOWoMM",
        "colab": {
          "base_uri": "https://localhost:8080/"
        },
        "outputId": "fa107a07-bb79-479f-c734-e9906a0d6278"
      },
      "source": [
        "cadena3.rfind(\"amigo\")"
      ],
      "execution_count": null,
      "outputs": [
        {
          "output_type": "execute_result",
          "data": {
            "text/plain": [
              "22"
            ]
          },
          "metadata": {},
          "execution_count": 22
        }
      ]
    },
    {
      "cell_type": "code",
      "source": [
        "cadena3 = \"HoLa amigo como estas amigo!\"\n",
        "# \"HoLa \",\" como estas \", \"!\""
      ],
      "metadata": {
        "id": "BYEQ181LP7l1"
      },
      "execution_count": null,
      "outputs": []
    },
    {
      "cell_type": "code",
      "metadata": {
        "id": "LsWQjovBW3A1",
        "colab": {
          "base_uri": "https://localhost:8080/"
        },
        "outputId": "5ab8b3d0-47d2-4075-9b5b-67b4b76506e5"
      },
      "source": [
        "cadena3.split()"
      ],
      "execution_count": null,
      "outputs": [
        {
          "output_type": "execute_result",
          "data": {
            "text/plain": [
              "['HoLa', 'amigo', 'como', 'estas', 'amigo!']"
            ]
          },
          "metadata": {},
          "execution_count": 25
        }
      ]
    },
    {
      "cell_type": "code",
      "source": [
        "cadena3.split(\" \")"
      ],
      "metadata": {
        "colab": {
          "base_uri": "https://localhost:8080/"
        },
        "id": "MLg4nSB6QiNs",
        "outputId": "3320752e-b3ef-4b8e-ebe3-491df317ada5"
      },
      "execution_count": null,
      "outputs": [
        {
          "output_type": "execute_result",
          "data": {
            "text/plain": [
              "['HoLa', 'amigo', 'como', 'estas', 'amigo!']"
            ]
          },
          "metadata": {},
          "execution_count": 26
        }
      ]
    },
    {
      "cell_type": "code",
      "source": [
        "cadena3.split(\"amigo\")"
      ],
      "metadata": {
        "colab": {
          "base_uri": "https://localhost:8080/"
        },
        "id": "hl_8wGfsQd05",
        "outputId": "9850fb5f-3284-4ae2-dad5-3d7807882df0"
      },
      "execution_count": null,
      "outputs": [
        {
          "output_type": "execute_result",
          "data": {
            "text/plain": [
              "['HoLa ', ' como estas ', '!']"
            ]
          },
          "metadata": {},
          "execution_count": 27
        }
      ]
    },
    {
      "cell_type": "code",
      "source": [
        "cadena5 = \"hola\""
      ],
      "metadata": {
        "id": "Zj4MtTaLRMuM"
      },
      "execution_count": null,
      "outputs": []
    },
    {
      "cell_type": "code",
      "metadata": {
        "id": "jPabbQ__YW0H",
        "colab": {
          "base_uri": "https://localhost:8080/",
          "height": 35
        },
        "outputId": "af8659a2-632f-4d81-e01e-cca8bfa2a63b"
      },
      "source": [
        "# uso 1 del join\n",
        "\"###\".join(cadena5)"
      ],
      "execution_count": null,
      "outputs": [
        {
          "output_type": "execute_result",
          "data": {
            "text/plain": [
              "'h###o###l###a'"
            ],
            "application/vnd.google.colaboratory.intrinsic+json": {
              "type": "string"
            }
          },
          "metadata": {},
          "execution_count": 30
        }
      ]
    },
    {
      "cell_type": "code",
      "source": [
        "# uso 2 del join\n",
        "\"||\".join([\"Pedro\", \"Juan\", \"Manuel\"])"
      ],
      "metadata": {
        "colab": {
          "base_uri": "https://localhost:8080/",
          "height": 35
        },
        "id": "yE3h_UWTRXxV",
        "outputId": "a43eaf45-4f65-4827-ffe9-70bc6ff8bd5d"
      },
      "execution_count": null,
      "outputs": [
        {
          "output_type": "execute_result",
          "data": {
            "text/plain": [
              "'Pedro||Juan||Manuel'"
            ],
            "application/vnd.google.colaboratory.intrinsic+json": {
              "type": "string"
            }
          },
          "metadata": {},
          "execution_count": 32
        }
      ]
    },
    {
      "cell_type": "code",
      "metadata": {
        "id": "g8woAZJ4Y7DC"
      },
      "source": [
        "cadena3"
      ],
      "execution_count": null,
      "outputs": []
    },
    {
      "cell_type": "code",
      "metadata": {
        "id": "32yKFjRWY8lr"
      },
      "source": [
        "cadena3.strip(\"H\")"
      ],
      "execution_count": null,
      "outputs": []
    },
    {
      "cell_type": "code",
      "source": [
        "# el strip puede servir para limpiar codigos\n",
        "clave = \"####miclave#####\"\n"
      ],
      "metadata": {
        "id": "7YMQXSaDSaD3"
      },
      "execution_count": null,
      "outputs": []
    },
    {
      "cell_type": "code",
      "source": [
        "clave.strip(\"#\")"
      ],
      "metadata": {
        "colab": {
          "base_uri": "https://localhost:8080/",
          "height": 35
        },
        "id": "9yqduL-0SpiH",
        "outputId": "eaf426a8-d83a-4665-a884-9bbc60423825"
      },
      "execution_count": null,
      "outputs": [
        {
          "output_type": "execute_result",
          "data": {
            "text/plain": [
              "'miclave'"
            ],
            "application/vnd.google.colaboratory.intrinsic+json": {
              "type": "string"
            }
          },
          "metadata": {},
          "execution_count": 34
        }
      ]
    },
    {
      "cell_type": "code",
      "source": [
        "# en un formulario, podemos usar strip para eliminar espacios sobrantes\n",
        "direccion = \"\"\"\n",
        "Calle Santa Sofia \n",
        "Buenos Aires\n",
        "\"\"\""
      ],
      "metadata": {
        "id": "Bes8h-6MStDF"
      },
      "execution_count": null,
      "outputs": []
    },
    {
      "cell_type": "code",
      "source": [
        "direccion"
      ],
      "metadata": {
        "colab": {
          "base_uri": "https://localhost:8080/",
          "height": 35
        },
        "id": "wYM5pb6vTDhK",
        "outputId": "cf6e0279-87b4-4211-df82-374820ebbcba"
      },
      "execution_count": null,
      "outputs": [
        {
          "output_type": "execute_result",
          "data": {
            "text/plain": [
              "'\\nCalle Santa Sofia \\nBuenos Aires\\n'"
            ],
            "application/vnd.google.colaboratory.intrinsic+json": {
              "type": "string"
            }
          },
          "metadata": {},
          "execution_count": 40
        }
      ]
    },
    {
      "cell_type": "code",
      "source": [
        "direccion.strip()"
      ],
      "metadata": {
        "colab": {
          "base_uri": "https://localhost:8080/",
          "height": 35
        },
        "id": "qnR_7xq6S2jN",
        "outputId": "7c6cca0e-7591-47ed-f09d-a59cf7b47a18"
      },
      "execution_count": null,
      "outputs": [
        {
          "output_type": "execute_result",
          "data": {
            "text/plain": [
              "'Calle Santa Sofia \\nBuenos Aires'"
            ],
            "application/vnd.google.colaboratory.intrinsic+json": {
              "type": "string"
            }
          },
          "metadata": {},
          "execution_count": 41
        }
      ]
    },
    {
      "cell_type": "code",
      "source": [
        "\n",
        "direccion.replace(\"\\n\", \"\")"
      ],
      "metadata": {
        "colab": {
          "base_uri": "https://localhost:8080/",
          "height": 35
        },
        "id": "7xRkoTgeTjgx",
        "outputId": "20e79329-d63e-4929-bd94-913bd399b5d9"
      },
      "execution_count": null,
      "outputs": [
        {
          "output_type": "execute_result",
          "data": {
            "text/plain": [
              "'Calle Santa Sofia Buenos Aires'"
            ],
            "application/vnd.google.colaboratory.intrinsic+json": {
              "type": "string"
            }
          },
          "metadata": {},
          "execution_count": 45
        }
      ]
    },
    {
      "cell_type": "code",
      "source": [
        "cadena3"
      ],
      "metadata": {
        "colab": {
          "base_uri": "https://localhost:8080/",
          "height": 35
        },
        "id": "eNIJjrEkTOpM",
        "outputId": "f51f5932-865b-40c0-b523-2054b8e280b7"
      },
      "execution_count": null,
      "outputs": [
        {
          "output_type": "execute_result",
          "data": {
            "text/plain": [
              "'HoLa amigo como estas amigo!'"
            ],
            "application/vnd.google.colaboratory.intrinsic+json": {
              "type": "string"
            }
          },
          "metadata": {},
          "execution_count": 42
        }
      ]
    },
    {
      "cell_type": "code",
      "metadata": {
        "id": "QXo124QzZX0P",
        "colab": {
          "base_uri": "https://localhost:8080/",
          "height": 35
        },
        "outputId": "f9f85d68-c12f-43a9-ce3c-2d77a6fbc388"
      },
      "source": [
        "cadena3.replace(\"s\", \"S\")"
      ],
      "execution_count": null,
      "outputs": [
        {
          "output_type": "execute_result",
          "data": {
            "text/plain": [
              "'HoLa amigo como eStaS amigo!'"
            ],
            "application/vnd.google.colaboratory.intrinsic+json": {
              "type": "string"
            }
          },
          "metadata": {},
          "execution_count": 43
        }
      ]
    },
    {
      "cell_type": "code",
      "metadata": {
        "id": "nq1-dtByZ-Xc",
        "colab": {
          "base_uri": "https://localhost:8080/",
          "height": 35
        },
        "outputId": "49c7128a-4f4f-4676-e4b6-715eaca929e3"
      },
      "source": [
        "cadena3.replace(\"a\",\"\")"
      ],
      "execution_count": null,
      "outputs": [
        {
          "output_type": "execute_result",
          "data": {
            "text/plain": [
              "'HoL migo como ests migo!'"
            ],
            "application/vnd.google.colaboratory.intrinsic+json": {
              "type": "string"
            }
          },
          "metadata": {},
          "execution_count": 44
        }
      ]
    },
    {
      "cell_type": "markdown",
      "source": [
        "### Listas"
      ],
      "metadata": {
        "id": "uLbVnn3YVJxO"
      }
    },
    {
      "cell_type": "code",
      "metadata": {
        "id": "pfR0aFmRaSss"
      },
      "source": [
        "lista = [21,33,-25,85,-3.6, 27]"
      ],
      "execution_count": null,
      "outputs": []
    },
    {
      "cell_type": "code",
      "source": [
        "lista"
      ],
      "metadata": {
        "colab": {
          "base_uri": "https://localhost:8080/"
        },
        "id": "hOJL0kExVM2T",
        "outputId": "02f77e57-b2c0-4cb5-cd8a-9cf4de23c162"
      },
      "execution_count": null,
      "outputs": [
        {
          "output_type": "execute_result",
          "data": {
            "text/plain": [
              "[]"
            ]
          },
          "metadata": {},
          "execution_count": 50
        }
      ]
    },
    {
      "cell_type": "code",
      "source": [
        "id(lista)"
      ],
      "metadata": {
        "colab": {
          "base_uri": "https://localhost:8080/"
        },
        "id": "jHhCg-D8VPL4",
        "outputId": "e54f9093-061f-40b2-a9ac-accef4a77db3"
      },
      "execution_count": null,
      "outputs": [
        {
          "output_type": "execute_result",
          "data": {
            "text/plain": [
              "139773435845184"
            ]
          },
          "metadata": {},
          "execution_count": 51
        }
      ]
    },
    {
      "cell_type": "code",
      "metadata": {
        "id": "1jx-1R_maT6W"
      },
      "source": [
        "lista.clear()"
      ],
      "execution_count": null,
      "outputs": []
    },
    {
      "cell_type": "code",
      "source": [
        "lista = []"
      ],
      "metadata": {
        "id": "WGgHC2auVXJA"
      },
      "execution_count": null,
      "outputs": []
    },
    {
      "cell_type": "code",
      "source": [
        "id(lista)"
      ],
      "metadata": {
        "colab": {
          "base_uri": "https://localhost:8080/"
        },
        "id": "tyGgIQ1EVaQb",
        "outputId": "18fe945b-7f4e-44f1-a7aa-70b6acdcd91c"
      },
      "execution_count": null,
      "outputs": [
        {
          "output_type": "execute_result",
          "data": {
            "text/plain": [
              "139773435718080"
            ]
          },
          "metadata": {},
          "execution_count": 53
        }
      ]
    },
    {
      "cell_type": "code",
      "metadata": {
        "id": "dFvraAA2aXRF",
        "colab": {
          "base_uri": "https://localhost:8080/"
        },
        "outputId": "5143f22f-3474-4fc6-b336-82b8680c17d6"
      },
      "source": [
        "lista"
      ],
      "execution_count": null,
      "outputs": [
        {
          "output_type": "execute_result",
          "data": {
            "text/plain": [
              "[]"
            ]
          },
          "metadata": {},
          "execution_count": 54
        }
      ]
    },
    {
      "cell_type": "code",
      "metadata": {
        "id": "OZGK3hZMacGe"
      },
      "source": [
        "lista2 = [1,1,1,1,2,2,2,2]"
      ],
      "execution_count": null,
      "outputs": []
    },
    {
      "cell_type": "code",
      "metadata": {
        "id": "9gTBLbPBanZ_"
      },
      "source": [
        "lista.extend(lista2)"
      ],
      "execution_count": null,
      "outputs": []
    },
    {
      "cell_type": "code",
      "metadata": {
        "id": "xi5hTK1VasMU",
        "colab": {
          "base_uri": "https://localhost:8080/"
        },
        "outputId": "7ca1228d-9951-4ac5-8059-b7bbd3f3223d"
      },
      "source": [
        "lista\n"
      ],
      "execution_count": null,
      "outputs": [
        {
          "output_type": "execute_result",
          "data": {
            "text/plain": [
              "[1, 1, 1, 1, 2, 2, 2, 2]"
            ]
          },
          "metadata": {},
          "execution_count": 57
        }
      ]
    },
    {
      "cell_type": "code",
      "metadata": {
        "id": "CXOaVVYOa_eu"
      },
      "source": [
        "lista3 = [4,4,4,lista2]"
      ],
      "execution_count": null,
      "outputs": []
    },
    {
      "cell_type": "code",
      "metadata": {
        "id": "rsoG_E03bExX",
        "colab": {
          "base_uri": "https://localhost:8080/"
        },
        "outputId": "15bd2a5c-4252-49c9-b51c-4103756dde49"
      },
      "source": [
        "lista3"
      ],
      "execution_count": null,
      "outputs": [
        {
          "output_type": "execute_result",
          "data": {
            "text/plain": [
              "[4, 4, 4, [1, 1, 1, 1, 2, 2, 2, 2]]"
            ]
          },
          "metadata": {},
          "execution_count": 59
        }
      ]
    },
    {
      "cell_type": "code",
      "metadata": {
        "id": "PLPVM3FAbMVo",
        "colab": {
          "base_uri": "https://localhost:8080/"
        },
        "outputId": "1d8c3723-6ab8-4164-9cc7-f4295132ba45"
      },
      "source": [
        "lista"
      ],
      "execution_count": null,
      "outputs": [
        {
          "output_type": "execute_result",
          "data": {
            "text/plain": [
              "[12121, 2, 2, 2, 2, 1, 1, 1, 1, 10]"
            ]
          },
          "metadata": {},
          "execution_count": 71
        }
      ]
    },
    {
      "cell_type": "code",
      "metadata": {
        "id": "tDLGw1bybW0j"
      },
      "source": [
        "lista.insert(11, 12121)"
      ],
      "execution_count": null,
      "outputs": []
    },
    {
      "cell_type": "code",
      "source": [
        "lista.insert(0, 10)"
      ],
      "metadata": {
        "id": "noIEb51CV4Tk"
      },
      "execution_count": null,
      "outputs": []
    },
    {
      "cell_type": "code",
      "metadata": {
        "id": "RFDCYgzGbcmA"
      },
      "source": [
        "retorno = lista.reverse()"
      ],
      "execution_count": null,
      "outputs": []
    },
    {
      "cell_type": "code",
      "source": [
        "type(retorno)"
      ],
      "metadata": {
        "colab": {
          "base_uri": "https://localhost:8080/"
        },
        "id": "QB_c_AlUWEMZ",
        "outputId": "d234b1b0-1fdb-46c6-8e88-f8c545cde276"
      },
      "execution_count": null,
      "outputs": [
        {
          "output_type": "execute_result",
          "data": {
            "text/plain": [
              "NoneType"
            ]
          },
          "metadata": {},
          "execution_count": 72
        }
      ]
    },
    {
      "cell_type": "code",
      "source": [
        "print(retorno)"
      ],
      "metadata": {
        "colab": {
          "base_uri": "https://localhost:8080/"
        },
        "id": "2_A31jrjWmtQ",
        "outputId": "0be8a2e0-02b5-4407-b462-7c467ff89f38"
      },
      "execution_count": null,
      "outputs": [
        {
          "output_type": "stream",
          "name": "stdout",
          "text": [
            "None\n"
          ]
        }
      ]
    },
    {
      "cell_type": "code",
      "metadata": {
        "id": "of32N4SAbtGZ",
        "colab": {
          "base_uri": "https://localhost:8080/"
        },
        "outputId": "79b5189e-0d8e-49cf-bb00-1878663c9abe"
      },
      "source": [
        "lista"
      ],
      "execution_count": null,
      "outputs": [
        {
          "output_type": "execute_result",
          "data": {
            "text/plain": [
              "[12121, 10, 2, 2, 2, 2, 1, 1, 1, 1]"
            ]
          },
          "metadata": {},
          "execution_count": 77
        }
      ]
    },
    {
      "cell_type": "code",
      "source": [
        "lista.sort()"
      ],
      "metadata": {
        "id": "rygsnb_pWXPH"
      },
      "execution_count": null,
      "outputs": []
    },
    {
      "cell_type": "code",
      "metadata": {
        "id": "z2YwHHBubvNn"
      },
      "source": [
        "lista.sort(reverse=True)"
      ],
      "execution_count": null,
      "outputs": []
    },
    {
      "cell_type": "code",
      "metadata": {
        "id": "ZOVli8OGb4o0"
      },
      "source": [
        "lista"
      ],
      "execution_count": null,
      "outputs": []
    },
    {
      "cell_type": "markdown",
      "source": [
        "### Conjuntos"
      ],
      "metadata": {
        "id": "wIHgmooYWgr6"
      }
    },
    {
      "cell_type": "code",
      "metadata": {
        "id": "SrYi9YnsetTE"
      },
      "source": [
        "conj1 = {1,2,4,\"Pepeto\"}\n",
        "conj2 = {2,6,\"Pepe\"}\n",
        "conj3 = {1,2,4,\"Pepeto\",8,11}\n"
      ],
      "execution_count": null,
      "outputs": []
    },
    {
      "cell_type": "code",
      "metadata": {
        "id": "poM-Ugi4eztn",
        "colab": {
          "base_uri": "https://localhost:8080/"
        },
        "outputId": "c89dcb06-c598-4a01-b0e0-acd3d20dec81"
      },
      "source": [
        "conj1.isdisjoint(conj2)"
      ],
      "execution_count": null,
      "outputs": [
        {
          "output_type": "execute_result",
          "data": {
            "text/plain": [
              "False"
            ]
          },
          "metadata": {},
          "execution_count": 80
        }
      ]
    },
    {
      "cell_type": "code",
      "metadata": {
        "id": "PL-iUXcQfLMV",
        "colab": {
          "base_uri": "https://localhost:8080/"
        },
        "outputId": "c1995218-3633-4920-8514-73ddae858141"
      },
      "source": [
        "conj1.issubset(conj3)"
      ],
      "execution_count": null,
      "outputs": [
        {
          "output_type": "execute_result",
          "data": {
            "text/plain": [
              "True"
            ]
          },
          "metadata": {},
          "execution_count": 81
        }
      ]
    },
    {
      "cell_type": "code",
      "metadata": {
        "id": "4II9V848flCm",
        "colab": {
          "base_uri": "https://localhost:8080/"
        },
        "outputId": "bfbc718c-8298-4ecb-9826-42ebf08e069c"
      },
      "source": [
        "conj3.issuperset(conj1)"
      ],
      "execution_count": null,
      "outputs": [
        {
          "output_type": "execute_result",
          "data": {
            "text/plain": [
              "True"
            ]
          },
          "metadata": {},
          "execution_count": 82
        }
      ]
    },
    {
      "cell_type": "code",
      "metadata": {
        "id": "9Nh6Abwufr4U",
        "colab": {
          "base_uri": "https://localhost:8080/"
        },
        "outputId": "a0aacdc6-72bf-4791-f429-291fc18abc5b"
      },
      "source": [
        "conj1.union(conj2)"
      ],
      "execution_count": null,
      "outputs": [
        {
          "output_type": "execute_result",
          "data": {
            "text/plain": [
              "{1, 2, 4, 6, 'Pepe', 'Pepeto'}"
            ]
          },
          "metadata": {},
          "execution_count": 83
        }
      ]
    },
    {
      "cell_type": "code",
      "metadata": {
        "id": "iJiJq-KsgL7G",
        "colab": {
          "base_uri": "https://localhost:8080/"
        },
        "outputId": "307e4cf4-3a31-44b9-b51e-e01b09574988"
      },
      "source": [
        "conj3.difference(conj1)"
      ],
      "execution_count": null,
      "outputs": [
        {
          "output_type": "execute_result",
          "data": {
            "text/plain": [
              "{8, 11}"
            ]
          },
          "metadata": {},
          "execution_count": 84
        }
      ]
    },
    {
      "cell_type": "code",
      "metadata": {
        "id": "yMq5jBfqgnq1"
      },
      "source": [
        "set1 = {1,2,3,7}\n",
        "set2 = {3,4,5}"
      ],
      "execution_count": null,
      "outputs": []
    },
    {
      "cell_type": "code",
      "metadata": {
        "id": "YLns-2VXgr7H"
      },
      "source": [
        "retorno1 = set1.difference_update(set2)"
      ],
      "execution_count": null,
      "outputs": []
    },
    {
      "cell_type": "code",
      "source": [
        "type(retorno1)"
      ],
      "metadata": {
        "colab": {
          "base_uri": "https://localhost:8080/"
        },
        "id": "RjZ7FOHtd1sT",
        "outputId": "adec741b-5526-44b9-96aa-06cea7d3ae7b"
      },
      "execution_count": null,
      "outputs": [
        {
          "output_type": "execute_result",
          "data": {
            "text/plain": [
              "NoneType"
            ]
          },
          "metadata": {},
          "execution_count": 87
        }
      ]
    },
    {
      "cell_type": "code",
      "source": [
        "print(retorno1)"
      ],
      "metadata": {
        "colab": {
          "base_uri": "https://localhost:8080/"
        },
        "id": "99P9E89Pd4Pz",
        "outputId": "66711901-e4de-4fae-d627-7896e60c8689"
      },
      "execution_count": null,
      "outputs": [
        {
          "output_type": "stream",
          "name": "stdout",
          "text": [
            "None\n"
          ]
        }
      ]
    },
    {
      "cell_type": "code",
      "metadata": {
        "id": "xsYfidNDg0m2",
        "colab": {
          "base_uri": "https://localhost:8080/"
        },
        "outputId": "1b0d5177-254e-4ed0-833d-f00ef679bdc8"
      },
      "source": [
        "set1"
      ],
      "execution_count": null,
      "outputs": [
        {
          "output_type": "execute_result",
          "data": {
            "text/plain": [
              "{1, 2, 7}"
            ]
          },
          "metadata": {},
          "execution_count": 89
        }
      ]
    },
    {
      "cell_type": "code",
      "source": [
        "conj1"
      ],
      "metadata": {
        "colab": {
          "base_uri": "https://localhost:8080/"
        },
        "id": "ebT-vEjmeOtj",
        "outputId": "82e2aa96-a330-4587-fe76-7d4ba131be01"
      },
      "execution_count": null,
      "outputs": [
        {
          "output_type": "execute_result",
          "data": {
            "text/plain": [
              "{1, 2, 4, 'Pepeto'}"
            ]
          },
          "metadata": {},
          "execution_count": 91
        }
      ]
    },
    {
      "cell_type": "code",
      "source": [
        "conj2"
      ],
      "metadata": {
        "colab": {
          "base_uri": "https://localhost:8080/"
        },
        "id": "i9LlqpfgePyQ",
        "outputId": "eb5282b6-8c22-469f-fa49-02579fa26ff9"
      },
      "execution_count": null,
      "outputs": [
        {
          "output_type": "execute_result",
          "data": {
            "text/plain": [
              "{2, 6, 'Pepe'}"
            ]
          },
          "metadata": {},
          "execution_count": 92
        }
      ]
    },
    {
      "cell_type": "code",
      "metadata": {
        "id": "VdQfVFz-hEvN",
        "colab": {
          "base_uri": "https://localhost:8080/"
        },
        "outputId": "d7c025ad-2022-44c3-a81e-9540f1f2dc44"
      },
      "source": [
        "conj1.intersection(conj2)"
      ],
      "execution_count": null,
      "outputs": [
        {
          "output_type": "execute_result",
          "data": {
            "text/plain": [
              "{2}"
            ]
          },
          "metadata": {},
          "execution_count": 90
        }
      ]
    },
    {
      "cell_type": "code",
      "metadata": {
        "id": "4FlM0UbOhU54"
      },
      "source": [
        "retorno2 = conj1.intersection_update(conj2)"
      ],
      "execution_count": null,
      "outputs": []
    },
    {
      "cell_type": "code",
      "source": [
        "print(retorno2)"
      ],
      "metadata": {
        "colab": {
          "base_uri": "https://localhost:8080/"
        },
        "id": "E94KCfm6ed9O",
        "outputId": "fb5f5eb4-5a21-4ef1-e3e7-0f27a3699392"
      },
      "execution_count": null,
      "outputs": [
        {
          "output_type": "stream",
          "name": "stdout",
          "text": [
            "None\n"
          ]
        }
      ]
    },
    {
      "cell_type": "code",
      "metadata": {
        "id": "lEgOH70Phgq0",
        "colab": {
          "base_uri": "https://localhost:8080/"
        },
        "outputId": "45bebd55-31bb-49f1-e678-034c82538c41"
      },
      "source": [
        "conj1"
      ],
      "execution_count": null,
      "outputs": [
        {
          "output_type": "execute_result",
          "data": {
            "text/plain": [
              "{2}"
            ]
          },
          "metadata": {},
          "execution_count": 95
        }
      ]
    },
    {
      "cell_type": "markdown",
      "source": [
        "### Diccionarios"
      ],
      "metadata": {
        "id": "6pbb1-E7en4P"
      }
    },
    {
      "cell_type": "code",
      "metadata": {
        "id": "5hNeAk9Oh0BS"
      },
      "source": [
        "diccionario = {\"Nombre\":\"Pepetolas\", \"Edad\":32, \"Ciudad\":\"Medellin\"}"
      ],
      "execution_count": null,
      "outputs": []
    },
    {
      "cell_type": "code",
      "source": [
        "diccionario"
      ],
      "metadata": {
        "colab": {
          "base_uri": "https://localhost:8080/"
        },
        "id": "LdJrQh9Ffv73",
        "outputId": "d29cb9a2-0736-4fb6-c37d-36a18ab0c865"
      },
      "execution_count": null,
      "outputs": [
        {
          "output_type": "execute_result",
          "data": {
            "text/plain": [
              "{'Nombre': 'Pepetolas', 'Edad': 32, 'Ciudad': 'Medellin'}"
            ]
          },
          "metadata": {},
          "execution_count": 99
        }
      ]
    },
    {
      "cell_type": "code",
      "metadata": {
        "id": "NLskSwTsiLoi",
        "colab": {
          "base_uri": "https://localhost:8080/",
          "height": 35
        },
        "outputId": "c274dc16-77ee-4c0f-b4f6-977b20084825"
      },
      "source": [
        "diccionario[\"Nombre\"]"
      ],
      "execution_count": null,
      "outputs": [
        {
          "output_type": "execute_result",
          "data": {
            "text/plain": [
              "'Pepetolas'"
            ],
            "application/vnd.google.colaboratory.intrinsic+json": {
              "type": "string"
            }
          },
          "metadata": {},
          "execution_count": 100
        }
      ]
    },
    {
      "cell_type": "code",
      "metadata": {
        "id": "vCpcLX1hiOhx",
        "colab": {
          "base_uri": "https://localhost:8080/",
          "height": 35
        },
        "outputId": "edbc4a6c-a2dd-484b-b2b6-250d7956acee"
      },
      "source": [
        "diccionario.get(\"Nombre\", \"Che esta clave no existe :(\") #Me gusta :) "
      ],
      "execution_count": null,
      "outputs": [
        {
          "output_type": "execute_result",
          "data": {
            "text/plain": [
              "'Pepetolas'"
            ],
            "application/vnd.google.colaboratory.intrinsic+json": {
              "type": "string"
            }
          },
          "metadata": {},
          "execution_count": 101
        }
      ]
    },
    {
      "cell_type": "code",
      "source": [
        "diccionario.get(\"Apellido\", \"Perez\")"
      ],
      "metadata": {
        "colab": {
          "base_uri": "https://localhost:8080/",
          "height": 35
        },
        "id": "NgmJ0_bjgE0N",
        "outputId": "95b95dc8-d1a5-4441-b83d-c23de0c3011f"
      },
      "execution_count": null,
      "outputs": [
        {
          "output_type": "execute_result",
          "data": {
            "text/plain": [
              "'Perez'"
            ],
            "application/vnd.google.colaboratory.intrinsic+json": {
              "type": "string"
            }
          },
          "metadata": {},
          "execution_count": 102
        }
      ]
    },
    {
      "cell_type": "code",
      "source": [
        "retorno3 = diccionario.get(\"Apellido\")"
      ],
      "metadata": {
        "id": "sR1S2guEgMHr"
      },
      "execution_count": null,
      "outputs": []
    },
    {
      "cell_type": "code",
      "source": [
        "print(retorno3)"
      ],
      "metadata": {
        "colab": {
          "base_uri": "https://localhost:8080/"
        },
        "id": "dzE5DoHqgTq-",
        "outputId": "2a7f637e-c2d1-417e-ff11-1bb0a57f313a"
      },
      "execution_count": null,
      "outputs": [
        {
          "output_type": "stream",
          "name": "stdout",
          "text": [
            "None\n"
          ]
        }
      ]
    },
    {
      "cell_type": "code",
      "metadata": {
        "id": "_YjsTn6MillL",
        "colab": {
          "base_uri": "https://localhost:8080/"
        },
        "outputId": "b1d834d7-6d6f-4326-a193-462d12bb3090"
      },
      "source": [
        "diccionario.keys()"
      ],
      "execution_count": null,
      "outputs": [
        {
          "output_type": "execute_result",
          "data": {
            "text/plain": [
              "dict_keys(['Nombre', 'Edad', 'Ciudad'])"
            ]
          },
          "metadata": {},
          "execution_count": 105
        }
      ]
    },
    {
      "cell_type": "code",
      "metadata": {
        "id": "QTMfr3tviywE",
        "colab": {
          "base_uri": "https://localhost:8080/"
        },
        "outputId": "277618dc-de01-499c-ab2a-09f6680178ff"
      },
      "source": [
        "diccionario.values()"
      ],
      "execution_count": null,
      "outputs": [
        {
          "output_type": "execute_result",
          "data": {
            "text/plain": [
              "dict_values(['Pepetolas', 32, 'Medellin'])"
            ]
          },
          "metadata": {},
          "execution_count": 106
        }
      ]
    },
    {
      "cell_type": "code",
      "metadata": {
        "id": "RL6GHRl8jEsb",
        "colab": {
          "base_uri": "https://localhost:8080/"
        },
        "outputId": "43195e4b-83fa-4532-97f8-1a20e43f2d16"
      },
      "source": [
        "diccionario.items()"
      ],
      "execution_count": null,
      "outputs": [
        {
          "output_type": "execute_result",
          "data": {
            "text/plain": [
              "dict_items([('Nombre', 'Pepetolas'), ('Edad', 32), ('Ciudad', 'Medellin')])"
            ]
          },
          "metadata": {},
          "execution_count": 107
        }
      ]
    },
    {
      "cell_type": "code",
      "metadata": {
        "id": "_nX6hVKHjUu-",
        "colab": {
          "base_uri": "https://localhost:8080/"
        },
        "outputId": "32f0d55a-3a3e-4b2f-eee3-2ad4bf086e32"
      },
      "source": [
        "for llave, valor in diccionario.items():\n",
        "  print(f\"Para la llave {llave} el valor es: {valor}\")"
      ],
      "execution_count": null,
      "outputs": [
        {
          "output_type": "stream",
          "name": "stdout",
          "text": [
            "Para la llave Nombre el valor es: Pepetolas\n",
            "Para la llave Edad el valor es: 32\n",
            "Para la llave Ciudad el valor es: Medellin\n"
          ]
        }
      ]
    },
    {
      "cell_type": "code",
      "source": [],
      "metadata": {
        "id": "8xjUJlm2ggBX"
      },
      "execution_count": null,
      "outputs": []
    },
    {
      "cell_type": "code",
      "metadata": {
        "id": "YTOSDLb9mOOC"
      },
      "source": [
        "listaDesafio = [29, -5, -12, 17, 5, 24, 5, 12, 23, 16, 12, 5, -12, 17]"
      ],
      "execution_count": null,
      "outputs": []
    },
    {
      "cell_type": "code",
      "metadata": {
        "id": "N2ynmIa4mQyL"
      },
      "source": [
        "#1 Borrar repetidos\n",
        "conjunto = set(listaDesafio)"
      ],
      "execution_count": null,
      "outputs": []
    },
    {
      "cell_type": "code",
      "metadata": {
        "id": "Vtc2wj2Cmnya"
      },
      "source": [
        "listaDesafio = list(conjunto)"
      ],
      "execution_count": null,
      "outputs": []
    },
    {
      "cell_type": "code",
      "metadata": {
        "id": "AIjHIXt9m5io"
      },
      "source": [
        "listaDesafio.sort(reverse=True)"
      ],
      "execution_count": null,
      "outputs": []
    },
    {
      "cell_type": "code",
      "metadata": {
        "id": "wwBmjEyxm_OI"
      },
      "source": [
        "listaDesafio"
      ],
      "execution_count": null,
      "outputs": []
    }
  ]
}