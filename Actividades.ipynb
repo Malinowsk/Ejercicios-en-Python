{
  "nbformat": 4,
  "nbformat_minor": 0,
  "metadata": {
    "colab": {
      "provenance": [],
      "include_colab_link": true
    },
    "kernelspec": {
      "name": "python3",
      "display_name": "Python 3"
    },
    "language_info": {
      "name": "python"
    }
  },
  "cells": [
    {
      "cell_type": "markdown",
      "metadata": {
        "id": "view-in-github",
        "colab_type": "text"
      },
      "source": [
        "<a href=\"https://colab.research.google.com/github/Malinowsk/Ejercicios-en-Python/blob/main/Actividades.ipynb\" target=\"_parent\"><img src=\"https://colab.research.google.com/assets/colab-badge.svg\" alt=\"Open In Colab\"/></a>"
      ]
    },
    {
      "cell_type": "code",
      "execution_count": null,
      "metadata": {
        "id": "zH35-Wh9LTfi"
      },
      "outputs": [],
      "source": [
        "\"\"\"\n",
        "Actividad 1\n",
        "En una lista encontraremos diferentes operaciones relacionales, calcular\n",
        "mentalmente el resultado de cada expresión y almacenarlo en una nueva lista que\n",
        "contendrá únicamente valores lógicos True y False.\n",
        "\n",
        "expresiones = [\n",
        "    False == True,  # False\n",
        "    10 >= 2*4,  # Verdadero\n",
        "    33/3 == 11,  # Verdadero\n",
        "    True > False,  # Verdadero\n",
        "    True*5 == 2.5*2  # Verdadero\n",
        "]\n",
        "\"\"\""
      ]
    },
    {
      "cell_type": "code",
      "source": [
        "expresiones = [\n",
        "    False == True,\n",
        "    10 >= 2*4,\n",
        "    33/3 == 11,\n",
        "    True > False,\n",
        "    True*5 == 2.5*2\n",
        "]"
      ],
      "metadata": {
        "id": "ZkraY-UKLoC4"
      },
      "execution_count": null,
      "outputs": []
    },
    {
      "cell_type": "code",
      "source": [
        "expresiones"
      ],
      "metadata": {
        "colab": {
          "base_uri": "https://localhost:8080/"
        },
        "id": "Uxcj7NrdMKat",
        "outputId": "1668802b-7e54-448f-b67e-0bfddf32ae19"
      },
      "execution_count": null,
      "outputs": [
        {
          "output_type": "execute_result",
          "data": {
            "text/plain": [
              "[False, True, True, True, True]"
            ]
          },
          "metadata": {},
          "execution_count": 2
        }
      ]
    },
    {
      "cell_type": "code",
      "source": [
        "\"\"\"\n",
        "Actividad 2\n",
        "En una lista encontraremos diferentes operaciones lógicas. Calcular mentalmente el resultado\n",
        "de cada expresión y almacenarlo en una nueva lista la cual contendrá únicamente valores lógicos True y False. \n",
        "\n",
        "expresiones = [\n",
        "    not False,  # Verdadero\n",
        "    not 3 == 5,  # Verdadero\n",
        "    33/3 == 11 and 5 > 2,  # Verdadero and Verdadero\n",
        "    True or False,  # True\n",
        "    True*5 == 2.5*2 or 123 >= 23,  # verdadero or verdadero\n",
        "    12 > 7 and True < False  # Verdadero and false => False\n",
        "]\n",
        "\"\"\""
      ],
      "metadata": {
        "id": "k74asyleOtcf"
      },
      "execution_count": null,
      "outputs": []
    },
    {
      "cell_type": "code",
      "source": [
        "expresiones = [\n",
        "    not False,\n",
        "    not 3 == 5,\n",
        "    33/3 == 11 and 5 > 2,\n",
        "    True or False,\n",
        "    True*5 == 2.5*2 or 123 >= 23,\n",
        "    12 > 7 and True < False\n",
        "]"
      ],
      "metadata": {
        "id": "ouYHRJjBO-uc"
      },
      "execution_count": null,
      "outputs": []
    },
    {
      "cell_type": "code",
      "source": [
        "expresiones"
      ],
      "metadata": {
        "colab": {
          "base_uri": "https://localhost:8080/"
        },
        "id": "VdXIYGA2RGy7",
        "outputId": "198516b5-6c55-49ec-abb1-b25a6d5296b4"
      },
      "execution_count": null,
      "outputs": [
        {
          "output_type": "execute_result",
          "data": {
            "text/plain": [
              "[True, True, True, True, True, False]"
            ]
          },
          "metadata": {},
          "execution_count": 4
        }
      ]
    },
    {
      "cell_type": "code",
      "source": [
        "\"\"\"\n",
        "Actividad 3\n",
        "A partir de dos variables llamadas NOMBRE y EDAD, debes crear una variable que almacene\n",
        "si se cumplen todas las siguientes condiciones, encadenando operadores lógicos en una sola línea:\n",
        "\n",
        "NOMBRE sea diferente de cuatro asteriscos “****”\n",
        "EDAD sea mayor que 5 y a su vez menor que 20\n",
        "Que la longitud de NOMBRE sea mayor o igual a 4  pero a la vez menor que 8\n",
        "EDAD multiplicada por 3 sea mayor que 35\n",
        "\n",
        "\n",
        "Desde un input conseguir las variables:\n",
        "nombre = INPUT!!!\n",
        "edad = INPUT!!!!\n",
        "\"\"\""
      ],
      "metadata": {
        "id": "-eRCxC0kXaI7"
      },
      "execution_count": null,
      "outputs": []
    },
    {
      "cell_type": "code",
      "source": [
        "nombre = input(\"Nombre:  \")\n",
        "edad = int(input(\"Edad: \"))"
      ],
      "metadata": {
        "colab": {
          "base_uri": "https://localhost:8080/"
        },
        "id": "Ydl0gIO7YlOX",
        "outputId": "afc12b59-95d5-4606-ecbe-32a76a183066"
      },
      "execution_count": null,
      "outputs": [
        {
          "name": "stdout",
          "output_type": "stream",
          "text": [
            "Nombre:  Pedro\n",
            "Edad: 13\n"
          ]
        }
      ]
    },
    {
      "cell_type": "code",
      "source": [
        "# NOMBRE sea diferente de cuatro asteriscos “****”\n",
        "nombre != \"****\"\n",
        "\n",
        "# EDAD sea mayor que 5 y a su vez menor que 20\n",
        "edad > 5 and edad < 20\n",
        "\n",
        "# Que la longitud de NOMBRE sea mayor o igual a 4, pero a la vez menor que 8\n",
        "len(nombre) >= 4 and len(nombre) < 8\n",
        "\n",
        "# EDAD multiplicada por 3 sea mayor que 35\n",
        "edad * 3 > 35"
      ],
      "metadata": {
        "id": "8AK6k0jdZKBZ"
      },
      "execution_count": null,
      "outputs": []
    },
    {
      "cell_type": "code",
      "source": [
        "resultado = (nombre != \"****\") and (edad > 5 and edad < 20) and (len(nombre) >= 4 and len(nombre) < 8) and (edad * 3 > 35)"
      ],
      "metadata": {
        "id": "QsL-kAN8aAVd"
      },
      "execution_count": null,
      "outputs": []
    },
    {
      "cell_type": "code",
      "source": [
        "resultado"
      ],
      "metadata": {
        "colab": {
          "base_uri": "https://localhost:8080/"
        },
        "id": "7vAGE6QWaPic",
        "outputId": "327afea5-591a-44ba-9738-6a34598986cb"
      },
      "execution_count": null,
      "outputs": [
        {
          "output_type": "execute_result",
          "data": {
            "text/plain": [
              "True"
            ]
          },
          "metadata": {},
          "execution_count": 10
        }
      ]
    },
    {
      "cell_type": "code",
      "source": [
        "# Ejercicios extras\n",
        "\"\"\"\n",
        "by Gonzalo\n",
        "Escriba un programa que solicite al usuario su edad y si tiene un carnet de conducir.\n",
        "Si la edad del usuario es mayor o igual a 18 y tiene un carnet de conducir, el programa debe imprimir \"Puede conducir\".\n",
        "De lo contrario, debe imprimir \"No puede conducir\".\n",
        "\"\"\""
      ],
      "metadata": {
        "id": "OphI24p6dMzr"
      },
      "execution_count": null,
      "outputs": []
    }
  ]
}