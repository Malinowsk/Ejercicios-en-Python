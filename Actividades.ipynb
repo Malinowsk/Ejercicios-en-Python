{
  "nbformat": 4,
  "nbformat_minor": 0,
  "metadata": {
    "colab": {
      "provenance": [],
      "include_colab_link": true
    },
    "kernelspec": {
      "name": "python3",
      "display_name": "Python 3"
    },
    "language_info": {
      "name": "python"
    }
  },
  "cells": [
    {
      "cell_type": "markdown",
      "metadata": {
        "id": "view-in-github",
        "colab_type": "text"
      },
      "source": [
        "<a href=\"https://colab.research.google.com/github/Malinowsk/Ejercicios-en-Python/blob/main/Actividades.ipynb\" target=\"_parent\"><img src=\"https://colab.research.google.com/assets/colab-badge.svg\" alt=\"Open In Colab\"/></a>"
      ]
    },
    {
      "cell_type": "code",
      "execution_count": null,
      "metadata": {
        "id": "RCouvKzhgzNN"
      },
      "outputs": [],
      "source": [
        "\"\"\"\n",
        "Descripción de la actividad. \n",
        "\n",
        "En esta actividad, podrás poner en práctica todo lo aprendido durante la sesión.  \n",
        "\n",
        "Dadas dos listas LISTA1 y LISTA2 debes realizar las siguientes tareas:\n",
        "\n",
        "Añade a la LISTA1 el int 456789 y luego el string “Hola Mundo”\n",
        "Luego añade a la LISTA2 el string “Hola y Adios” y luego el int 5555\n",
        "Genera una LISTA3 con todos los elementos de la LISTA1 sin considerar el último elemento\n",
        "\n",
        "Genera una LISTA4 con todos los elementos de la LISTA2 menos el primero y el último elemento\n",
        "Finalmente, genera una LISTA6 con los elementos de la LISTA4 y de la LISTA3\n",
        "\"\"\""
      ]
    },
    {
      "cell_type": "code",
      "source": [
        "lista1 = []\n",
        "lista2 = []"
      ],
      "metadata": {
        "id": "0gbnbH4lg8pt"
      },
      "execution_count": null,
      "outputs": []
    },
    {
      "cell_type": "code",
      "source": [
        "lista1.append(456789)\n",
        "lista1.append(\"Hola Mundo\")"
      ],
      "metadata": {
        "id": "hfcyHYfdhc67"
      },
      "execution_count": null,
      "outputs": []
    },
    {
      "cell_type": "code",
      "source": [
        "lista1"
      ],
      "metadata": {
        "colab": {
          "base_uri": "https://localhost:8080/"
        },
        "id": "RgMT66VFhmDr",
        "outputId": "208c3e43-aac6-483d-d258-cca7541b605e"
      },
      "execution_count": null,
      "outputs": [
        {
          "output_type": "execute_result",
          "data": {
            "text/plain": [
              "[456789, 'Hola Mundo']"
            ]
          },
          "metadata": {},
          "execution_count": 3
        }
      ]
    },
    {
      "cell_type": "code",
      "source": [
        "lista2 = [\"Hola y Adios\", 5555]"
      ],
      "metadata": {
        "id": "GEZX4u-Ghs0T"
      },
      "execution_count": null,
      "outputs": []
    },
    {
      "cell_type": "code",
      "source": [
        "lista2"
      ],
      "metadata": {
        "colab": {
          "base_uri": "https://localhost:8080/"
        },
        "id": "dxuWUS76h28b",
        "outputId": "0881c90b-b888-47b1-f352-bc24095a50c3"
      },
      "execution_count": null,
      "outputs": [
        {
          "output_type": "execute_result",
          "data": {
            "text/plain": [
              "['Hola y Adios', 5555]"
            ]
          },
          "metadata": {},
          "execution_count": 5
        }
      ]
    },
    {
      "cell_type": "code",
      "source": [
        "# Genera una LISTA3 con todos los elementos de la LISTA1 sin considerar el último elemento\n",
        "lista3 = lista1[0:1]"
      ],
      "metadata": {
        "id": "VOssuBmCh-fP"
      },
      "execution_count": null,
      "outputs": []
    },
    {
      "cell_type": "code",
      "source": [
        "lista3"
      ],
      "metadata": {
        "colab": {
          "base_uri": "https://localhost:8080/"
        },
        "id": "1N2AuPixiBay",
        "outputId": "70efb346-d806-4f63-907b-b40f4844c97b"
      },
      "execution_count": null,
      "outputs": [
        {
          "output_type": "execute_result",
          "data": {
            "text/plain": [
              "[456789]"
            ]
          },
          "metadata": {},
          "execution_count": 9
        }
      ]
    },
    {
      "cell_type": "code",
      "source": [
        "# Genera una LISTA4 con todos los elementos de la LISTA5 menos el primero y el último elemento\n",
        "lista5 = [10,20,30,40]\n",
        "lista4 = lista5[1:-1]"
      ],
      "metadata": {
        "id": "Q8aZ_Ve2ibGX"
      },
      "execution_count": null,
      "outputs": []
    },
    {
      "cell_type": "code",
      "source": [
        "lista4"
      ],
      "metadata": {
        "colab": {
          "base_uri": "https://localhost:8080/"
        },
        "id": "JCVX2RsqiuQ9",
        "outputId": "9a7299a6-80d9-4c4d-e280-f53a20dd8d47"
      },
      "execution_count": null,
      "outputs": [
        {
          "output_type": "execute_result",
          "data": {
            "text/plain": [
              "[20, 30]"
            ]
          },
          "metadata": {},
          "execution_count": 11
        }
      ]
    },
    {
      "cell_type": "code",
      "source": [
        "lista6 = lista4 + lista3"
      ],
      "metadata": {
        "id": "-nKRpdUHiy6s"
      },
      "execution_count": null,
      "outputs": []
    },
    {
      "cell_type": "code",
      "source": [
        "lista6"
      ],
      "metadata": {
        "colab": {
          "base_uri": "https://localhost:8080/"
        },
        "id": "pU6qCX-Oi6bo",
        "outputId": "96a5908b-cc1e-4845-f083-dd1eb19339ee"
      },
      "execution_count": null,
      "outputs": [
        {
          "output_type": "execute_result",
          "data": {
            "text/plain": [
              "[20, 30, 456789]"
            ]
          },
          "metadata": {},
          "execution_count": 14
        }
      ]
    },
    {
      "cell_type": "code",
      "source": [
        "\"\"\"\n",
        "Descripción de la actividad. \n",
        "A partir de una variable llamada tupla, imprimir por pantalla de forma ordenada, lo siguiente:\n",
        "1. El último ítem de tupla\n",
        "2. El número de ítems de tupla\n",
        "3. La posición donde se encuentra el ítem 87 de tupla\n",
        "4. Una lista con los últimos tres ítems de tupla\n",
        "5. Un ítem que haya en la posición 8 de tupla\n",
        "6. El número de veces que el ítem 7 aparece en tupla\n",
        "\n",
        "Copia esta tupla para iniciar el ejercicio:\n",
        "tupla = (8, 15, 4, 39, 5, 89, 87,  19, 7, -755, 88, 123, 2, 11, 15, 9, 355)\n",
        "\"\"\""
      ],
      "metadata": {
        "id": "zpxaLZ2drWoM"
      },
      "execution_count": null,
      "outputs": []
    },
    {
      "cell_type": "code",
      "source": [
        "tupla = (8, 15, 4, 39, 5, 89, 87,  19, 7, -755, 88, 123, 2, 11, 15, 9, 355)"
      ],
      "metadata": {
        "id": "oI5mFYP3rYtT"
      },
      "execution_count": null,
      "outputs": []
    },
    {
      "cell_type": "code",
      "source": [
        "print(tupla[-1])"
      ],
      "metadata": {
        "colab": {
          "base_uri": "https://localhost:8080/"
        },
        "id": "V3pyHvqhsAbx",
        "outputId": "538db6da-756b-48e3-beae-c65c91049b0e"
      },
      "execution_count": null,
      "outputs": [
        {
          "output_type": "stream",
          "name": "stdout",
          "text": [
            "355\n"
          ]
        }
      ]
    },
    {
      "cell_type": "code",
      "source": [
        "# 2. El número de ítems de tupla\n",
        "print(len(tupla))"
      ],
      "metadata": {
        "colab": {
          "base_uri": "https://localhost:8080/"
        },
        "id": "tytN4SJzsLPx",
        "outputId": "c43619c2-37c1-4eed-aae9-e4da91b96848"
      },
      "execution_count": null,
      "outputs": [
        {
          "output_type": "stream",
          "name": "stdout",
          "text": [
            "17\n"
          ]
        }
      ]
    },
    {
      "cell_type": "code",
      "source": [
        "# 3. La posición donde se encuentra el ítem 87 de tupla\n",
        "print(tupla.index(87))"
      ],
      "metadata": {
        "colab": {
          "base_uri": "https://localhost:8080/"
        },
        "id": "RQl58JDOsTqz",
        "outputId": "fe6825ba-9944-4a1f-a54f-697c05e7663d"
      },
      "execution_count": null,
      "outputs": [
        {
          "output_type": "stream",
          "name": "stdout",
          "text": [
            "6\n"
          ]
        }
      ]
    },
    {
      "cell_type": "code",
      "source": [
        "# 4. Una lista con los últimos tres ítems de tupla\n",
        "print(list(tupla[-3:]))"
      ],
      "metadata": {
        "colab": {
          "base_uri": "https://localhost:8080/"
        },
        "id": "rDn38sKbsllu",
        "outputId": "cc68a368-fb17-4045-d4cd-025d550798a5"
      },
      "execution_count": null,
      "outputs": [
        {
          "output_type": "stream",
          "name": "stdout",
          "text": [
            "[15, 9, 355]\n"
          ]
        }
      ]
    },
    {
      "cell_type": "code",
      "source": [
        "# 5. Un ítem que haya en la posición 8 de tupla\n",
        "print(tupla[8])"
      ],
      "metadata": {
        "colab": {
          "base_uri": "https://localhost:8080/"
        },
        "id": "-brA7qqms75W",
        "outputId": "0fe89fac-931d-466e-e8ec-9a0266e76e3c"
      },
      "execution_count": null,
      "outputs": [
        {
          "output_type": "stream",
          "name": "stdout",
          "text": [
            "7\n"
          ]
        }
      ]
    },
    {
      "cell_type": "code",
      "source": [
        "# 6. El número de veces que el ítem 7 aparece en tupla\n",
        "print(tupla.count(7))"
      ],
      "metadata": {
        "colab": {
          "base_uri": "https://localhost:8080/"
        },
        "id": "oWvzYUVls-FQ",
        "outputId": "95cea82c-f4c2-42ec-ec4c-c843ad923d5d"
      },
      "execution_count": null,
      "outputs": [
        {
          "output_type": "stream",
          "name": "stdout",
          "text": [
            "1\n"
          ]
        }
      ]
    }
  ]
}