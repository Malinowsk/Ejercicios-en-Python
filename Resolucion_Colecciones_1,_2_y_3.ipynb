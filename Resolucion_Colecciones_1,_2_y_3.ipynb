{
  "cells": [
    {
      "cell_type": "markdown",
      "metadata": {
        "id": "view-in-github",
        "colab_type": "text"
      },
      "source": [
        "<a href=\"https://colab.research.google.com/github/Malinowsk/Ejercicios-en-Python/blob/main/Resolucion_Colecciones_1%2C_2_y_3.ipynb\" target=\"_parent\"><img src=\"https://colab.research.google.com/assets/colab-badge.svg\" alt=\"Open In Colab\"/></a>"
      ]
    },
    {
      "cell_type": "markdown",
      "source": [
        "# Colecciones 1"
      ],
      "metadata": {
        "id": "tymyDED7JD1U"
      },
      "id": "tymyDED7JD1U"
    },
    {
      "cell_type": "code",
      "source": [
        "texto = \"gordon lanzó su curva&strawberry ha fallado por un pie! -gritó Joe Castiglione&dos pies le corrigió Troop&strawberry menea la cabeza como disgustado… -agrega el comentarista\"\n",
        "# print(texto)\n",
        "\n",
        "# Transformar a:\n",
        "# Gordon lanzó su curva...\n",
        "# - Strawberry ha fallado por un pie! -gritó Joe Castiglione.\n",
        "# - Dos pies le corrigió Troop.\n",
        "# - Strawberry menea la cabeza como disgustado… -agrega el comentarista.\n",
        "\n",
        "lineas = texto.split(\"&\")\n",
        "print(lineas)"
      ],
      "metadata": {
        "id": "l0ojAGRmJHAS",
        "colab": {
          "base_uri": "https://localhost:8080/"
        },
        "outputId": "5e6e2ccf-2c0d-4b2b-a0bb-3a928b313db3"
      },
      "id": "l0ojAGRmJHAS",
      "execution_count": null,
      "outputs": [
        {
          "output_type": "stream",
          "name": "stdout",
          "text": [
            "['gordon lanzó su curva', 'strawberry ha fallado por un pie! -gritó Joe Castiglione', 'dos pies le corrigió Troop', 'strawberry menea la cabeza como disgustado… -agrega el comentarista']\n"
          ]
        }
      ]
    },
    {
      "cell_type": "code",
      "source": [
        "# print(lineas) # Para probra como quedo la lista cuando hicimos el split(\"&\") --> Recordar que split devuelve una lista desde una cadena\n",
        "for i, linea in enumerate(lineas):\n",
        "    lineas[i] = linea.capitalize() # i 3\n",
        "    if i == 0:\n",
        "        lineas[i] = lineas[i] + \"...\"\n",
        "    else:\n",
        "        lineas[i] = \"- \" + lineas[i] + \".\"\n"
      ],
      "metadata": {
        "id": "HIPRQmECZX62"
      },
      "id": "HIPRQmECZX62",
      "execution_count": null,
      "outputs": []
    },
    {
      "cell_type": "code",
      "source": [
        "lineas"
      ],
      "metadata": {
        "colab": {
          "base_uri": "https://localhost:8080/"
        },
        "id": "n_zbUNl_aGNd",
        "outputId": "e7cf932a-dd5a-44df-e584-dda7600950d9"
      },
      "id": "n_zbUNl_aGNd",
      "execution_count": null,
      "outputs": [
        {
          "output_type": "execute_result",
          "data": {
            "text/plain": [
              "['Gordon lanzó su curva...',\n",
              " '- Strawberry ha fallado por un pie! -gritó joe castiglione.',\n",
              " '- Dos pies le corrigió troop.',\n",
              " '- Strawberry menea la cabeza como disgustado… -agrega el comentarista.']"
            ]
          },
          "metadata": {},
          "execution_count": 5
        }
      ]
    },
    {
      "cell_type": "code",
      "source": [
        "# Si imprimo linea solamente me devuelve el ultimo item de la lista, entonces tengo que hacer un FOR\n",
        "# print(linea)\n",
        "\n",
        "# Mostramos el texto final\n",
        "for linea in lineas:\n",
        "    print(linea)"
      ],
      "metadata": {
        "colab": {
          "base_uri": "https://localhost:8080/"
        },
        "id": "K2lBR_hFaHKU",
        "outputId": "6b112287-ec51-4af8-ed8d-4d4aee21aa6c"
      },
      "id": "K2lBR_hFaHKU",
      "execution_count": null,
      "outputs": [
        {
          "output_type": "stream",
          "name": "stdout",
          "text": [
            "Gordon lanzó su curva...\n",
            "- Strawberry ha fallado por un pie! -gritó joe castiglione.\n",
            "- Dos pies le corrigió troop.\n",
            "- Strawberry menea la cabeza como disgustado… -agrega el comentarista.\n"
          ]
        }
      ]
    },
    {
      "cell_type": "markdown",
      "id": "249209dd",
      "metadata": {
        "id": "249209dd"
      },
      "source": [
        "# Colecciones 2"
      ]
    },
    {
      "cell_type": "code",
      "source": [
        "# Ejecuta el código para analizar cada una de las salidas! "
      ],
      "metadata": {
        "id": "6csZKn8chnpK"
      },
      "id": "6csZKn8chnpK",
      "execution_count": null,
      "outputs": []
    },
    {
      "cell_type": "code",
      "execution_count": null,
      "id": "188f9f67",
      "metadata": {
        "id": "188f9f67",
        "outputId": "0bb5099c-0975-4da4-cad6-cafad9359d7e"
      },
      "outputs": [
        {
          "name": "stdout",
          "output_type": "stream",
          "text": [
            "{1, 2, 3, 4, 5}\n"
          ]
        }
      ],
      "source": [
        "#Ejemplo 1:\n",
        "my_set_1 = set([1, 2, 3])\n",
        "my_set_2 = set([3, 4, 5])\n",
        "my_new_set = my_set_1.union(my_set_2)\n",
        "# la union nos retorna todos los elementos\n",
        "print(my_new_set)"
      ]
    },
    {
      "cell_type": "code",
      "execution_count": null,
      "id": "58a81ca1",
      "metadata": {
        "id": "58a81ca1"
      },
      "outputs": [],
      "source": [
        "#Interpretacion - ejemplo 1: Con la funcion union se unen los sets previamente definidos sin considerar el\n",
        "#elemento repetido de 3."
      ]
    },
    {
      "cell_type": "code",
      "execution_count": null,
      "id": "9160a684",
      "metadata": {
        "id": "9160a684",
        "outputId": "2b678b2c-1ac8-4311-d781-54119ff7efb4"
      },
      "outputs": [
        {
          "name": "stdout",
          "output_type": "stream",
          "text": [
            "{3}\n"
          ]
        }
      ],
      "source": [
        "#Ejemplo 2:\n",
        "\n",
        "my_set_1 = set([1, 2, 3])\n",
        "my_set_2 = set([3, 4, 5])\n",
        "my_new_set = my_set_1.intersection(my_set_2)\n",
        "# la interseccion nos retorna solo los elementos en comun\n",
        "print(my_new_set)"
      ]
    },
    {
      "cell_type": "code",
      "execution_count": null,
      "id": "8dfff689",
      "metadata": {
        "id": "8dfff689"
      },
      "outputs": [],
      "source": [
        "#Interpretacion - ejemplo 2: Unicamente me reporta la interseccion entre ambos conjuntos, en este caso el elemento 3"
      ]
    },
    {
      "cell_type": "code",
      "execution_count": null,
      "id": "1aaad6df",
      "metadata": {
        "id": "1aaad6df",
        "outputId": "2c47a2ec-6936-49f5-b1e5-78fb779ad6b5"
      },
      "outputs": [
        {
          "name": "stdout",
          "output_type": "stream",
          "text": [
            "{1, 2}\n"
          ]
        }
      ],
      "source": [
        "#Ejemplo 3:\n",
        "my_set_1 = set([1, 2, 3])\n",
        "my_set_2 = set([3, 4, 5])\n",
        "my_new_set = my_set_1.difference(my_set_2)\n",
        "print(my_new_set)"
      ]
    },
    {
      "cell_type": "code",
      "execution_count": null,
      "id": "0a5ba934",
      "metadata": {
        "id": "0a5ba934"
      },
      "outputs": [],
      "source": [
        "#Interpretacion - ejemplo 3: Me muestra los elementos que difieren entre el set 1 y el set 2"
      ]
    },
    {
      "cell_type": "markdown",
      "id": "c280a6de",
      "metadata": {
        "id": "c280a6de"
      },
      "source": [
        "# Colecciones 3\n",
        "\n",
        "Escribir un programa que guarde en una variable en un diccionario {'Dolar':'$','Euro':'€', 'Libra':'£'}. \n",
        "\n",
        "Luego se le deberá solicitar al usuario que ingrese la divisa que desea visualizar. \n",
        "\n",
        "En el caso de ingresar una divisa no existente en nuestro diccionario, deberemos indicarle con un mensaje de notificación que la divisa no se encuentra disponible. "
      ]
    },
    {
      "cell_type": "code",
      "execution_count": null,
      "id": "aa70c203",
      "metadata": {
        "id": "aa70c203"
      },
      "outputs": [],
      "source": [
        "monedas = {'dolar':'$','euro':'€', 'libra':'£'}\n"
      ]
    },
    {
      "cell_type": "code",
      "source": [
        "moneda_solicitada = input(\"Introduce una divisa: \")\n",
        "moneda = moneda_solicitada.lower()\n"
      ],
      "metadata": {
        "colab": {
          "base_uri": "https://localhost:8080/"
        },
        "id": "7ZEn5Uo3iW1b",
        "outputId": "acfec859-88f8-4e06-a4b0-a6c95c376439"
      },
      "id": "7ZEn5Uo3iW1b",
      "execution_count": null,
      "outputs": [
        {
          "name": "stdout",
          "output_type": "stream",
          "text": [
            "Introduce una divisa: sol\n"
          ]
        }
      ]
    },
    {
      "cell_type": "code",
      "source": [
        "print(moneda)"
      ],
      "metadata": {
        "colab": {
          "base_uri": "https://localhost:8080/"
        },
        "id": "Q8G6nI1RizjW",
        "outputId": "687befd5-b594-4df2-b529-3c5ac2d5a00c"
      },
      "id": "Q8G6nI1RizjW",
      "execution_count": null,
      "outputs": [
        {
          "output_type": "stream",
          "name": "stdout",
          "text": [
            "sol\n"
          ]
        }
      ]
    },
    {
      "cell_type": "code",
      "source": [
        "monedas.get(moneda, \"La divisa no está.\")"
      ],
      "metadata": {
        "colab": {
          "base_uri": "https://localhost:8080/",
          "height": 35
        },
        "id": "44JP_FR1i7WG",
        "outputId": "74e1bca2-a2d4-41f6-ad07-2025e847f31f"
      },
      "id": "44JP_FR1i7WG",
      "execution_count": null,
      "outputs": [
        {
          "output_type": "execute_result",
          "data": {
            "text/plain": [
              "'La divisa no está.'"
            ],
            "application/vnd.google.colaboratory.intrinsic+json": {
              "type": "string"
            }
          },
          "metadata": {},
          "execution_count": 15
        }
      ]
    }
  ],
  "metadata": {
    "kernelspec": {
      "display_name": "Python 3 (ipykernel)",
      "language": "python",
      "name": "python3"
    },
    "language_info": {
      "codemirror_mode": {
        "name": "ipython",
        "version": 3
      },
      "file_extension": ".py",
      "mimetype": "text/x-python",
      "name": "python",
      "nbconvert_exporter": "python",
      "pygments_lexer": "ipython3",
      "version": "3.8.8"
    },
    "varInspector": {
      "cols": {
        "lenName": 16,
        "lenType": 16,
        "lenVar": 40
      },
      "kernels_config": {
        "python": {
          "delete_cmd_postfix": "",
          "delete_cmd_prefix": "del ",
          "library": "var_list.py",
          "varRefreshCmd": "print(var_dic_list())"
        },
        "r": {
          "delete_cmd_postfix": ") ",
          "delete_cmd_prefix": "rm(",
          "library": "var_list.r",
          "varRefreshCmd": "cat(var_dic_list()) "
        }
      },
      "types_to_exclude": [
        "module",
        "function",
        "builtin_function_or_method",
        "instance",
        "_Feature"
      ],
      "window_display": false
    },
    "colab": {
      "provenance": [],
      "include_colab_link": true
    }
  },
  "nbformat": 4,
  "nbformat_minor": 5
}