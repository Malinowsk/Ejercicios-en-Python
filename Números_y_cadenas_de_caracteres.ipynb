{
  "cells": [
    {
      "cell_type": "markdown",
      "metadata": {
        "id": "view-in-github",
        "colab_type": "text"
      },
      "source": [
        "<a href=\"https://colab.research.google.com/github/Malinowsk/Ejercicios-en-Python/blob/main/N%C3%BAmeros_y_cadenas_de_caracteres.ipynb\" target=\"_parent\"><img src=\"https://colab.research.google.com/assets/colab-badge.svg\" alt=\"Open In Colab\"/></a>"
      ]
    },
    {
      "cell_type": "markdown",
      "source": [
        "* SUMA DE ENTEROS Y FLOAT  \n",
        "* IMPORT DECIMAL IMPRIMIR POR PANTALLA \n",
        "* MANEJO DE CADENAS \n",
        "* TYPE \n",
        "* NOMBRES DE VARIABLES \n",
        "* SLICING"
      ],
      "metadata": {
        "id": "LoXtxPmwiqx0"
      }
    },
    {
      "cell_type": "markdown",
      "source": [
        "# Numeros\n"
      ],
      "metadata": {
        "id": "o150WysVJNNe"
      }
    },
    {
      "cell_type": "code",
      "source": [
        "5"
      ],
      "metadata": {
        "id": "I7xyf1YwJqtj",
        "colab": {
          "base_uri": "https://localhost:8080/"
        },
        "outputId": "08b5bb01-1b30-454f-9f57-69f64f9ca82b"
      },
      "execution_count": null,
      "outputs": [
        {
          "output_type": "execute_result",
          "data": {
            "text/plain": [
              "5"
            ]
          },
          "metadata": {},
          "execution_count": 1
        }
      ]
    },
    {
      "cell_type": "code",
      "source": [
        "100 + 21"
      ],
      "metadata": {
        "id": "A7b6Zdjvb--T",
        "colab": {
          "base_uri": "https://localhost:8080/"
        },
        "outputId": "e62621f5-edad-46e8-da5d-14d0a026f289"
      },
      "execution_count": null,
      "outputs": [
        {
          "output_type": "execute_result",
          "data": {
            "text/plain": [
              "121"
            ]
          },
          "metadata": {},
          "execution_count": 2
        }
      ]
    },
    {
      "cell_type": "code",
      "source": [
        "# estos son floats (punto flotante, es un tipo de decimal)\n",
        "3.21 + 2.15 "
      ],
      "metadata": {
        "id": "XK15QPXxb_Fk",
        "colab": {
          "base_uri": "https://localhost:8080/"
        },
        "outputId": "74d37e19-8f66-4b6a-d643-2c7c0ed9896e"
      },
      "execution_count": null,
      "outputs": [
        {
          "output_type": "execute_result",
          "data": {
            "text/plain": [
              "5.359999999999999"
            ]
          },
          "metadata": {},
          "execution_count": 3
        }
      ]
    },
    {
      "cell_type": "code",
      "source": [
        "# Decimal es otro tipo de decimal\n",
        "from decimal import Decimal\n",
        "num = Decimal('3.21') + Decimal('2.15')\n",
        "print(num)"
      ],
      "metadata": {
        "id": "sV-KZxdEb_Mg",
        "colab": {
          "base_uri": "https://localhost:8080/"
        },
        "outputId": "18310d4d-2f3e-4417-a7de-e6fde69bf252"
      },
      "execution_count": null,
      "outputs": [
        {
          "output_type": "stream",
          "name": "stdout",
          "text": [
            "5.36\n"
          ]
        }
      ]
    },
    {
      "cell_type": "code",
      "source": [
        "# Cual es la diferencia?\n",
        "# Decimal es más exacto manejando los decimales comparado con float"
      ],
      "metadata": {
        "id": "thAjI4Opdmet"
      },
      "execution_count": null,
      "outputs": []
    },
    {
      "cell_type": "code",
      "source": [
        "6/5"
      ],
      "metadata": {
        "id": "o7YchViJJq0K",
        "colab": {
          "base_uri": "https://localhost:8080/"
        },
        "outputId": "b5908933-90db-4171-947e-2c6c8b60f216"
      },
      "execution_count": null,
      "outputs": [
        {
          "output_type": "execute_result",
          "data": {
            "text/plain": [
              "1.2"
            ]
          },
          "metadata": {},
          "execution_count": 7
        }
      ]
    },
    {
      "cell_type": "code",
      "source": [
        "5//2"
      ],
      "metadata": {
        "id": "VzEA-q3eccnS",
        "colab": {
          "base_uri": "https://localhost:8080/"
        },
        "outputId": "ab84385c-9bc9-4528-8209-c002f521ea37"
      },
      "execution_count": null,
      "outputs": [
        {
          "output_type": "execute_result",
          "data": {
            "text/plain": [
              "2"
            ]
          },
          "metadata": {},
          "execution_count": 8
        }
      ]
    },
    {
      "cell_type": "code",
      "source": [
        "5/2"
      ],
      "metadata": {
        "id": "46_iO0UXc34E",
        "colab": {
          "base_uri": "https://localhost:8080/"
        },
        "outputId": "ba2650e4-43b3-4fb7-d756-a5175565df3b"
      },
      "execution_count": null,
      "outputs": [
        {
          "output_type": "execute_result",
          "data": {
            "text/plain": [
              "2.5"
            ]
          },
          "metadata": {},
          "execution_count": 9
        }
      ]
    },
    {
      "cell_type": "code",
      "source": [
        "5%2  # el modulo o residuo"
      ],
      "metadata": {
        "id": "d85qF_NTccuP",
        "colab": {
          "base_uri": "https://localhost:8080/"
        },
        "outputId": "cea293ab-2faa-4f92-8eba-5f035d888402"
      },
      "execution_count": null,
      "outputs": [
        {
          "output_type": "execute_result",
          "data": {
            "text/plain": [
              "1"
            ]
          },
          "metadata": {},
          "execution_count": 10
        }
      ]
    },
    {
      "cell_type": "code",
      "source": [],
      "metadata": {
        "id": "kWUJXjFRJq7b"
      },
      "execution_count": null,
      "outputs": []
    },
    {
      "cell_type": "code",
      "source": [
        "# Regla de precedencia\n",
        "# 5 + 4 * 3 + (20 * 5)  # primero va el parentesis\n",
        "# 5 + 4 * 3 + 100  # luego multiplicacion\n",
        "# 5 + 12 + 100  # por ultimo suma\n",
        "# 117"
      ],
      "metadata": {
        "id": "KrQZQh9pd7Se"
      },
      "execution_count": null,
      "outputs": []
    },
    {
      "cell_type": "code",
      "source": [
        "5 + 4 * 3 + (20 * 5)"
      ],
      "metadata": {
        "id": "xeAdjSa9d7ZY",
        "colab": {
          "base_uri": "https://localhost:8080/"
        },
        "outputId": "f98a12b2-be9a-49c7-f180-dcfcba382ff4"
      },
      "execution_count": null,
      "outputs": [
        {
          "output_type": "execute_result",
          "data": {
            "text/plain": [
              "117"
            ]
          },
          "metadata": {},
          "execution_count": 11
        }
      ]
    },
    {
      "cell_type": "code",
      "source": [
        "type(20)"
      ],
      "metadata": {
        "id": "q4k65sCpd71D",
        "colab": {
          "base_uri": "https://localhost:8080/"
        },
        "outputId": "53d05189-1548-42ef-f965-eacffe24b4f9"
      },
      "execution_count": null,
      "outputs": [
        {
          "output_type": "execute_result",
          "data": {
            "text/plain": [
              "int"
            ]
          },
          "metadata": {},
          "execution_count": 12
        }
      ]
    },
    {
      "cell_type": "markdown",
      "source": [
        "# Cadenas de texto"
      ],
      "metadata": {
        "id": "W4iYCnI1fnPI"
      }
    },
    {
      "cell_type": "code",
      "source": [
        "\"hola mundo\""
      ],
      "metadata": {
        "id": "9DQQlF0hd793",
        "colab": {
          "base_uri": "https://localhost:8080/",
          "height": 36
        },
        "outputId": "ea5e0cf8-02a0-4a7d-b08a-2bcc078c938f"
      },
      "execution_count": null,
      "outputs": [
        {
          "output_type": "execute_result",
          "data": {
            "text/plain": [
              "'hola mundo'"
            ],
            "application/vnd.google.colaboratory.intrinsic+json": {
              "type": "string"
            }
          },
          "metadata": {},
          "execution_count": 13
        }
      ]
    },
    {
      "cell_type": "code",
      "source": [
        "'hola mundo'"
      ],
      "metadata": {
        "id": "Vv5jzJSwfr25"
      },
      "execution_count": null,
      "outputs": []
    },
    {
      "cell_type": "code",
      "source": [
        "type('hola mundo')"
      ],
      "metadata": {
        "id": "x6oh1xrbfuZ3",
        "colab": {
          "base_uri": "https://localhost:8080/"
        },
        "outputId": "8fe15704-a35a-4ed5-b18b-32f1731597e9"
      },
      "execution_count": null,
      "outputs": [
        {
          "output_type": "execute_result",
          "data": {
            "text/plain": [
              "str"
            ]
          },
          "metadata": {},
          "execution_count": 14
        }
      ]
    },
    {
      "cell_type": "code",
      "source": [
        "# como escribir un text con una cita adentro"
      ],
      "metadata": {
        "id": "gru-_mARfuuT"
      },
      "execution_count": null,
      "outputs": []
    },
    {
      "cell_type": "code",
      "source": [
        "\"Ella dijo: 'debes comprar el seguro' y él fue y lo compró\""
      ],
      "metadata": {
        "id": "ge8XhWjygASP",
        "colab": {
          "base_uri": "https://localhost:8080/",
          "height": 36
        },
        "outputId": "dc855338-5462-4d03-d9c6-ee52b25e0dd3"
      },
      "execution_count": null,
      "outputs": [
        {
          "output_type": "execute_result",
          "data": {
            "text/plain": [
              "\"Ella dijo: 'debes comprar el seguro' y él fue y lo compró\""
            ],
            "application/vnd.google.colaboratory.intrinsic+json": {
              "type": "string"
            }
          },
          "metadata": {},
          "execution_count": 15
        }
      ]
    },
    {
      "cell_type": "code",
      "source": [
        "\"Ella dijo: \\\"debes comprar el seguro\\\" y él fue y lo compró\""
      ],
      "metadata": {
        "id": "lcn78U8egAYN",
        "colab": {
          "base_uri": "https://localhost:8080/",
          "height": 36
        },
        "outputId": "b164fced-5816-44dd-ad2a-7188542b8fe1"
      },
      "execution_count": null,
      "outputs": [
        {
          "output_type": "execute_result",
          "data": {
            "text/plain": [
              "'Ella dijo: \"debes comprar el seguro\" y él fue y lo compró'"
            ],
            "application/vnd.google.colaboratory.intrinsic+json": {
              "type": "string"
            }
          },
          "metadata": {},
          "execution_count": 16
        }
      ]
    },
    {
      "cell_type": "code",
      "source": [
        "print(\"esto es una cadena\")"
      ],
      "metadata": {
        "id": "tV_lXKUkgAd4"
      },
      "execution_count": null,
      "outputs": []
    },
    {
      "cell_type": "code",
      "source": [
        "print(\"esto es un \\nsalto de linea\")"
      ],
      "metadata": {
        "id": "SvuxnlaQgsA9"
      },
      "execution_count": null,
      "outputs": []
    },
    {
      "cell_type": "code",
      "source": [
        "print(\"esto es un \\ttabulador\")"
      ],
      "metadata": {
        "id": "MTnOWm6TgsG6"
      },
      "execution_count": null,
      "outputs": []
    },
    {
      "cell_type": "code",
      "source": [
        "print(r\"esto es un \\nsalto de linea\")  # imprimir texto raw"
      ],
      "metadata": {
        "id": "VTIowSoDfu1h"
      },
      "execution_count": null,
      "outputs": []
    },
    {
      "cell_type": "code",
      "source": [
        "print(\"\"\"una cadena\n",
        "otra cadena\n",
        "otra cadena más\n",
        "\"\"\")"
      ],
      "metadata": {
        "id": "a2WFyAz2hx5w",
        "colab": {
          "base_uri": "https://localhost:8080/"
        },
        "outputId": "48a22439-4e87-4b5f-be7a-5b36cbe13341"
      },
      "execution_count": null,
      "outputs": [
        {
          "output_type": "stream",
          "name": "stdout",
          "text": [
            "una cadena\n",
            "otra cadena\n",
            "otra cadena más\n",
            "\n"
          ]
        }
      ]
    },
    {
      "cell_type": "code",
      "source": [],
      "metadata": {
        "id": "EQX0oWWzhyJB"
      },
      "execution_count": null,
      "outputs": []
    },
    {
      "cell_type": "markdown",
      "metadata": {
        "id": "Djst0v9qZ5ck"
      },
      "source": [
        "# Variables Numéricas"
      ]
    },
    {
      "cell_type": "code",
      "execution_count": null,
      "metadata": {
        "id": "QBqT4JbtZ5c2"
      },
      "outputs": [],
      "source": [
        "#Vamos a crear nuestras primeras variables en Python\n",
        "x = 12  # a x le asignamos 12"
      ]
    },
    {
      "cell_type": "code",
      "execution_count": null,
      "metadata": {
        "colab": {
          "base_uri": "https://localhost:8080/"
        },
        "id": "hZOxqnjCWwLT",
        "outputId": "a98e7ea4-5a9e-4041-a33e-f1d6b7f49c14"
      },
      "outputs": [
        {
          "output_type": "execute_result",
          "data": {
            "text/plain": [
              "12"
            ]
          },
          "metadata": {},
          "execution_count": 34
        }
      ],
      "source": [
        "x"
      ]
    },
    {
      "cell_type": "code",
      "execution_count": null,
      "metadata": {
        "id": "qjyITqUqWwFV"
      },
      "outputs": [],
      "source": [
        "y = 13.5"
      ]
    },
    {
      "cell_type": "code",
      "execution_count": null,
      "metadata": {
        "colab": {
          "base_uri": "https://localhost:8080/"
        },
        "id": "dYdwlGivWv7h",
        "outputId": "36a1d421-e459-4fcd-cbc8-29ba3f94ae07"
      },
      "outputs": [
        {
          "output_type": "execute_result",
          "data": {
            "text/plain": [
              "13.5"
            ]
          },
          "metadata": {},
          "execution_count": 30
        }
      ],
      "source": [
        "y"
      ]
    },
    {
      "cell_type": "code",
      "execution_count": null,
      "metadata": {
        "colab": {
          "base_uri": "https://localhost:8080/"
        },
        "id": "wUELwShVeWm1",
        "outputId": "e763f0b1-2d1c-4ead-c373-f4934bdf57e4"
      },
      "outputs": [
        {
          "output_type": "execute_result",
          "data": {
            "text/plain": [
              "int"
            ]
          },
          "metadata": {},
          "execution_count": 31
        }
      ],
      "source": [
        "#Visualizamos el tipo de dato de x\n",
        "type(x) "
      ]
    },
    {
      "cell_type": "code",
      "execution_count": null,
      "metadata": {
        "colab": {
          "base_uri": "https://localhost:8080/"
        },
        "id": "3Xc8hjm_eWho",
        "outputId": "928b1b33-df29-4618-8bf3-aa679256911d"
      },
      "outputs": [
        {
          "output_type": "execute_result",
          "data": {
            "text/plain": [
              "float"
            ]
          },
          "metadata": {},
          "execution_count": 32
        }
      ],
      "source": [
        "#Visualizamos el tipo de dato de y\n",
        "type(y)"
      ]
    },
    {
      "cell_type": "code",
      "source": [
        "edad_juan = 20"
      ],
      "metadata": {
        "id": "To9P0DcrkXTO"
      },
      "execution_count": null,
      "outputs": []
    },
    {
      "cell_type": "code",
      "source": [
        "edad_juan"
      ],
      "metadata": {
        "colab": {
          "base_uri": "https://localhost:8080/"
        },
        "id": "_fuz-hZFkXZ4",
        "outputId": "f8afdb62-0cc9-4ac9-e984-505b5d67927e"
      },
      "execution_count": null,
      "outputs": [
        {
          "output_type": "execute_result",
          "data": {
            "text/plain": [
              "20"
            ]
          },
          "metadata": {},
          "execution_count": 38
        }
      ]
    },
    {
      "cell_type": "code",
      "source": [
        "edad_carlos = 30"
      ],
      "metadata": {
        "id": "M-sExL3GkWb7"
      },
      "execution_count": null,
      "outputs": []
    },
    {
      "cell_type": "code",
      "source": [
        "nombre = \"Pedro\""
      ],
      "metadata": {
        "id": "_VBFk_sukJep"
      },
      "execution_count": null,
      "outputs": []
    },
    {
      "cell_type": "code",
      "source": [
        "nombre"
      ],
      "metadata": {
        "colab": {
          "base_uri": "https://localhost:8080/",
          "height": 35
        },
        "id": "ZD5JL7wCkJlj",
        "outputId": "f30a2217-eae4-48c7-c9c6-0f3912cb33ba"
      },
      "execution_count": null,
      "outputs": [
        {
          "output_type": "execute_result",
          "data": {
            "text/plain": [
              "'Pedro'"
            ],
            "application/vnd.google.colaboratory.intrinsic+json": {
              "type": "string"
            }
          },
          "metadata": {},
          "execution_count": 42
        }
      ]
    },
    {
      "cell_type": "code",
      "source": [
        "malNompreVariable = 10  # no es recomendado en Python"
      ],
      "metadata": {
        "id": "gjEx0l0MlUGS"
      },
      "execution_count": null,
      "outputs": []
    },
    {
      "cell_type": "code",
      "source": [
        "buen_nombre_variable_1 = 20  # estandard snake_case"
      ],
      "metadata": {
        "id": "dk-I6-2mlUOa"
      },
      "execution_count": null,
      "outputs": []
    },
    {
      "cell_type": "code",
      "source": [],
      "metadata": {
        "id": "Bp3rz9W1lUYJ"
      },
      "execution_count": null,
      "outputs": []
    },
    {
      "cell_type": "code",
      "execution_count": null,
      "metadata": {
        "id": "tvFqDr6AH1a5",
        "colab": {
          "base_uri": "https://localhost:8080/"
        },
        "outputId": "bf91d3a7-e993-41aa-ef64-9575333d18c7"
      },
      "outputs": [
        {
          "output_type": "stream",
          "name": "stdout",
          "text": [
            "5\n",
            "Paul\n"
          ]
        }
      ],
      "source": [
        "#Veamos mas ejemplos:\n",
        "x = 5\n",
        "y = \"Paul\"\n",
        "print(x)\n",
        "print(y)"
      ]
    },
    {
      "cell_type": "code",
      "execution_count": null,
      "metadata": {
        "id": "EqUE5PxGH1a5"
      },
      "outputs": [],
      "source": [
        "#Si deseamos definir el tipo de dato de una variable podemos por ejmplo hacer lo siguiente:\n",
        "x = str(5)    # x sera '5'\n",
        "y = int(5)    # y sera 5\n",
        "z = float(5)  # z sera 5.0"
      ]
    },
    {
      "cell_type": "code",
      "execution_count": null,
      "metadata": {
        "id": "fUoaGEX8H1a5"
      },
      "outputs": [],
      "source": [
        "print(x)\n",
        "print(y)\n",
        "print(z)"
      ]
    },
    {
      "cell_type": "code",
      "execution_count": null,
      "metadata": {
        "id": "mbBJseG8H1a6"
      },
      "outputs": [],
      "source": [
        "#Importante: Python es Case Sentitive, el siguiente codigo creara 2 variables:\n",
        "a = 4\n",
        "A = \"Susan\""
      ]
    },
    {
      "cell_type": "markdown",
      "metadata": {
        "id": "iQSpaVF0H1a6"
      },
      "source": [
        "Nombres aceptados para las variables:"
      ]
    },
    {
      "cell_type": "code",
      "execution_count": null,
      "metadata": {
        "id": "sMxYupFzH1a6"
      },
      "outputs": [],
      "source": [
        "myvar = \"Susan\"\n",
        "my_var = \"Susan\"\n",
        "_my_var = \"Susan\"\n",
        "myVar = \"Susan\"\n",
        "MYVAR = \"Susan\"\n",
        "myvar2 = \"Susan\""
      ]
    },
    {
      "cell_type": "markdown",
      "metadata": {
        "id": "g6Fh62QiH1a6"
      },
      "source": [
        "Nombres no aceptados para las variables:"
      ]
    },
    {
      "cell_type": "code",
      "execution_count": null,
      "metadata": {
        "id": "xkf_wwdtH1a6"
      },
      "outputs": [],
      "source": [
        "2myvar = \"John\"\n",
        "my-var = \"John\"\n",
        "my var = \"John\""
      ]
    },
    {
      "cell_type": "code",
      "execution_count": null,
      "metadata": {
        "id": "n5NY_PpyH1a6"
      },
      "outputs": [],
      "source": [
        "#Muchos valores para múltiples variables\n",
        "x, y, z = \"Naranja\", \"Manzana\", \"Cherry\"\n",
        "\n",
        "print(x)\n",
        "print(y)\n",
        "print(z)"
      ]
    },
    {
      "cell_type": "code",
      "execution_count": null,
      "metadata": {
        "id": "F3KaJsfdH1a7"
      },
      "outputs": [],
      "source": [
        "#Un valor para múltiples variables\n",
        "x = y = z = \"Naranja\"\n",
        "print(x)\n",
        "print(y)\n",
        "print(z)"
      ]
    },
    {
      "cell_type": "code",
      "execution_count": null,
      "metadata": {
        "id": "8aCTPmdmH1a7"
      },
      "outputs": [],
      "source": [
        "#Ejercicio 1: Crea una variable llamada Auto y asignale el valor de Mercedes Benz.\n",
        "\n",
        "Auto = \"Mercedes Benz\""
      ]
    },
    {
      "cell_type": "code",
      "execution_count": null,
      "metadata": {
        "id": "e7dTcTOkH1a7"
      },
      "outputs": [],
      "source": [
        "#Ejercicio 2: Elimine los caracteres ilegales en el nombre de la variable:\n",
        "\n",
        "my_first_name = \"Melannie\""
      ]
    },
    {
      "cell_type": "code",
      "execution_count": null,
      "metadata": {
        "id": "HzseNwyoH1a7"
      },
      "outputs": [],
      "source": [
        "#Ejercicio 3: Cree una variable llamada curso y asígnele el valor Python.\n",
        "\n",
        "curso = \"Python\""
      ]
    },
    {
      "cell_type": "markdown",
      "metadata": {
        "id": "Zf_2pxLdpwqP"
      },
      "source": [
        "## Conversión de variables numéricas"
      ]
    },
    {
      "cell_type": "code",
      "execution_count": null,
      "metadata": {
        "id": "SZ90wKBGoXax"
      },
      "outputs": [],
      "source": [
        "x = 4.6\n",
        "y = 5.4"
      ]
    },
    {
      "cell_type": "code",
      "execution_count": null,
      "metadata": {
        "id": "pz7E6znopvCt",
        "colab": {
          "base_uri": "https://localhost:8080/"
        },
        "outputId": "6db1cb78-6d2f-41dc-9bb7-d8fd26dfdc6d"
      },
      "outputs": [
        {
          "output_type": "execute_result",
          "data": {
            "text/plain": [
              "4"
            ]
          },
          "metadata": {},
          "execution_count": 21
        }
      ],
      "source": [
        "#Con esta función estamos convirtiendo a la variable x en una variable de tipo int\n",
        "z = int(x)\n",
        "z"
      ]
    },
    {
      "cell_type": "code",
      "execution_count": null,
      "metadata": {
        "id": "O0438vQMpu_g",
        "colab": {
          "base_uri": "https://localhost:8080/"
        },
        "outputId": "76180903-1c17-413c-cc1b-82f33335a044"
      },
      "outputs": [
        {
          "output_type": "execute_result",
          "data": {
            "text/plain": [
              "5"
            ]
          },
          "metadata": {},
          "execution_count": 22
        }
      ],
      "source": [
        "#La función round redondea el número al valor superior más próximo\n",
        "z = round(x)\n",
        "z"
      ]
    },
    {
      "cell_type": "code",
      "execution_count": null,
      "metadata": {
        "id": "kCFcrnXupuyJ"
      },
      "outputs": [],
      "source": [
        "#Veamos nuevamente el tipo de dato de x\n",
        "x = 4\n",
        "type(x)"
      ]
    },
    {
      "cell_type": "code",
      "execution_count": null,
      "metadata": {
        "id": "9obD8peRoc_Z"
      },
      "outputs": [],
      "source": [
        "#Convertimos en flotante\n",
        "z = float(x)\n",
        "z"
      ]
    },
    {
      "cell_type": "code",
      "execution_count": null,
      "metadata": {
        "id": "zkgi3q6Xoc8p"
      },
      "outputs": [],
      "source": [
        "type(z)"
      ]
    },
    {
      "cell_type": "markdown",
      "metadata": {
        "id": "7D9w2keoZ5dB"
      },
      "source": [
        "# Strings"
      ]
    },
    {
      "cell_type": "code",
      "execution_count": null,
      "metadata": {
        "id": "LCMkTrzw-s9H"
      },
      "outputs": [],
      "source": [
        "saludo = \"Hola mundo!\""
      ]
    },
    {
      "cell_type": "code",
      "execution_count": null,
      "metadata": {
        "id": "bA6kViAs-s0c"
      },
      "outputs": [],
      "source": [
        "type(saludo)"
      ]
    },
    {
      "cell_type": "code",
      "execution_count": null,
      "metadata": {
        "id": "8ltOAcKw9lKM"
      },
      "outputs": [],
      "source": [
        "print(saludo)"
      ]
    },
    {
      "cell_type": "code",
      "execution_count": null,
      "metadata": {
        "id": "k1Wg1BfKH1a9",
        "colab": {
          "base_uri": "https://localhost:8080/"
        },
        "outputId": "3e26cd38-6ddd-4840-ee84-66d82e761515"
      },
      "outputs": [
        {
          "output_type": "stream",
          "name": "stdout",
          "text": [
            "Lorem ipsum dolor sit amet,\n",
            "consectetur adipiscing elit,\n",
            "sed do eiusmod tempor incididunt\n",
            "ut labore et dolore magna aliqua.\n"
          ]
        }
      ],
      "source": [
        "#Cadenas multilínea\n",
        "a = \"\"\"Lorem ipsum dolor sit amet,\n",
        "consectetur adipiscing elit,\n",
        "sed do eiusmod tempor incididunt\n",
        "ut labore et dolore magna aliqua.\"\"\"\n",
        "print(a)"
      ]
    },
    {
      "cell_type": "code",
      "execution_count": null,
      "metadata": {
        "id": "gcui8p-RH1a9"
      },
      "outputs": [],
      "source": [
        "#Formateo de Strings: Si yo intento combinar strings con nros obtendremos un error:\n",
        "edad = 36\n",
        "txt = \"Mi nombre es John, y tengo \" + edad\n",
        "print(txt)"
      ]
    },
    {
      "cell_type": "code",
      "execution_count": null,
      "metadata": {
        "id": "RJtgyVYYH1a9",
        "colab": {
          "base_uri": "https://localhost:8080/"
        },
        "outputId": "c71423fd-1bd7-488c-8980-0fb262866df7"
      },
      "outputs": [
        {
          "output_type": "stream",
          "name": "stdout",
          "text": [
            "Mi nombre es John, y tengo 36\n"
          ]
        }
      ],
      "source": [
        "# Funcion format()\n",
        "edad = 36\n",
        "txt = \"Mi nombre es John, y tengo {}\"\n",
        "print(txt.format(edad))"
      ]
    },
    {
      "cell_type": "markdown",
      "metadata": {
        "id": "3PkqahQaH1a9"
      },
      "source": [
        "# Input"
      ]
    },
    {
      "cell_type": "code",
      "execution_count": null,
      "metadata": {
        "id": "yDXcjnOaH1a9",
        "outputId": "bed1ab45-d2fc-424a-cab8-b202dfe44556",
        "colab": {
          "base_uri": "https://localhost:8080/"
        }
      },
      "outputs": [
        {
          "name": "stdout",
          "output_type": "stream",
          "text": [
            "Ingrese su nombre: Ivan\n"
          ]
        }
      ],
      "source": [
        "nombre = input(\"Ingrese su nombre: \")"
      ]
    },
    {
      "cell_type": "code",
      "source": [
        "nombre"
      ],
      "metadata": {
        "colab": {
          "base_uri": "https://localhost:8080/",
          "height": 35
        },
        "id": "MmXWa87Kl4OM",
        "outputId": "e37d4df5-c354-432f-b2c0-eb98d68f86e4"
      },
      "execution_count": null,
      "outputs": [
        {
          "output_type": "execute_result",
          "data": {
            "text/plain": [
              "'Ivan'"
            ],
            "application/vnd.google.colaboratory.intrinsic+json": {
              "type": "string"
            }
          },
          "metadata": {},
          "execution_count": 46
        }
      ]
    },
    {
      "cell_type": "code",
      "source": [
        "type(\"30\")"
      ],
      "metadata": {
        "colab": {
          "base_uri": "https://localhost:8080/"
        },
        "id": "WMCzpkIWmCBf",
        "outputId": "560281e0-967a-4db0-a6ba-26653846292f"
      },
      "execution_count": null,
      "outputs": [
        {
          "output_type": "execute_result",
          "data": {
            "text/plain": [
              "str"
            ]
          },
          "metadata": {},
          "execution_count": 47
        }
      ]
    },
    {
      "cell_type": "code",
      "source": [
        "type(30)"
      ],
      "metadata": {
        "colab": {
          "base_uri": "https://localhost:8080/"
        },
        "id": "9Z6WDmT4mCIt",
        "outputId": "1c2fd1d9-66b4-472c-b8b2-fccc8b9da3f8"
      },
      "execution_count": null,
      "outputs": [
        {
          "output_type": "execute_result",
          "data": {
            "text/plain": [
              "int"
            ]
          },
          "metadata": {},
          "execution_count": 48
        }
      ]
    },
    {
      "cell_type": "code",
      "source": [
        "type(int(\"30\"))"
      ],
      "metadata": {
        "colab": {
          "base_uri": "https://localhost:8080/"
        },
        "id": "HdjPjbZpmCPa",
        "outputId": "e908714a-cd78-47b3-e8e0-6dd5fca33164"
      },
      "execution_count": null,
      "outputs": [
        {
          "output_type": "execute_result",
          "data": {
            "text/plain": [
              "int"
            ]
          },
          "metadata": {},
          "execution_count": 25
        }
      ]
    },
    {
      "cell_type": "code",
      "source": [],
      "metadata": {
        "id": "dvuBcev8mKPO"
      },
      "execution_count": null,
      "outputs": []
    },
    {
      "cell_type": "code",
      "source": [
        "# el input siempre guarda un texto, entonces debemos convertirlo en entero\n",
        "\n",
        "edad = int(input(\"Ingrese su edad: \"))\n",
        "print(edad)"
      ],
      "metadata": {
        "colab": {
          "base_uri": "https://localhost:8080/"
        },
        "id": "ylDNTmMQlwlF",
        "outputId": "8e7b2170-f2e3-47b1-f429-b82b8c2d3cd5"
      },
      "execution_count": null,
      "outputs": [
        {
          "output_type": "stream",
          "name": "stdout",
          "text": [
            "Ingrese su edad: 41\n",
            "41\n"
          ]
        }
      ]
    },
    {
      "cell_type": "code",
      "execution_count": null,
      "metadata": {
        "id": "nlw7HATyH1a-"
      },
      "outputs": [],
      "source": [
        "#Otro ejemplo\n",
        "miNombre = input()"
      ]
    },
    {
      "cell_type": "code",
      "execution_count": null,
      "metadata": {
        "id": "ZJ0HFTkpH1a-"
      },
      "outputs": [],
      "source": [
        "print('Me alegro de conocerte, ' + miNombre)"
      ]
    },
    {
      "cell_type": "code",
      "source": [],
      "metadata": {
        "id": "UvWPzExvmso2"
      },
      "execution_count": null,
      "outputs": []
    },
    {
      "cell_type": "markdown",
      "source": [
        "# Operaciones con strings"
      ],
      "metadata": {
        "id": "jpv9GQSGmtEY"
      }
    },
    {
      "cell_type": "code",
      "source": [
        "cadena = \"Python\""
      ],
      "metadata": {
        "id": "k_fGQ4UVmvcS"
      },
      "execution_count": null,
      "outputs": []
    },
    {
      "cell_type": "code",
      "source": [
        "len(cadena)"
      ],
      "metadata": {
        "colab": {
          "base_uri": "https://localhost:8080/"
        },
        "id": "Kgd7d7kjmvjg",
        "outputId": "bcff0b19-d6f9-4228-cb69-03fb22ab2eb2"
      },
      "execution_count": null,
      "outputs": [
        {
          "output_type": "execute_result",
          "data": {
            "text/plain": [
              "6"
            ]
          },
          "metadata": {},
          "execution_count": 28
        }
      ]
    },
    {
      "cell_type": "code",
      "source": [
        "cadena[0]  # primera letra"
      ],
      "metadata": {
        "colab": {
          "base_uri": "https://localhost:8080/",
          "height": 36
        },
        "id": "NLrmlnlom3I1",
        "outputId": "79f1b6ec-a63b-42e6-e17f-25b10bc269e9"
      },
      "execution_count": null,
      "outputs": [
        {
          "output_type": "execute_result",
          "data": {
            "text/plain": [
              "'P'"
            ],
            "application/vnd.google.colaboratory.intrinsic+json": {
              "type": "string"
            }
          },
          "metadata": {},
          "execution_count": 29
        }
      ]
    },
    {
      "cell_type": "code",
      "source": [
        "cadena[2]"
      ],
      "metadata": {
        "colab": {
          "base_uri": "https://localhost:8080/",
          "height": 36
        },
        "id": "yIfIqshLnBUO",
        "outputId": "6e343d47-d0d3-4755-9c0c-0eca3d8c77ad"
      },
      "execution_count": null,
      "outputs": [
        {
          "output_type": "execute_result",
          "data": {
            "text/plain": [
              "'t'"
            ],
            "application/vnd.google.colaboratory.intrinsic+json": {
              "type": "string"
            }
          },
          "metadata": {},
          "execution_count": 30
        }
      ]
    },
    {
      "cell_type": "code",
      "source": [
        "# slicing"
      ],
      "metadata": {
        "id": "rS72q23-na6B"
      },
      "execution_count": null,
      "outputs": []
    },
    {
      "cell_type": "code",
      "source": [
        "cadena[0:3]"
      ],
      "metadata": {
        "colab": {
          "base_uri": "https://localhost:8080/",
          "height": 36
        },
        "id": "8rIdaEUOna__",
        "outputId": "d52536c0-07ca-4d68-d7b8-4dc3408caef3"
      },
      "execution_count": null,
      "outputs": [
        {
          "output_type": "execute_result",
          "data": {
            "text/plain": [
              "'Pyt'"
            ],
            "application/vnd.google.colaboratory.intrinsic+json": {
              "type": "string"
            }
          },
          "metadata": {},
          "execution_count": 31
        }
      ]
    },
    {
      "cell_type": "code",
      "source": [
        "cadena[0:3:1]"
      ],
      "metadata": {
        "colab": {
          "base_uri": "https://localhost:8080/",
          "height": 36
        },
        "id": "sqnVs-pznqcz",
        "outputId": "c0c09505-223e-4051-dda8-7bd724925c9f"
      },
      "execution_count": null,
      "outputs": [
        {
          "output_type": "execute_result",
          "data": {
            "text/plain": [
              "'Pyt'"
            ],
            "application/vnd.google.colaboratory.intrinsic+json": {
              "type": "string"
            }
          },
          "metadata": {},
          "execution_count": 32
        }
      ]
    },
    {
      "cell_type": "code",
      "source": [
        "cadena[0:6:2]"
      ],
      "metadata": {
        "colab": {
          "base_uri": "https://localhost:8080/",
          "height": 36
        },
        "id": "RPUE7Nz8nv5Y",
        "outputId": "e846496a-a600-494d-e472-1b965f23aca1"
      },
      "execution_count": null,
      "outputs": [
        {
          "output_type": "execute_result",
          "data": {
            "text/plain": [
              "'Pto'"
            ],
            "application/vnd.google.colaboratory.intrinsic+json": {
              "type": "string"
            }
          },
          "metadata": {},
          "execution_count": 33
        }
      ]
    },
    {
      "cell_type": "code",
      "source": [
        "str(20)"
      ],
      "metadata": {
        "id": "U3BYngCvsd3v",
        "outputId": "f4ebc20f-c981-4e22-f7c6-0cc5f0ade222",
        "colab": {
          "base_uri": "https://localhost:8080/",
          "height": 36
        }
      },
      "execution_count": null,
      "outputs": [
        {
          "output_type": "execute_result",
          "data": {
            "text/plain": [
              "'20'"
            ],
            "application/vnd.google.colaboratory.intrinsic+json": {
              "type": "string"
            }
          },
          "metadata": {},
          "execution_count": 34
        }
      ]
    }
  ],
  "metadata": {
    "colab": {
      "provenance": [],
      "include_colab_link": true
    },
    "kernelspec": {
      "display_name": "Python 3 (ipykernel)",
      "language": "python",
      "name": "python3"
    },
    "language_info": {
      "codemirror_mode": {
        "name": "ipython",
        "version": 3
      },
      "file_extension": ".py",
      "mimetype": "text/x-python",
      "name": "python",
      "nbconvert_exporter": "python",
      "pygments_lexer": "ipython3",
      "version": "3.8.8"
    },
    "varInspector": {
      "cols": {
        "lenName": 16,
        "lenType": 16,
        "lenVar": 40
      },
      "kernels_config": {
        "python": {
          "delete_cmd_postfix": "",
          "delete_cmd_prefix": "del ",
          "library": "var_list.py",
          "varRefreshCmd": "print(var_dic_list())"
        },
        "r": {
          "delete_cmd_postfix": ") ",
          "delete_cmd_prefix": "rm(",
          "library": "var_list.r",
          "varRefreshCmd": "cat(var_dic_list()) "
        }
      },
      "types_to_exclude": [
        "module",
        "function",
        "builtin_function_or_method",
        "instance",
        "_Feature"
      ],
      "window_display": false
    }
  },
  "nbformat": 4,
  "nbformat_minor": 0
}