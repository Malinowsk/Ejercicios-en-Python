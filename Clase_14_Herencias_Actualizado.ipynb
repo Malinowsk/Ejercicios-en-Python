{
  "cells": [
    {
      "cell_type": "markdown",
      "metadata": {
        "id": "view-in-github",
        "colab_type": "text"
      },
      "source": [
        "<a href=\"https://colab.research.google.com/github/Malinowsk/Ejercicios-en-Python/blob/main/Clase_14_Herencias_Actualizado.ipynb\" target=\"_parent\"><img src=\"https://colab.research.google.com/assets/colab-badge.svg\" alt=\"Open In Colab\"/></a>"
      ]
    },
    {
      "cell_type": "markdown",
      "metadata": {
        "id": "11_qCfHa17ZQ"
      },
      "source": [
        "#Herencias\n",
        "\n",
        "# 1.0 ¿Qué es la herencia?\n",
        "\n",
        "La herencia es un proceso mediante el cual se puede crear una clase hija que hereda de una clase padre, compartiendo sus métodos y atributos. Además de ello, una clase hija puede sobreescribir los métodos o atributos, o incluso definir unos nuevos.\n",
        "\n",
        "Se puede crear una clase hija con tan solo pasar como parámetro la clase de la que queremos heredar. En el siguiente ejemplo vemos como se puede usar la herencia en Python, con la clase Perro que hereda de Animal. Así de fácil."
      ]
    },
    {
      "cell_type": "code",
      "execution_count": null,
      "metadata": {
        "id": "dowEBsaf19lH"
      },
      "outputs": [],
      "source": [
        "# Definimos una clase padre\n",
        "class Animal:\n",
        "    pass\n",
        "\n",
        "# Creamos una clase hija que hereda de la padre\n",
        "class Perro(Animal):\n",
        "    pass"
      ]
    },
    {
      "cell_type": "markdown",
      "metadata": {
        "id": "y9m-saxjrb9W"
      },
      "source": [
        "# 1.1 - ¿Para qué usar Herencia?\n",
        "\n",
        "Dado que una clase hija hereda los atributos y métodos de la padre, nos puede ser muy útil cuando tengamos clases que se parecen entre sí pero tienen ciertas particularidades.\n",
        "\n",
        "En este caso en vez de definir un montón de clases para cada animal, podemos tomar los elementos comunes y crear una clase Animal de la que hereden el resto, respetando por tanto la filosofía DRY (El quéeeee???). \n",
        "\n",
        "*\"El principio DRY (Don't Repeat Yourself) es muy aplicado en el mundo de la programación y consiste en no repetir código de manera innecesaria. Cuanto más código duplicado exista, más difícil será de modificar y más fácil será crear inconsistencias. Las clases y la herencia a no repetir código.\"*\n",
        "\n",
        "Realizar estas abstracciones y buscar el denominador común para definir una clase de la que hereden las demás, es una tarea de lo más compleja en el mundo de la programación.\n",
        "\n"
      ]
    },
    {
      "cell_type": "markdown",
      "metadata": {
        "id": "nlTg9kGyrrB7"
      },
      "source": [
        "# 1.2 - Ejemplo completo, nuestros animales\n",
        "\n",
        "Vamos a definir una clase padre Animal que tendrá todos los atributos y métodos genéricos que los animales pueden tener. \n",
        "\n",
        " Veamos los atributos:\n",
        "La especie y la edad, por ejemplo, común para todos los animales.\n",
        "\n",
        "Y los métodos o funcionalidades:\n",
        "\n",
        "Tendremos el método hablar, que cada animal implementará de una forma. Un método moverse. Unos animales lo harán caminando, otros volando.\n",
        "Y por último un método descríbeme que será común."
      ]
    },
    {
      "cell_type": "code",
      "execution_count": null,
      "metadata": {
        "id": "VMqYlxVJ4K8P"
      },
      "outputs": [],
      "source": [
        "class Animal:\n",
        "    esta_vivo = True\n",
        "    planeta = \"Tierra\"\n",
        "\n",
        "    def __init__(self, edad):\n",
        "        self.edad = edad\n",
        "\n",
        "    def __str__(self):\n",
        "        return f\"EDAD: {self.edad}\"\n",
        "\n",
        "    def hablar(self):  #Método generico vacio por ahora\n",
        "        print(\"este es el metodo hablar\")\n",
        "\n",
        "    def moverse(self): #Método generico vacio por ahora\n",
        "        print(\"este es el metodo moverse\")\n",
        "\n",
        "    def describir(self):  #Método con una implementación\n",
        "        print(f\"Soy un animal del tipo: {type(self).__name__}\")"
      ]
    },
    {
      "cell_type": "code",
      "execution_count": null,
      "metadata": {
        "id": "IbqZ2hSvfpdU"
      },
      "outputs": [],
      "source": [
        "jirafa = Animal(edad=25)"
      ]
    },
    {
      "cell_type": "code",
      "execution_count": null,
      "metadata": {
        "colab": {
          "base_uri": "https://localhost:8080/"
        },
        "id": "q7PzpOAjZgf9",
        "outputId": "465beae2-ec93-41bb-d120-2b421822bb01"
      },
      "outputs": [
        {
          "data": {
            "text/plain": [
              "25"
            ]
          },
          "execution_count": 4,
          "metadata": {},
          "output_type": "execute_result"
        }
      ],
      "source": [
        "jirafa.edad"
      ]
    },
    {
      "cell_type": "code",
      "execution_count": null,
      "metadata": {
        "colab": {
          "base_uri": "https://localhost:8080/"
        },
        "id": "JQ8hZYx2ftff",
        "outputId": "79e4cbb6-3e7a-445c-f855-32a7f14a8f38"
      },
      "outputs": [
        {
          "name": "stdout",
          "output_type": "stream",
          "text": [
            "este es el metodo hablar\n"
          ]
        }
      ],
      "source": [
        "jirafa.hablar()"
      ]
    },
    {
      "cell_type": "code",
      "execution_count": null,
      "metadata": {
        "colab": {
          "base_uri": "https://localhost:8080/"
        },
        "id": "XntAGg_RfxJq",
        "outputId": "05f72507-b390-481d-f521-7f5821fc795f"
      },
      "outputs": [
        {
          "name": "stdout",
          "output_type": "stream",
          "text": [
            "este es el metodo moverse\n"
          ]
        }
      ],
      "source": [
        "jirafa.moverse()"
      ]
    },
    {
      "cell_type": "markdown",
      "metadata": {
        "id": "XxOCxdlrrzt6"
      },
      "source": [
        "Tenemos ya por lo tanto una clase genérica Animal, que generaliza las características y funcionalidades que todo animal puede tener. Ahora creamos una clase Perro que hereda del Animal. Como primer ejemplo vamos a crear una clase vacía, para ver como los métodos y atributos son heredados por defecto.\n"
      ]
    },
    {
      "cell_type": "code",
      "execution_count": null,
      "metadata": {
        "id": "Impue5AU8KeC"
      },
      "outputs": [],
      "source": [
        "class Perro(Animal):\n",
        "  pass"
      ]
    },
    {
      "cell_type": "code",
      "execution_count": null,
      "metadata": {
        "id": "IauZmkwo8QDF"
      },
      "outputs": [],
      "source": [
        "perro1 = Perro(edad=11)  #INCREIBLE, cree un perro y la clase perro no \n",
        "#tiene atributos, solo los heredo de su padre."
      ]
    },
    {
      "cell_type": "code",
      "execution_count": null,
      "metadata": {
        "colab": {
          "base_uri": "https://localhost:8080/"
        },
        "id": "j3-VnSuJZ_J9",
        "outputId": "e478b165-b2f4-4483-e69a-f7064c562405"
      },
      "outputs": [
        {
          "data": {
            "text/plain": [
              "11"
            ]
          },
          "execution_count": 9,
          "metadata": {},
          "output_type": "execute_result"
        }
      ],
      "source": [
        "perro1.edad"
      ]
    },
    {
      "cell_type": "code",
      "execution_count": null,
      "metadata": {
        "colab": {
          "base_uri": "https://localhost:8080/"
        },
        "id": "-YYrTvrCgMH8",
        "outputId": "be1c3861-0d6f-47c3-957d-574fe34b14e6"
      },
      "outputs": [
        {
          "name": "stdout",
          "output_type": "stream",
          "text": [
            "este es el metodo hablar\n",
            "este es el metodo moverse\n"
          ]
        }
      ],
      "source": [
        "perro1.hablar()\n",
        "perro1.moverse()"
      ]
    },
    {
      "cell_type": "code",
      "execution_count": null,
      "metadata": {
        "colab": {
          "base_uri": "https://localhost:8080/"
        },
        "id": "qfMBe3ILbUWT",
        "outputId": "c4ccc632-ef39-40c8-ca7f-06387b0d690f"
      },
      "outputs": [
        {
          "data": {
            "text/plain": [
              "True"
            ]
          },
          "execution_count": 11,
          "metadata": {},
          "output_type": "execute_result"
        }
      ],
      "source": [
        "perro1.esta_vivo"
      ]
    },
    {
      "cell_type": "markdown",
      "metadata": {
        "id": "dsh-Tylbr247"
      },
      "source": [
        "A continuación con tan solo un par de líneas de código, hemos creado una clase nueva que tiene todo el contenido que la clase padre tiene, pero aquí viene lo que es de verdad interesante. Vamos a crear varios animales concretos y sobreescribir algunos de los métodos que habían sido definidos en la clase Animal, como el hablar o el moverse, ya que cada animal se comporta de una manera distinta.\n"
      ]
    },
    {
      "cell_type": "code",
      "execution_count": null,
      "metadata": {
        "id": "Nwu1I2sV8WBV"
      },
      "outputs": [],
      "source": [
        "# La herencia permite sobreescribir metodos\n",
        "\n",
        "class Perro(Animal):\n",
        "\n",
        "    def hablar(self):  #Modifica el método generico y lo trabaja a su forma\n",
        "        print(\"Guau!\")\n",
        "\n",
        "    def moverse(self):  #Lo mismo para este otro método\n",
        "        print(\"Caminando con 4 patas\")\n",
        "\n",
        "    # Agregarmos un metodo especifico de la clase Perro\n",
        "    def dar_pata(self):\n",
        "        return \"El perrito te ha dado la pata\""
      ]
    },
    {
      "cell_type": "code",
      "execution_count": null,
      "metadata": {
        "id": "oAwxwvpA5jCO"
      },
      "outputs": [],
      "source": [
        "perro2 = Perro(edad=11)"
      ]
    },
    {
      "cell_type": "code",
      "execution_count": null,
      "metadata": {
        "colab": {
          "base_uri": "https://localhost:8080/"
        },
        "id": "aEaUWpwEhBt6",
        "outputId": "f498f444-ebd0-4ec6-fc25-2274c05509e2"
      },
      "outputs": [
        {
          "name": "stdout",
          "output_type": "stream",
          "text": [
            "Guau!\n",
            "Caminando con 4 patas\n"
          ]
        }
      ],
      "source": [
        "perro2.hablar()\n",
        "perro2.moverse()"
      ]
    },
    {
      "cell_type": "code",
      "execution_count": null,
      "metadata": {
        "colab": {
          "base_uri": "https://localhost:8080/"
        },
        "id": "c5Z88duyb8Gv",
        "outputId": "d37f7f75-4a69-4520-ac65-57843cbd4b86"
      },
      "outputs": [
        {
          "name": "stdout",
          "output_type": "stream",
          "text": [
            "Soy un animal del tipo: Perro\n"
          ]
        }
      ],
      "source": [
        "perro2.describir()"
      ]
    },
    {
      "cell_type": "code",
      "execution_count": null,
      "metadata": {
        "colab": {
          "base_uri": "https://localhost:8080/",
          "height": 35
        },
        "id": "FaMYq3a8cHe8",
        "outputId": "06ee4e33-b4d7-4854-8f45-c14ff2f27b5b"
      },
      "outputs": [
        {
          "data": {
            "application/vnd.google.colaboratory.intrinsic+json": {
              "type": "string"
            },
            "text/plain": [
              "'EDAD: 11'"
            ]
          },
          "execution_count": 16,
          "metadata": {},
          "output_type": "execute_result"
        }
      ],
      "source": [
        "perro2.__str__()"
      ]
    },
    {
      "cell_type": "code",
      "execution_count": null,
      "metadata": {
        "colab": {
          "base_uri": "https://localhost:8080/"
        },
        "id": "2ViPF95TcKUX",
        "outputId": "07a114ca-f6ec-4182-a4b7-7fe275c9523e"
      },
      "outputs": [
        {
          "name": "stdout",
          "output_type": "stream",
          "text": [
            "EDAD: 11\n"
          ]
        }
      ],
      "source": [
        "print(perro2)"
      ]
    },
    {
      "cell_type": "code",
      "execution_count": null,
      "metadata": {
        "colab": {
          "base_uri": "https://localhost:8080/",
          "height": 35
        },
        "id": "WpbT3IkwiCKR",
        "outputId": "b67c7f01-57a2-4d63-9660-2448f4798a86"
      },
      "outputs": [
        {
          "data": {
            "application/vnd.google.colaboratory.intrinsic+json": {
              "type": "string"
            },
            "text/plain": [
              "'El perrito te ha dado la pata'"
            ]
          },
          "execution_count": 18,
          "metadata": {},
          "output_type": "execute_result"
        }
      ],
      "source": [
        "perro2.dar_pata()"
      ]
    },
    {
      "cell_type": "code",
      "execution_count": null,
      "metadata": {
        "colab": {
          "base_uri": "https://localhost:8080/"
        },
        "id": "N4fY8-WdiItx",
        "outputId": "c44be490-bb7f-4263-8d56-8f5e87c33c21"
      },
      "outputs": [
        {
          "data": {
            "text/plain": [
              "True"
            ]
          },
          "execution_count": 19,
          "metadata": {},
          "output_type": "execute_result"
        }
      ],
      "source": [
        "perro2.esta_vivo"
      ]
    },
    {
      "cell_type": "code",
      "execution_count": null,
      "metadata": {
        "colab": {
          "base_uri": "https://localhost:8080/",
          "height": 166
        },
        "id": "OYpviPNfiI0u",
        "outputId": "69d71932-c08b-41b0-8c0e-6bb009bd60ba"
      },
      "outputs": [
        {
          "ename": "AttributeError",
          "evalue": "ignored",
          "output_type": "error",
          "traceback": [
            "\u001b[0;31m---------------------------------------------------------------------------\u001b[0m",
            "\u001b[0;31mAttributeError\u001b[0m                            Traceback (most recent call last)",
            "\u001b[0;32m<ipython-input-21-cdc6b712469c>\u001b[0m in \u001b[0;36m<cell line: 1>\u001b[0;34m()\u001b[0m\n\u001b[0;32m----> 1\u001b[0;31m \u001b[0mperro2\u001b[0m\u001b[0;34m.\u001b[0m\u001b[0mplaneta\u001b[0m\u001b[0;34m\u001b[0m\u001b[0;34m\u001b[0m\u001b[0m\n\u001b[0m",
            "\u001b[0;31mAttributeError\u001b[0m: 'Perro' object has no attribute 'planeta'"
          ]
        }
      ],
      "source": [
        "perro2.planeta"
      ]
    },
    {
      "cell_type": "code",
      "execution_count": null,
      "metadata": {
        "id": "JkNJmC6ldWwg"
      },
      "outputs": [],
      "source": [
        "perro3 = Perro(edad=11)"
      ]
    },
    {
      "cell_type": "code",
      "execution_count": null,
      "metadata": {
        "colab": {
          "base_uri": "https://localhost:8080/",
          "height": 35
        },
        "id": "O8LZBvhmdYlD",
        "outputId": "8a6b3824-ebd7-47d4-e58a-98f08d9c4558"
      },
      "outputs": [
        {
          "data": {
            "application/vnd.google.colaboratory.intrinsic+json": {
              "type": "string"
            },
            "text/plain": [
              "'Tierra'"
            ]
          },
          "execution_count": 24,
          "metadata": {},
          "output_type": "execute_result"
        }
      ],
      "source": [
        "perro3.planeta"
      ]
    },
    {
      "cell_type": "markdown",
      "metadata": {
        "id": "AVmnOwZWr8Mr"
      },
      "source": [
        "Podemos incluso crear nuevos métodos que se añadirán a los ya heredados, como en el caso de la Abeja con picar().\n",
        "\n"
      ]
    },
    {
      "cell_type": "code",
      "execution_count": null,
      "metadata": {
        "id": "-FbtmbPt6p_f"
      },
      "outputs": [],
      "source": [
        "class Vaca(Animal):\n",
        "    def hablar(self):\n",
        "        print(\"Muuu!\")\n",
        "\n",
        "    def moverse(self):\n",
        "        print(\"Caminando con 4 patas\")\n",
        "\n",
        "\n",
        "class Abeja(Animal):\n",
        "    def hablar(self):\n",
        "        print(\"Bzzzz!\")\n",
        "\n",
        "    def moverse(self):\n",
        "        print(\"Volando\")\n",
        "\n",
        "    # Nuevo método\n",
        "    def picar(self):\n",
        "        print(\"Picar!\")"
      ]
    },
    {
      "cell_type": "code",
      "execution_count": null,
      "metadata": {
        "id": "U3ZxvnfMil6c"
      },
      "outputs": [],
      "source": [
        "abeja = Abeja(edad=0.1)"
      ]
    },
    {
      "cell_type": "code",
      "execution_count": null,
      "metadata": {
        "colab": {
          "base_uri": "https://localhost:8080/"
        },
        "id": "-9pF1U8jduuW",
        "outputId": "f4b2bb79-3761-4efb-ed2e-233fb119d78c"
      },
      "outputs": [
        {
          "name": "stdout",
          "output_type": "stream",
          "text": [
            "Picar!\n"
          ]
        }
      ],
      "source": [
        "abeja.picar()"
      ]
    },
    {
      "cell_type": "markdown",
      "metadata": {
        "id": "ROY5dLlrsKNs"
      },
      "source": [
        "# 1.3 - Super()\n",
        "\n",
        "Tal vez queramos que nuestro Perro tenga un parámetro extra en el constructor, como podría ser el dueño. Para realizar esto tenemos dos alternativas:\n",
        "\n",
        "1) Podemos crear un nuevo __init__ y guardar todas las variables una a una.\n",
        "\n",
        "2) O podemos usar super() para llamar al __init__ de la clase padre que ya aceptaba la especie y edad, y sólo asignar la variable nueva manualmente. \n"
      ]
    },
    {
      "cell_type": "code",
      "execution_count": null,
      "metadata": {
        "id": "Q2C8jl2e9MEd"
      },
      "outputs": [],
      "source": [
        "# Queremos que el constructor del Perro maneje dos atributos extra: raza y duenio\n",
        "\n",
        "class Perro(Animal):\n",
        "    def __init__(self, edad, raza, duenio):\n",
        "        # Alternativa 1\n",
        "        # self.edad = edad\n",
        "        # self.raza = raza\n",
        "        # self.duenio = duenio\n",
        "\n",
        "        # Alternativa 2\n",
        "        # LLamamos al constructor del ancestro\n",
        "        super().__init__(edad)  # es equivalente a: self.edad = edad\n",
        "        self.raza = raza\n",
        "        self.duenio = duenio\n",
        "\n",
        "    def hablar(self):  # sobreescribo completo\n",
        "        print(\"Guau!\")\n",
        "\n",
        "    def moverse(self):\n",
        "        # Primero llamamos al método del padre\n",
        "        super().moverse()  # print(\"este es el metodo moverse\")\n",
        "        print(\"Caminando con 4 patas\")\n"
      ]
    },
    {
      "cell_type": "code",
      "execution_count": null,
      "metadata": {
        "id": "vbQkNdNWkWD3"
      },
      "outputs": [],
      "source": [
        "perro3 = Perro(edad=2, raza='Labrador', duenio='Pedro')"
      ]
    },
    {
      "cell_type": "code",
      "execution_count": null,
      "metadata": {
        "colab": {
          "base_uri": "https://localhost:8080/"
        },
        "id": "QPYR-GMRkglr",
        "outputId": "a24f6266-4664-406e-bbb4-8ddd70be2c46"
      },
      "outputs": [
        {
          "data": {
            "text/plain": [
              "2"
            ]
          },
          "execution_count": 30,
          "metadata": {},
          "output_type": "execute_result"
        }
      ],
      "source": [
        "perro3.edad"
      ]
    },
    {
      "cell_type": "code",
      "execution_count": null,
      "metadata": {
        "colab": {
          "base_uri": "https://localhost:8080/",
          "height": 35
        },
        "id": "RtmEuRBoknMB",
        "outputId": "11845f1e-bec1-474a-a6c3-bcfeeb08a3c4"
      },
      "outputs": [
        {
          "data": {
            "application/vnd.google.colaboratory.intrinsic+json": {
              "type": "string"
            },
            "text/plain": [
              "'Pedro'"
            ]
          },
          "execution_count": 31,
          "metadata": {},
          "output_type": "execute_result"
        }
      ],
      "source": [
        "perro3.duenio"
      ]
    },
    {
      "cell_type": "code",
      "execution_count": null,
      "metadata": {
        "colab": {
          "base_uri": "https://localhost:8080/"
        },
        "id": "E3iJ9VDrgQfq",
        "outputId": "66adc7e3-14a7-4b60-cb34-926acd198e94"
      },
      "outputs": [
        {
          "name": "stdout",
          "output_type": "stream",
          "text": [
            "este es el metodo moverse\n",
            "Caminando con 4 patas\n"
          ]
        }
      ],
      "source": [
        "perro3.moverse()"
      ]
    },
    {
      "cell_type": "markdown",
      "metadata": {
        "id": "io-UdXEysT4d"
      },
      "source": [
        "#Herencias Múltiples\n",
        "\n",
        "\n"
      ]
    },
    {
      "cell_type": "markdown",
      "metadata": {
        "id": "MqcmDgN5tbuL"
      },
      "source": [
        "# 2.1 Definición\n",
        "\n",
        "Hemos visto cómo se podía crear una clase padre que heredaba de una clase hija, pudiendo hacer uso de sus métodos y atributos. La herencia múltiple es similar, pero una clase hereda de varias clases padre en vez de una sola."
      ]
    },
    {
      "cell_type": "code",
      "execution_count": null,
      "metadata": {
        "id": "aKnkrphFsiOD"
      },
      "outputs": [],
      "source": [
        "class Clase1: \n",
        "  pass\n",
        "\n",
        "class Clase2:\n",
        "  pass\n",
        "\n",
        "class Clase3(Clase1, Clase2):  #La clase 3 hereda de la 1 y de la 2\n",
        "  pass"
      ]
    },
    {
      "cell_type": "code",
      "execution_count": null,
      "metadata": {
        "id": "ExhD0gzrsvJD"
      },
      "outputs": [],
      "source": [
        "class Clase1:  # la abuela\n",
        "  pass\n",
        "\n",
        "class Clase2(Clase1): # (madre) La clase 2 hereda de la 1   :) \n",
        "  pass\n",
        "\n",
        "class Clase3(Clase2):  # (hija) La clase 3 hereda de la 2, que heredaba de la 1\n",
        "  pass"
      ]
    },
    {
      "cell_type": "markdown",
      "metadata": {
        "id": "DBt2sKaGtDzz"
      },
      "source": [
        "# Duda ?¿¿??\n",
        "\n",
        "Si llamo a un método que todas las clases tienen en común ¿a cuál se llama?(Esto suele ser un problema en todos los lenguajes). \n",
        "\n",
        "Python lo soluciona: La forma de saber a qué método se llama es consultar el MRO o Method Order Resolution. Esta función nos devuelve una tupla con el orden de búsqueda de los métodos. Como era de esperar se empieza en la propia clase y se va subiendo hasta la clase padre, de izquierda a derecha.\n"
      ]
    },
    {
      "cell_type": "code",
      "execution_count": null,
      "metadata": {
        "id": "Xn61TzMRtMVa"
      },
      "outputs": [],
      "source": [
        "class ClaseX:\n",
        "    pass\n",
        "\n",
        "class Clase1(ClaseX):\n",
        "    def metodo_a(self):\n",
        "        return 'A: soy de la clase 1'\n",
        "\n",
        "    def metodo_b(self):\n",
        "        return 'B: soy de la clase 1'\n",
        "\n",
        "    def metodo_c(self):\n",
        "        return 'C: soy de la clase 1'\n",
        "\n",
        "\n",
        "class Clase2(ClaseX):\n",
        "    def metodo_a(self):\n",
        "        return 'A: soy de la clase 2'\n",
        "\n",
        "    def metodo_b(self):\n",
        "        return 'B: soy de la clase 2'\n",
        "\n",
        "    def metodo_d(self):\n",
        "        return 'D: soy de la clase 2'\n",
        "\n",
        "class Clase3(Clase1, Clase2):  #La clase 3 hereda de la 1 y de la 2 O__O\n",
        "    def metodo_a(self):\n",
        "        return 'A: soy de la clase 3'\n",
        "    \n",
        "    # Metodo especifico de ella\n",
        "    def saludar(self):\n",
        "        return 'hola'"
      ]
    },
    {
      "cell_type": "code",
      "execution_count": null,
      "metadata": {
        "colab": {
          "base_uri": "https://localhost:8080/"
        },
        "id": "yVfK9TUZpD-t",
        "outputId": "4d12124a-a4a1-409a-e413-cab0c2fa74e9"
      },
      "outputs": [
        {
          "data": {
            "text/plain": [
              "(__main__.Clase3, __main__.Clase1, __main__.Clase2, __main__.ClaseX, object)"
            ]
          },
          "execution_count": 50,
          "metadata": {},
          "output_type": "execute_result"
        }
      ],
      "source": [
        "Clase3.__mro__"
      ]
    },
    {
      "cell_type": "code",
      "execution_count": null,
      "metadata": {
        "id": "rVTkokHtp76U"
      },
      "outputs": [],
      "source": [
        "ejemplo = Clase3()"
      ]
    },
    {
      "cell_type": "code",
      "execution_count": null,
      "metadata": {
        "colab": {
          "base_uri": "https://localhost:8080/",
          "height": 35
        },
        "id": "x3c_cPkPqDWp",
        "outputId": "43365299-7756-40ac-efb3-5db27aca263e"
      },
      "outputs": [
        {
          "data": {
            "application/vnd.google.colaboratory.intrinsic+json": {
              "type": "string"
            },
            "text/plain": [
              "'A: soy de la clase 3'"
            ]
          },
          "execution_count": 40,
          "metadata": {},
          "output_type": "execute_result"
        }
      ],
      "source": [
        "ejemplo.metodo_a()"
      ]
    },
    {
      "cell_type": "code",
      "execution_count": null,
      "metadata": {
        "colab": {
          "base_uri": "https://localhost:8080/",
          "height": 35
        },
        "id": "tWQ5MEr9qFMO",
        "outputId": "a155f135-b019-4c42-cbcb-710e839b9ed1"
      },
      "outputs": [
        {
          "data": {
            "application/vnd.google.colaboratory.intrinsic+json": {
              "type": "string"
            },
            "text/plain": [
              "'B: soy de la clase 1'"
            ]
          },
          "execution_count": 41,
          "metadata": {},
          "output_type": "execute_result"
        }
      ],
      "source": [
        "ejemplo.metodo_b()"
      ]
    },
    {
      "cell_type": "code",
      "execution_count": null,
      "metadata": {
        "colab": {
          "base_uri": "https://localhost:8080/",
          "height": 35
        },
        "id": "ctDZ5NmWqF-l",
        "outputId": "203bdfcd-0073-4136-f4bf-04325d0634de"
      },
      "outputs": [
        {
          "data": {
            "application/vnd.google.colaboratory.intrinsic+json": {
              "type": "string"
            },
            "text/plain": [
              "'C: soy de la clase 1'"
            ]
          },
          "execution_count": 42,
          "metadata": {},
          "output_type": "execute_result"
        }
      ],
      "source": [
        "ejemplo.metodo_c()"
      ]
    },
    {
      "cell_type": "code",
      "execution_count": null,
      "metadata": {
        "colab": {
          "base_uri": "https://localhost:8080/",
          "height": 35
        },
        "id": "pZtGMxMtjtoj",
        "outputId": "8acc3273-8929-4baf-ddea-16eaa9dd0e34"
      },
      "outputs": [
        {
          "data": {
            "application/vnd.google.colaboratory.intrinsic+json": {
              "type": "string"
            },
            "text/plain": [
              "'D: soy de la clase 2'"
            ]
          },
          "execution_count": 46,
          "metadata": {},
          "output_type": "execute_result"
        }
      ],
      "source": [
        "ejemplo.metodo_d()"
      ]
    },
    {
      "cell_type": "code",
      "execution_count": null,
      "metadata": {
        "colab": {
          "base_uri": "https://localhost:8080/",
          "height": 35
        },
        "id": "s7UnrploqG5Z",
        "outputId": "1a14c6b8-1cba-4cec-ddf1-7725bd2b0ef9"
      },
      "outputs": [
        {
          "data": {
            "application/vnd.google.colaboratory.intrinsic+json": {
              "type": "string"
            },
            "text/plain": [
              "'hola'"
            ]
          },
          "execution_count": 43,
          "metadata": {},
          "output_type": "execute_result"
        }
      ],
      "source": [
        "ejemplo.saludar()"
      ]
    },
    {
      "cell_type": "code",
      "execution_count": null,
      "metadata": {
        "colab": {
          "base_uri": "https://localhost:8080/"
        },
        "id": "r0Nl0K9ZrHG2",
        "outputId": "472797b5-a047-441a-a35e-c22ffa205f23"
      },
      "outputs": [
        {
          "data": {
            "text/plain": [
              "['__class__',\n",
              " '__delattr__',\n",
              " '__dict__',\n",
              " '__dir__',\n",
              " '__doc__',\n",
              " '__eq__',\n",
              " '__format__',\n",
              " '__ge__',\n",
              " '__getattribute__',\n",
              " '__gt__',\n",
              " '__hash__',\n",
              " '__init__',\n",
              " '__init_subclass__',\n",
              " '__le__',\n",
              " '__lt__',\n",
              " '__module__',\n",
              " '__ne__',\n",
              " '__new__',\n",
              " '__reduce__',\n",
              " '__reduce_ex__',\n",
              " '__repr__',\n",
              " '__setattr__',\n",
              " '__sizeof__',\n",
              " '__str__',\n",
              " '__subclasshook__',\n",
              " '__weakref__',\n",
              " 'metodo_a',\n",
              " 'metodo_b',\n",
              " 'metodo_c',\n",
              " 'metodo_d',\n",
              " 'saludar']"
            ]
          },
          "execution_count": 48,
          "metadata": {},
          "output_type": "execute_result"
        }
      ],
      "source": [
        "# Todos los magic methods son heredados de la clase \"object\"\n",
        "dir(ejemplo)"
      ]
    },
    {
      "cell_type": "markdown",
      "metadata": {
        "id": "0ZbmQ2fjtWJl"
      },
      "source": [
        "Una curiosidad es que al final del todo vemos la clase object. Aunque pueda parecer raro, es correcto ya que en realidad todas las clases en Python heredan de una clase genérica object, aunque no lo especifiquemos explícitamente.\n",
        "\n"
      ]
    },
    {
      "cell_type": "markdown",
      "metadata": {
        "id": "KuFcSTNTUy_q"
      },
      "source": [
        "# Acceder métodos de los ancestros\n",
        "\n",
        "Tienes dos opciones:\n",
        "* super (respeta mro)\n",
        "* Llamando ancestro en específico"
      ]
    },
    {
      "cell_type": "code",
      "execution_count": null,
      "metadata": {
        "id": "2sMHECpqmFX2"
      },
      "outputs": [],
      "source": [
        "class Gato(ClaseX, Animal):\n",
        "    def hablar(self):\n",
        "        Animal.hablar(self)"
      ]
    },
    {
      "cell_type": "code",
      "execution_count": null,
      "metadata": {
        "id": "Emw9mjlKmafI"
      },
      "outputs": [],
      "source": [
        "gato = Gato(edad=20)"
      ]
    },
    {
      "cell_type": "code",
      "execution_count": null,
      "metadata": {
        "colab": {
          "base_uri": "https://localhost:8080/"
        },
        "id": "IQFt1XvNmfuY",
        "outputId": "8ba75f46-6a3b-442b-f0e0-5951907b16aa"
      },
      "outputs": [
        {
          "name": "stdout",
          "output_type": "stream",
          "text": [
            "este es el metodo hablar\n"
          ]
        }
      ],
      "source": [
        "gato.hablar()"
      ]
    },
    {
      "cell_type": "markdown",
      "metadata": {
        "id": "HQIItybytJ_S"
      },
      "source": [
        "## Duck typing"
      ]
    },
    {
      "cell_type": "code",
      "execution_count": null,
      "metadata": {
        "id": "sH8VsYnmtJQg"
      },
      "outputs": [],
      "source": [
        "class Pato:\n",
        "    def hablar(self):\n",
        "        return 'Cuac cuac!'\n",
        "\n",
        "class Vaca:\n",
        "    def hablar(self):\n",
        "        return 'Muuu'\n",
        "\n",
        "class Gato:\n",
        "    def hablar(self):\n",
        "        return 'Miauu'"
      ]
    },
    {
      "cell_type": "code",
      "execution_count": null,
      "metadata": {
        "id": "TOckO668tbWD"
      },
      "outputs": [],
      "source": [
        "pato = Pato()\n",
        "vaca = Vaca()\n",
        "gato = Gato()"
      ]
    },
    {
      "cell_type": "code",
      "execution_count": null,
      "metadata": {
        "colab": {
          "base_uri": "https://localhost:8080/",
          "height": 35
        },
        "id": "ipzQBVqqtbvM",
        "outputId": "618f4170-275a-4c5a-a676-092fda347c00"
      },
      "outputs": [
        {
          "data": {
            "application/vnd.google.colaboratory.intrinsic+json": {
              "type": "string"
            },
            "text/plain": [
              "'Cuac cuac!'"
            ]
          },
          "execution_count": 57,
          "metadata": {},
          "output_type": "execute_result"
        }
      ],
      "source": [
        "pato.hablar()"
      ]
    },
    {
      "cell_type": "code",
      "execution_count": null,
      "metadata": {
        "colab": {
          "background_save": true
        },
        "id": "BzSJpqFMtszz"
      },
      "outputs": [],
      "source": [
        "lista_animales = [pato, vaca, gato]"
      ]
    },
    {
      "cell_type": "code",
      "execution_count": null,
      "metadata": {
        "id": "Od56uNvCtxaF"
      },
      "outputs": [],
      "source": [
        "# Lo importante es que cada uno de los objetos en la lista tengan el metodo hablar\n",
        "\n",
        "for animal in lista_animales:\n",
        "    print(animal.hablar())"
      ]
    },
    {
      "cell_type": "markdown",
      "metadata": {
        "id": "s94QU_Witf7b"
      },
      "source": [
        "# Polimorfismo"
      ]
    },
    {
      "cell_type": "markdown",
      "metadata": {
        "id": "gLPnHQc_tjOb"
      },
      "source": [
        "# 3.1 - Definición\n",
        "\n",
        "La técnica de polimorfismo de la POO significa la capacidad de tomar más de una forma. Una operación puede presentar diferentes comportamientos en diferentes instancias.\n",
        "\n",
        " El comportamiento depende de los tipos de datos utilizados en la operación. El polimorfismo es ampliamente utilizado en la aplicación de la herencia.\n",
        " "
      ]
    },
    {
      "cell_type": "markdown",
      "metadata": {
        "id": "Qeke4f2rtpxz"
      },
      "source": [
        "# 3.2 - ¿Para qué?\n",
        "\n",
        "Te permite sustituir un método proveniente de la Clase Padre, en la Clase Hija. Se  debe definir un método con el mismo nombre, y parámetros, pero debe tomar otra conducta. \n",
        "\n",
        "Es básicamente lo que veníamos haciendo sin saber que se llamaba Polimorfismo. \n"
      ]
    },
    {
      "cell_type": "code",
      "execution_count": null,
      "metadata": {
        "id": "GAy5epwhNP1w"
      },
      "outputs": [],
      "source": [
        "class Persona():\n",
        "     def __init__(self):\n",
        "         self.cedula = 13765890\n",
        "\n",
        "     def mensaje(self):\n",
        "         print(\"mensaje desde la clase Persona\")\n",
        "\n",
        "class Obrero(Persona):\n",
        "     def __init__(self):\n",
        "         self.__especialista = 1\n",
        "\n",
        "     def mensaje(self):  #Aquí tenemos al método Polimórfico\n",
        "         print(\"mensaje desde la clase Obrero\")"
      ]
    },
    {
      "cell_type": "code",
      "execution_count": null,
      "metadata": {
        "id": "_mfCOfdSNfm2"
      },
      "outputs": [],
      "source": [
        "persona1 = Persona()\n",
        "\n",
        "persona1.mensaje()"
      ]
    },
    {
      "cell_type": "code",
      "execution_count": null,
      "metadata": {
        "id": "OtqU6J2INmnX"
      },
      "outputs": [],
      "source": [
        "obrero1 = Obrero()\n",
        "\n",
        "obrero1.mensaje()"
      ]
    }
  ],
  "metadata": {
    "colab": {
      "collapsed_sections": [
        "ROY5dLlrsKNs",
        "io-UdXEysT4d",
        "MqcmDgN5tbuL",
        "s94QU_Witf7b",
        "gLPnHQc_tjOb",
        "Qeke4f2rtpxz"
      ],
      "provenance": [],
      "include_colab_link": true
    },
    "kernelspec": {
      "display_name": "Python 3 (ipykernel)",
      "language": "python",
      "name": "python3"
    },
    "language_info": {
      "codemirror_mode": {
        "name": "ipython",
        "version": 3
      },
      "file_extension": ".py",
      "mimetype": "text/x-python",
      "name": "python",
      "nbconvert_exporter": "python",
      "pygments_lexer": "ipython3",
      "version": "3.9.12"
    }
  },
  "nbformat": 4,
  "nbformat_minor": 0
}