{
  "nbformat": 4,
  "nbformat_minor": 0,
  "metadata": {
    "colab": {
      "provenance": [],
      "authorship_tag": "ABX9TyP/PfRN0n7ZMZ09ny6/qKWd",
      "include_colab_link": true
    },
    "kernelspec": {
      "name": "python3",
      "display_name": "Python 3"
    },
    "language_info": {
      "name": "python"
    }
  },
  "cells": [
    {
      "cell_type": "markdown",
      "metadata": {
        "id": "view-in-github",
        "colab_type": "text"
      },
      "source": [
        "<a href=\"https://colab.research.google.com/github/Malinowsk/Ejercicios-en-Python/blob/main/Resoluci%C3%B3n_Ejercicios_Clase_10_y_11.ipynb\" target=\"_parent\"><img src=\"https://colab.research.google.com/assets/colab-badge.svg\" alt=\"Open In Colab\"/></a>"
      ]
    },
    {
      "cell_type": "markdown",
      "source": [
        "CLASE 10"
      ],
      "metadata": {
        "id": "EkG5Mmv9-xVl"
      }
    },
    {
      "cell_type": "markdown",
      "source": [
        "### **Ejercicio Año bisiesto**"
      ],
      "metadata": {
        "id": "vy-Y50fmeG-V"
      }
    },
    {
      "cell_type": "markdown",
      "source": [
        "Consigna\n",
        "Realizar una función llamada año_bisiesto:\n",
        "\n",
        "* Recibirá un año por parámetro\n",
        "* Imprimirá “El año año es bisiesto” si el año es bisiesto\n",
        "* Imprimirá “El año año no es bisiesto” si el año no es bisiesto\n",
        "* Si se ingresa algo que no sea número, debe indicar que se ingrese un número.\n",
        "\n",
        "Información a tener en cuenta:\n",
        "\n",
        "Se recuerda que los años bisiestos son múltiplos de 4, pero los múltiplos de 100 no lo son, aunque los múltiplos de 400 sí. Estos son algunos ejemplos de posibles respuestas: 2012 es bisiesto, 2010 no es bisiesto, 2000 es bisiesto, 1900 no es bisiesto.\n"
      ],
      "metadata": {
        "id": "BCTBSiWEeZB4"
      }
    },
    {
      "cell_type": "code",
      "source": [
        "def es_bisiesto(anio):\n",
        "  return (anio % 400 == 0) or ( anio % 4 == 0 and anio % 100 != 0)"
      ],
      "metadata": {
        "id": "EV7Wc0h3ksQh"
      },
      "execution_count": null,
      "outputs": []
    },
    {
      "cell_type": "code",
      "source": [
        "def anio_bisiesto(anio):\n",
        "  if (type(anio) != int):\n",
        "    print(\"El dato ingresado no corresponde, intentelo de nuevo\")\n",
        "  elif (es_bisiesto(anio)):\n",
        "    print(\"El año es bisiesto\")\n",
        "  else:\n",
        "    print(\"El año no es bisiesto\")\n"
      ],
      "metadata": {
        "id": "qVcWGL0AeXcw"
      },
      "execution_count": null,
      "outputs": []
    },
    {
      "cell_type": "code",
      "source": [
        "anio_bisiesto(2012)\n",
        "anio_bisiesto(1900)\n",
        "anio_bisiesto(2000)\n",
        "anio_bisiesto(2010)\n",
        "anio_bisiesto(\"texto\")"
      ],
      "metadata": {
        "colab": {
          "base_uri": "https://localhost:8080/"
        },
        "id": "Tb3tp1JJ78UU",
        "outputId": "c3be28e0-56db-473a-ff63-8a23d08458f4"
      },
      "execution_count": null,
      "outputs": [
        {
          "output_type": "stream",
          "name": "stdout",
          "text": [
            "El año es bisiesto\n",
            "El año no es bisiesto\n",
            "El año es bisiesto\n",
            "El año no es bisiesto\n",
            "El dato ingresado no corresponde, intentelo de nuevo\n"
          ]
        }
      ]
    },
    {
      "cell_type": "code",
      "source": [
        "anio = int(input(\"Ingrese el año: \")) # si pongo distinto a numero explota\n",
        "anio_bisiesto(anio)"
      ],
      "metadata": {
        "colab": {
          "base_uri": "https://localhost:8080/"
        },
        "id": "_26Lq-J8lIbJ",
        "outputId": "0fce637e-4aa4-4ec2-95c3-1389ac91a474"
      },
      "execution_count": null,
      "outputs": [
        {
          "output_type": "stream",
          "name": "stdout",
          "text": [
            "Ingrese el año: 2012\n",
            "El año es bisiesto\n"
          ]
        }
      ]
    },
    {
      "cell_type": "markdown",
      "source": [
        "CLASE 11"
      ],
      "metadata": {
        "id": "BIS_V9wf-3Xb"
      }
    },
    {
      "cell_type": "markdown",
      "source": [
        "1)- Realiza una función llamada area_rectangulo() que devuelva el área del rectángulo a partir de una base y una altura. Calcula el área de un rectángulo de 15 de base y 10 de altura\n",
        "\n",
        "🖐 Ayuda: El área de un rectángulo se obtiene al multiplicar la base por la altura.\n",
        "\n",
        "2)- Realiza una función llamada area_circulo() que devuelva el área de un círculo a partir de un radio. Calcula el área de un círculo de 5 de radio\n",
        "\n",
        "🖐 Ayuda: El área de un círculo se obtiene al elevar el radio a dos y multiplicando el resultado por el número pi. Puedes utilizar el valor 3.14159 como pi o importarlo del módulo math.\n",
        "\n",
        "3)- Realiza una función llamada relacion() que a partir de dos números cumpla lo siguiente:\n",
        "\n",
        "* Si el primer número es mayor que el segundo, debe devolver 1.\n",
        "* Si el primer número es menor que el segundo, debe devolver -1.\n",
        "* Si ambos números son iguales, debe devolver un 0.\n",
        "\n",
        "Comprueba la relación entre los números: '5 y 10', '10 y 5' y '5 y 5'\n",
        "\n",
        "4)- Realiza una función llamada intermedio() que, a partir de dos números, devuelva su punto intermedio:\n",
        "🖐 Ayuda: El número intermedio de dos números corresponde a la suma de los dos números dividida entre 2\n",
        "\n",
        "Comprueba el punto intermedio entre -12 y 24\n",
        "\n",
        "5)- Realiza una función llamada recortar() que reciba tres parámetros. El primero es el número a recortar, el segundo es el límite inferior y el tercero el límite superior. La función tendrá que cumplir lo siguiente:\n",
        "\n",
        "* Devolver el límite inferior si el número es menor que éste\n",
        "* Devolver el límite superior si el número es mayor que éste.\n",
        "* Devolver el número sin cambios si no se supera ningún límite.\n",
        "* Comprueba el resultado de recortar 15 entre los límites 0 y 10\n",
        "\n",
        "6)- Realiza una función separar() que tome una lista de números enteros y devuelva dos listas ordenadas. La primera con los números pares, y la segunda con los números impares:\n",
        "🖐 Ayuda: Para ordenar una lista automáticamente puedes usar el método .sort()\n"
      ],
      "metadata": {
        "id": "7W69N3w5yJEZ"
      }
    },
    {
      "cell_type": "code",
      "source": [
        "def area_rectangulo(base,altura):\n",
        "  return base*altura\n",
        "\n",
        "print(area_rectangulo(15,10))"
      ],
      "metadata": {
        "colab": {
          "base_uri": "https://localhost:8080/"
        },
        "id": "J1ufzgrP_IMK",
        "outputId": "150dffa6-5d74-4f8e-d862-341278aa9cc2"
      },
      "execution_count": null,
      "outputs": [
        {
          "output_type": "stream",
          "name": "stdout",
          "text": [
            "150\n"
          ]
        }
      ]
    },
    {
      "cell_type": "code",
      "source": [
        "import math \n",
        "\n",
        "def area_circulo(radio):\n",
        "  return (radio**2)*math.pi\n",
        "\n",
        "print(area_circulo(5))"
      ],
      "metadata": {
        "colab": {
          "base_uri": "https://localhost:8080/"
        },
        "id": "Y9at1uRIAAkM",
        "outputId": "c1216ffb-6bd7-44bc-809a-0d55aee5610b"
      },
      "execution_count": null,
      "outputs": [
        {
          "output_type": "stream",
          "name": "stdout",
          "text": [
            "78.53981633974483\n"
          ]
        }
      ]
    },
    {
      "cell_type": "code",
      "source": [
        "def relacion(num1,num2):\n",
        "  if (num1>num2):\n",
        "    return 1\n",
        "  elif (num1<num2):\n",
        "    return -1\n",
        "  else:\n",
        "    return 0\n",
        "\n",
        "print(relacion(5,10))\n",
        "print(relacion(10,5))\n",
        "print(relacion(10,10))"
      ],
      "metadata": {
        "colab": {
          "base_uri": "https://localhost:8080/"
        },
        "id": "mESHRpAUBKs4",
        "outputId": "ae8ca217-c64c-482d-b975-7b7d9ebb4f4c"
      },
      "execution_count": null,
      "outputs": [
        {
          "output_type": "stream",
          "name": "stdout",
          "text": [
            "-1\n",
            "1\n",
            "0\n"
          ]
        }
      ]
    },
    {
      "cell_type": "code",
      "source": [
        "def intermedio(num1,num2):\n",
        "  return (num1+num2)/2\n",
        "\n",
        "print(intermedio(-12,24))"
      ],
      "metadata": {
        "colab": {
          "base_uri": "https://localhost:8080/"
        },
        "id": "HlbCYoLJCI1K",
        "outputId": "4defcce4-1007-4e60-f101-5177da8db9b7"
      },
      "execution_count": null,
      "outputs": [
        {
          "output_type": "stream",
          "name": "stdout",
          "text": [
            "6.0\n"
          ]
        }
      ]
    },
    {
      "cell_type": "code",
      "source": [
        "def recortar(lim_recortar,lim_inf,lim_sup):\n",
        "  if (lim_recortar < lim_inf):\n",
        "    return lim_inf\n",
        "  elif (lim_recortar > lim_sup):\n",
        "    return lim_sup\n",
        "  else:\n",
        "    return lim_recortar\n",
        "\n",
        "print(recortar(15,0,10))"
      ],
      "metadata": {
        "colab": {
          "base_uri": "https://localhost:8080/"
        },
        "id": "ZEcnYIv9Cpjr",
        "outputId": "84d828e0-5c91-451f-e211-b1a18062d055"
      },
      "execution_count": null,
      "outputs": [
        {
          "output_type": "stream",
          "name": "stdout",
          "text": [
            "10\n"
          ]
        }
      ]
    },
    {
      "cell_type": "code",
      "source": [
        "def separar(lista):\n",
        "  num_pares = []\n",
        "  num_impares = []\n",
        "  \n",
        "  for num in lista:\n",
        "    if (num % 2 == 0):\n",
        "      num_pares.append(num)\n",
        "    else:\n",
        "      num_impares.append(num)\n",
        "\n",
        "  num_pares.sort()\n",
        "  num_impares.sort()\n",
        "\n",
        "  listas_ordenadas = {\"list_pares\" : num_pares, \"list_impares\" : num_impares}\n",
        "  \n",
        "  return listas_ordenadas\n",
        "\n",
        "print(separar([3,1,8,5,4,6,7,2,9,2]))"
      ],
      "metadata": {
        "colab": {
          "base_uri": "https://localhost:8080/"
        },
        "id": "gMR43N2hE_mY",
        "outputId": "4be22b38-6756-4c6f-8c9c-fc253342b1be"
      },
      "execution_count": null,
      "outputs": [
        {
          "output_type": "stream",
          "name": "stdout",
          "text": [
            "{'list_pares': [2, 2, 4, 6, 8], 'list_impares': [1, 3, 5, 7, 9]}\n"
          ]
        }
      ]
    }
  ]
}