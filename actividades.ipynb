{
  "nbformat": 4,
  "nbformat_minor": 0,
  "metadata": {
    "colab": {
      "provenance": [],
      "include_colab_link": true
    },
    "kernelspec": {
      "name": "python3",
      "display_name": "Python 3"
    },
    "language_info": {
      "name": "python"
    }
  },
  "cells": [
    {
      "cell_type": "markdown",
      "metadata": {
        "id": "view-in-github",
        "colab_type": "text"
      },
      "source": [
        "<a href=\"https://colab.research.google.com/github/Malinowsk/Ejercicios-en-Python/blob/main/actividades.ipynb\" target=\"_parent\"><img src=\"https://colab.research.google.com/assets/colab-badge.svg\" alt=\"Open In Colab\"/></a>"
      ]
    },
    {
      "cell_type": "markdown",
      "source": [
        "* iNPUT"
      ],
      "metadata": {
        "id": "IJsfJTRokf7T"
      }
    },
    {
      "cell_type": "markdown",
      "source": [
        "En nuestro trabajo, nos solicitan desarrollar un programa que permita calcular el promedio final de los equipos de futbol en un torneo. \n",
        "Para ello, debemos considerar tres aspectos: \n",
        "\n",
        "jugaron 20 partidos durante el torneo, \n",
        "los partidos poseen diferente puntaje según el resultado, los partidos ganados 3 puntos, partido empatado 1 punto, partido perdido 0 puntos,\n",
        "el promedio final resulta de la cantidad de puntos totales divididos la cantidad de partidos\n"
      ],
      "metadata": {
        "id": "ugjekkvhoeLw"
      }
    },
    {
      "cell_type": "code",
      "source": [
        "partidos_totales = 20\n",
        "partidos_ganados = int(input(\"Ganados?\"))\n",
        "partidos_empatados = int(input(\"Emapatados?\"))\n",
        "partidos_perdidos = int(input(\"Perdidos?\"))"
      ],
      "metadata": {
        "colab": {
          "base_uri": "https://localhost:8080/"
        },
        "id": "CWBAgwX2ogq_",
        "outputId": "6d898964-b90d-4c5b-c4a9-18b9d540d265"
      },
      "execution_count": null,
      "outputs": [
        {
          "name": "stdout",
          "output_type": "stream",
          "text": [
            "Ganados?8\n",
            "Emapatados?7\n",
            "Perdidos?5\n"
          ]
        }
      ]
    },
    {
      "cell_type": "code",
      "source": [
        "total_puntos = 3*partidos_ganados + 1*partidos_empatados + 0*partidos_perdidos"
      ],
      "metadata": {
        "id": "jptYF9cZpGUH"
      },
      "execution_count": null,
      "outputs": []
    },
    {
      "cell_type": "code",
      "source": [
        "print(total_puntos)"
      ],
      "metadata": {
        "colab": {
          "base_uri": "https://localhost:8080/"
        },
        "id": "pkILL4I1pPYf",
        "outputId": "ad2e51d8-95a4-497f-8f9c-6682a4ba6266"
      },
      "execution_count": null,
      "outputs": [
        {
          "output_type": "stream",
          "name": "stdout",
          "text": [
            "31\n"
          ]
        }
      ]
    },
    {
      "cell_type": "code",
      "source": [
        "promedio = total_puntos / partidos_totales\n",
        "print(promedio)"
      ],
      "metadata": {
        "colab": {
          "base_uri": "https://localhost:8080/"
        },
        "id": "oZGTMqoQpWT3",
        "outputId": "98031b4e-a5e4-444e-c870-b10d63bc88d5"
      },
      "execution_count": null,
      "outputs": [
        {
          "output_type": "stream",
          "name": "stdout",
          "text": [
            "1.55\n"
          ]
        }
      ]
    },
    {
      "cell_type": "code",
      "source": [],
      "metadata": {
        "id": "bTswERDbpwwD"
      },
      "execution_count": null,
      "outputs": []
    },
    {
      "cell_type": "markdown",
      "source": [
        "Descripción de actividad individual. \n",
        "\n",
        "Dadas cuatro variables con diferentes textos, genera una nueva variable con el siguiente contenido:\n",
        "\n",
        "\n",
        "Objetivo: “Python es un lenguaje de programación versátil”.\n"
      ],
      "metadata": {
        "id": "eCyj1y6EpxKi"
      }
    },
    {
      "cell_type": "code",
      "source": [
        "cadena_1  = \"versátil\"\n",
        "cadena_2  = \"Python\"\n",
        "cadena_3  = \"es un lenguaje\"\n",
        "cadena_4  = \"de programación\"\n"
      ],
      "metadata": {
        "id": "187bSXfnpzOl"
      },
      "execution_count": null,
      "outputs": []
    },
    {
      "cell_type": "code",
      "source": [
        "cadena_2 + cadena_3 + ' ' + cadena_4 + ' ' + cadena_1"
      ],
      "metadata": {
        "colab": {
          "base_uri": "https://localhost:8080/",
          "height": 35
        },
        "id": "AaKNbtwPp6oS",
        "outputId": "daadc249-e66a-4022-f066-a03472191116"
      },
      "execution_count": null,
      "outputs": [
        {
          "output_type": "execute_result",
          "data": {
            "text/plain": [
              "'Pythones un lenguaje de programación versátil'"
            ],
            "application/vnd.google.colaboratory.intrinsic+json": {
              "type": "string"
            }
          },
          "metadata": {},
          "execution_count": 7
        }
      ]
    },
    {
      "cell_type": "markdown",
      "source": [
        "Descripción de la actividad. \n",
        "\n",
        "Se tiene una cadena de texto, pero al revés. Al parecer contiene el nombre de un alumno, la nota de un examen y la materia. \n",
        "\n",
        "De forma individual, realiza lo siguiente: \n",
        "\n",
        "1. Dar vuelta la cadena y asignarla a una variable llamada cadena_volteada. Para devolver una cadena dada vuelta se usa el tercer índice negativo con slicing: cadena[::-1]. \n",
        "2. Extraer nombre y apellido, almacenarlo en una variable llamada nombre_alumno \n",
        "4. Extraer la nota y almacenarla en una variable llamada nota.\n",
        "5. Extraer la materia y almacenarla en una variable llamada materia. \n",
        "6.  Mostrar por pantalla la siguiente estructura: \n",
        "\n",
        "NOMBRE APELLIDO ha sacado un NOTA en MATERIA\n",
        "\n"
      ],
      "metadata": {
        "id": "WgBIYDXaqWbH"
      }
    },
    {
      "cell_type": "code",
      "source": [
        "cadena = \"acitametaM ,5.8 ,otipeP ordeP\""
      ],
      "metadata": {
        "id": "epLhdXWjqtEH"
      },
      "execution_count": null,
      "outputs": []
    },
    {
      "cell_type": "code",
      "source": [
        "cadena_volteada = cadena[::-1]"
      ],
      "metadata": {
        "id": "L-GarGmmqwJJ"
      },
      "execution_count": null,
      "outputs": []
    },
    {
      "cell_type": "code",
      "source": [
        "cadena_volteada"
      ],
      "metadata": {
        "colab": {
          "base_uri": "https://localhost:8080/",
          "height": 35
        },
        "id": "nttRpJaEq0gI",
        "outputId": "107e7ecc-13a7-40d2-cb01-3eb1dc468b79"
      },
      "execution_count": null,
      "outputs": [
        {
          "output_type": "execute_result",
          "data": {
            "text/plain": [
              "'Pedro Pepito, 8.5, Matematica'"
            ],
            "application/vnd.google.colaboratory.intrinsic+json": {
              "type": "string"
            }
          },
          "metadata": {},
          "execution_count": 11
        }
      ]
    },
    {
      "cell_type": "code",
      "source": [
        "nombre = cadena_volteada[0:12]"
      ],
      "metadata": {
        "id": "v9XG2dCGq_F_"
      },
      "execution_count": null,
      "outputs": []
    },
    {
      "cell_type": "code",
      "source": [
        "nota = cadena_volteada[14:17]"
      ],
      "metadata": {
        "id": "8IIci5mFrFx1"
      },
      "execution_count": null,
      "outputs": []
    },
    {
      "cell_type": "code",
      "source": [
        "materia = cadena_volteada[19:]"
      ],
      "metadata": {
        "id": "mhRMYjFKrMQ1"
      },
      "execution_count": null,
      "outputs": []
    },
    {
      "cell_type": "code",
      "source": [
        "print(nombre + \" ha sacado un \" + nota +  \" en \" + materia)"
      ],
      "metadata": {
        "colab": {
          "base_uri": "https://localhost:8080/"
        },
        "id": "7lLuYIZDrYp0",
        "outputId": "efdf43de-2e7e-4ad3-8c94-06453f199f7a"
      },
      "execution_count": null,
      "outputs": [
        {
          "output_type": "stream",
          "name": "stdout",
          "text": [
            "Pedro Pepito ha sacado un 8.5 en Matematica\n"
          ]
        }
      ]
    }
  ]
}