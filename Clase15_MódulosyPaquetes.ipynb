{
  "nbformat": 4,
  "nbformat_minor": 0,
  "metadata": {
    "colab": {
      "provenance": [],
      "include_colab_link": true
    },
    "kernelspec": {
      "name": "python3",
      "display_name": "Python 3"
    },
    "language_info": {
      "name": "python"
    }
  },
  "cells": [
    {
      "cell_type": "markdown",
      "metadata": {
        "id": "view-in-github",
        "colab_type": "text"
      },
      "source": [
        "<a href=\"https://colab.research.google.com/github/Malinowsk/Ejercicios-en-Python/blob/main/Clase15_M%C3%B3dulosyPaquetes.ipynb\" target=\"_parent\"><img src=\"https://colab.research.google.com/assets/colab-badge.svg\" alt=\"Open In Colab\"/></a>"
      ]
    },
    {
      "cell_type": "markdown",
      "metadata": {
        "id": "uu4Ou2scdDAB"
      },
      "source": [
        "# Módulos externos\n",
        "\n",
        "Son un conjunto de módulos y paquetes creados por terceros que nos harán mucho mas facíl varias tareas."
      ]
    },
    {
      "cell_type": "markdown",
      "metadata": {
        "id": "3c89g9Oyd1Um"
      },
      "source": [
        "# No confundir con las integradas de Python"
      ]
    },
    {
      "cell_type": "code",
      "metadata": {
        "id": "sfmwUAgQdG72"
      },
      "source": [
        "#Mínimo y maximo de listas\n",
        "x = min(5, 10, 25)\n",
        "y = max(5, 10, 25)\n",
        "\n",
        "print(f\"Ejemplo mínimo: {x}\")\n",
        "print(f\"Ejemplo máximo: {y}\")\n"
      ],
      "execution_count": null,
      "outputs": []
    },
    {
      "cell_type": "code",
      "metadata": {
        "id": "DORwb0eTdaSo"
      },
      "source": [
        "#Valor absoluto, módulo\n",
        "x = -11.3\n",
        "print(f\"Ejemplo valor absoluto : {x}\")"
      ],
      "execution_count": null,
      "outputs": []
    },
    {
      "cell_type": "code",
      "metadata": {
        "id": "A4NrEPjfdjE-"
      },
      "source": [
        "#Potencia\n",
        "x = pow(4,7)\n",
        "print(f\"Ejemplo potencia : {x}\")"
      ],
      "execution_count": null,
      "outputs": []
    },
    {
      "cell_type": "markdown",
      "metadata": {
        "id": "Ls3DJcA4d6eP"
      },
      "source": [
        "# 1 -Funcionalidades de Math\n",
        "\n",
        "Esta libreria nos permite realizar operaciones derivadas de las matemáticas."
      ]
    },
    {
      "cell_type": "code",
      "metadata": {
        "id": "Uda2a1SVd8b2"
      },
      "source": [
        "#Como todo debemos primero importarla\n",
        "import math"
      ],
      "execution_count": null,
      "outputs": []
    },
    {
      "cell_type": "code",
      "metadata": {
        "colab": {
          "base_uri": "https://localhost:8080/"
        },
        "id": "Z0RkIL9OeA6W",
        "outputId": "b93c1823-b127-4df4-d371-132ee600f3c4"
      },
      "source": [
        "#Raiz cuadrada\n",
        "import math\n",
        "\n",
        "x = math.sqrt(2)\n",
        "\n",
        "print(f\"Raiz cuadrada:{x}\")\n"
      ],
      "execution_count": null,
      "outputs": [
        {
          "output_type": "stream",
          "name": "stdout",
          "text": [
            "Raiz cuadrada:1.4142135623730951\n"
          ]
        }
      ]
    },
    {
      "cell_type": "code",
      "metadata": {
        "colab": {
          "base_uri": "https://localhost:8080/"
        },
        "id": "O86VETIgeKj4",
        "outputId": "e143ef67-d7b4-48b9-95c6-93326feb3dc3"
      },
      "source": [
        "#Redondeo al entero más cercano\n",
        "\n",
        "x = math.ceil(1.4)  # Redonde por exceso\n",
        "y = math.floor(1.4)  # Redondeo por defecto\n",
        "\n",
        "print(f\"Primer redondeo {x}\") # ceil\n",
        "print(f\"Segundo redondeo {y}\") # floor1"
      ],
      "execution_count": null,
      "outputs": [
        {
          "output_type": "stream",
          "name": "stdout",
          "text": [
            "Primer redondeo 2\n",
            "Segundo redondeo 1\n"
          ]
        }
      ]
    },
    {
      "cell_type": "code",
      "metadata": {
        "id": "QSGW5K0jezZv"
      },
      "source": [
        "# ArcCoseno y otras funciones complejas están resultas con math\n",
        "print(math.acos(0.55))\n",
        "print(math.acos(-0.55))\n",
        "print(math.acos(0))\n",
        "print(math.acos(1))\n",
        "print(f\"{math.degrees(math.acos(-1))}°\" )\n",
        "\n",
        "#Resultados en radianes, se puede transformar con degrees"
      ],
      "execution_count": null,
      "outputs": []
    },
    {
      "cell_type": "markdown",
      "metadata": {
        "id": "Ku0FHot_nBwv"
      },
      "source": [
        "# 2- Random\n",
        "\n",
        "Python define un conjunto de funciones que se utilizan para generar o manipular números aleatorios a través del módulo aleatorio. \n",
        "\n",
        "Las funciones en el módulo aleatorio se basan en una función generadora de números pseudoaleatorios random () , que genera un número flotante aleatorio entre 0.0 y 1.0. \n",
        "\n",
        "Este tipo particular de funciones se utiliza en muchos juegos, loterías o cualquier aplicación que requiera una generación de números aleatorios."
      ]
    },
    {
      "cell_type": "code",
      "metadata": {
        "id": "HgN43X6Dm_Aj"
      },
      "source": [
        "#Primero la importamos\n",
        "import random"
      ],
      "execution_count": null,
      "outputs": []
    },
    {
      "cell_type": "code",
      "source": [
        "random.randint(1, 10)"
      ],
      "metadata": {
        "colab": {
          "base_uri": "https://localhost:8080/"
        },
        "id": "zlgCiSJAChgH",
        "outputId": "f80b6002-077d-48b5-ed54-3011fdf94ee0"
      },
      "execution_count": null,
      "outputs": [
        {
          "output_type": "execute_result",
          "data": {
            "text/plain": [
              "6"
            ]
          },
          "metadata": {},
          "execution_count": 23
        }
      ]
    },
    {
      "cell_type": "code",
      "metadata": {
        "colab": {
          "base_uri": "https://localhost:8080/",
          "height": 35
        },
        "id": "MNMgaQyAnBIQ",
        "outputId": "c1243eb2-6fce-4953-966d-006d57cb7a86"
      },
      "source": [
        "lista = [1, 2, \"Coder\", -1, \"Nico\", 3]\n",
        "\n",
        "random.choice(lista)"
      ],
      "execution_count": null,
      "outputs": [
        {
          "output_type": "execute_result",
          "data": {
            "text/plain": [
              "'Coder'"
            ],
            "application/vnd.google.colaboratory.intrinsic+json": {
              "type": "string"
            }
          },
          "metadata": {},
          "execution_count": 24
        }
      ]
    },
    {
      "cell_type": "code",
      "metadata": {
        "id": "HloppyOOnaC6"
      },
      "source": [
        "string = \"Esta es una cadena de caracteres.\"\n",
        "\n",
        "print(random.choice(string))"
      ],
      "execution_count": null,
      "outputs": []
    },
    {
      "cell_type": "code",
      "metadata": {
        "colab": {
          "base_uri": "https://localhost:8080/"
        },
        "id": "o8Wd3mwZodry",
        "outputId": "740364a3-a9a9-46d4-e8c4-724b0036b16d"
      },
      "source": [
        "#Aleatorios en un rango\n",
        "random.randrange(20, 50)"
      ],
      "execution_count": null,
      "outputs": [
        {
          "output_type": "execute_result",
          "data": {
            "text/plain": [
              "27"
            ]
          },
          "metadata": {},
          "execution_count": 26
        }
      ]
    },
    {
      "cell_type": "markdown",
      "metadata": {
        "id": "uukuqPhN-K9H"
      },
      "source": [
        "# 3 - Collections\n",
        "\n",
        "Python 3 tiene varias estructuras de datos integradas, incluyendo tuplas, diccionarios y listas. Las estructuras de datos nos proporcionan una forma de organizar y almacenar datos. El módulo collections nos ayuda a completar y manipular las estructuras de datos de forma eficiente.\n",
        "Para usarlo debemos importarlo, ya que es un paquete con módulos:\n",
        "\n",
        "from collections import * (o lo que vas a usar)\n",
        "\n"
      ]
    },
    {
      "cell_type": "markdown",
      "metadata": {
        "id": "CR30-Nf2-guv"
      },
      "source": [
        "# 3.1 - namedtuple\n",
        "\n",
        "Te permite añadir nombres explícitos a cada elemento de una tupla para hacer que estos significados sean claros en su programa Python.\n",
        "\n",
        "Vamos a usar namedtuple para generar una clase que claramente denomine a cada elemento de la tupla de peces:\n"
      ]
    },
    {
      "cell_type": "code",
      "metadata": {
        "id": "iknlPkR4-Zgn"
      },
      "source": [
        "from collections import namedtuple\n",
        "\n",
        "Fish = namedtuple(\"Fish\", [\"name\", \"species\", \"tank\"])\n",
        "\n",
        "#Esto crea una clase Fish con los atributos publicos nombre, especie y tanque\n",
        "\n",
        "primer_pez = Fish(\"Sammy\", \"Tiburón\", \"Tanque grande\")"
      ],
      "execution_count": null,
      "outputs": []
    },
    {
      "cell_type": "code",
      "source": [
        "primer_pez[0]"
      ],
      "metadata": {
        "colab": {
          "base_uri": "https://localhost:8080/",
          "height": 35
        },
        "id": "OdN16qrUAbxR",
        "outputId": "a449dad5-7906-4c1d-a5a0-bf0404c5ea1f"
      },
      "execution_count": null,
      "outputs": [
        {
          "output_type": "execute_result",
          "data": {
            "text/plain": [
              "'Sammy'"
            ],
            "application/vnd.google.colaboratory.intrinsic+json": {
              "type": "string"
            }
          },
          "metadata": {},
          "execution_count": 4
        }
      ]
    },
    {
      "cell_type": "code",
      "source": [
        "primer_pez[2]"
      ],
      "metadata": {
        "colab": {
          "base_uri": "https://localhost:8080/",
          "height": 35
        },
        "id": "-oNBp89QAkWf",
        "outputId": "faf0af50-c7af-4509-80f3-0ac27629fd33"
      },
      "execution_count": null,
      "outputs": [
        {
          "output_type": "execute_result",
          "data": {
            "text/plain": [
              "'Tanque grande'"
            ],
            "application/vnd.google.colaboratory.intrinsic+json": {
              "type": "string"
            }
          },
          "metadata": {},
          "execution_count": 6
        }
      ]
    },
    {
      "cell_type": "code",
      "source": [
        "primer_pez  # __repr__"
      ],
      "metadata": {
        "colab": {
          "base_uri": "https://localhost:8080/"
        },
        "id": "mjsO1-zEAQVX",
        "outputId": "dcd32dbe-a840-4f50-84df-b8ec9eefebaf"
      },
      "execution_count": null,
      "outputs": [
        {
          "output_type": "execute_result",
          "data": {
            "text/plain": [
              "Fish(name='Sammy', species='Tiburón', tank='Tanque grande')"
            ]
          },
          "metadata": {},
          "execution_count": 7
        }
      ]
    },
    {
      "cell_type": "code",
      "source": [
        "primer_pez.name"
      ],
      "metadata": {
        "colab": {
          "base_uri": "https://localhost:8080/",
          "height": 35
        },
        "id": "Pk-9NY1ZAsXO",
        "outputId": "b1cd1870-abd4-4ae4-bf43-23d41b799b7c"
      },
      "execution_count": null,
      "outputs": [
        {
          "output_type": "execute_result",
          "data": {
            "text/plain": [
              "'Sammy'"
            ],
            "application/vnd.google.colaboratory.intrinsic+json": {
              "type": "string"
            }
          },
          "metadata": {},
          "execution_count": 8
        }
      ]
    },
    {
      "cell_type": "code",
      "source": [
        "primer_pez.name = \"Super Sammy\""
      ],
      "metadata": {
        "colab": {
          "base_uri": "https://localhost:8080/",
          "height": 166
        },
        "id": "GKM1e0-vA4Jf",
        "outputId": "dd781a02-e832-4d81-b62c-d979f1912980"
      },
      "execution_count": null,
      "outputs": [
        {
          "output_type": "error",
          "ename": "AttributeError",
          "evalue": "ignored",
          "traceback": [
            "\u001b[0;31m---------------------------------------------------------------------------\u001b[0m",
            "\u001b[0;31mAttributeError\u001b[0m                            Traceback (most recent call last)",
            "\u001b[0;32m<ipython-input-9-6d7054051882>\u001b[0m in \u001b[0;36m<cell line: 1>\u001b[0;34m()\u001b[0m\n\u001b[0;32m----> 1\u001b[0;31m \u001b[0mprimer_pez\u001b[0m\u001b[0;34m.\u001b[0m\u001b[0mname\u001b[0m \u001b[0;34m=\u001b[0m \u001b[0;34m\"Super Sammy\"\u001b[0m\u001b[0;34m\u001b[0m\u001b[0;34m\u001b[0m\u001b[0m\n\u001b[0m",
            "\u001b[0;31mAttributeError\u001b[0m: can't set attribute"
          ]
        }
      ]
    },
    {
      "cell_type": "code",
      "source": [
        "print(primer_pez)  # __str__"
      ],
      "metadata": {
        "id": "IgY5n4N9AYoU"
      },
      "execution_count": null,
      "outputs": []
    },
    {
      "cell_type": "code",
      "source": [
        "for propiedad in primer_pez:\n",
        "    print(propiedad)"
      ],
      "metadata": {
        "id": "ZlZiipp-AqV8"
      },
      "execution_count": null,
      "outputs": []
    },
    {
      "cell_type": "code",
      "source": [
        "primer_pez[0]"
      ],
      "metadata": {
        "id": "5G30Y7ECAqdK"
      },
      "execution_count": null,
      "outputs": []
    },
    {
      "cell_type": "code",
      "source": [
        "primer_pez[0] = \"Pepe\""
      ],
      "metadata": {
        "id": "HbqpaEXXA1bG"
      },
      "execution_count": null,
      "outputs": []
    },
    {
      "cell_type": "code",
      "source": [
        "primer_pez.species"
      ],
      "metadata": {
        "id": "V3H16CKPAqkt"
      },
      "execution_count": null,
      "outputs": []
    },
    {
      "cell_type": "code",
      "source": [
        "#otra cosa útil es transforma una instancia de una clase en un\n",
        "#diccionario\n",
        "\n",
        "segundo_pez = Fish(\"Pepe\", \"Tiburón\", \"Tanque grande\")\n",
        "\n",
        "segundo_pez._asdict()"
      ],
      "metadata": {
        "colab": {
          "base_uri": "https://localhost:8080/"
        },
        "id": "3_0st8cHAlPf",
        "outputId": "d3646e40-d984-47a4-a95a-b620d7fcce9f"
      },
      "execution_count": null,
      "outputs": [
        {
          "output_type": "execute_result",
          "data": {
            "text/plain": [
              "{'name': 'Pepe', 'species': 'Tiburón', 'tank': 'Tanque grande'}"
            ]
          },
          "metadata": {},
          "execution_count": 10
        }
      ]
    },
    {
      "cell_type": "code",
      "source": [
        "segundo_pez"
      ],
      "metadata": {
        "id": "t2a6gJHsBOnM"
      },
      "execution_count": null,
      "outputs": []
    },
    {
      "cell_type": "markdown",
      "metadata": {
        "id": "jcz9Rory-t-_"
      },
      "source": [
        "Increible!!!!... \n",
        "\n",
        "Creamos una clase y la instanciamos en dos renglones :)\n"
      ]
    },
    {
      "cell_type": "markdown",
      "metadata": {
        "id": "7tM0CbyA-ys1"
      },
      "source": [
        "# 3.2 - Counter\n",
        "\n",
        "La clase Counter es una subclase de diccionario utilizada para realizar cuentas con diccionarios y listas:"
      ]
    },
    {
      "cell_type": "code",
      "metadata": {
        "id": "bNHez3GD-3oy"
      },
      "source": [
        "from collections import Counter\n",
        "\n",
        "l = [1,2,3,4,1,2,3,1,2,1]\n",
        "contador_1 = Counter(l)"
      ],
      "execution_count": null,
      "outputs": []
    },
    {
      "cell_type": "code",
      "source": [
        "contador_1[1]"
      ],
      "metadata": {
        "colab": {
          "base_uri": "https://localhost:8080/"
        },
        "id": "41UD3X14BsRo",
        "outputId": "fd0546fd-56cd-420c-94c0-9f94a11f7258"
      },
      "execution_count": null,
      "outputs": [
        {
          "output_type": "execute_result",
          "data": {
            "text/plain": [
              "4"
            ]
          },
          "metadata": {},
          "execution_count": 13
        }
      ]
    },
    {
      "cell_type": "code",
      "source": [
        "estudiantes = \"Nicolás Claudio Brenda Flor Nicolás Flor\"\n",
        "lista_estudiantes = estudiantes.split()"
      ],
      "metadata": {
        "id": "3aml6FgBBhsa"
      },
      "execution_count": null,
      "outputs": []
    },
    {
      "cell_type": "code",
      "source": [
        "lista_estudiantes"
      ],
      "metadata": {
        "colab": {
          "base_uri": "https://localhost:8080/"
        },
        "id": "6JPrifQCB9IF",
        "outputId": "015ef7e1-dec2-42f4-df38-8bc16ac1cb5e"
      },
      "execution_count": null,
      "outputs": [
        {
          "output_type": "execute_result",
          "data": {
            "text/plain": [
              "['Nicolás', 'Claudio', 'Brenda', 'Flor', 'Nicolás', 'Flor']"
            ]
          },
          "metadata": {},
          "execution_count": 15
        }
      ]
    },
    {
      "cell_type": "code",
      "source": [
        "contador_2 = Counter(lista_estudiantes)"
      ],
      "metadata": {
        "id": "JWSWdSCkCDiI"
      },
      "execution_count": null,
      "outputs": []
    },
    {
      "cell_type": "code",
      "source": [
        "contador_2"
      ],
      "metadata": {
        "colab": {
          "base_uri": "https://localhost:8080/"
        },
        "id": "787Fr1OkCH_q",
        "outputId": "d379f345-81ad-4c16-90ea-2cafd711e5c7"
      },
      "execution_count": null,
      "outputs": [
        {
          "output_type": "execute_result",
          "data": {
            "text/plain": [
              "Counter({'Nicolás': 2, 'Claudio': 1, 'Brenda': 1, 'Flor': 2})"
            ]
          },
          "metadata": {},
          "execution_count": 17
        }
      ]
    },
    {
      "cell_type": "markdown",
      "metadata": {
        "id": "wF6VFO1b_EPp"
      },
      "source": [
        "Con este paquete podemos, entre otras cosas, también ordenar, agrupar y rankear registros de una diccionario. \n",
        "\n",
        "[Vínculo ejemplos:](https://docs.hektorprofe.net/python/modulos-y-paquetes/modulo-collections/)\n"
      ]
    }
  ]
}