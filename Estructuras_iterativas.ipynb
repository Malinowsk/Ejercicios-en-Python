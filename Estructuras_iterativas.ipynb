{
  "cells": [
    {
      "cell_type": "markdown",
      "metadata": {
        "id": "view-in-github",
        "colab_type": "text"
      },
      "source": [
        "<a href=\"https://colab.research.google.com/github/Malinowsk/Ejercicios-en-Python/blob/main/Estructuras_iterativas.ipynb\" target=\"_parent\"><img src=\"https://colab.research.google.com/assets/colab-badge.svg\" alt=\"Open In Colab\"/></a>"
      ]
    },
    {
      "cell_type": "markdown",
      "metadata": {
        "id": "Z0D1aWhDIOll"
      },
      "source": [
        "# Estructuras iterativas\n"
      ]
    },
    {
      "cell_type": "markdown",
      "metadata": {
        "id": "aCk014leoLCD"
      },
      "source": [
        "# Bucles"
      ]
    },
    {
      "cell_type": "markdown",
      "metadata": {
        "id": "sJv7k_6mtrNL"
      },
      "source": [
        "## while\n",
        "\n",
        "```\n",
        "while condicion:\n",
        "    bloque de codigo a repetir\n",
        "```"
      ]
    },
    {
      "cell_type": "code",
      "source": [
        "num = 5\n",
        "while num > 0:\n",
        "    print(f'{num}')\n",
        "    num -= 1\n",
        "\n",
        "print(\"termino el conteo\")"
      ],
      "metadata": {
        "colab": {
          "base_uri": "https://localhost:8080/"
        },
        "id": "92jBhcHaKKjL",
        "outputId": "0955125c-ed17-4e01-f7f0-ebbe01caa966"
      },
      "execution_count": null,
      "outputs": [
        {
          "output_type": "stream",
          "name": "stdout",
          "text": [
            "5\n",
            "4\n",
            "3\n",
            "2\n",
            "1\n",
            "termino el conteo\n"
          ]
        }
      ]
    },
    {
      "cell_type": "markdown",
      "metadata": {
        "id": "n5kzRJEVrlvp"
      },
      "source": [
        "Imprimir los números enteros menores a 10"
      ]
    },
    {
      "cell_type": "code",
      "execution_count": null,
      "metadata": {
        "colab": {
          "base_uri": "https://localhost:8080/"
        },
        "id": "GQ5HBLz1A9nh",
        "outputId": "6ff0b283-4161-41aa-8a84-cf808999791a"
      },
      "outputs": [
        {
          "output_type": "stream",
          "name": "stdout",
          "text": [
            "1\n",
            "2\n",
            "3\n",
            "4\n",
            "5\n",
            "6\n",
            "7\n",
            "8\n",
            "9\n",
            "10\n",
            "11\n",
            "12\n",
            "13\n",
            "14\n",
            "15\n"
          ]
        }
      ],
      "source": [
        "numero = 0\n",
        "\n",
        "while numero < 15:\n",
        "    numero = numero + 1\n",
        "    print(numero)"
      ]
    },
    {
      "cell_type": "code",
      "execution_count": null,
      "metadata": {
        "colab": {
          "base_uri": "https://localhost:8080/"
        },
        "id": "DgUnMIsvA9aJ",
        "outputId": "c6ac56bd-8ca4-41cf-f247-45d8b337823f"
      },
      "outputs": [
        {
          "output_type": "execute_result",
          "data": {
            "text/plain": [
              "15"
            ]
          },
          "metadata": {},
          "execution_count": 4
        }
      ],
      "source": [
        "numero"
      ]
    },
    {
      "cell_type": "markdown",
      "metadata": {
        "id": "oitAu0YyFmRm"
      },
      "source": [
        "## Bucles infinitos"
      ]
    },
    {
      "cell_type": "code",
      "execution_count": null,
      "metadata": {
        "id": "GkWf7gMfFoXS"
      },
      "outputs": [],
      "source": [
        "# cuando la condicion del while siempre es verdadera, será un bucle infinito\n",
        "import time\n",
        "numero = 1\n",
        "\n",
        "while numero < 10:\n",
        "    # time.sleep(5)\n",
        "    print(numero)\n",
        "    # numero = numero + 1 "
      ]
    },
    {
      "cell_type": "markdown",
      "metadata": {
        "id": "GVr8TBcdnmoj"
      },
      "source": [
        "## Ejercicio: ¡Solicitud de nros al usuario!"
      ]
    },
    {
      "cell_type": "markdown",
      "metadata": {
        "id": "Nfoofmd4npQJ"
      },
      "source": [
        "**Descripción de la actividad**. \n",
        "\n",
        "Calcular la suma de una cantidad de números enteros ingresados por el usuario directamente utilizando la función input (). \n",
        "\n",
        "Para finalizar la ejecución del programa el usuario debe escribir la palabra exit(). El programa debe validar dicha acción. \n",
        "\n",
        "Finalmente el algoritmo debe mostrar la suma parcial y total obtenida."
      ]
    },
    {
      "cell_type": "code",
      "execution_count": null,
      "metadata": {
        "id": "PmgII_A8Hz6D",
        "colab": {
          "base_uri": "https://localhost:8080/"
        },
        "outputId": "75810e18-0873-40be-e87a-8d94fbbc7f57"
      },
      "outputs": [
        {
          "output_type": "stream",
          "name": "stdout",
          "text": [
            "Ingrese un número ('exit' para terminar): 20\n",
            "La suma hasta ahora es 20\n",
            "Ingrese un número ('exit' para terminar): 30\n",
            "La suma hasta ahora es 50\n",
            "Ingrese un número ('exit' para terminar): 5\n",
            "La suma hasta ahora es 55\n",
            "Ingrese un número ('exit' para terminar): exit\n",
            "La suma final es 55\n"
          ]
        }
      ],
      "source": [
        "suma = 0\n",
        "continuar = True\n",
        "\n",
        "while continuar == True:\n",
        "    input_usuario = input(\"Ingrese un número ('exit' para terminar): \")\n",
        "\n",
        "    if input_usuario == 'exit':\n",
        "        continuar = False\n",
        "    else:\n",
        "        numero = int(input_usuario)\n",
        "        suma = suma + numero\n",
        "        print(f\"La suma hasta ahora es {suma}\")\n",
        "\n",
        "print(f\"La suma final es {suma}\")"
      ]
    },
    {
      "cell_type": "markdown",
      "metadata": {
        "id": "N6KxVgWJ9LY0"
      },
      "source": [
        "Por ultimo!, veamos otro ejemplo:"
      ]
    },
    {
      "cell_type": "code",
      "execution_count": null,
      "metadata": {
        "id": "4SJkRshB9LY0",
        "outputId": "2630611d-d933-4c99-e951-c8aee92f9375",
        "colab": {
          "base_uri": "https://localhost:8080/",
          "height": 398
        }
      },
      "outputs": [
        {
          "output_type": "stream",
          "name": "stdout",
          "text": [
            "Tu numero vale: -1\n"
          ]
        },
        {
          "output_type": "error",
          "ename": "KeyboardInterrupt",
          "evalue": "ignored",
          "traceback": [
            "\u001b[0;31m---------------------------------------------------------------------------\u001b[0m",
            "\u001b[0;31mKeyboardInterrupt\u001b[0m                         Traceback (most recent call last)",
            "\u001b[0;32m<ipython-input-10-3aa52b8bbdf1>\u001b[0m in \u001b[0;36m<module>\u001b[0;34m\u001b[0m\n\u001b[1;32m      4\u001b[0m \u001b[0;32mwhile\u001b[0m \u001b[0mnumero\u001b[0m \u001b[0;34m!=\u001b[0m \u001b[0;36m0\u001b[0m\u001b[0;34m:\u001b[0m\u001b[0;34m\u001b[0m\u001b[0;34m\u001b[0m\u001b[0m\n\u001b[1;32m      5\u001b[0m   \u001b[0mprint\u001b[0m\u001b[0;34m(\u001b[0m\u001b[0;34mf\"Tu numero vale: {numero}\"\u001b[0m\u001b[0;34m)\u001b[0m\u001b[0;34m\u001b[0m\u001b[0;34m\u001b[0m\u001b[0m\n\u001b[0;32m----> 6\u001b[0;31m   \u001b[0mnumero\u001b[0m \u001b[0;34m=\u001b[0m \u001b[0mint\u001b[0m \u001b[0;34m(\u001b[0m\u001b[0minput\u001b[0m\u001b[0;34m(\u001b[0m\u001b[0;34m\"Ingresar otro numero, 0 para salir\\n\"\u001b[0m\u001b[0;34m)\u001b[0m\u001b[0;34m)\u001b[0m\u001b[0;34m\u001b[0m\u001b[0;34m\u001b[0m\u001b[0m\n\u001b[0m\u001b[1;32m      7\u001b[0m \u001b[0;34m\u001b[0m\u001b[0m\n\u001b[1;32m      8\u001b[0m   \u001b[0msuma\u001b[0m \u001b[0;34m=\u001b[0m \u001b[0msuma\u001b[0m \u001b[0;34m+\u001b[0m \u001b[0mnumero\u001b[0m\u001b[0;34m\u001b[0m\u001b[0;34m\u001b[0m\u001b[0m\n",
            "\u001b[0;32m/usr/local/lib/python3.8/dist-packages/ipykernel/kernelbase.py\u001b[0m in \u001b[0;36mraw_input\u001b[0;34m(self, prompt)\u001b[0m\n\u001b[1;32m    858\u001b[0m                 \u001b[0;34m\"raw_input was called, but this frontend does not support input requests.\"\u001b[0m\u001b[0;34m\u001b[0m\u001b[0;34m\u001b[0m\u001b[0m\n\u001b[1;32m    859\u001b[0m             )\n\u001b[0;32m--> 860\u001b[0;31m         return self._input_request(str(prompt),\n\u001b[0m\u001b[1;32m    861\u001b[0m             \u001b[0mself\u001b[0m\u001b[0;34m.\u001b[0m\u001b[0m_parent_ident\u001b[0m\u001b[0;34m,\u001b[0m\u001b[0;34m\u001b[0m\u001b[0;34m\u001b[0m\u001b[0m\n\u001b[1;32m    862\u001b[0m             \u001b[0mself\u001b[0m\u001b[0;34m.\u001b[0m\u001b[0m_parent_header\u001b[0m\u001b[0;34m,\u001b[0m\u001b[0;34m\u001b[0m\u001b[0;34m\u001b[0m\u001b[0m\n",
            "\u001b[0;32m/usr/local/lib/python3.8/dist-packages/ipykernel/kernelbase.py\u001b[0m in \u001b[0;36m_input_request\u001b[0;34m(self, prompt, ident, parent, password)\u001b[0m\n\u001b[1;32m    902\u001b[0m             \u001b[0;32mexcept\u001b[0m \u001b[0mKeyboardInterrupt\u001b[0m\u001b[0;34m:\u001b[0m\u001b[0;34m\u001b[0m\u001b[0;34m\u001b[0m\u001b[0m\n\u001b[1;32m    903\u001b[0m                 \u001b[0;31m# re-raise KeyboardInterrupt, to truncate traceback\u001b[0m\u001b[0;34m\u001b[0m\u001b[0;34m\u001b[0m\u001b[0;34m\u001b[0m\u001b[0m\n\u001b[0;32m--> 904\u001b[0;31m                 \u001b[0;32mraise\u001b[0m \u001b[0mKeyboardInterrupt\u001b[0m\u001b[0;34m(\u001b[0m\u001b[0;34m\"Interrupted by user\"\u001b[0m\u001b[0;34m)\u001b[0m \u001b[0;32mfrom\u001b[0m \u001b[0;32mNone\u001b[0m\u001b[0;34m\u001b[0m\u001b[0;34m\u001b[0m\u001b[0m\n\u001b[0m\u001b[1;32m    905\u001b[0m             \u001b[0;32mexcept\u001b[0m \u001b[0mException\u001b[0m \u001b[0;32mas\u001b[0m \u001b[0me\u001b[0m\u001b[0;34m:\u001b[0m\u001b[0;34m\u001b[0m\u001b[0;34m\u001b[0m\u001b[0m\n\u001b[1;32m    906\u001b[0m                 \u001b[0mself\u001b[0m\u001b[0;34m.\u001b[0m\u001b[0mlog\u001b[0m\u001b[0;34m.\u001b[0m\u001b[0mwarning\u001b[0m\u001b[0;34m(\u001b[0m\u001b[0;34m\"Invalid Message:\"\u001b[0m\u001b[0;34m,\u001b[0m \u001b[0mexc_info\u001b[0m\u001b[0;34m=\u001b[0m\u001b[0;32mTrue\u001b[0m\u001b[0;34m)\u001b[0m\u001b[0;34m\u001b[0m\u001b[0;34m\u001b[0m\u001b[0m\n",
            "\u001b[0;31mKeyboardInterrupt\u001b[0m: Interrupted by user"
          ]
        }
      ],
      "source": [
        "# el else sirve para limpiar variables o imprimir resultados finales\n",
        "numero = -1\n",
        "suma = 0\n",
        "\n",
        "while numero != 0:\n",
        "  print(f\"Tu numero vale: {numero}\")\n",
        "  numero = int (input(\"Ingresar otro numero, 0 para salir\\n\"))\n",
        "\n",
        "  suma = suma + numero\n",
        "else:\n",
        "  print(f\"Has salido con una suma de: {suma}\")\n"
      ]
    },
    {
      "cell_type": "code",
      "source": [
        "suma"
      ],
      "metadata": {
        "colab": {
          "base_uri": "https://localhost:8080/"
        },
        "id": "8fj5rngpPrs5",
        "outputId": "d6fe96dc-7291-4d59-9884-4127803231e5"
      },
      "execution_count": null,
      "outputs": [
        {
          "output_type": "execute_result",
          "data": {
            "text/plain": [
              "0"
            ]
          },
          "metadata": {},
          "execution_count": 11
        }
      ]
    },
    {
      "cell_type": "code",
      "source": [
        "\"La suma final es {suma}\""
      ],
      "metadata": {
        "colab": {
          "base_uri": "https://localhost:8080/",
          "height": 35
        },
        "id": "1tpNh_qlPwOl",
        "outputId": "63f0625f-3336-4d4f-8f11-1ab172d0d3f0"
      },
      "execution_count": null,
      "outputs": [
        {
          "output_type": "execute_result",
          "data": {
            "text/plain": [
              "'La suma final es {suma}'"
            ],
            "application/vnd.google.colaboratory.intrinsic+json": {
              "type": "string"
            }
          },
          "metadata": {},
          "execution_count": 12
        }
      ]
    },
    {
      "cell_type": "code",
      "source": [
        "f\"La suma final es {suma}\""
      ],
      "metadata": {
        "colab": {
          "base_uri": "https://localhost:8080/",
          "height": 35
        },
        "id": "YNwNQq1LP0y9",
        "outputId": "12e884c8-8ba8-451e-aacc-6660d975f37a"
      },
      "execution_count": null,
      "outputs": [
        {
          "output_type": "execute_result",
          "data": {
            "text/plain": [
              "'La suma final es 0'"
            ],
            "application/vnd.google.colaboratory.intrinsic+json": {
              "type": "string"
            }
          },
          "metadata": {},
          "execution_count": 13
        }
      ]
    },
    {
      "cell_type": "markdown",
      "metadata": {
        "id": "luJasvyArqkv"
      },
      "source": [
        "## Sentencia - Break\n",
        "rompe la corrida del bucle"
      ]
    },
    {
      "cell_type": "code",
      "source": [
        "i = 1\n",
        "while i < 6:\n",
        "  print(i)\n",
        "  if i == 3:\n",
        "    break\n",
        "  i += 1\n"
      ],
      "metadata": {
        "colab": {
          "base_uri": "https://localhost:8080/"
        },
        "id": "sagRYSu0QZId",
        "outputId": "e2a7f46d-011a-47a3-e619-4798fbaa7d07"
      },
      "execution_count": null,
      "outputs": [
        {
          "output_type": "stream",
          "name": "stdout",
          "text": [
            "1\n",
            "2\n",
            "3\n"
          ]
        }
      ]
    },
    {
      "cell_type": "code",
      "execution_count": null,
      "metadata": {
        "id": "rikH5cw3SMby"
      },
      "outputs": [],
      "source": [
        "number = 0\n",
        "\n",
        "for number in range(10):\n",
        "    if number == 5:\n",
        "        break    # break here\n",
        "\n",
        "    print('Numero es ' + str(number))\n",
        "\n",
        "print('Fuera del Loop')"
      ]
    },
    {
      "cell_type": "markdown",
      "metadata": {
        "id": "64YYGWRG9LY1"
      },
      "source": [
        "## Sentencia - Continue\n",
        "continua con la siguiente iteracion\n",
        "nos permite saltar la iteración actual"
      ]
    },
    {
      "cell_type": "code",
      "source": [
        "i = 0\n",
        "while i < 6:\n",
        "  i += 1\n",
        "  if i == 3 or i == 5:\n",
        "    continue\n",
        "  print(i)"
      ],
      "metadata": {
        "colab": {
          "base_uri": "https://localhost:8080/"
        },
        "id": "_hhz-TDiQ509",
        "outputId": "a4720a52-fd6f-4db7-fb76-94fc1654c53e"
      },
      "execution_count": null,
      "outputs": [
        {
          "output_type": "stream",
          "name": "stdout",
          "text": [
            "1\n",
            "2\n",
            "4\n",
            "6\n"
          ]
        }
      ]
    },
    {
      "cell_type": "code",
      "execution_count": null,
      "metadata": {
        "id": "P91MZE_t9LY2"
      },
      "outputs": [],
      "source": [
        "number = 0\n",
        "\n",
        "for number in range(10):\n",
        "    if number == 5:\n",
        "        continue    # continue here\n",
        "\n",
        "    print('Numero es ' + str(number))\n",
        "\n",
        "print('Fuera del Loop')"
      ]
    },
    {
      "cell_type": "markdown",
      "metadata": {
        "id": "gL7CZsJQ9LY3"
      },
      "source": [
        "## Sentencia - Pass"
      ]
    },
    {
      "cell_type": "code",
      "source": [
        "i = 0\n",
        "while i < 6:\n",
        "  i += 1\n",
        "  if i == 3 or i == 5:\n",
        "    pass\n",
        "  print(i)"
      ],
      "metadata": {
        "colab": {
          "base_uri": "https://localhost:8080/"
        },
        "id": "Tg-usaq0R3K0",
        "outputId": "481e1146-9516-4846-b835-f067941e08f6"
      },
      "execution_count": null,
      "outputs": [
        {
          "output_type": "stream",
          "name": "stdout",
          "text": [
            "1\n",
            "2\n",
            "3\n",
            "4\n",
            "5\n",
            "6\n"
          ]
        }
      ]
    },
    {
      "cell_type": "code",
      "execution_count": null,
      "metadata": {
        "id": "7aZwk0Xr9LY3"
      },
      "outputs": [],
      "source": [
        "number = 0\n",
        "\n",
        "for number in range(10):\n",
        "    if number == 5:\n",
        "        pass    # pass here\n",
        "\n",
        "    print('Numero es ' + str(number))\n",
        "\n",
        "print('Fuera del Loop')"
      ]
    },
    {
      "cell_type": "markdown",
      "metadata": {
        "id": "T0_bzmVloK7N"
      },
      "source": [
        "## For\n",
        "\n",
        "Recomendado usar cuando sabemos el numero exacto de iteraciones\n",
        "\n",
        "```\n",
        "for valor in 'lista de valores':\n",
        "    bloque de codigo para cada valor\n",
        "```\n"
      ]
    },
    {
      "cell_type": "code",
      "source": [
        "# la lista paises_habitantes es nuestro iterable\n",
        "paises_habitantes = [\n",
        "    (\"Colombia\", 50000000),\n",
        "    (\"Argentina\", 40000000),\n",
        "    (\"Uruguay\", 3500000),\n",
        "    (\"Holanda\", 9000000),\n",
        "]\n",
        "\n",
        "for tupla in paises_habitantes:\n",
        "    print(tupla)\n",
        "    pais = tupla[0]\n",
        "    habitantes = tupla[1]\n",
        "    print(f\"El pais {pais} tiene {habitantes} habitantes\")"
      ],
      "metadata": {
        "colab": {
          "base_uri": "https://localhost:8080/"
        },
        "id": "M4dsrr6OSy7R",
        "outputId": "41915e9d-d8bc-426f-a9de-2d9f4611a9f3"
      },
      "execution_count": null,
      "outputs": [
        {
          "output_type": "stream",
          "name": "stdout",
          "text": [
            "('Colombia', 50000000)\n",
            "El pais Colombia tiene 50000000 habitantes\n",
            "('Argentina', 40000000)\n",
            "El pais Argentina tiene 40000000 habitantes\n",
            "('Uruguay', 3500000)\n",
            "El pais Uruguay tiene 3500000 habitantes\n",
            "('Holanda', 9000000)\n",
            "El pais Holanda tiene 9000000 habitantes\n"
          ]
        }
      ]
    },
    {
      "cell_type": "code",
      "source": [
        "# estaciones es mi iterables\n",
        "estaciones = [\"invierno\", \"primavera\", \"verano\", \"otoño\"]\n",
        "\n",
        "for estacion in estaciones:\n",
        "    # estacion es la variable temporal\n",
        "    print(estacion)"
      ],
      "metadata": {
        "colab": {
          "base_uri": "https://localhost:8080/"
        },
        "id": "_362H3pgVCB9",
        "outputId": "6dc0c628-32d2-488a-f9e9-c7dc1ca694f6"
      },
      "execution_count": null,
      "outputs": [
        {
          "output_type": "stream",
          "name": "stdout",
          "text": [
            "invierno\n",
            "primavera\n",
            "verano\n",
            "otoño\n"
          ]
        }
      ]
    },
    {
      "cell_type": "code",
      "source": [
        "estaciones"
      ],
      "metadata": {
        "colab": {
          "base_uri": "https://localhost:8080/"
        },
        "id": "hPfqkhCNWBUZ",
        "outputId": "6ec6a486-1024-4baf-a6e4-f17c014e13b3"
      },
      "execution_count": null,
      "outputs": [
        {
          "output_type": "execute_result",
          "data": {
            "text/plain": [
              "['invierno', 'primavera', 'verano', 'otoño']"
            ]
          },
          "metadata": {},
          "execution_count": 38
        }
      ]
    },
    {
      "cell_type": "code",
      "source": [
        "estacion"
      ],
      "metadata": {
        "colab": {
          "base_uri": "https://localhost:8080/",
          "height": 35
        },
        "id": "23sgLlaUWDMT",
        "outputId": "2c300a41-1ae2-43c3-a61d-0f030c909af5"
      },
      "execution_count": null,
      "outputs": [
        {
          "output_type": "execute_result",
          "data": {
            "text/plain": [
              "'otoño'"
            ],
            "application/vnd.google.colaboratory.intrinsic+json": {
              "type": "string"
            }
          },
          "metadata": {},
          "execution_count": 30
        }
      ]
    },
    {
      "cell_type": "code",
      "source": [
        "for estacion in estaciones[::-1]:\n",
        "    # estacion es la variable temporal\n",
        "    print(estacion)"
      ],
      "metadata": {
        "colab": {
          "base_uri": "https://localhost:8080/"
        },
        "id": "AmjoEt1dWOPm",
        "outputId": "caf3b76f-0fa8-44a7-9375-96253b856843"
      },
      "execution_count": null,
      "outputs": [
        {
          "output_type": "stream",
          "name": "stdout",
          "text": [
            "otoño\n",
            "verano\n",
            "primavera\n",
            "invierno\n"
          ]
        }
      ]
    },
    {
      "cell_type": "markdown",
      "metadata": {
        "id": "Z46_Ey6Dj1pD"
      },
      "source": [
        "**Canción - Me gusta**\n",
        "\n",
        "Descripción de la actividad. \n",
        "\n",
        "Escribir la letra de la canción Me gusta de Manu Chao, utilizando la sentencia de iteración for: \n",
        "\n",
        "* https://www.letras.com/manu-chao/7352/\n",
        "\n",
        "Importante: Deberán crear también una lista con los párrafos de la canción para poder imprimirlos correctamente por pantalla."
      ]
    },
    {
      "cell_type": "code",
      "execution_count": null,
      "metadata": {
        "id": "8ySbsFxajdoB"
      },
      "outputs": [],
      "source": [
        "lista_cancion = [\"los aviones\", \"viajar\", \"la mañana\", \"el viento\", \"soñar\", \"la mar\"]\n",
        "\n",
        "for frase in lista_cancion:\n",
        "  \n",
        "    print(f\"Me gusta {frase}, me gustas tú\")"
      ]
    },
    {
      "cell_type": "code",
      "execution_count": null,
      "metadata": {
        "id": "GiEaIW1z9LY5"
      },
      "outputs": [],
      "source": [
        "#Otro ejemplo\n",
        "for numero in range(10):\n",
        "        if numero == 2:\n",
        "            continue\n",
        "        elif numero == 8:\n",
        "            break\n",
        "        print(\"Numero vale\",numero)\n",
        "else:\n",
        "        print(\"Se terminó de iterar y numero vale: \", numero)"
      ]
    },
    {
      "cell_type": "markdown",
      "metadata": {
        "id": "dqIWNSeY9LY6"
      },
      "source": [
        "## Enumerate"
      ]
    },
    {
      "cell_type": "code",
      "execution_count": null,
      "metadata": {
        "id": "kU27FgKZ9LY7",
        "outputId": "8fd4bfa9-c9bf-433f-ef4e-9aeaf40f86b3",
        "colab": {
          "base_uri": "https://localhost:8080/"
        }
      },
      "outputs": [
        {
          "output_type": "stream",
          "name": "stdout",
          "text": [
            "1 Java\n",
            "2 C\n",
            "3 C++\n",
            "4 Python\n",
            "5 R\n"
          ]
        }
      ],
      "source": [
        "lenguajes = [\"Java\", \"C\", \"C++\", \"Python\", \"R\"]\n",
        "for i, lenguaje in enumerate(lenguajes):\n",
        "    print(i + 1, lenguaje)"
      ]
    },
    {
      "cell_type": "code",
      "execution_count": null,
      "metadata": {
        "id": "H_elZFmD9LY7",
        "outputId": "4aae5e7b-22e4-4607-935a-2194ad5690f2",
        "colab": {
          "base_uri": "https://localhost:8080/"
        }
      },
      "outputs": [
        {
          "output_type": "stream",
          "name": "stdout",
          "text": [
            "0 Java\n",
            "1 C\n",
            "2 C++\n",
            "3 Python\n",
            "4 R\n"
          ]
        }
      ],
      "source": [
        "for i in range(len(lenguajes)):\n",
        "    print(i, lenguajes[i])"
      ]
    },
    {
      "cell_type": "markdown",
      "metadata": {
        "id": "krnZUFJ-zL5i"
      },
      "source": [
        "## Range"
      ]
    },
    {
      "cell_type": "code",
      "source": [
        "lista_1 = list(range(20))"
      ],
      "metadata": {
        "id": "N95-GMEOW2X7"
      },
      "execution_count": null,
      "outputs": []
    },
    {
      "cell_type": "code",
      "source": [
        "lista_1"
      ],
      "metadata": {
        "colab": {
          "base_uri": "https://localhost:8080/"
        },
        "id": "qY0yJKN7XD-4",
        "outputId": "216463fe-c1a2-4307-ea4a-9474895f0a92"
      },
      "execution_count": null,
      "outputs": [
        {
          "output_type": "execute_result",
          "data": {
            "text/plain": [
              "[0, 1, 2, 3, 4, 5, 6, 7, 8, 9, 10, 11, 12, 13, 14, 15, 16, 17, 18, 19]"
            ]
          },
          "metadata": {},
          "execution_count": 44
        }
      ]
    },
    {
      "cell_type": "code",
      "source": [],
      "metadata": {
        "id": "sylw3QuZXOBH"
      },
      "execution_count": null,
      "outputs": []
    },
    {
      "cell_type": "code",
      "execution_count": null,
      "metadata": {
        "colab": {
          "base_uri": "https://localhost:8080/"
        },
        "id": "quYdxn-7obm-",
        "outputId": "b13ec51d-ff27-41cc-8d74-66a9e10f7a7e"
      },
      "outputs": [
        {
          "output_type": "stream",
          "name": "stdout",
          "text": [
            "1\n",
            "4\n",
            "7\n",
            "10\n",
            "13\n",
            "16\n",
            "19\n"
          ]
        }
      ],
      "source": [
        "for numero in range(1, 20, 3):\n",
        "    print(numero)"
      ]
    },
    {
      "cell_type": "code",
      "execution_count": null,
      "metadata": {
        "id": "0DVbV9v09LY8",
        "outputId": "e69ee1a7-ebf8-4cd9-b4c9-d25645737c31",
        "colab": {
          "base_uri": "https://localhost:8080/"
        }
      },
      "outputs": [
        {
          "output_type": "stream",
          "name": "stdout",
          "text": [
            "20\n",
            "17\n",
            "14\n",
            "11\n",
            "8\n",
            "5\n",
            "2\n"
          ]
        }
      ],
      "source": [
        "for numero in range(20, 1, -3):\n",
        "    print(numero)"
      ]
    },
    {
      "cell_type": "code",
      "source": [
        "#Resolución Practicas complementarias\n",
        "\n",
        "#Ejercicio 1\n",
        "paises = ['Chile', 'USA', 'Canada', 'Australia','Colombia','Uruguay']\n",
        "for i in paises:\n",
        "    print(i)\n",
        "\n",
        "#Ejercicio 2\n",
        "suma = 0\n",
        "for i in range(51):\n",
        "    if i % 2 != 0:\n",
        "        suma = suma + i\n",
        "print(suma)\n",
        "\n",
        "#Ejercicio 3\n",
        "for i in range(20,0,-1):\n",
        "    print(i)\n"
      ],
      "metadata": {
        "id": "WBGXR9WpJliP"
      },
      "execution_count": null,
      "outputs": []
    },
    {
      "cell_type": "markdown",
      "source": [
        "# Ejercicios resueltos en clase"
      ],
      "metadata": {
        "id": "KrdbecimaZuN"
      }
    },
    {
      "cell_type": "code",
      "source": [
        "x = 5\n",
        "while True:\n",
        "    x -= 1\n",
        "    print(x)\n",
        "    if x == 0:\n",
        "        print(\"Fin del bucle\")\n",
        "        break\n"
      ],
      "metadata": {
        "colab": {
          "base_uri": "https://localhost:8080/"
        },
        "id": "sHmsrWiCaY9e",
        "outputId": "47922c4b-e908-4f23-85b3-5232a0319761"
      },
      "execution_count": null,
      "outputs": [
        {
          "output_type": "stream",
          "name": "stdout",
          "text": [
            "4\n",
            "3\n",
            "2\n",
            "1\n",
            "0\n",
            "Fin del bucle\n"
          ]
        }
      ]
    },
    {
      "cell_type": "code",
      "source": [
        "\"\"\"\n",
        "Descripción de la actividad. \n",
        "\n",
        "Escribir la letra de la canción Me gusta de Manu Chao, utilizando la sentencia de iteración for: \n",
        " https://www.letras.com/manu-chao/7352/\n",
        "\n",
        "Importante: Deberán crear también una lista con los párrafos de la canción para poder imprimirlos correctamente por pantalla.\n",
        "\n",
        "\"\"\"\n",
        "# nuestro iteable es cosas_que_me_gustan_ademas_de_ti\n",
        "cosas_que_me_gustan_ademas_de_ti = [\n",
        "    'n los aviones',\n",
        "    ' viajar',\n",
        "    ' la mañana',\n",
        "    ' el viento',\n",
        "    ' soñar',\n",
        "    ' la mar',\n",
        "    ' la moto',\n",
        "    ' correr',\n",
        "    ' la lluvia',\n",
        "    ' volver',\n",
        "    ' marihuana',\n",
        "    ' colombiana',\n",
        "    ' la montaña',\n",
        "    ' la noche',\n",
        "    ' la cena',\n",
        "    ' la vecina',\n",
        "    ' su cocina',\n",
        "    ' camelar',\n",
        "    ' la guitarra',\n",
        "    ' el reggae',\n",
        "    ' la canela',\n",
        "    ' el fuego',\n",
        "    ' menear',\n",
        "    ' la Coruña',\n",
        "    ' Malasaña',\n",
        "    ' la castaña',\n",
        "    ' Guatemala',\n",
        "]\n",
        "\n",
        "for cosa in cosas_que_me_gustan_ademas_de_ti:\n",
        "    # la variable temporal la llamamos cosa\n",
        "    # usando f-string print imprimimos cada una de las frases\n",
        "    print(f\"Me gusta{cosa}, me gustas tú\")"
      ],
      "metadata": {
        "colab": {
          "base_uri": "https://localhost:8080/"
        },
        "id": "g3SJFBzpblHJ",
        "outputId": "8347357b-14e1-4876-e057-729867169d45"
      },
      "execution_count": null,
      "outputs": [
        {
          "output_type": "stream",
          "name": "stdout",
          "text": [
            "Me gustan los aviones, me gustas tú\n",
            "Me gusta viajar, me gustas tú\n",
            "Me gusta la mañana, me gustas tú\n",
            "Me gusta el viento, me gustas tú\n",
            "Me gusta soñar, me gustas tú\n",
            "Me gusta la mar, me gustas tú\n",
            "Me gusta la moto, me gustas tú\n",
            "Me gusta correr, me gustas tú\n",
            "Me gusta la lluvia, me gustas tú\n",
            "Me gusta volver, me gustas tú\n",
            "Me gusta marihuana, me gustas tú\n",
            "Me gusta colombiana, me gustas tú\n",
            "Me gusta la montaña, me gustas tú\n",
            "Me gusta la noche, me gustas tú\n",
            "Me gusta la cena, me gustas tú\n",
            "Me gusta la vecina, me gustas tú\n",
            "Me gusta su cocina, me gustas tú\n",
            "Me gusta camelar, me gustas tú\n",
            "Me gusta la guitarra, me gustas tú\n",
            "Me gusta el reggae, me gustas tú\n",
            "Me gusta la canela, me gustas tú\n",
            "Me gusta el fuego, me gustas tú\n",
            "Me gusta menear, me gustas tú\n",
            "Me gusta la Coruña, me gustas tú\n",
            "Me gusta Malasaña, me gustas tú\n",
            "Me gusta la castaña, me gustas tú\n",
            "Me gusta Guatemala, me gustas tú\n"
          ]
        }
      ]
    },
    {
      "cell_type": "code",
      "source": [
        "\"\"\"\n",
        "2)  Escribe un programa que lea un número impar por teclado. Si el usuario no introduce un número impar,\n",
        "debe repetirse el proceso hasta que lo introduzca correctamente.\n",
        "\"\"\"\n",
        "\n",
        "continuar = True\n",
        "\n",
        "while continuar == True:\n",
        "    numero = int(input(\"Ingresa un numero impar:  \"))\n",
        "\n",
        "    if numero % 2 != 0:\n",
        "        # entonces es impar\n",
        "        print(f\"Has ingresado un numero impar {numero}\")\n",
        "        print(\"Saliendo\")\n",
        "        continuar = False\n",
        "    else:\n",
        "        # entonces es par\n",
        "        pass\n"
      ],
      "metadata": {
        "colab": {
          "base_uri": "https://localhost:8080/"
        },
        "id": "Gvzm3djTdQUt",
        "outputId": "bb01e15b-6c71-4da0-eef3-1b6b5c833343"
      },
      "execution_count": null,
      "outputs": [
        {
          "output_type": "stream",
          "name": "stdout",
          "text": [
            "Ingresa un numero impar:  10\n",
            "Ingresa un numero impar:  8\n",
            "Ingresa un numero impar:  4\n",
            "Ingresa un numero impar:  20\n",
            "Ingresa un numero impar:  5\n",
            "Has ingresado un numero impar 5\n"
          ]
        }
      ]
    }
  ],
  "metadata": {
    "colab": {
      "provenance": [],
      "include_colab_link": true
    },
    "kernelspec": {
      "display_name": "Python 3 (ipykernel)",
      "language": "python",
      "name": "python3"
    },
    "language_info": {
      "codemirror_mode": {
        "name": "ipython",
        "version": 3
      },
      "file_extension": ".py",
      "mimetype": "text/x-python",
      "name": "python",
      "nbconvert_exporter": "python",
      "pygments_lexer": "ipython3",
      "version": "3.8.8"
    },
    "varInspector": {
      "cols": {
        "lenName": 16,
        "lenType": 16,
        "lenVar": 40
      },
      "kernels_config": {
        "python": {
          "delete_cmd_postfix": "",
          "delete_cmd_prefix": "del ",
          "library": "var_list.py",
          "varRefreshCmd": "print(var_dic_list())"
        },
        "r": {
          "delete_cmd_postfix": ") ",
          "delete_cmd_prefix": "rm(",
          "library": "var_list.r",
          "varRefreshCmd": "cat(var_dic_list()) "
        }
      },
      "types_to_exclude": [
        "module",
        "function",
        "builtin_function_or_method",
        "instance",
        "_Feature"
      ],
      "window_display": false
    }
  },
  "nbformat": 4,
  "nbformat_minor": 0
}